{
 "cells": [
  {
   "metadata": {},
   "cell_type": "markdown",
   "source": "## Assignment 2, Natural Language Processing, Group 14"
  },
  {
   "metadata": {},
   "cell_type": "markdown",
   "source": "# Pre-processing"
  },
  {
   "metadata": {},
   "cell_type": "markdown",
   "source": "## Filter corpus"
  },
  {
   "metadata": {
    "ExecuteTime": {
     "end_time": "2024-11-05T17:53:53.502768Z",
     "start_time": "2024-11-05T17:53:34.810044Z"
    }
   },
   "cell_type": "code",
   "source": [
    "import nltk\n",
    "import pandas as pd\n",
    "from nltk.corpus import stopwords\n",
    "from nltk.tokenize import word_tokenize\n",
    "# nltk.download('punkt')\n",
    "# nltk.download('stopwords')\n",
    "import re\n",
    "import random\n",
    "random.seed(45)\n",
    "\n",
    "# Load and filter the data\n",
    "news_df = pd.read_csv('us_equities_news_dataset.csv')\n",
    "news_df = news_df.drop(columns=['article_id', 'url', 'category', 'release_date', 'provider'])\n",
    "news_df = news_df.dropna(subset=['content'])\n",
    "news_df['content'] = news_df['content'].astype(str)\n",
    "\n",
    "\n",
    "# Filter for articles mentioning 'Nvidia' or 'NVDA' in the ticker, title, or content\n",
    "pattern_nvidia = r'\\b(?:Nvidia|NVDA)\\b'\n",
    "nvidia_mentioned_articles = news_df[\n",
    "    (news_df['ticker'] == 'NVDA') | \n",
    "    news_df['title'].str.contains(pattern_nvidia, case=False, na=False) |\n",
    "    news_df['content'].str.contains(pattern_nvidia, case=False, na=False)\n",
    "]\n",
    "\n",
    "# Save and reload filtered articles to avoid duplicate content\n",
    "filtered_corpus = nvidia_mentioned_articles.copy()\n",
    "filtered_corpus.to_csv('filtered_corpus.csv', index=False)\n",
    "\n",
    "print('Filtered corpus dimensions:', filtered_corpus.shape)"
   ],
   "outputs": [
    {
     "name": "stdout",
     "output_type": "stream",
     "text": [
      "Filtered corpus dimensions: (3459, 4)\n"
     ]
    }
   ],
   "execution_count": 1
  },
  {
   "metadata": {},
   "cell_type": "markdown",
   "source": "## Clean and tokenize filtered corpus"
  },
  {
   "metadata": {
    "ExecuteTime": {
     "end_time": "2024-11-05T17:53:54.048603Z",
     "start_time": "2024-11-05T17:53:53.506220Z"
    }
   },
   "cell_type": "code",
   "source": [
    "news_df = pd.read_csv('filtered_corpus.csv')\n",
    "\n",
    "# Set up stopwords\n",
    "stop_words = set(stopwords.words('english'))\n",
    "\n",
    "# Function to preprocess and tokenize text\n",
    "def preprocess_text(text):\n",
    "    # Convert to lowercase\n",
    "    text = text.lower()\n",
    "    # Remove leading and trailing whitespace\n",
    "    text = text.strip()\n",
    "    # Remove non-alphabetic characters\n",
    "    text = re.sub(r'[^a-zA-Z\\s]', '', text)\n",
    "    # Tokenize the text\n",
    "    tokens = text.split()\n",
    "    # Remove 1-letter words and stopwords\n",
    "    tokens = [token for token in tokens if len(token) > 1 and token not in stop_words]\n",
    "    return tokens\n",
    "\n",
    "# Apply the function to the content column and create a new 'tokens' column\n",
    "news_df['tokens'] = news_df['content'].apply(preprocess_text)\n",
    "\n",
    "# Remove duplicates based on the 'tokens' column\n",
    "df = news_df.drop_duplicates(subset=['tokens'])\n",
    "print('Filtered corpus dimensions:', df.shape)\n",
    "print(df[['content', 'tokens']].head(10))\n"
   ],
   "outputs": [
    {
     "name": "stdout",
     "output_type": "stream",
     "text": [
      "Filtered corpus dimensions: (3306, 5)\n",
      "                                             content  \\\n",
      "0  ECB Effects\\nThe move in the euro was huge  fa...   \n",
      "1  6 Stocks To Watch  March 6 Trading Session\\nSt...   \n",
      "2  Investing com   A rout in Apple and Facebook  ...   \n",
      "3  For Immediate ReleaseChicago  IL   January 13 ...   \n",
      "4  With 4 500 companies bringing their innovation...   \n",
      "5  With 4 500 companies bringing their innovation...   \n",
      "6  When trading opened in 2019  investors were ju...   \n",
      "7  Excitement is building up for the 2020 Summer ...   \n",
      "8  For Immediate ReleaseChicago  IL   December 3 ...   \n",
      "9  For Immediate ReleaseChicago  IL   November 26...   \n",
      "\n",
      "                                              tokens  \n",
      "0  [ecb, effects, move, euro, huge, falling, pips...  \n",
      "1  [stocks, watch, march, trading, session, stock...  \n",
      "2  [investing, com, rout, apple, facebook, nasdaq...  \n",
      "3  [immediate, releasechicago, il, january, zacks...  \n",
      "4  [companies, bringing, innovations, ces, jan, g...  \n",
      "5  [companies, bringing, innovations, ces, jan, g...  \n",
      "6  [trading, opened, investors, hoping, stocks, w...  \n",
      "7  [excitement, building, summer, olympics, tokyo...  \n",
      "8  [immediate, releasechicago, il, december, zack...  \n",
      "9  [immediate, releasechicago, il, november, nvid...  \n"
     ]
    }
   ],
   "execution_count": 2
  },
  {
   "metadata": {
    "ExecuteTime": {
     "end_time": "2024-11-05T17:53:54.051221Z",
     "start_time": "2024-11-05T17:53:54.049292Z"
    }
   },
   "cell_type": "code",
   "source": [
    "# Function to convert the tokenized column to a list of lists (flatten list)\n",
    "def make_list_of_lists(data_frame, column_name):\n",
    "    data = data_frame[column_name].tolist()\n",
    "    return data\n",
    "\n",
    "# Create the list of lists for modeling\n",
    "data = make_list_of_lists(df, 'tokens')\n",
    "print('Number of documents in the list of lists:', len(data))"
   ],
   "outputs": [
    {
     "name": "stdout",
     "output_type": "stream",
     "text": [
      "Number of documents in the list of lists: 3306\n"
     ]
    }
   ],
   "execution_count": 3
  },
  {
   "metadata": {},
   "cell_type": "markdown",
   "source": "## top-n% bottom-n% removal"
  },
  {
   "metadata": {
    "ExecuteTime": {
     "end_time": "2024-11-05T17:53:54.054500Z",
     "start_time": "2024-11-05T17:53:54.052199Z"
    }
   },
   "cell_type": "code",
   "source": [
    "from collections import Counter\n",
    "\n",
    "def remove_n_percent(processed_text, n=0):\n",
    "    if n > 0:\n",
    "        # Flatten the list of lists to count word frequencies\n",
    "        word_freq = Counter([word for doc in processed_text for word in doc])\n",
    "        # Get the top n% most frequent words\n",
    "        top_n = set([word for word, _ in word_freq.most_common(int(n/100*len(word_freq)))])\n",
    "        # Get the bottom n% least frequent words\n",
    "        bottom_n = set([word for word, _ in word_freq.most_common()[:-int(n/100*len(word_freq))-1:-1]])\n",
    "        # Filter the data to remove these words\n",
    "        processed_text = [[word for word in doc if word not in top_n and word not in bottom_n] for doc in processed_text]\n",
    "        processed_text = [doc for doc in processed_text if len(doc) > 0]\n",
    "    return processed_text"
   ],
   "outputs": [],
   "execution_count": 4
  },
  {
   "metadata": {},
   "cell_type": "markdown",
   "source": "# Train FLSA-W Model"
  },
  {
   "metadata": {
    "ExecuteTime": {
     "end_time": "2024-11-05T17:54:14.704608Z",
     "start_time": "2024-11-05T17:53:54.124204Z"
    }
   },
   "cell_type": "code",
   "source": [
    "from FuzzyTM import FLSA_W\n",
    "\n",
    "# Parameters\n",
    "flsaw_data = data\n",
    "num_topics = 20\n",
    "num_words = 10\n",
    "\n",
    "flsaW = FLSA_W(\n",
    "    input_file = flsaw_data,\n",
    "    num_topics=num_topics,\n",
    "    num_words=num_words,\n",
    ")\n",
    "\n",
    "flsaW.get_vocabulary_size()\n",
    "pwgt, ptgd = flsaW.get_matrices() # THIS TRAINS THE MODEL\n",
    "\n",
    "\n",
    "print(flsaW.show_topics())\n",
    "\n",
    "for topic in flsaW.show_topics(representation='words'):\n",
    "    print(topic)\n",
    "  \n",
    "    \n",
    "print(\"Coherence Score:\", flsaW.get_coherence_score())\n",
    "print(\"Diversity Score:\",flsaW.get_diversity_score())\n",
    "print(\"Interpretability Score:\",flsaW.get_interpretability_score())"
   ],
   "outputs": [
    {
     "name": "stdout",
     "output_type": "stream",
     "text": [
      "[(0, '0.007*\"roundup\" + 0.0064*\"episode\" + 0.0058*\"discussing\" + 0.0058*\"afford\" + 0.0053*\"unpredictable\" + 0.0052*\"thomas\" + 0.0052*\"elon\" + 0.005*\"knowing\" + 0.005*\"daniel\" + 0.0049*\"entrepreneurs\"'), (1, '0.0135*\"art\" + 0.0131*\"theory\" + 0.0101*\"communities\" + 0.0096*\"preserve\" + 0.0093*\"grand\" + 0.0093*\"podcast\" + 0.0092*\"thoughts\" + 0.0091*\"written\" + 0.009*\"minds\" + 0.0081*\"human\"'), (2, '0.0234*\"richard\" + 0.0214*\"books\" + 0.0214*\"book\" + 0.0211*\"professor\" + 0.0185*\"certainty\" + 0.0181*\"science\" + 0.0173*\"unstoppable\" + 0.0163*\"modern\" + 0.0158*\"conscious\" + 0.014*\"woke\"'), (3, '0.0039*\"therapeutics\" + 0.0025*\"ralph\" + 0.0024*\"writer\" + 0.0024*\"racing\" + 0.0023*\"dutch\" + 0.0021*\"marathon\" + 0.002*\"genetics\" + 0.0019*\"transmission\" + 0.0018*\"diamond\" + 0.0018*\"fever\"'), (4, '0.0042*\"broader\" + 0.0041*\"led\" + 0.0038*\"rise\" + 0.0037*\"profit\" + 0.0036*\"systems\" + 0.0036*\"energy\" + 0.0036*\"intc\" + 0.0035*\"meanwhile\" + 0.0035*\"thursday\" + 0.0035*\"added\"'), (5, '0.0005*\"reiterates\" + 0.0004*\"hsi\" + 0.0003*\"asml\" + 0.0003*\"rai\" + 0.0003*\"alv\" + 0.0003*\"chipmaking\" + 0.0003*\"htz\" + 0.0003*\"spny\" + 0.0003*\"sonam\" + 0.0003*\"totals\"'), (6, '0.0008*\"premarket\" + 0.0006*\"vlkay\" + 0.0006*\"randewich\" + 0.0006*\"noel\" + 0.0005*\"dlph\" + 0.0005*\"stm\" + 0.0005*\"raymond\" + 0.0004*\"qrvo\" + 0.0004*\"apollo\" + 0.0004*\"tw\"'), (7, '0.0078*\"kevin\" + 0.0077*\"ones\" + 0.0063*\"discuss\" + 0.0062*\"gave\" + 0.006*\"director\" + 0.006*\"iphones\" + 0.0059*\"compete\" + 0.0056*\"told\" + 0.0055*\"politics\" + 0.0055*\"click\"'), (8, '0.0017*\"ounce\" + 0.0015*\"unchanged\" + 0.0015*\"boom\" + 0.0014*\"amat\" + 0.0014*\"caterpillar\" + 0.0014*\"hence\" + 0.0013*\"trillionaires\" + 0.0013*\"roof\" + 0.0013*\"cuban\" + 0.0013*\"parent\"'), (9, '0.003*\"corp\" + 0.0027*\"poised\" + 0.0027*\"qcom\" + 0.0027*\"heavy\" + 0.0027*\"dow\" + 0.0026*\"surge\" + 0.0026*\"nflx\" + 0.0026*\"picking\" + 0.0025*\"fell\" + 0.0025*\"oil\"'), (10, '0.0025*\"composite\" + 0.0025*\"reuters\" + 0.0024*\"predicted\" + 0.0024*\"sporting\" + 0.0024*\"combination\" + 0.0024*\"holds\" + 0.0024*\"hottest\" + 0.0023*\"perform\" + 0.0023*\"partnership\" + 0.0022*\"virtual\"'), (11, '0.0003*\"bmwyy\" + 0.0003*\"soxs\" + 0.0003*\"gelyy\" + 0.0003*\"wbc\" + 0.0002*\"ndls\" + 0.0002*\"soxl\" + 0.0002*\"nktr\" + 0.0002*\"canaccord\" + 0.0002*\"coil\" + 0.0002*\"wsm\"'), (12, '0.0101*\"evolution\" + 0.01*\"beliefs\" + 0.0094*\"feynman\" + 0.0091*\"julian\" + 0.0087*\"epiphany\" + 0.0086*\"classroom\" + 0.0086*\"darwin\" + 0.0082*\"huxley\" + 0.0081*\"pretend\" + 0.0077*\"creativity\"'), (13, '0.0007*\"troy\" + 0.0007*\"jd\" + 0.0007*\"ul\" + 0.0007*\"settle\" + 0.0006*\"implied\" + 0.0006*\"bartosiak\" + 0.0006*\"thomson\" + 0.0006*\"subscribe\" + 0.0006*\"iwm\" + 0.0006*\"ipgp\"'), (14, '0.005*\"stephen\" + 0.004*\"attracted\" + 0.0035*\"musk\" + 0.0033*\"reliance\" + 0.0031*\"liberty\" + 0.003*\"lessons\" + 0.003*\"maintenance\" + 0.0029*\"shifted\" + 0.0029*\"regardless\" + 0.0028*\"charles\"'), (15, '0.001*\"performers\" + 0.0009*\"outnumbered\" + 0.0008*\"mellanox\" + 0.0008*\"flashpoint\" + 0.0008*\"rig\" + 0.0008*\"nxpi\" + 0.0008*\"blizzard\" + 0.0008*\"simulation\" + 0.0008*\"jinping\" + 0.0007*\"concentration\"'), (16, '0.0022*\"worst\" + 0.0022*\"previously\" + 0.0019*\"elsewhere\" + 0.0019*\"commodities\" + 0.0018*\"screens\" + 0.0018*\"barrel\" + 0.0018*\"variety\" + 0.0018*\"begun\" + 0.0018*\"matras\" + 0.0018*\"percent\"'), (17, '0.0061*\"trade\" + 0.0058*\"positive\" + 0.0056*\"biggest\" + 0.0054*\"hit\" + 0.0054*\"related\" + 0.0052*\"platform\" + 0.0051*\"nearly\" + 0.0051*\"currently\" + 0.005*\"analysts\" + 0.005*\"industry\"'), (18, '0.0172*\"nvda\" + 0.0128*\"stock\" + 0.0126*\"recent\" + 0.0119*\"long\" + 0.0117*\"better\" + 0.0111*\"end\" + 0.011*\"nasdaq\" + 0.0108*\"report\" + 0.0106*\"buy\" + 0.0104*\"based\"'), (19, '0.0012*\"insiders\" + 0.0011*\"citigroup\" + 0.001*\"incorporated\" + 0.001*\"alllast\" + 0.001*\"transformation\" + 0.001*\"trajectory\" + 0.001*\"downtrend\" + 0.001*\"vectors\" + 0.0009*\"gmt\" + 0.0009*\"powerhouse\"')]\n",
      "['roundup', 'episode', 'discussing', 'afford', 'unpredictable', 'thomas', 'elon', 'knowing', 'daniel', 'entrepreneurs']\n",
      "['art', 'theory', 'communities', 'preserve', 'grand', 'podcast', 'thoughts', 'written', 'minds', 'human']\n",
      "['richard', 'books', 'book', 'professor', 'certainty', 'science', 'unstoppable', 'modern', 'conscious', 'woke']\n",
      "['therapeutics', 'ralph', 'writer', 'racing', 'dutch', 'marathon', 'genetics', 'transmission', 'diamond', 'fever']\n",
      "['broader', 'led', 'rise', 'profit', 'systems', 'energy', 'intc', 'meanwhile', 'thursday', 'added']\n",
      "['reiterates', 'hsi', 'asml', 'rai', 'alv', 'chipmaking', 'htz', 'spny', 'sonam', 'totals']\n",
      "['premarket', 'vlkay', 'randewich', 'noel', 'dlph', 'stm', 'raymond', 'qrvo', 'apollo', 'tw']\n",
      "['kevin', 'ones', 'discuss', 'gave', 'director', 'iphones', 'compete', 'told', 'politics', 'click']\n",
      "['ounce', 'unchanged', 'boom', 'amat', 'caterpillar', 'hence', 'trillionaires', 'roof', 'cuban', 'parent']\n",
      "['corp', 'poised', 'qcom', 'heavy', 'dow', 'surge', 'nflx', 'picking', 'fell', 'oil']\n",
      "['composite', 'reuters', 'predicted', 'sporting', 'combination', 'holds', 'hottest', 'perform', 'partnership', 'virtual']\n",
      "['bmwyy', 'soxs', 'gelyy', 'wbc', 'ndls', 'soxl', 'nktr', 'canaccord', 'coil', 'wsm']\n",
      "['evolution', 'beliefs', 'feynman', 'julian', 'epiphany', 'classroom', 'darwin', 'huxley', 'pretend', 'creativity']\n",
      "['troy', 'jd', 'ul', 'settle', 'implied', 'bartosiak', 'thomson', 'subscribe', 'iwm', 'ipgp']\n",
      "['stephen', 'attracted', 'musk', 'reliance', 'liberty', 'lessons', 'maintenance', 'shifted', 'regardless', 'charles']\n",
      "['performers', 'outnumbered', 'mellanox', 'flashpoint', 'rig', 'nxpi', 'blizzard', 'simulation', 'jinping', 'concentration']\n",
      "['worst', 'previously', 'elsewhere', 'commodities', 'screens', 'barrel', 'variety', 'begun', 'matras', 'percent']\n",
      "['trade', 'positive', 'biggest', 'hit', 'related', 'platform', 'nearly', 'currently', 'analysts', 'industry']\n",
      "['nvda', 'stock', 'recent', 'long', 'better', 'end', 'nasdaq', 'report', 'buy', 'based']\n",
      "['insiders', 'citigroup', 'incorporated', 'alllast', 'transformation', 'trajectory', 'downtrend', 'vectors', 'gmt', 'powerhouse']\n",
      "Coherence Score: 0.37446836184827303\n",
      "Diversity Score: 1.0\n",
      "Interpretability Score: 0.37446836184827303\n"
     ]
    }
   ],
   "execution_count": 5
  },
  {
   "metadata": {
    "ExecuteTime": {
     "end_time": "2024-11-05T18:03:28.996390Z",
     "start_time": "2024-11-05T17:54:14.705903Z"
    }
   },
   "cell_type": "code",
   "source": [
    "import matplotlib.pyplot as plt\n",
    "# Range of topic numbers to test\n",
    "flsaw_data = data\n",
    "topic_numbers = range(5, 101, 10)\n",
    "coherence_scores = []\n",
    "\n",
    "for num_topics in topic_numbers:\n",
    "    flsaW = FLSA_W(\n",
    "        input_file=flsaw_data,  # Preprocessed data\n",
    "        num_topics=num_topics,\n",
    "        num_words=10\n",
    "    )\n",
    "    pwgt, ptgd = flsaW.get_matrices()  # Train the model\n",
    "    coherence_score = flsaW.get_coherence_score()  # Calculate coherence\n",
    "    coherence_scores.append(coherence_score)\n",
    "\n",
    "# Plotting the Elbow Plot\n",
    "plt.figure(figsize=(10, 5))\n",
    "plt.plot(topic_numbers, coherence_scores, marker='o', linestyle='--')\n",
    "plt.xlabel('Number of Topics')\n",
    "plt.ylabel('Coherence Score')\n",
    "plt.title('Elbow Plot for Optimal Number of Topics (FLSA-W)')\n",
    "plt.show()"
   ],
   "outputs": [
    {
     "data": {
      "text/plain": [
       "<Figure size 1000x500 with 1 Axes>"
      ],
      "image/png": "[encoded data removed]"
     },
     "metadata": {},
     "output_type": "display_data"
    }
   ],
   "execution_count": 6
  },
  {
   "metadata": {},
   "cell_type": "markdown",
   "source": "After 60 topics it the curve starts to flatten. There is no substantial increase in the coherence score. We can experiment with 60 topics."
  },
  {
   "metadata": {},
   "cell_type": "markdown",
   "source": "# Experimentation"
  },
  {
   "metadata": {},
   "cell_type": "markdown",
   "source": "# Iteration 0: Elbow point = 60 topics"
  },
  {
   "metadata": {
    "ExecuteTime": {
     "end_time": "2024-11-05T18:12:03.704305Z",
     "start_time": "2024-11-05T18:10:48.125782Z"
    }
   },
   "cell_type": "code",
   "source": [
    "# Parameters\n",
    "flsaw_data = data\n",
    "num_topics = 60\n",
    "num_words = 10 \n",
    "\n",
    "flsaW = FLSA_W(\n",
    "    input_file = flsaw_data,\n",
    "    num_topics=num_topics,\n",
    "    num_words=num_words,\n",
    ")\n",
    "\n",
    "flsaW.get_vocabulary_size()\n",
    "pwgt, ptgd = flsaW.get_matrices() # THIS TRAINS THE MODEL\n",
    "\n",
    "\n",
    "print(flsaW.show_topics())\n",
    "\n",
    "for topic in flsaW.show_topics(representation='words'):\n",
    "    print(topic)\n",
    "  \n",
    "    \n",
    "print(\"Coherence Score:\", flsaW.get_coherence_score())\n",
    "print(\"Diversity Score:\",flsaW.get_diversity_score())\n",
    "print(\"Interpretability Score:\",flsaW.get_interpretability_score())"
   ],
   "outputs": [
    {
     "name": "stdout",
     "output_type": "stream",
     "text": [
      "[(0, '0.0007*\"bmwyy\" + 0.0007*\"soxs\" + 0.0005*\"wsm\" + 0.0005*\"kopn\" + 0.0005*\"kopin\" + 0.0005*\"ipxl\" + 0.0005*\"topsline\" + 0.0005*\"mpwr\" + 0.0005*\"labu\" + 0.0005*\"loxo\"'), (1, '0.0293*\"nvidia\" + 0.027*\"nyse\" + 0.0261*\"hold\" + 0.0255*\"price\" + 0.0224*\"past\" + 0.0217*\"recently\" + 0.0209*\"sell\" + 0.0198*\"term\" + 0.0184*\"shares\" + 0.0183*\"likely\"'), (2, '0.0055*\"blind\" + 0.0051*\"touches\" + 0.0045*\"jay\" + 0.0044*\"referring\" + 0.004*\"empirical\" + 0.0036*\"enriched\" + 0.0035*\"crops\" + 0.0034*\"beautiful\" + 0.0033*\"intuition\" + 0.0029*\"livestream\"'), (3, '0.0074*\"breakthrough\" + 0.0068*\"falling\" + 0.0065*\"session\" + 0.0065*\"jones\" + 0.0059*\"volume\" + 0.0059*\"july\" + 0.0057*\"measures\" + 0.0056*\"declining\" + 0.0055*\"helping\" + 0.0054*\"select\"'), (4, '0.0065*\"lrcx\" + 0.006*\"skyrocketing\" + 0.0059*\"fund\" + 0.0057*\"info\" + 0.0056*\"ignited\" + 0.0056*\"frame\" + 0.0054*\"editor\" + 0.005*\"pulled\" + 0.005*\"automation\" + 0.005*\"cnbc\"'), (5, '0.0012*\"distinct\" + 0.0012*\"polaris\" + 0.0012*\"proclaimed\" + 0.0011*\"hmc\" + 0.0011*\"hallmark\" + 0.0011*\"ftec\" + 0.0011*\"augment\" + 0.0011*\"suv\" + 0.0011*\"ripping\" + 0.0011*\"capitulation\"'), (6, '0.0198*\"mathematical\" + 0.0186*\"havoc\" + 0.0169*\"solve\" + 0.0164*\"stars\" + 0.0153*\"bag\" + 0.0149*\"noah\" + 0.0145*\"ridiculous\" + 0.0138*\"evolutionary\" + 0.0124*\"invent\" + 0.0123*\"confusing\"'), (7, '0.0112*\"julian\" + 0.0107*\"epiphany\" + 0.0102*\"darwin\" + 0.01*\"huxley\" + 0.0097*\"classroom\" + 0.0089*\"geology\" + 0.0089*\"labyrinth\" + 0.0089*\"flipgrid\" + 0.0089*\"unesco\" + 0.0089*\"townhall\"'), (8, '0.0107*\"rise\" + 0.0092*\"fall\" + 0.009*\"emerging\" + 0.0087*\"support\" + 0.0084*\"generate\" + 0.0082*\"led\" + 0.0078*\"launched\" + 0.0077*\"mentioned\" + 0.0077*\"conditions\" + 0.0074*\"main\"'), (9, '0.017*\"positive\" + 0.0158*\"industry\" + 0.0132*\"seen\" + 0.013*\"currently\" + 0.0128*\"due\" + 0.0125*\"taking\" + 0.0124*\"position\" + 0.0123*\"continued\" + 0.0121*\"analysts\" + 0.012*\"deal\"'), (10, '0.0031*\"beneficial\" + 0.0029*\"addressable\" + 0.0028*\"miners\" + 0.0028*\"swing\" + 0.0026*\"giaquinto\" + 0.0025*\"ag\" + 0.0025*\"fails\" + 0.0024*\"wells\" + 0.0024*\"criteria\" + 0.0023*\"divergence\"'), (11, '0.0105*\"killed\" + 0.0102*\"jensen\" + 0.0095*\"coronavirus\" + 0.0094*\"linked\" + 0.009*\"tackle\" + 0.0086*\"spreading\" + 0.0083*\"crazy\" + 0.0081*\"depth\" + 0.0079*\"empire\" + 0.0077*\"edition\"'), (12, '0.0008*\"otcpk\" + 0.0007*\"endp\" + 0.0007*\"breakaway\" + 0.0006*\"trv\" + 0.0006*\"sonoma\" + 0.0006*\"endo\" + 0.0006*\"ei\" + 0.0006*\"zackstoday\" + 0.0006*\"delisting\" + 0.0006*\"refill\"'), (13, '0.0233*\"latest\" + 0.0202*\"special\" + 0.0196*\"fb\" + 0.0195*\"move\" + 0.0188*\"china\" + 0.0183*\"free\" + 0.0179*\"makes\" + 0.0178*\"times\" + 0.0177*\"interest\" + 0.0168*\"aapl\"'), (14, '0.0309*\"creating\" + 0.0257*\"everything\" + 0.0214*\"must\" + 0.0204*\"sense\" + 0.0195*\"changes\" + 0.0189*\"th\" + 0.0185*\"often\" + 0.0178*\"known\" + 0.0173*\"simply\" + 0.0155*\"popular\"'), (15, '0.0016*\"mcqueeney\" + 0.0016*\"nellis\" + 0.0015*\"translates\" + 0.0014*\"daimler\" + 0.0014*\"streamlined\" + 0.0014*\"mizuho\" + 0.0013*\"saturation\" + 0.0013*\"constituents\" + 0.0012*\"taipei\" + 0.0012*\"diversifying\"'), (16, '0.0439*\"chaos\" + 0.0305*\"modern\" + 0.0298*\"philosophy\" + 0.0267*\"science\" + 0.025*\"socially\" + 0.0245*\"teachers\" + 0.0243*\"founding\" + 0.0239*\"religion\" + 0.0237*\"champions\" + 0.0219*\"attitudes\"'), (17, '0.0009*\"soxl\" + 0.0009*\"gelyy\" + 0.0008*\"audvf\" + 0.0007*\"nysearca\" + 0.0007*\"suspends\" + 0.0007*\"ichr\" + 0.0007*\"jhmt\" + 0.0007*\"xitk\" + 0.0007*\"rom\" + 0.0007*\"xth\"'), (18, '0.002*\"teamed\" + 0.002*\"sends\" + 0.0018*\"pouring\" + 0.0017*\"sne\" + 0.0017*\"id\" + 0.0017*\"slowest\" + 0.0017*\"tier\" + 0.0017*\"safeguard\" + 0.0016*\"blown\" + 0.0016*\"conversely\"'), (19, '0.0397*\"richard\" + 0.0325*\"professor\" + 0.0302*\"woke\" + 0.03*\"certainty\" + 0.0273*\"book\" + 0.0273*\"books\" + 0.0247*\"adult\" + 0.0245*\"illusion\" + 0.0224*\"civilization\" + 0.0216*\"biologist\"'), (20, '0.0017*\"delphi\" + 0.0017*\"utilizes\" + 0.0016*\"stalled\" + 0.0016*\"jd\" + 0.0016*\"shrunk\" + 0.0015*\"iwm\" + 0.0015*\"subscribe\" + 0.0015*\"rewarded\" + 0.0015*\"cvs\" + 0.0015*\"lane\"'), (21, '0.0105*\"gaap\" + 0.0053*\"pleased\" + 0.005*\"ramping\" + 0.0047*\"visibility\" + 0.0045*\"barclays\" + 0.0045*\"exiting\" + 0.0044*\"excluding\" + 0.0044*\"sequential\" + 0.0039*\"expenses\" + 0.0039*\"vivek\"'), (22, '0.0015*\"reiterates\" + 0.001*\"htz\" + 0.001*\"rodrigo\" + 0.001*\"etfmg\" + 0.0009*\"supplied\" + 0.0009*\"simulate\" + 0.0009*\"creed\" + 0.0009*\"beazer\" + 0.0008*\"hsi\" + 0.0008*\"est\"'), (23, '0.0014*\"iq\" + 0.0014*\"blackberry\" + 0.0014*\"premarket\" + 0.0012*\"esports\" + 0.0012*\"corners\" + 0.0012*\"proves\" + 0.0012*\"computational\" + 0.0012*\"reinforces\" + 0.0012*\"calculating\" + 0.0011*\"digitimes\"'), (24, '0.0047*\"screens\" + 0.0044*\"worst\" + 0.0044*\"focusing\" + 0.0042*\"cards\" + 0.0042*\"resistance\" + 0.0041*\"barrel\" + 0.004*\"enhanced\" + 0.004*\"suffered\" + 0.004*\"forecasts\" + 0.0039*\"tracking\"'), (25, '0.0037*\"tracey\" + 0.0033*\"valley\" + 0.0028*\"gop\" + 0.0027*\"pivotal\" + 0.0027*\"pharmaceuticals\" + 0.0027*\"ryniec\" + 0.0027*\"mistakes\" + 0.0026*\"famous\" + 0.0026*\"herd\" + 0.0025*\"dubbed\"'), (26, '0.0017*\"randewich\" + 0.0017*\"noel\" + 0.0015*\"vlkay\" + 0.0014*\"stm\" + 0.0013*\"kramer\" + 0.0012*\"sweden\" + 0.0012*\"quadruple\" + 0.0012*\"chk\" + 0.0011*\"tw\" + 0.0011*\"chesapeake\"'), (27, '0.0084*\"liberty\" + 0.0068*\"spokesperson\" + 0.0062*\"lessons\" + 0.0053*\"az\" + 0.0051*\"predetermined\" + 0.0046*\"hn\" + 0.0044*\"declaring\" + 0.0043*\"unforeseen\" + 0.0041*\"stupid\" + 0.0041*\"nvax\"'), (28, '0.0037*\"gmt\" + 0.0031*\"wondrous\" + 0.0031*\"gainers\" + 0.003*\"vectors\" + 0.0029*\"favored\" + 0.0027*\"chevron\" + 0.0027*\"negatively\" + 0.0025*\"intense\" + 0.0025*\"potentialthe\" + 0.0025*\"inked\"'), (29, '0.0036*\"boom\" + 0.0035*\"hence\" + 0.0033*\"actively\" + 0.0032*\"soar\" + 0.0032*\"ounce\" + 0.0031*\"miles\" + 0.0031*\"delay\" + 0.0031*\"era\" + 0.003*\"slowed\" + 0.003*\"parent\"'), (30, '0.0053*\"reserve\" + 0.0051*\"figures\" + 0.005*\"stated\" + 0.005*\"ltd\" + 0.0048*\"catalyst\" + 0.0048*\"elements\" + 0.0045*\"releases\" + 0.0044*\"mu\" + 0.0044*\"struggling\" + 0.0044*\"donald\"'), (31, '0.0204*\"degrees\" + 0.0176*\"brave\" + 0.016*\"paragraphs\" + 0.0158*\"pursued\" + 0.0158*\"stratosphere\" + 0.0158*\"yuval\" + 0.0155*\"observation\" + 0.0155*\"reasoning\" + 0.0155*\"destiny\" + 0.0152*\"psychologically\"'), (32, '0.0045*\"ttm\" + 0.0039*\"genius\" + 0.0038*\"witnessing\" + 0.0037*\"dis\" + 0.0037*\"graphic\" + 0.0037*\"downside\" + 0.0037*\"peers\" + 0.0035*\"confident\" + 0.0035*\"hong\" + 0.0034*\"representing\"'), (33, '0.0107*\"blast\" + 0.0079*\"comments\" + 0.0075*\"involved\" + 0.0075*\"suggest\" + 0.0073*\"smartphones\" + 0.007*\"possibility\" + 0.0067*\"medical\" + 0.0065*\"labor\" + 0.0061*\"sent\" + 0.0061*\"founder\"'), (34, '0.0031*\"inning\" + 0.003*\"mgt\" + 0.0029*\"resisted\" + 0.0028*\"mistrust\" + 0.0028*\"pitt\" + 0.0028*\"wilson\" + 0.0025*\"proficiency\" + 0.0025*\"misunderstood\" + 0.0024*\"helix\" + 0.0024*\"qplum\"'), (35, '0.0183*\"indeed\" + 0.0178*\"dramatic\" + 0.0166*\"frequently\" + 0.0149*\"writing\" + 0.0142*\"aside\" + 0.0127*\"topics\" + 0.0121*\"introduction\" + 0.012*\"classic\" + 0.0108*\"becoming\" + 0.0106*\"comfortable\"'), (36, '0.0414*\"nvda\" + 0.0315*\"recent\" + 0.0294*\"long\" + 0.023*\"better\" + 0.0228*\"given\" + 0.0216*\"continue\" + 0.0212*\"end\" + 0.0188*\"going\" + 0.0182*\"stock\" + 0.0174*\"help\"'), (37, '0.0028*\"performers\" + 0.0022*\"hemophilia\" + 0.0022*\"advancers\" + 0.0022*\"stone\" + 0.002*\"automatic\" + 0.0019*\"dystrophy\" + 0.0019*\"muscular\" + 0.0018*\"triangle\" + 0.0018*\"outdated\" + 0.0018*\"notched\"'), (38, '0.0176*\"january\" + 0.0167*\"machine\" + 0.0154*\"video\" + 0.0154*\"highly\" + 0.0128*\"american\" + 0.0124*\"common\" + 0.0124*\"care\" + 0.0122*\"easy\" + 0.0116*\"health\" + 0.0114*\"created\"'), (39, '0.0059*\"perform\" + 0.0056*\"yesterday\" + 0.0056*\"rebound\" + 0.0055*\"holds\" + 0.0055*\"hottest\" + 0.0053*\"supplier\" + 0.0051*\"managed\" + 0.0051*\"financials\" + 0.005*\"slowdown\" + 0.0049*\"virtual\"'), (40, '0.0012*\"slate\" + 0.0012*\"splrct\" + 0.0011*\"xsd\" + 0.0011*\"ddaif\" + 0.0011*\"baird\" + 0.0011*\"stxnews\" + 0.001*\"incy\" + 0.001*\"incyte\" + 0.001*\"colette\" + 0.001*\"considersome\"'), (41, '0.0093*\"chips\" + 0.0089*\"robust\" + 0.0084*\"states\" + 0.0083*\"efforts\" + 0.008*\"shows\" + 0.0079*\"reach\" + 0.0079*\"upside\" + 0.0072*\"sentiment\" + 0.0072*\"digital\" + 0.0072*\"losses\"'), (42, '0.0188*\"com\" + 0.0153*\"largest\" + 0.0146*\"wall\" + 0.0121*\"able\" + 0.0117*\"behind\" + 0.0114*\"buying\" + 0.0114*\"press\" + 0.0114*\"almost\" + 0.0112*\"though\" + 0.0109*\"system\"'), (43, '0.0027*\"deadly\" + 0.0023*\"midday\" + 0.0022*\"senate\" + 0.0021*\"debut\" + 0.002*\"inference\" + 0.002*\"stretched\" + 0.002*\"aim\" + 0.002*\"continuously\" + 0.002*\"peg\" + 0.0019*\"automaker\"'), (44, '0.0148*\"intc\" + 0.0121*\"chip\" + 0.0118*\"date\" + 0.0106*\"record\" + 0.0105*\"level\" + 0.0103*\"concerns\" + 0.0098*\"investments\" + 0.0095*\"rising\" + 0.0093*\"bottom\" + 0.0088*\"following\"'), (45, '0.0028*\"random\" + 0.0026*\"invented\" + 0.0024*\"waves\" + 0.0023*\"settle\" + 0.0023*\"processed\" + 0.0023*\"sought\" + 0.0022*\"equifax\" + 0.002*\"inventor\" + 0.002*\"architectures\" + 0.002*\"larry\"'), (46, '0.0325*\"grand\" + 0.029*\"minds\" + 0.0261*\"theory\" + 0.0249*\"crsp\" + 0.0245*\"gem\" + 0.0222*\"cognitive\" + 0.018*\"explored\" + 0.0159*\"pollution\" + 0.0157*\"isolating\" + 0.0145*\"radical\"'), (47, '0.0072*\"therapeutics\" + 0.0054*\"ralph\" + 0.005*\"phd\" + 0.0048*\"wa\" + 0.0046*\"beasts\" + 0.0045*\"tails\" + 0.0044*\"assessments\" + 0.004*\"capitalist\" + 0.004*\"ayx\" + 0.0039*\"dragon\"'), (48, '0.001*\"alv\" + 0.0008*\"pcg\" + 0.0008*\"rosenblatt\" + 0.0007*\"reassured\" + 0.0007*\"visuals\" + 0.0007*\"byline\" + 0.0007*\"spxhc\" + 0.0007*\"cabin\" + 0.0007*\"betsy\" + 0.0007*\"taxpayers\"'), (49, '0.0063*\"evident\" + 0.0062*\"cyber\" + 0.006*\"forget\" + 0.006*\"preparing\" + 0.0058*\"literally\" + 0.0057*\"ten\" + 0.0056*\"unfortunately\" + 0.0053*\"hedge\" + 0.0051*\"governments\" + 0.005*\"caught\"'), (50, '0.0081*\"heavy\" + 0.0077*\"nflx\" + 0.0067*\"difficult\" + 0.0066*\"offering\" + 0.0064*\"centers\" + 0.0061*\"initial\" + 0.006*\"uncertainty\" + 0.0058*\"firms\" + 0.0058*\"trillion\" + 0.0058*\"picking\"'), (51, '0.0246*\"tied\" + 0.0241*\"episode\" + 0.0227*\"innovators\" + 0.0223*\"actions\" + 0.0222*\"planet\" + 0.0165*\"behavioral\" + 0.0151*\"roundup\" + 0.0147*\"themes\" + 0.0146*\"explained\" + 0.0145*\"living\"'), (52, '0.0067*\"puzzles\" + 0.0065*\"ino\" + 0.0064*\"deepening\" + 0.0061*\"dan\" + 0.006*\"hole\" + 0.0058*\"whichever\" + 0.0057*\"designated\" + 0.0057*\"defeat\" + 0.0056*\"charles\" + 0.0053*\"experiments\"'), (53, '0.0442*\"years\" + 0.0414*\"even\" + 0.0351*\"way\" + 0.0341*\"back\" + 0.0327*\"could\" + 0.0323*\"two\" + 0.0285*\"since\" + 0.027*\"technology\" + 0.0261*\"get\" + 0.0256*\"much\"'), (54, '0.0041*\"lie\" + 0.0039*\"filling\" + 0.0037*\"pursuing\" + 0.0035*\"arrive\" + 0.0034*\"universities\" + 0.0033*\"releasing\" + 0.0032*\"trials\" + 0.0028*\"messy\" + 0.0028*\"abandoned\" + 0.0027*\"keybanc\"'), (55, '0.0169*\"newest\" + 0.0119*\"connecting\" + 0.0101*\"gathering\" + 0.0095*\"originated\" + 0.0093*\"searching\" + 0.0082*\"chess\" + 0.0082*\"tendency\" + 0.0081*\"biotechnology\" + 0.0081*\"persist\" + 0.0078*\"sars\"'), (56, '0.019*\"york\" + 0.0148*\"opened\" + 0.013*\"dominated\" + 0.0129*\"interview\" + 0.0129*\"sound\" + 0.0129*\"complex\" + 0.0122*\"grown\" + 0.0113*\"covered\" + 0.0101*\"michael\" + 0.0101*\"twice\"'), (57, '0.0151*\"unpredictable\" + 0.0147*\"thomas\" + 0.0123*\"newspaper\" + 0.0119*\"centered\" + 0.0119*\"discussing\" + 0.0105*\"afford\" + 0.0104*\"controversy\" + 0.0086*\"entrepreneurs\" + 0.0081*\"woman\" + 0.0072*\"passage\"'), (58, '0.0063*\"statistics\" + 0.0061*\"swings\" + 0.0051*\"television\" + 0.005*\"presented\" + 0.0049*\"condition\" + 0.0046*\"authority\" + 0.0046*\"stood\" + 0.0044*\"limits\" + 0.0044*\"sky\" + 0.0043*\"surface\"'), (59, '0.004*\"obligation\" + 0.0039*\"advancing\" + 0.0035*\"remarkably\" + 0.0035*\"basket\" + 0.0035*\"aimed\" + 0.0031*\"geforce\" + 0.0031*\"card\" + 0.0031*\"upgraded\" + 0.0029*\"pointing\" + 0.0029*\"sank\"')]\n",
      "['bmwyy', 'soxs', 'wsm', 'kopn', 'kopin', 'ipxl', 'topsline', 'mpwr', 'labu', 'loxo']\n",
      "['nvidia', 'nyse', 'hold', 'price', 'past', 'recently', 'sell', 'term', 'shares', 'likely']\n",
      "['blind', 'touches', 'jay', 'referring', 'empirical', 'enriched', 'crops', 'beautiful', 'intuition', 'livestream']\n",
      "['breakthrough', 'falling', 'session', 'jones', 'volume', 'july', 'measures', 'declining', 'helping', 'select']\n",
      "['lrcx', 'skyrocketing', 'fund', 'info', 'ignited', 'frame', 'editor', 'pulled', 'automation', 'cnbc']\n",
      "['distinct', 'polaris', 'proclaimed', 'hmc', 'hallmark', 'ftec', 'augment', 'suv', 'ripping', 'capitulation']\n",
      "['mathematical', 'havoc', 'solve', 'stars', 'bag', 'noah', 'ridiculous', 'evolutionary', 'invent', 'confusing']\n",
      "['julian', 'epiphany', 'darwin', 'huxley', 'classroom', 'geology', 'labyrinth', 'flipgrid', 'unesco', 'townhall']\n",
      "['rise', 'fall', 'emerging', 'support', 'generate', 'led', 'launched', 'mentioned', 'conditions', 'main']\n",
      "['positive', 'industry', 'seen', 'currently', 'due', 'taking', 'position', 'continued', 'analysts', 'deal']\n",
      "['beneficial', 'addressable', 'miners', 'swing', 'giaquinto', 'ag', 'fails', 'wells', 'criteria', 'divergence']\n",
      "['killed', 'jensen', 'coronavirus', 'linked', 'tackle', 'spreading', 'crazy', 'depth', 'empire', 'edition']\n",
      "['otcpk', 'endp', 'breakaway', 'trv', 'sonoma', 'endo', 'ei', 'zackstoday', 'delisting', 'refill']\n",
      "['latest', 'special', 'fb', 'move', 'china', 'free', 'makes', 'times', 'interest', 'aapl']\n",
      "['creating', 'everything', 'must', 'sense', 'changes', 'th', 'often', 'known', 'simply', 'popular']\n",
      "['mcqueeney', 'nellis', 'translates', 'daimler', 'streamlined', 'mizuho', 'saturation', 'constituents', 'taipei', 'diversifying']\n",
      "['chaos', 'modern', 'philosophy', 'science', 'socially', 'teachers', 'founding', 'religion', 'champions', 'attitudes']\n",
      "['soxl', 'gelyy', 'audvf', 'nysearca', 'suspends', 'ichr', 'jhmt', 'xitk', 'rom', 'xth']\n",
      "['teamed', 'sends', 'pouring', 'sne', 'id', 'slowest', 'tier', 'safeguard', 'blown', 'conversely']\n",
      "['richard', 'professor', 'woke', 'certainty', 'book', 'books', 'adult', 'illusion', 'civilization', 'biologist']\n",
      "['delphi', 'utilizes', 'stalled', 'jd', 'shrunk', 'iwm', 'subscribe', 'rewarded', 'cvs', 'lane']\n",
      "['gaap', 'pleased', 'ramping', 'visibility', 'barclays', 'exiting', 'excluding', 'sequential', 'expenses', 'vivek']\n",
      "['reiterates', 'htz', 'rodrigo', 'etfmg', 'supplied', 'simulate', 'creed', 'beazer', 'hsi', 'est']\n",
      "['iq', 'blackberry', 'premarket', 'esports', 'corners', 'proves', 'computational', 'reinforces', 'calculating', 'digitimes']\n",
      "['screens', 'worst', 'focusing', 'cards', 'resistance', 'barrel', 'enhanced', 'suffered', 'forecasts', 'tracking']\n",
      "['tracey', 'valley', 'gop', 'pivotal', 'pharmaceuticals', 'ryniec', 'mistakes', 'famous', 'herd', 'dubbed']\n",
      "['randewich', 'noel', 'vlkay', 'stm', 'kramer', 'sweden', 'quadruple', 'chk', 'tw', 'chesapeake']\n",
      "['liberty', 'spokesperson', 'lessons', 'az', 'predetermined', 'hn', 'declaring', 'unforeseen', 'stupid', 'nvax']\n",
      "['gmt', 'wondrous', 'gainers', 'vectors', 'favored', 'chevron', 'negatively', 'intense', 'potentialthe', 'inked']\n",
      "['boom', 'hence', 'actively', 'soar', 'ounce', 'miles', 'delay', 'era', 'slowed', 'parent']\n",
      "['reserve', 'figures', 'stated', 'ltd', 'catalyst', 'elements', 'releases', 'mu', 'struggling', 'donald']\n",
      "['degrees', 'brave', 'paragraphs', 'pursued', 'stratosphere', 'yuval', 'observation', 'reasoning', 'destiny', 'psychologically']\n",
      "['ttm', 'genius', 'witnessing', 'dis', 'graphic', 'downside', 'peers', 'confident', 'hong', 'representing']\n",
      "['blast', 'comments', 'involved', 'suggest', 'smartphones', 'possibility', 'medical', 'labor', 'sent', 'founder']\n",
      "['inning', 'mgt', 'resisted', 'mistrust', 'pitt', 'wilson', 'proficiency', 'misunderstood', 'helix', 'qplum']\n",
      "['indeed', 'dramatic', 'frequently', 'writing', 'aside', 'topics', 'introduction', 'classic', 'becoming', 'comfortable']\n",
      "['nvda', 'recent', 'long', 'better', 'given', 'continue', 'end', 'going', 'stock', 'help']\n",
      "['performers', 'hemophilia', 'advancers', 'stone', 'automatic', 'dystrophy', 'muscular', 'triangle', 'outdated', 'notched']\n",
      "['january', 'machine', 'video', 'highly', 'american', 'common', 'care', 'easy', 'health', 'created']\n",
      "['perform', 'yesterday', 'rebound', 'holds', 'hottest', 'supplier', 'managed', 'financials', 'slowdown', 'virtual']\n",
      "['slate', 'splrct', 'xsd', 'ddaif', 'baird', 'stxnews', 'incy', 'incyte', 'colette', 'considersome']\n",
      "['chips', 'robust', 'states', 'efforts', 'shows', 'reach', 'upside', 'sentiment', 'digital', 'losses']\n",
      "['com', 'largest', 'wall', 'able', 'behind', 'buying', 'press', 'almost', 'though', 'system']\n",
      "['deadly', 'midday', 'senate', 'debut', 'inference', 'stretched', 'aim', 'continuously', 'peg', 'automaker']\n",
      "['intc', 'chip', 'date', 'record', 'level', 'concerns', 'investments', 'rising', 'bottom', 'following']\n",
      "['random', 'invented', 'waves', 'settle', 'processed', 'sought', 'equifax', 'inventor', 'architectures', 'larry']\n",
      "['grand', 'minds', 'theory', 'crsp', 'gem', 'cognitive', 'explored', 'pollution', 'isolating', 'radical']\n",
      "['therapeutics', 'ralph', 'phd', 'wa', 'beasts', 'tails', 'assessments', 'capitalist', 'ayx', 'dragon']\n",
      "['alv', 'pcg', 'rosenblatt', 'reassured', 'visuals', 'byline', 'spxhc', 'cabin', 'betsy', 'taxpayers']\n",
      "['evident', 'cyber', 'forget', 'preparing', 'literally', 'ten', 'unfortunately', 'hedge', 'governments', 'caught']\n",
      "['heavy', 'nflx', 'difficult', 'offering', 'centers', 'initial', 'uncertainty', 'firms', 'trillion', 'picking']\n",
      "['tied', 'episode', 'innovators', 'actions', 'planet', 'behavioral', 'roundup', 'themes', 'explained', 'living']\n",
      "['puzzles', 'ino', 'deepening', 'dan', 'hole', 'whichever', 'designated', 'defeat', 'charles', 'experiments']\n",
      "['years', 'even', 'way', 'back', 'could', 'two', 'since', 'technology', 'get', 'much']\n",
      "['lie', 'filling', 'pursuing', 'arrive', 'universities', 'releasing', 'trials', 'messy', 'abandoned', 'keybanc']\n",
      "['newest', 'connecting', 'gathering', 'originated', 'searching', 'chess', 'tendency', 'biotechnology', 'persist', 'sars']\n",
      "['york', 'opened', 'dominated', 'interview', 'sound', 'complex', 'grown', 'covered', 'michael', 'twice']\n",
      "['unpredictable', 'thomas', 'newspaper', 'centered', 'discussing', 'afford', 'controversy', 'entrepreneurs', 'woman', 'passage']\n",
      "['statistics', 'swings', 'television', 'presented', 'condition', 'authority', 'stood', 'limits', 'sky', 'surface']\n",
      "['obligation', 'advancing', 'remarkably', 'basket', 'aimed', 'geforce', 'card', 'upgraded', 'pointing', 'sank']\n",
      "Coherence Score: 0.40031995911099494\n",
      "Diversity Score: 1.0\n",
      "Interpretability Score: 0.40031995911099494\n"
     ]
    }
   ],
   "execution_count": 7
  },
  {
   "metadata": {},
   "cell_type": "markdown",
   "source": "Diversity score is almost 1.0 indicates that the topics are completely distinct from each other, with no significant overlap in the words that define them. "
  },
  {
   "metadata": {},
   "cell_type": "markdown",
   "source": "Coherence score of 0.40 suggests that while the topics have some level of meaningful structure, there is room for improvement."
  },
  {
   "metadata": {},
   "cell_type": "markdown",
   "source": [
    "Overall, iteration reveals a promising range of financial and market-related topics but also includes abstract and niche terms that may require additional filtering or reassessment of the topic modeling parameters to enhance the coherence and interpretability.\n",
    "For example, Topic 44 is particularly relevant for the semiconductor industry, containing terms like “chip,” “investments,” and “rising,” which relate to market trends in chip production and tech investments.\n",
    "On the other hand, Topic 0 contains company codes or niche financial terms like “bmwyy,” “soxs,” and “otcpk,” which may be outlier content within the dataset."
   ]
  },
  {
   "metadata": {},
   "cell_type": "markdown",
   "source": "# Iteration 1: Remove top 5% and bottom 5%"
  },
  {
   "metadata": {
    "ExecuteTime": {
     "end_time": "2024-11-05T18:12:56.789557Z",
     "start_time": "2024-11-05T18:12:03.705798Z"
    }
   },
   "cell_type": "code",
   "source": [
    "# Parameters\n",
    "flsaw_data = remove_n_percent(data, 5)\n",
    "num_topics=60\n",
    "num_words=10\n",
    "\n",
    "flsaW = FLSA_W(\n",
    "    input_file = flsaw_data,\n",
    "    num_topics=num_topics,\n",
    "    num_words=num_words,\n",
    ")\n",
    "\n",
    "flsaW.get_vocabulary_size()\n",
    "pwgt, ptgd = flsaW.get_matrices() # THIS TRAINS THE MODEL\n",
    "\n",
    "\n",
    "print(flsaW.show_topics())\n",
    "\n",
    "for topic in flsaW.show_topics(representation='words'):\n",
    "    print(topic)\n",
    "  \n",
    "    \n",
    "print(\"Coherence Score:\", flsaW.get_coherence_score())\n",
    "print(\"Diversity Score:\",flsaW.get_diversity_score())\n",
    "print(\"Interpretability Score:\",flsaW.get_interpretability_score())"
   ],
   "outputs": [
    {
     "name": "stdout",
     "output_type": "stream",
     "text": [
      "[(0, '0.02*\"nine\" + 0.0139*\"telling\" + 0.0108*\"sitting\" + 0.0107*\"enjoy\" + 0.0105*\"operator\" + 0.0105*\"practices\" + 0.0104*\"ben\" + 0.0101*\"patient\" + 0.0095*\"load\" + 0.0093*\"mover\"'), (1, '0.0207*\"compelling\" + 0.018*\"calling\" + 0.0129*\"linked\" + 0.0128*\"race\" + 0.0118*\"secret\" + 0.0117*\"crazy\" + 0.0112*\"tackle\" + 0.0108*\"crack\" + 0.0099*\"coronavirus\" + 0.0086*\"killed\"'), (2, '0.0207*\"surrounding\" + 0.0196*\"trouble\" + 0.0191*\"tap\" + 0.0161*\"felt\" + 0.014*\"jensen\" + 0.0122*\"musk\" + 0.0117*\"shown\" + 0.0117*\"shifted\" + 0.0113*\"scientific\" + 0.0097*\"filled\"'), (3, '0.0053*\"evp\" + 0.0043*\"industrials\" + 0.0042*\"sluggish\" + 0.0039*\"peers\" + 0.0037*\"walt\" + 0.0036*\"partial\" + 0.0035*\"execution\" + 0.0035*\"reiterated\" + 0.0034*\"drove\" + 0.0034*\"barrels\"'), (4, '0.0059*\"announces\" + 0.0055*\"supplies\" + 0.0051*\"downward\" + 0.0048*\"representing\" + 0.0047*\"sustained\" + 0.0046*\"parent\" + 0.0045*\"automakers\" + 0.0045*\"reflected\" + 0.0043*\"bounced\" + 0.0043*\"capable\"'), (5, '0.0034*\"avoided\" + 0.0026*\"dgx\" + 0.0025*\"finest\" + 0.0024*\"calculated\" + 0.0024*\"incremental\" + 0.0024*\"accretive\" + 0.0023*\"potentialthe\" + 0.0022*\"heavyweights\" + 0.0022*\"flashpoint\" + 0.0021*\"carmaker\"'), (6, '0.0271*\"type\" + 0.0246*\"employees\" + 0.0198*\"shopping\" + 0.0196*\"agreed\" + 0.0184*\"allows\" + 0.0178*\"owned\" + 0.0162*\"facilitate\" + 0.015*\"youtube\" + 0.0147*\"study\" + 0.0142*\"argument\"'), (7, '0.0054*\"dipped\" + 0.0051*\"enhanced\" + 0.0049*\"reflects\" + 0.0048*\"phase\" + 0.0048*\"nevertheless\" + 0.0047*\"inventories\" + 0.0045*\"miles\" + 0.0045*\"jerome\" + 0.0044*\"indicated\" + 0.0044*\"consistently\"'), (8, '0.0471*\"art\" + 0.0427*\"theory\" + 0.0375*\"grand\" + 0.0349*\"minds\" + 0.0326*\"thoughts\" + 0.0289*\"deeply\" + 0.0267*\"communities\" + 0.0239*\"crsp\" + 0.0238*\"preserve\" + 0.0208*\"explored\"'), (9, '0.0298*\"installed\" + 0.0242*\"fairly\" + 0.0205*\"happening\" + 0.018*\"hopefully\" + 0.0175*\"express\" + 0.0174*\"chunk\" + 0.0166*\"opt\" + 0.0157*\"hospital\" + 0.0121*\"somewhere\" + 0.012*\"offices\"'), (10, '0.0049*\"tumbled\" + 0.0049*\"accounted\" + 0.0043*\"bode\" + 0.0039*\"lagged\" + 0.0038*\"tailwind\" + 0.0037*\"mian\" + 0.0037*\"steep\" + 0.0037*\"headwind\" + 0.0036*\"lifted\" + 0.0034*\"jpy\"'), (11, '0.0476*\"intuitive\" + 0.031*\"nice\" + 0.0264*\"digging\" + 0.0241*\"rob\" + 0.0229*\"vinci\" + 0.0226*\"atlassian\" + 0.0196*\"nevada\" + 0.0186*\"ratings\" + 0.0185*\"da\" + 0.0176*\"supreme\"'), (12, '0.0206*\"covered\" + 0.0127*\"intelligent\" + 0.0123*\"accelerated\" + 0.0102*\"lake\" + 0.0079*\"teaching\" + 0.0075*\"grown\" + 0.0072*\"association\" + 0.0067*\"restrictions\" + 0.0066*\"soft\" + 0.0064*\"focuses\"'), (13, '0.039*\"woke\" + 0.0332*\"illusion\" + 0.0274*\"richard\" + 0.0256*\"monsters\" + 0.0255*\"ariely\" + 0.0251*\"consciously\" + 0.0245*\"stupor\" + 0.0245*\"luddite\" + 0.0245*\"ecology\" + 0.0234*\"sha\"'), (14, '0.0071*\"launches\" + 0.007*\"plunge\" + 0.0069*\"upgrade\" + 0.0064*\"charging\" + 0.0063*\"hikes\" + 0.0059*\"purchases\" + 0.0058*\"manufacture\" + 0.0057*\"lon\" + 0.0056*\"enter\" + 0.0056*\"count\"'), (15, '0.0137*\"cutting\" + 0.0131*\"raising\" + 0.0129*\"safe\" + 0.0115*\"touch\" + 0.011*\"payment\" + 0.0109*\"continuing\" + 0.0109*\"hands\" + 0.0108*\"issued\" + 0.0107*\"planned\" + 0.0095*\"necessarily\"'), (16, '0.0037*\"wondrous\" + 0.0035*\"vectors\" + 0.0033*\"overhang\" + 0.0031*\"nxpi\" + 0.003*\"contributor\" + 0.003*\"factset\" + 0.0029*\"alllast\" + 0.0028*\"entirety\" + 0.0028*\"dax\" + 0.0027*\"stx\"'), (17, '0.0028*\"premarket\" + 0.0026*\"considerhere\" + 0.0023*\"soxx\" + 0.0022*\"conclusively\" + 0.0018*\"delve\" + 0.0018*\"traced\" + 0.0017*\"boomed\" + 0.0017*\"polled\" + 0.0016*\"aaa\" + 0.0015*\"southwestern\"'), (18, '0.0329*\"involved\" + 0.0301*\"step\" + 0.0295*\"eight\" + 0.0284*\"primary\" + 0.024*\"allowed\" + 0.022*\"reaction\" + 0.022*\"apparently\" + 0.0204*\"happens\" + 0.0185*\"section\" + 0.017*\"becomes\"'), (19, '0.0501*\"chaos\" + 0.0364*\"philosophy\" + 0.0285*\"radical\" + 0.0274*\"attitudes\" + 0.0271*\"refunds\" + 0.0269*\"socially\" + 0.0253*\"sean\" + 0.0252*\"religious\" + 0.025*\"founding\" + 0.0239*\"yep\"'), (20, '0.0085*\"racing\" + 0.0084*\"emotion\" + 0.0073*\"frontier\" + 0.0064*\"fever\" + 0.0062*\"winner\" + 0.0061*\"ralph\" + 0.0055*\"massively\" + 0.0051*\"habits\" + 0.0051*\"writer\" + 0.0049*\"stating\"'), (21, '0.0025*\"ipgp\" + 0.0024*\"mrvl\" + 0.0023*\"microprocessors\" + 0.0022*\"payc\" + 0.0022*\"mlnx\" + 0.0021*\"decliners\" + 0.0021*\"handpicked\" + 0.002*\"hopeful\" + 0.002*\"hardest\" + 0.002*\"touted\"'), (22, '0.0043*\"incorporated\" + 0.0036*\"marginally\" + 0.0036*\"skyrocket\" + 0.0036*\"skyrocketed\" + 0.0033*\"riding\" + 0.0033*\"xilinx\" + 0.0032*\"johnson\" + 0.0032*\"gainers\" + 0.0029*\"performances\" + 0.0028*\"cvx\"'), (23, '0.0071*\"criticism\" + 0.0068*\"statista\" + 0.0065*\"conflict\" + 0.0061*\"buzz\" + 0.0055*\"thrive\" + 0.0052*\"warn\" + 0.0048*\"revolutionary\" + 0.0048*\"sea\" + 0.0045*\"institution\" + 0.0044*\"disastrous\"'), (24, '0.032*\"surgical\" + 0.0301*\"legalized\" + 0.0297*\"notion\" + 0.0262*\"coach\" + 0.0252*\"illustrated\" + 0.0219*\"legalize\" + 0.0181*\"subscribers\" + 0.0179*\"appropriately\" + 0.0177*\"draft\" + 0.0177*\"luke\"'), (25, '0.0422*\"decisions\" + 0.0334*\"member\" + 0.032*\"internal\" + 0.0223*\"click\" + 0.0212*\"classic\" + 0.0204*\"dr\" + 0.0186*\"absolutely\" + 0.0181*\"interested\" + 0.0141*\"decades\" + 0.0134*\"arena\"'), (26, '0.0049*\"famed\" + 0.0047*\"clara\" + 0.0045*\"greenback\" + 0.0044*\"upgraded\" + 0.0039*\"outpaced\" + 0.0039*\"marked\" + 0.0038*\"uptick\" + 0.0037*\"diversified\" + 0.0036*\"yearly\" + 0.0036*\"weighed\"'), (27, '0.0014*\"differentiated\" + 0.0012*\"receivables\" + 0.0012*\"combinationhere\" + 0.0012*\"nfm\" + 0.0011*\"cree\" + 0.0011*\"baird\" + 0.0011*\"amba\" + 0.0011*\"maddy\" + 0.0011*\"flagged\" + 0.0011*\"colette\"'), (28, '0.0039*\"capitalization\" + 0.0039*\"pharmaceutical\" + 0.0039*\"fabrication\" + 0.0038*\"trillionaires\" + 0.0037*\"mnuchin\" + 0.0035*\"turmoil\" + 0.0034*\"marketsandmarkets\" + 0.0032*\"advancements\" + 0.003*\"utilize\" + 0.003*\"setup\"'), (29, '0.0111*\"majority\" + 0.0081*\"normally\" + 0.0081*\"fuel\" + 0.0079*\"organizations\" + 0.0073*\"facing\" + 0.0061*\"attempt\" + 0.0059*\"nintendo\" + 0.0059*\"entry\" + 0.0058*\"outcome\" + 0.0057*\"excitement\"'), (30, '0.0103*\"entities\" + 0.0096*\"revealed\" + 0.0092*\"contactzacks\" + 0.0091*\"enabled\" + 0.0087*\"finding\" + 0.0083*\"overseas\" + 0.0079*\"frame\" + 0.0078*\"virtually\" + 0.0071*\"dealer\" + 0.007*\"white\"'), (31, '0.0279*\"receive\" + 0.0234*\"love\" + 0.0226*\"anti\" + 0.0132*\"dig\" + 0.0114*\"pages\" + 0.0104*\"rule\" + 0.0103*\"nature\" + 0.0098*\"runs\" + 0.0096*\"british\" + 0.0079*\"explain\"'), (32, '0.0325*\"chicago\" + 0.0235*\"politics\" + 0.0221*\"tool\" + 0.015*\"teller\" + 0.0138*\"military\" + 0.0124*\"imagine\" + 0.0118*\"brains\" + 0.0112*\"stream\" + 0.0098*\"aside\" + 0.009*\"older\"'), (33, '0.0221*\"paragraphs\" + 0.021*\"disruptor\" + 0.0204*\"reasoning\" + 0.0204*\"pursued\" + 0.0194*\"brave\" + 0.0189*\"psychologically\" + 0.0185*\"stratosphere\" + 0.0183*\"observation\" + 0.0182*\"burning\" + 0.0176*\"coined\"'), (34, '0.0058*\"marks\" + 0.0039*\"scalable\" + 0.0037*\"catching\" + 0.0036*\"buyout\" + 0.0035*\"workload\" + 0.0034*\"modules\" + 0.0034*\"pickup\" + 0.0032*\"claiming\" + 0.0032*\"deteriorating\" + 0.0032*\"accelerators\"'), (35, '0.0026*\"troy\" + 0.0019*\"kem\" + 0.0019*\"kemet\" + 0.0018*\"qrvo\" + 0.0016*\"smh\" + 0.0015*\"saysaccording\" + 0.0014*\"randewich\" + 0.0014*\"noel\" + 0.0014*\"multimillionaire\" + 0.0014*\"swn\"'), (36, '0.0048*\"computation\" + 0.0045*\"invention\" + 0.0035*\"mgt\" + 0.0034*\"wilson\" + 0.0029*\"schools\" + 0.0027*\"misunderstood\" + 0.0027*\"cryptographic\" + 0.0027*\"journals\" + 0.0027*\"unsure\" + 0.0027*\"tidal\"'), (37, '0.0139*\"reduced\" + 0.0116*\"caused\" + 0.0115*\"slight\" + 0.0114*\"challenges\" + 0.011*\"address\" + 0.0105*\"achieve\" + 0.0103*\"tried\" + 0.0084*\"travel\" + 0.0083*\"curve\" + 0.0083*\"dominate\"'), (38, '0.0088*\"populist\" + 0.0072*\"ayx\" + 0.0067*\"depth\" + 0.0058*\"conquered\" + 0.0057*\"wider\" + 0.0055*\"police\" + 0.0054*\"narrated\" + 0.0053*\"societies\" + 0.0052*\"wreak\" + 0.005*\"happiness\"'), (39, '0.0249*\"macro\" + 0.0215*\"spent\" + 0.017*\"lives\" + 0.0145*\"probability\" + 0.0136*\"dominated\" + 0.0131*\"sound\" + 0.0126*\"associated\" + 0.0119*\"experiences\" + 0.0119*\"joint\" + 0.0117*\"selection\"'), (40, '0.0126*\"enables\" + 0.0102*\"ultimately\" + 0.0095*\"thereby\" + 0.0092*\"suggests\" + 0.0091*\"collaboration\" + 0.009*\"vote\" + 0.0086*\"tests\" + 0.0079*\"reducing\" + 0.0078*\"intends\" + 0.0077*\"targeting\"'), (41, '0.0033*\"outnumbered\" + 0.003*\"strategiesit\" + 0.0027*\"aum\" + 0.0026*\"hemophilia\" + 0.0025*\"gtx\" + 0.0024*\"cater\" + 0.0023*\"muscular\" + 0.0023*\"dystrophy\" + 0.0023*\"repurchase\" + 0.0023*\"intensifying\"'), (42, '0.007*\"remaining\" + 0.0065*\"suggesting\" + 0.0063*\"exclusive\" + 0.0057*\"visual\" + 0.0054*\"bounce\" + 0.0051*\"medium\" + 0.005*\"variety\" + 0.0049*\"promise\" + 0.0048*\"shanghai\" + 0.0048*\"selected\"'), (43, '0.0352*\"intensive\" + 0.0265*\"league\" + 0.0258*\"walk\" + 0.0245*\"vegas\" + 0.0241*\"listening\" + 0.0198*\"curtain\" + 0.0197*\"nba\" + 0.0194*\"scandal\" + 0.0184*\"shop\" + 0.0183*\"nbc\"'), (44, '0.0038*\"edged\" + 0.0038*\"tepid\" + 0.0035*\"synergies\" + 0.0035*\"pointing\" + 0.0034*\"suffer\" + 0.0033*\"remarkably\" + 0.0031*\"copper\" + 0.003*\"backdrop\" + 0.003*\"ea\" + 0.003*\"deere\"'), (45, '0.0009*\"ftxl\" + 0.0008*\"ibex\" + 0.0008*\"bmwyy\" + 0.0008*\"amtek\" + 0.0008*\"muse\" + 0.0007*\"nemours\" + 0.0007*\"pont\" + 0.0007*\"favourable\" + 0.0007*\"recommends\" + 0.0007*\"proai\"'), (46, '0.0009*\"soxl\" + 0.0007*\"conclusionas\" + 0.0007*\"itus\" + 0.0007*\"suspends\" + 0.0007*\"tndm\" + 0.0007*\"xth\" + 0.0007*\"maritime\" + 0.0006*\"abil\" + 0.0006*\"dwdp\" + 0.0006*\"cnat\"'), (47, '0.0088*\"historical\" + 0.008*\"pharmaceuticals\" + 0.0075*\"bidu\" + 0.0073*\"invited\" + 0.0067*\"verge\" + 0.0062*\"namely\" + 0.0053*\"agricultural\" + 0.0045*\"heights\" + 0.0045*\"swings\" + 0.0044*\"transistors\"'), (48, '0.0007*\"trv\" + 0.0007*\"gelyy\" + 0.0007*\"ei\" + 0.0006*\"zackstoday\" + 0.0006*\"considerwe\" + 0.0006*\"ndls\" + 0.0006*\"wipro\" + 0.0006*\"panchadar\" + 0.0006*\"arjun\" + 0.0006*\"cslt\"'), (49, '0.0176*\"chris\" + 0.0156*\"football\" + 0.0144*\"nfl\" + 0.0139*\"hill\" + 0.013*\"baseball\" + 0.0125*\"tractor\" + 0.0122*\"ron\" + 0.0119*\"motley\" + 0.0111*\"bowl\" + 0.0108*\"laughs\"'), (50, '0.0079*\"promising\" + 0.0064*\"print\" + 0.0055*\"notebook\" + 0.0044*\"trucks\" + 0.0042*\"crowded\" + 0.0038*\"gear\" + 0.0036*\"snapdragon\" + 0.0035*\"plant\" + 0.0034*\"toronto\" + 0.0032*\"floor\"'), (51, '0.0177*\"spend\" + 0.0166*\"comparison\" + 0.0162*\"benefits\" + 0.0161*\"stake\" + 0.0156*\"strongly\" + 0.0145*\"paying\" + 0.0143*\"augmented\" + 0.0133*\"generally\" + 0.0121*\"privacy\" + 0.012*\"wdc\"'), (52, '0.0012*\"xsd\" + 0.0012*\"alv\" + 0.0011*\"lookhere\" + 0.001*\"foraying\" + 0.001*\"reiterates\" + 0.001*\"mott\" + 0.001*\"ame\" + 0.0009*\"considersome\" + 0.0009*\"tensilica\" + 0.0009*\"chipmaking\"'), (53, '0.0027*\"turing\" + 0.0023*\"considercurrently\" + 0.0022*\"mcqueeney\" + 0.0019*\"nowzacks\" + 0.0019*\"pendinga\" + 0.0019*\"ipg\" + 0.0018*\"snps\" + 0.0017*\"kla\" + 0.0017*\"stockfull\" + 0.0017*\"invesco\"'), (54, '0.0184*\"winners\" + 0.0167*\"looked\" + 0.0133*\"billions\" + 0.0097*\"bet\" + 0.0095*\"lenovo\" + 0.0087*\"concept\" + 0.0086*\"outside\" + 0.008*\"featuring\" + 0.0078*\"versions\" + 0.0064*\"arrangement\"'), (55, '0.0268*\"sport\" + 0.0169*\"embracing\" + 0.0159*\"penalties\" + 0.0157*\"flop\" + 0.0156*\"length\" + 0.0156*\"bang\" + 0.015*\"kicking\" + 0.0149*\"sponsor\" + 0.0147*\"likewise\" + 0.0143*\"obligations\"'), (56, '0.0097*\"gm\" + 0.0058*\"futuristic\" + 0.0043*\"macy\" + 0.0037*\"towel\" + 0.0037*\"cherry\" + 0.0035*\"aging\" + 0.0035*\"satisfied\" + 0.0035*\"taxation\" + 0.0034*\"oliver\" + 0.0033*\"av\"'), (57, '0.0208*\"determination\" + 0.0207*\"judgment\" + 0.0197*\"timed\" + 0.0187*\"confusion\" + 0.0182*\"bag\" + 0.0179*\"southwest\" + 0.017*\"havoc\" + 0.0168*\"pronounced\" + 0.0167*\"evolutionary\" + 0.0152*\"virtue\"'), (58, '0.0111*\"epiphany\" + 0.0109*\"julian\" + 0.0107*\"darwin\" + 0.0104*\"huxley\" + 0.01*\"classroom\" + 0.0093*\"stale\" + 0.0093*\"fondly\" + 0.0093*\"truths\" + 0.0093*\"watering\" + 0.0093*\"humanism\"'), (59, '0.0177*\"watching\" + 0.0177*\"unique\" + 0.0156*\"perfect\" + 0.0132*\"creation\" + 0.0118*\"minute\" + 0.0117*\"structure\" + 0.0109*\"finance\" + 0.0106*\"ship\" + 0.0101*\"approved\" + 0.0096*\"neural\"')]\n",
      "['nine', 'telling', 'sitting', 'enjoy', 'operator', 'practices', 'ben', 'patient', 'load', 'mover']\n",
      "['compelling', 'calling', 'linked', 'race', 'secret', 'crazy', 'tackle', 'crack', 'coronavirus', 'killed']\n",
      "['surrounding', 'trouble', 'tap', 'felt', 'jensen', 'musk', 'shown', 'shifted', 'scientific', 'filled']\n",
      "['evp', 'industrials', 'sluggish', 'peers', 'walt', 'partial', 'execution', 'reiterated', 'drove', 'barrels']\n",
      "['announces', 'supplies', 'downward', 'representing', 'sustained', 'parent', 'automakers', 'reflected', 'bounced', 'capable']\n",
      "['avoided', 'dgx', 'finest', 'calculated', 'incremental', 'accretive', 'potentialthe', 'heavyweights', 'flashpoint', 'carmaker']\n",
      "['type', 'employees', 'shopping', 'agreed', 'allows', 'owned', 'facilitate', 'youtube', 'study', 'argument']\n",
      "['dipped', 'enhanced', 'reflects', 'phase', 'nevertheless', 'inventories', 'miles', 'jerome', 'indicated', 'consistently']\n",
      "['art', 'theory', 'grand', 'minds', 'thoughts', 'deeply', 'communities', 'crsp', 'preserve', 'explored']\n",
      "['installed', 'fairly', 'happening', 'hopefully', 'express', 'chunk', 'opt', 'hospital', 'somewhere', 'offices']\n",
      "['tumbled', 'accounted', 'bode', 'lagged', 'tailwind', 'mian', 'steep', 'headwind', 'lifted', 'jpy']\n",
      "['intuitive', 'nice', 'digging', 'rob', 'vinci', 'atlassian', 'nevada', 'ratings', 'da', 'supreme']\n",
      "['covered', 'intelligent', 'accelerated', 'lake', 'teaching', 'grown', 'association', 'restrictions', 'soft', 'focuses']\n",
      "['woke', 'illusion', 'richard', 'monsters', 'ariely', 'consciously', 'stupor', 'luddite', 'ecology', 'sha']\n",
      "['launches', 'plunge', 'upgrade', 'charging', 'hikes', 'purchases', 'manufacture', 'lon', 'enter', 'count']\n",
      "['cutting', 'raising', 'safe', 'touch', 'payment', 'continuing', 'hands', 'issued', 'planned', 'necessarily']\n",
      "['wondrous', 'vectors', 'overhang', 'nxpi', 'contributor', 'factset', 'alllast', 'entirety', 'dax', 'stx']\n",
      "['premarket', 'considerhere', 'soxx', 'conclusively', 'delve', 'traced', 'boomed', 'polled', 'aaa', 'southwestern']\n",
      "['involved', 'step', 'eight', 'primary', 'allowed', 'reaction', 'apparently', 'happens', 'section', 'becomes']\n",
      "['chaos', 'philosophy', 'radical', 'attitudes', 'refunds', 'socially', 'sean', 'religious', 'founding', 'yep']\n",
      "['racing', 'emotion', 'frontier', 'fever', 'winner', 'ralph', 'massively', 'habits', 'writer', 'stating']\n",
      "['ipgp', 'mrvl', 'microprocessors', 'payc', 'mlnx', 'decliners', 'handpicked', 'hopeful', 'hardest', 'touted']\n",
      "['incorporated', 'marginally', 'skyrocket', 'skyrocketed', 'riding', 'xilinx', 'johnson', 'gainers', 'performances', 'cvx']\n",
      "['criticism', 'statista', 'conflict', 'buzz', 'thrive', 'warn', 'revolutionary', 'sea', 'institution', 'disastrous']\n",
      "['surgical', 'legalized', 'notion', 'coach', 'illustrated', 'legalize', 'subscribers', 'appropriately', 'draft', 'luke']\n",
      "['decisions', 'member', 'internal', 'click', 'classic', 'dr', 'absolutely', 'interested', 'decades', 'arena']\n",
      "['famed', 'clara', 'greenback', 'upgraded', 'outpaced', 'marked', 'uptick', 'diversified', 'yearly', 'weighed']\n",
      "['differentiated', 'receivables', 'combinationhere', 'nfm', 'cree', 'baird', 'amba', 'maddy', 'flagged', 'colette']\n",
      "['capitalization', 'pharmaceutical', 'fabrication', 'trillionaires', 'mnuchin', 'turmoil', 'marketsandmarkets', 'advancements', 'utilize', 'setup']\n",
      "['majority', 'normally', 'fuel', 'organizations', 'facing', 'attempt', 'nintendo', 'entry', 'outcome', 'excitement']\n",
      "['entities', 'revealed', 'contactzacks', 'enabled', 'finding', 'overseas', 'frame', 'virtually', 'dealer', 'white']\n",
      "['receive', 'love', 'anti', 'dig', 'pages', 'rule', 'nature', 'runs', 'british', 'explain']\n",
      "['chicago', 'politics', 'tool', 'teller', 'military', 'imagine', 'brains', 'stream', 'aside', 'older']\n",
      "['paragraphs', 'disruptor', 'reasoning', 'pursued', 'brave', 'psychologically', 'stratosphere', 'observation', 'burning', 'coined']\n",
      "['marks', 'scalable', 'catching', 'buyout', 'workload', 'modules', 'pickup', 'claiming', 'deteriorating', 'accelerators']\n",
      "['troy', 'kem', 'kemet', 'qrvo', 'smh', 'saysaccording', 'randewich', 'noel', 'multimillionaire', 'swn']\n",
      "['computation', 'invention', 'mgt', 'wilson', 'schools', 'misunderstood', 'cryptographic', 'journals', 'unsure', 'tidal']\n",
      "['reduced', 'caused', 'slight', 'challenges', 'address', 'achieve', 'tried', 'travel', 'curve', 'dominate']\n",
      "['populist', 'ayx', 'depth', 'conquered', 'wider', 'police', 'narrated', 'societies', 'wreak', 'happiness']\n",
      "['macro', 'spent', 'lives', 'probability', 'dominated', 'sound', 'associated', 'experiences', 'joint', 'selection']\n",
      "['enables', 'ultimately', 'thereby', 'suggests', 'collaboration', 'vote', 'tests', 'reducing', 'intends', 'targeting']\n",
      "['outnumbered', 'strategiesit', 'aum', 'hemophilia', 'gtx', 'cater', 'muscular', 'dystrophy', 'repurchase', 'intensifying']\n",
      "['remaining', 'suggesting', 'exclusive', 'visual', 'bounce', 'medium', 'variety', 'promise', 'shanghai', 'selected']\n",
      "['intensive', 'league', 'walk', 'vegas', 'listening', 'curtain', 'nba', 'scandal', 'shop', 'nbc']\n",
      "['edged', 'tepid', 'synergies', 'pointing', 'suffer', 'remarkably', 'copper', 'backdrop', 'ea', 'deere']\n",
      "['ftxl', 'ibex', 'bmwyy', 'amtek', 'muse', 'nemours', 'pont', 'favourable', 'recommends', 'proai']\n",
      "['soxl', 'conclusionas', 'itus', 'suspends', 'tndm', 'xth', 'maritime', 'abil', 'dwdp', 'cnat']\n",
      "['historical', 'pharmaceuticals', 'bidu', 'invited', 'verge', 'namely', 'agricultural', 'heights', 'swings', 'transistors']\n",
      "['trv', 'gelyy', 'ei', 'zackstoday', 'considerwe', 'ndls', 'wipro', 'panchadar', 'arjun', 'cslt']\n",
      "['chris', 'football', 'nfl', 'hill', 'baseball', 'tractor', 'ron', 'motley', 'bowl', 'laughs']\n",
      "['promising', 'print', 'notebook', 'trucks', 'crowded', 'gear', 'snapdragon', 'plant', 'toronto', 'floor']\n",
      "['spend', 'comparison', 'benefits', 'stake', 'strongly', 'paying', 'augmented', 'generally', 'privacy', 'wdc']\n",
      "['xsd', 'alv', 'lookhere', 'foraying', 'reiterates', 'mott', 'ame', 'considersome', 'tensilica', 'chipmaking']\n",
      "['turing', 'considercurrently', 'mcqueeney', 'nowzacks', 'pendinga', 'ipg', 'snps', 'kla', 'stockfull', 'invesco']\n",
      "['winners', 'looked', 'billions', 'bet', 'lenovo', 'concept', 'outside', 'featuring', 'versions', 'arrangement']\n",
      "['sport', 'embracing', 'penalties', 'flop', 'length', 'bang', 'kicking', 'sponsor', 'likewise', 'obligations']\n",
      "['gm', 'futuristic', 'macy', 'towel', 'cherry', 'aging', 'satisfied', 'taxation', 'oliver', 'av']\n",
      "['determination', 'judgment', 'timed', 'confusion', 'bag', 'southwest', 'havoc', 'pronounced', 'evolutionary', 'virtue']\n",
      "['epiphany', 'julian', 'darwin', 'huxley', 'classroom', 'stale', 'fondly', 'truths', 'watering', 'humanism']\n",
      "['watching', 'unique', 'perfect', 'creation', 'minute', 'structure', 'finance', 'ship', 'approved', 'neural']\n",
      "Coherence Score: 0.32418051302971895\n",
      "Diversity Score: 1.0\n",
      "Interpretability Score: 0.32418051302971895\n"
     ]
    }
   ],
   "execution_count": 8
  },
  {
   "metadata": {},
   "cell_type": "markdown",
   "source": "Coherence score dropped significantly while diversity seems stable."
  },
  {
   "metadata": {},
   "cell_type": "markdown",
   "source": "## Iteration 2: top 10% and bottom 10%"
  },
  {
   "metadata": {
    "ExecuteTime": {
     "end_time": "2024-11-05T18:13:31.502049Z",
     "start_time": "2024-11-05T18:12:56.790394Z"
    }
   },
   "cell_type": "code",
   "source": [
    "# Parameters\n",
    "flsaw_data = remove_n_percent(data, 10)\n",
    "num_topics=60\n",
    "num_words=10\n",
    "\n",
    "flsaW = FLSA_W(\n",
    "    input_file = flsaw_data,\n",
    "    num_topics=num_topics,\n",
    "    num_words=num_words,\n",
    ")\n",
    "\n",
    "flsaW.get_vocabulary_size()\n",
    "pwgt, ptgd = flsaW.get_matrices() # THIS TRAINS THE MODEL\n",
    "\n",
    "\n",
    "print(flsaW.show_topics())\n",
    "\n",
    "for topic in flsaW.show_topics(representation='words'):\n",
    "    print(topic)\n",
    "  \n",
    "    \n",
    "print(\"Coherence Score:\", flsaW.get_coherence_score())\n",
    "print(\"Diversity Score:\",flsaW.get_diversity_score())\n",
    "print(\"Interpretability Score:\",flsaW.get_interpretability_score())"
   ],
   "outputs": [
    {
     "name": "stdout",
     "output_type": "stream",
     "text": [
      "[(0, '0.0058*\"collaborated\" + 0.0056*\"proving\" + 0.0056*\"imperative\" + 0.0046*\"productive\" + 0.0046*\"madness\" + 0.0044*\"lunch\" + 0.0037*\"watson\" + 0.0037*\"sake\" + 0.0034*\"crises\" + 0.0033*\"legitimacy\"'), (1, '0.0054*\"fold\" + 0.005*\"fomc\" + 0.0046*\"theresa\" + 0.0043*\"replacing\" + 0.0042*\"blockbuster\" + 0.0041*\"returning\" + 0.004*\"sipc\" + 0.0039*\"briefing\" + 0.0039*\"passenger\" + 0.0039*\"penetration\"'), (2, '0.0239*\"realm\" + 0.0233*\"confusion\" + 0.0229*\"southwest\" + 0.0215*\"pronounced\" + 0.0206*\"loved\" + 0.0197*\"physics\" + 0.0195*\"practical\" + 0.0195*\"todd\" + 0.0183*\"chromebook\" + 0.0175*\"bag\"'), (3, '0.0077*\"sooner\" + 0.0074*\"viewed\" + 0.0066*\"barclays\" + 0.0064*\"households\" + 0.0064*\"seasonality\" + 0.0053*\"buttons\" + 0.0052*\"translation\" + 0.0048*\"matt\" + 0.0048*\"toronto\" + 0.0047*\"incorporate\"'), (4, '0.0206*\"judge\" + 0.0157*\"ruling\" + 0.0143*\"comply\" + 0.0142*\"posts\" + 0.0134*\"glance\" + 0.0131*\"sites\" + 0.0129*\"shelves\" + 0.0077*\"diversity\" + 0.0074*\"suggestions\" + 0.006*\"ship\"'), (5, '0.0039*\"giaquinto\" + 0.0038*\"backdrop\" + 0.0038*\"behemoths\" + 0.0036*\"realization\" + 0.0035*\"ixic\" + 0.0032*\"oriented\" + 0.0032*\"unexpectedly\" + 0.0032*\"prudent\" + 0.0031*\"continuously\" + 0.003*\"narrowed\"'), (6, '0.0406*\"ratings\" + 0.0364*\"surgical\" + 0.0322*\"illustrated\" + 0.0317*\"legalized\" + 0.0314*\"walking\" + 0.0311*\"notion\" + 0.0296*\"coach\" + 0.0282*\"hey\" + 0.0263*\"legalize\" + 0.0255*\"appropriately\"'), (7, '0.037*\"listening\" + 0.0357*\"scandal\" + 0.0351*\"league\" + 0.0322*\"intensive\" + 0.0319*\"walk\" + 0.0306*\"nba\" + 0.0292*\"everywhere\" + 0.028*\"anymore\" + 0.0242*\"lender\" + 0.0238*\"attracts\"'), (8, '0.0037*\"intense\" + 0.0034*\"courtesy\" + 0.0032*\"contributor\" + 0.0028*\"midday\" + 0.0028*\"doubts\" + 0.0027*\"attaining\" + 0.0026*\"licenses\" + 0.0026*\"plain\" + 0.0025*\"stringent\" + 0.0024*\"nxpi\"'), (9, '0.0237*\"train\" + 0.0226*\"economist\" + 0.0139*\"rarely\" + 0.013*\"forces\" + 0.0128*\"describe\" + 0.0125*\"die\" + 0.0125*\"ill\" + 0.0116*\"functions\" + 0.0115*\"situations\" + 0.0111*\"hundreds\"'), (10, '0.0081*\"wet\" + 0.0078*\"manner\" + 0.0068*\"barbara\" + 0.006*\"attendees\" + 0.0055*\"congressman\" + 0.0055*\"blindspots\" + 0.0054*\"loaded\" + 0.0054*\"blunders\" + 0.0052*\"prophetic\" + 0.0051*\"beautiful\"'), (11, '0.0032*\"aforementioned\" + 0.0028*\"pan\" + 0.0028*\"bolstered\" + 0.0027*\"footing\" + 0.0027*\"cdns\" + 0.0026*\"implementing\" + 0.0025*\"zackswould\" + 0.0025*\"markedly\" + 0.0024*\"incremental\" + 0.0024*\"rewarded\"'), (12, '0.0185*\"originated\" + 0.0147*\"infections\" + 0.0147*\"geometric\" + 0.0143*\"vaccine\" + 0.0141*\"mandelbrot\" + 0.0141*\"benoit\" + 0.0133*\"kasparov\" + 0.0133*\"garry\" + 0.0133*\"impoverished\" + 0.013*\"competing\"'), (13, '0.0071*\"principal\" + 0.0063*\"accelerators\" + 0.0063*\"merchandise\" + 0.0061*\"replacement\" + 0.0051*\"workload\" + 0.0051*\"cleaning\" + 0.0047*\"checks\" + 0.0046*\"determining\" + 0.0044*\"staying\" + 0.0043*\"favorites\"'), (14, '0.0103*\"body\" + 0.0094*\"technologically\" + 0.0093*\"kids\" + 0.0088*\"friendly\" + 0.0081*\"lake\" + 0.008*\"shifted\" + 0.008*\"arms\" + 0.0076*\"wars\" + 0.0069*\"lessons\" + 0.0064*\"experiments\"'), (15, '0.0076*\"unclear\" + 0.0061*\"individuals\" + 0.0057*\"constantly\" + 0.0054*\"busy\" + 0.0054*\"homes\" + 0.0053*\"counterparts\" + 0.0053*\"attempts\" + 0.0053*\"intention\" + 0.0051*\"supplying\" + 0.0051*\"chosen\"'), (16, '0.0211*\"approve\" + 0.016*\"stopped\" + 0.0145*\"happening\" + 0.0141*\"broadcast\" + 0.0136*\"tom\" + 0.0108*\"somewhere\" + 0.01*\"fairly\" + 0.0098*\"tens\" + 0.0097*\"fan\" + 0.0095*\"perception\"'), (17, '0.0906*\"evolution\" + 0.0804*\"creativity\" + 0.0754*\"synthesis\" + 0.0698*\"motorcycle\" + 0.0525*\"educators\" + 0.0516*\"philosophical\" + 0.0511*\"ingenuity\" + 0.049*\"pretend\" + 0.0463*\"beliefs\" + 0.0463*\"ignorance\"'), (18, '0.0009*\"ftxl\" + 0.0007*\"flowthe\" + 0.0007*\"nktr\" + 0.0007*\"stockholders\" + 0.0007*\"favourable\" + 0.0007*\"amtek\" + 0.0007*\"endp\" + 0.0006*\"whispersour\" + 0.0006*\"muse\" + 0.0006*\"backtest\"'), (19, '0.0145*\"fields\" + 0.0114*\"tells\" + 0.0104*\"film\" + 0.0104*\"excerpt\" + 0.0101*\"complexity\" + 0.0092*\"presentation\" + 0.0085*\"understood\" + 0.0085*\"frontier\" + 0.0081*\"captured\" + 0.008*\"wit\"'), (20, '0.0264*\"severe\" + 0.0255*\"heard\" + 0.0176*\"animal\" + 0.0167*\"inovio\" + 0.0147*\"epidemic\" + 0.0144*\"mis\" + 0.0143*\"preposterous\" + 0.0142*\"populations\" + 0.0136*\"adults\" + 0.013*\"daddy\"'), (21, '0.0056*\"anytime\" + 0.0051*\"serves\" + 0.0048*\"pays\" + 0.0048*\"accidents\" + 0.0045*\"database\" + 0.0045*\"readings\" + 0.0045*\"appropriate\" + 0.0044*\"initiated\" + 0.0043*\"representative\" + 0.0043*\"underperform\"'), (22, '0.0052*\"counts\" + 0.0046*\"consulting\" + 0.0044*\"settled\" + 0.0039*\"safer\" + 0.0039*\"approaches\" + 0.0039*\"sudden\" + 0.0038*\"adi\" + 0.0037*\"dmasvix\" + 0.0036*\"fallout\" + 0.0036*\"spring\"'), (23, '0.004*\"subdued\" + 0.0036*\"reforms\" + 0.0035*\"specialty\" + 0.0034*\"topline\" + 0.0033*\"sanjay\" + 0.0031*\"inception\" + 0.0031*\"divided\" + 0.003*\"wrapping\" + 0.0029*\"pose\" + 0.0028*\"demonstrate\"'), (24, '0.0024*\"polled\" + 0.0024*\"nowzacks\" + 0.0021*\"positivity\" + 0.0021*\"downbeat\" + 0.002*\"enhancement\" + 0.0018*\"ideaswhile\" + 0.0018*\"incurred\" + 0.0018*\"crus\" + 0.0017*\"sg\" + 0.0017*\"usdx\"'), (25, '0.0114*\"caught\" + 0.0092*\"prompted\" + 0.0085*\"patterns\" + 0.0078*\"eighth\" + 0.0067*\"skill\" + 0.0066*\"performs\" + 0.0063*\"logical\" + 0.0062*\"knew\" + 0.0062*\"enjoyed\" + 0.006*\"stumbled\"'), (26, '0.0028*\"portable\" + 0.0027*\"utilizes\" + 0.0025*\"roaring\" + 0.0024*\"finances\" + 0.0023*\"fame\" + 0.0023*\"shaking\" + 0.0023*\"ingredients\" + 0.0023*\"rocky\" + 0.0022*\"defines\" + 0.0022*\"morris\"'), (27, '0.0251*\"students\" + 0.0242*\"lucky\" + 0.0218*\"entertain\" + 0.0215*\"traveling\" + 0.0211*\"questionable\" + 0.0204*\"burning\" + 0.0185*\"forever\" + 0.0183*\"judges\" + 0.0181*\"ridiculous\" + 0.0179*\"disruptor\"'), (28, '0.0173*\"psychology\" + 0.0107*\"therapies\" + 0.0098*\"grasp\" + 0.0068*\"secret\" + 0.0065*\"emotions\" + 0.0061*\"fascinated\" + 0.0059*\"sums\" + 0.0056*\"empire\" + 0.0055*\"teaching\" + 0.0053*\"debates\"'), (29, '0.0295*\"landscape\" + 0.0235*\"patient\" + 0.0218*\"scrutiny\" + 0.02*\"operator\" + 0.0196*\"pressures\" + 0.0186*\"mover\" + 0.0185*\"england\" + 0.0166*\"lucrative\" + 0.0162*\"mode\" + 0.0153*\"ben\"'), (30, '0.0019*\"saysaccording\" + 0.0013*\"renewal\" + 0.0012*\"midrange\" + 0.0012*\"arrays\" + 0.0012*\"combinationhere\" + 0.0012*\"signifies\" + 0.0012*\"envisioned\" + 0.0012*\"hees\" + 0.0012*\"evercore\" + 0.0012*\"kramer\"'), (31, '0.0167*\"chris\" + 0.0165*\"nfl\" + 0.0154*\"football\" + 0.0151*\"ron\" + 0.0148*\"tractor\" + 0.0139*\"baseball\" + 0.013*\"motley\" + 0.0123*\"ers\" + 0.012*\"laughs\" + 0.0119*\"bowl\"'), (32, '0.0038*\"movers\" + 0.0036*\"emergence\" + 0.0031*\"shy\" + 0.0031*\"tops\" + 0.0031*\"workstations\" + 0.0028*\"fading\" + 0.0028*\"preparation\" + 0.0027*\"abroad\" + 0.0027*\"constitute\" + 0.0026*\"needham\"'), (33, '0.0043*\"rallying\" + 0.0043*\"mood\" + 0.0043*\"muted\" + 0.004*\"powering\" + 0.004*\"outsized\" + 0.004*\"longest\" + 0.0038*\"vast\" + 0.0038*\"rhetoric\" + 0.0037*\"navigation\" + 0.0036*\"hk\"'), (34, '0.0054*\"uncertainties\" + 0.0053*\"marketable\" + 0.005*\"regarded\" + 0.0047*\"interim\" + 0.0042*\"parliament\" + 0.0041*\"drops\" + 0.004*\"bulk\" + 0.004*\"luxury\" + 0.0038*\"steering\" + 0.0036*\"residential\"'), (35, '0.0128*\"partly\" + 0.0096*\"deploy\" + 0.0096*\"builds\" + 0.0092*\"collect\" + 0.0092*\"illegal\" + 0.0091*\"sit\" + 0.0084*\"collecting\" + 0.0079*\"lnkd\" + 0.0079*\"location\" + 0.0077*\"letter\"'), (36, '0.0033*\"dystrophy\" + 0.0033*\"muscular\" + 0.0032*\"repurchased\" + 0.0028*\"flaunt\" + 0.0027*\"handpicked\" + 0.0026*\"mmm\" + 0.0025*\"hemophilia\" + 0.0025*\"officers\" + 0.0023*\"blowout\" + 0.0023*\"modestly\"'), (37, '0.0158*\"gotten\" + 0.0107*\"spotify\" + 0.0106*\"truly\" + 0.0104*\"collaborating\" + 0.0094*\"french\" + 0.0094*\"fix\" + 0.0093*\"exit\" + 0.0092*\"messenger\" + 0.009*\"brazil\" + 0.0083*\"accepted\"'), (38, '0.0105*\"realized\" + 0.0102*\"rallies\" + 0.0101*\"exceed\" + 0.0089*\"fantastic\" + 0.0089*\"profiles\" + 0.0082*\"dutch\" + 0.0081*\"attached\" + 0.0079*\"copy\" + 0.0079*\"disruption\" + 0.0078*\"inevitably\"'), (39, '0.0108*\"struggle\" + 0.0095*\"acquiring\" + 0.0083*\"ties\" + 0.0083*\"partnering\" + 0.008*\"transform\" + 0.0078*\"quiet\" + 0.0073*\"targeted\" + 0.0073*\"bills\" + 0.0069*\"logistics\" + 0.0069*\"tightening\"'), (40, '0.0338*\"capex\" + 0.021*\"casino\" + 0.0197*\"adjusting\" + 0.0193*\"kansas\" + 0.0179*\"downs\" + 0.0175*\"shut\" + 0.0173*\"commissioner\" + 0.0173*\"hanging\" + 0.0167*\"choosing\" + 0.0164*\"broadband\"'), (41, '0.0576*\"art\" + 0.0457*\"thoughts\" + 0.0397*\"communities\" + 0.0363*\"preserve\" + 0.0332*\"grand\" + 0.0312*\"deeply\" + 0.0293*\"minds\" + 0.0275*\"okay\" + 0.025*\"isolating\" + 0.0226*\"crsp\"'), (42, '0.0025*\"delve\" + 0.0018*\"randewich\" + 0.0018*\"noel\" + 0.0018*\"turbulent\" + 0.0016*\"mvis\" + 0.0015*\"qrvo\" + 0.0015*\"payable\" + 0.0015*\"alive\" + 0.0014*\"multimillionaire\" + 0.0014*\"constellation\"'), (43, '0.0011*\"zacksbeyond\" + 0.0011*\"xsd\" + 0.001*\"receivables\" + 0.001*\"lookhere\" + 0.001*\"mott\" + 0.0009*\"infiniband\" + 0.0009*\"hsi\" + 0.0009*\"ame\" + 0.0009*\"pcg\" + 0.0009*\"considersome\"'), (44, '0.0427*\"woke\" + 0.0401*\"illusion\" + 0.04*\"richard\" + 0.034*\"professor\" + 0.0291*\"monsters\" + 0.029*\"consciously\" + 0.0287*\"ariely\" + 0.0278*\"cerebral\" + 0.0278*\"sha\" + 0.0277*\"tory\"'), (45, '0.0239*\"forum\" + 0.0181*\"mild\" + 0.0171*\"commonly\" + 0.0163*\"probable\" + 0.0159*\"discover\" + 0.0132*\"compass\" + 0.0126*\"hubei\" + 0.0123*\"whichever\" + 0.0123*\"ino\" + 0.0109*\"birds\"'), (46, '0.0036*\"disappoint\" + 0.0035*\"lawmakers\" + 0.0034*\"criteria\" + 0.0034*\"weakening\" + 0.0033*\"absence\" + 0.0033*\"resolved\" + 0.003*\"spiked\" + 0.003*\"newsmany\" + 0.0029*\"slash\" + 0.0029*\"skeptical\"'), (47, '0.0481*\"philosophy\" + 0.0408*\"chaos\" + 0.0348*\"refunds\" + 0.0346*\"attitudes\" + 0.0331*\"religious\" + 0.0328*\"sean\" + 0.0326*\"tinker\" + 0.0312*\"modern\" + 0.0311*\"kevinbcook\" + 0.0309*\"eternal\"'), (48, '0.006*\"pa\" + 0.0059*\"lynch\" + 0.0055*\"hearing\" + 0.0047*\"capability\" + 0.0046*\"pleased\" + 0.0046*\"ice\" + 0.0045*\"noise\" + 0.0041*\"promised\" + 0.0041*\"caters\" + 0.004*\"lawsuits\"'), (49, '0.0117*\"julian\" + 0.0116*\"epiphany\" + 0.0113*\"huxley\" + 0.0105*\"darwin\" + 0.0101*\"truths\" + 0.0101*\"luxuries\" + 0.0101*\"eras\" + 0.0101*\"chautauqua\" + 0.0101*\"scourge\" + 0.0101*\"sloman\"'), (50, '0.0094*\"surprisingly\" + 0.0091*\"fewer\" + 0.008*\"failure\" + 0.0078*\"hosted\" + 0.0059*\"strictly\" + 0.0058*\"derivatives\" + 0.0057*\"atlanta\" + 0.0051*\"deteriorating\" + 0.0043*\"warranted\" + 0.0042*\"drinking\"'), (51, '0.0323*\"recognize\" + 0.0271*\"reviews\" + 0.0245*\"sitting\" + 0.0221*\"someone\" + 0.0172*\"section\" + 0.0162*\"statements\" + 0.0158*\"movie\" + 0.0153*\"clinical\" + 0.0153*\"owners\" + 0.0142*\"honda\"'), (52, '0.0437*\"digging\" + 0.043*\"nevada\" + 0.0426*\"intuitive\" + 0.0418*\"andrew\" + 0.0325*\"atlassian\" + 0.0321*\"rob\" + 0.0299*\"vinci\" + 0.0229*\"credible\" + 0.0223*\"synchrony\" + 0.0222*\"diapers\"'), (53, '0.0196*\"authorities\" + 0.0178*\"preparing\" + 0.0143*\"lawsuit\" + 0.0133*\"versions\" + 0.0128*\"collapse\" + 0.0121*\"hyundai\" + 0.0119*\"siri\" + 0.0113*\"resultant\" + 0.0108*\"ireland\" + 0.0098*\"maps\"'), (54, '0.0075*\"reliable\" + 0.0065*\"persistent\" + 0.0062*\"invited\" + 0.0061*\"agricultural\" + 0.0057*\"element\" + 0.0055*\"rd\" + 0.0052*\"lie\" + 0.0051*\"impossible\" + 0.0051*\"verge\" + 0.0048*\"legacy\"'), (55, '0.0008*\"soxl\" + 0.0006*\"predictiontexas\" + 0.0006*\"azpn\" + 0.0006*\"conclusiongiven\" + 0.0006*\"conclusionas\" + 0.0006*\"itus\" + 0.0006*\"dwdp\" + 0.0006*\"considerwe\" + 0.0006*\"dowdupont\" + 0.0006*\"nysearca\"'), (56, '0.0025*\"adsk\" + 0.0024*\"intertechnology\" + 0.0023*\"spurred\" + 0.0022*\"vsh\" + 0.002*\"unturned\" + 0.002*\"amazonzacks\" + 0.002*\"constituents\" + 0.002*\"pcie\" + 0.0019*\"etn\" + 0.0019*\"raymond\"'), (57, '0.0149*\"syndrome\" + 0.0143*\"population\" + 0.013*\"spanish\" + 0.0117*\"classic\" + 0.011*\"wikipedia\" + 0.011*\"respiratory\" + 0.0102*\"vaccines\" + 0.0097*\"pandemic\" + 0.0095*\"mers\" + 0.0095*\"influenza\"'), (58, '0.038*\"existed\" + 0.0369*\"misguided\" + 0.0367*\"benjamin\" + 0.0362*\"reconcile\" + 0.036*\"sir\" + 0.0356*\"restriction\" + 0.0356*\"piles\" + 0.035*\"flooding\" + 0.027*\"radical\" + 0.0214*\"biased\"'), (59, '0.0362*\"switching\" + 0.0216*\"length\" + 0.0205*\"participated\" + 0.0201*\"ton\" + 0.02*\"flop\" + 0.0196*\"penalties\" + 0.0195*\"distant\" + 0.0194*\"promotion\" + 0.0191*\"procedure\" + 0.0188*\"genuine\"')]\n",
      "['collaborated', 'proving', 'imperative', 'productive', 'madness', 'lunch', 'watson', 'sake', 'crises', 'legitimacy']\n",
      "['fold', 'fomc', 'theresa', 'replacing', 'blockbuster', 'returning', 'sipc', 'briefing', 'passenger', 'penetration']\n",
      "['realm', 'confusion', 'southwest', 'pronounced', 'loved', 'physics', 'practical', 'todd', 'chromebook', 'bag']\n",
      "['sooner', 'viewed', 'barclays', 'households', 'seasonality', 'buttons', 'translation', 'matt', 'toronto', 'incorporate']\n",
      "['judge', 'ruling', 'comply', 'posts', 'glance', 'sites', 'shelves', 'diversity', 'suggestions', 'ship']\n",
      "['giaquinto', 'backdrop', 'behemoths', 'realization', 'ixic', 'oriented', 'unexpectedly', 'prudent', 'continuously', 'narrowed']\n",
      "['ratings', 'surgical', 'illustrated', 'legalized', 'walking', 'notion', 'coach', 'hey', 'legalize', 'appropriately']\n",
      "['listening', 'scandal', 'league', 'intensive', 'walk', 'nba', 'everywhere', 'anymore', 'lender', 'attracts']\n",
      "['intense', 'courtesy', 'contributor', 'midday', 'doubts', 'attaining', 'licenses', 'plain', 'stringent', 'nxpi']\n",
      "['train', 'economist', 'rarely', 'forces', 'describe', 'die', 'ill', 'functions', 'situations', 'hundreds']\n",
      "['wet', 'manner', 'barbara', 'attendees', 'congressman', 'blindspots', 'loaded', 'blunders', 'prophetic', 'beautiful']\n",
      "['aforementioned', 'pan', 'bolstered', 'footing', 'cdns', 'implementing', 'zackswould', 'markedly', 'incremental', 'rewarded']\n",
      "['originated', 'infections', 'geometric', 'vaccine', 'mandelbrot', 'benoit', 'kasparov', 'garry', 'impoverished', 'competing']\n",
      "['principal', 'accelerators', 'merchandise', 'replacement', 'workload', 'cleaning', 'checks', 'determining', 'staying', 'favorites']\n",
      "['body', 'technologically', 'kids', 'friendly', 'lake', 'shifted', 'arms', 'wars', 'lessons', 'experiments']\n",
      "['unclear', 'individuals', 'constantly', 'busy', 'homes', 'counterparts', 'attempts', 'intention', 'supplying', 'chosen']\n",
      "['approve', 'stopped', 'happening', 'broadcast', 'tom', 'somewhere', 'fairly', 'tens', 'fan', 'perception']\n",
      "['evolution', 'creativity', 'synthesis', 'motorcycle', 'educators', 'philosophical', 'ingenuity', 'pretend', 'beliefs', 'ignorance']\n",
      "['ftxl', 'flowthe', 'nktr', 'stockholders', 'favourable', 'amtek', 'endp', 'whispersour', 'muse', 'backtest']\n",
      "['fields', 'tells', 'film', 'excerpt', 'complexity', 'presentation', 'understood', 'frontier', 'captured', 'wit']\n",
      "['severe', 'heard', 'animal', 'inovio', 'epidemic', 'mis', 'preposterous', 'populations', 'adults', 'daddy']\n",
      "['anytime', 'serves', 'pays', 'accidents', 'database', 'readings', 'appropriate', 'initiated', 'representative', 'underperform']\n",
      "['counts', 'consulting', 'settled', 'safer', 'approaches', 'sudden', 'adi', 'dmasvix', 'fallout', 'spring']\n",
      "['subdued', 'reforms', 'specialty', 'topline', 'sanjay', 'inception', 'divided', 'wrapping', 'pose', 'demonstrate']\n",
      "['polled', 'nowzacks', 'positivity', 'downbeat', 'enhancement', 'ideaswhile', 'incurred', 'crus', 'sg', 'usdx']\n",
      "['caught', 'prompted', 'patterns', 'eighth', 'skill', 'performs', 'logical', 'knew', 'enjoyed', 'stumbled']\n",
      "['portable', 'utilizes', 'roaring', 'finances', 'fame', 'shaking', 'ingredients', 'rocky', 'defines', 'morris']\n",
      "['students', 'lucky', 'entertain', 'traveling', 'questionable', 'burning', 'forever', 'judges', 'ridiculous', 'disruptor']\n",
      "['psychology', 'therapies', 'grasp', 'secret', 'emotions', 'fascinated', 'sums', 'empire', 'teaching', 'debates']\n",
      "['landscape', 'patient', 'scrutiny', 'operator', 'pressures', 'mover', 'england', 'lucrative', 'mode', 'ben']\n",
      "['saysaccording', 'renewal', 'midrange', 'arrays', 'combinationhere', 'signifies', 'envisioned', 'hees', 'evercore', 'kramer']\n",
      "['chris', 'nfl', 'football', 'ron', 'tractor', 'baseball', 'motley', 'ers', 'laughs', 'bowl']\n",
      "['movers', 'emergence', 'shy', 'tops', 'workstations', 'fading', 'preparation', 'abroad', 'constitute', 'needham']\n",
      "['rallying', 'mood', 'muted', 'powering', 'outsized', 'longest', 'vast', 'rhetoric', 'navigation', 'hk']\n",
      "['uncertainties', 'marketable', 'regarded', 'interim', 'parliament', 'drops', 'bulk', 'luxury', 'steering', 'residential']\n",
      "['partly', 'deploy', 'builds', 'collect', 'illegal', 'sit', 'collecting', 'lnkd', 'location', 'letter']\n",
      "['dystrophy', 'muscular', 'repurchased', 'flaunt', 'handpicked', 'mmm', 'hemophilia', 'officers', 'blowout', 'modestly']\n",
      "['gotten', 'spotify', 'truly', 'collaborating', 'french', 'fix', 'exit', 'messenger', 'brazil', 'accepted']\n",
      "['realized', 'rallies', 'exceed', 'fantastic', 'profiles', 'dutch', 'attached', 'copy', 'disruption', 'inevitably']\n",
      "['struggle', 'acquiring', 'ties', 'partnering', 'transform', 'quiet', 'targeted', 'bills', 'logistics', 'tightening']\n",
      "['capex', 'casino', 'adjusting', 'kansas', 'downs', 'shut', 'commissioner', 'hanging', 'choosing', 'broadband']\n",
      "['art', 'thoughts', 'communities', 'preserve', 'grand', 'deeply', 'minds', 'okay', 'isolating', 'crsp']\n",
      "['delve', 'randewich', 'noel', 'turbulent', 'mvis', 'qrvo', 'payable', 'alive', 'multimillionaire', 'constellation']\n",
      "['zacksbeyond', 'xsd', 'receivables', 'lookhere', 'mott', 'infiniband', 'hsi', 'ame', 'pcg', 'considersome']\n",
      "['woke', 'illusion', 'richard', 'professor', 'monsters', 'consciously', 'ariely', 'cerebral', 'sha', 'tory']\n",
      "['forum', 'mild', 'commonly', 'probable', 'discover', 'compass', 'hubei', 'whichever', 'ino', 'birds']\n",
      "['disappoint', 'lawmakers', 'criteria', 'weakening', 'absence', 'resolved', 'spiked', 'newsmany', 'slash', 'skeptical']\n",
      "['philosophy', 'chaos', 'refunds', 'attitudes', 'religious', 'sean', 'tinker', 'modern', 'kevinbcook', 'eternal']\n",
      "['pa', 'lynch', 'hearing', 'capability', 'pleased', 'ice', 'noise', 'promised', 'caters', 'lawsuits']\n",
      "['julian', 'epiphany', 'huxley', 'darwin', 'truths', 'luxuries', 'eras', 'chautauqua', 'scourge', 'sloman']\n",
      "['surprisingly', 'fewer', 'failure', 'hosted', 'strictly', 'derivatives', 'atlanta', 'deteriorating', 'warranted', 'drinking']\n",
      "['recognize', 'reviews', 'sitting', 'someone', 'section', 'statements', 'movie', 'clinical', 'owners', 'honda']\n",
      "['digging', 'nevada', 'intuitive', 'andrew', 'atlassian', 'rob', 'vinci', 'credible', 'synchrony', 'diapers']\n",
      "['authorities', 'preparing', 'lawsuit', 'versions', 'collapse', 'hyundai', 'siri', 'resultant', 'ireland', 'maps']\n",
      "['reliable', 'persistent', 'invited', 'agricultural', 'element', 'rd', 'lie', 'impossible', 'verge', 'legacy']\n",
      "['soxl', 'predictiontexas', 'azpn', 'conclusiongiven', 'conclusionas', 'itus', 'dwdp', 'considerwe', 'dowdupont', 'nysearca']\n",
      "['adsk', 'intertechnology', 'spurred', 'vsh', 'unturned', 'amazonzacks', 'constituents', 'pcie', 'etn', 'raymond']\n",
      "['syndrome', 'population', 'spanish', 'classic', 'wikipedia', 'respiratory', 'vaccines', 'pandemic', 'mers', 'influenza']\n",
      "['existed', 'misguided', 'benjamin', 'reconcile', 'sir', 'restriction', 'piles', 'flooding', 'radical', 'biased']\n",
      "['switching', 'length', 'participated', 'ton', 'flop', 'penalties', 'distant', 'promotion', 'procedure', 'genuine']\n",
      "Coherence Score: 0.37954532424781146\n",
      "Diversity Score: 1.0\n",
      "Interpretability Score: 0.37954532424781146\n"
     ]
    }
   ],
   "execution_count": 9
  },
  {
   "metadata": {},
   "cell_type": "markdown",
   "source": "A significant increase in Coherence and Diversity score after the previous iteration but still lower than Iteration 0."
  },
  {
   "metadata": {},
   "cell_type": "markdown",
   "source": "There are some typos like 'combinationhere' and 'saysaccording'. We can remove move words to avoid the typos."
  },
  {
   "metadata": {},
   "cell_type": "markdown",
   "source": "## Iteration 3: top 15% and bottom 15%"
  },
  {
   "metadata": {
    "ExecuteTime": {
     "end_time": "2024-11-05T18:14:03.398871Z",
     "start_time": "2024-11-05T18:13:31.503720Z"
    }
   },
   "cell_type": "code",
   "source": [
    "# Parameters\n",
    "flsaw_data = remove_n_percent(data, 15)\n",
    "num_topics=60\n",
    "num_words=10\n",
    "\n",
    "flsaW = FLSA_W(\n",
    "    input_file = flsaw_data,\n",
    "    num_topics=num_topics,\n",
    "    num_words=num_words,\n",
    ")\n",
    "\n",
    "flsaW.get_vocabulary_size()\n",
    "pwgt, ptgd = flsaW.get_matrices() # THIS TRAINS THE MODEL\n",
    "\n",
    "\n",
    "print(flsaW.show_topics())\n",
    "\n",
    "for topic in flsaW.show_topics(representation='words'):\n",
    "    print(topic)\n",
    "  \n",
    "    \n",
    "print(\"Coherence Score:\", flsaW.get_coherence_score())\n",
    "print(\"Diversity Score:\",flsaW.get_diversity_score())\n",
    "print(\"Interpretability Score:\",flsaW.get_interpretability_score())"
   ],
   "outputs": [
    {
     "name": "stdout",
     "output_type": "stream",
     "text": [
      "[(0, '0.006*\"confirming\" + 0.0057*\"checking\" + 0.0049*\"ihs\" + 0.0046*\"pundits\" + 0.0045*\"litigation\" + 0.0044*\"intervention\" + 0.0042*\"distribute\" + 0.0041*\"travelers\" + 0.0041*\"ed\" + 0.0041*\"efficiencies\"'), (1, '0.0222*\"diversity\" + 0.0196*\"behalf\" + 0.0104*\"feet\" + 0.0085*\"xm\" + 0.0084*\"mcmilon\" + 0.0084*\"juventus\" + 0.0084*\"atomics\" + 0.0084*\"censors\" + 0.0084*\"bhanga\" + 0.0084*\"millward\"'), (2, '0.0672*\"mit\" + 0.0519*\"candace\" + 0.0418*\"norepinephrine\" + 0.0363*\"subconscious\" + 0.0311*\"teller\" + 0.0218*\"hormones\" + 0.0177*\"pert\" + 0.0137*\"experiments\" + 0.0124*\"technologically\" + 0.0106*\"tribalism\"'), (3, '0.046*\"preserve\" + 0.0398*\"okay\" + 0.0329*\"jungle\" + 0.0325*\"deeply\" + 0.0323*\"downstream\" + 0.0316*\"priorities\" + 0.0313*\"communities\" + 0.031*\"treasure\" + 0.0305*\"brother\" + 0.03*\"quest\"'), (4, '0.0192*\"rader\" + 0.0187*\"respiratory\" + 0.0185*\"pandemic\" + 0.0181*\"vaccines\" + 0.0167*\"mortality\" + 0.0167*\"mers\" + 0.0167*\"influenza\" + 0.0167*\"maricopa\" + 0.0167*\"cov\" + 0.0167*\"certainties\"'), (5, '0.0396*\"daddy\" + 0.0396*\"cruising\" + 0.0395*\"remarked\" + 0.0395*\"inventions\" + 0.0394*\"populations\" + 0.0394*\"portuguese\" + 0.0393*\"preposterous\" + 0.0393*\"silk\" + 0.0393*\"preparedness\" + 0.0393*\"disproportionately\"'), (6, '0.0556*\"woke\" + 0.0549*\"illusion\" + 0.0379*\"ariely\" + 0.0377*\"consciously\" + 0.0375*\"monsters\" + 0.0372*\"cerebral\" + 0.0371*\"reconciling\" + 0.0371*\"tory\" + 0.0371*\"teaches\" + 0.037*\"obituary\"'), (7, '0.007*\"stopping\" + 0.0067*\"bidding\" + 0.0061*\"removal\" + 0.0058*\"incorporate\" + 0.0056*\"significance\" + 0.0055*\"interaction\" + 0.0055*\"roles\" + 0.0054*\"authorized\" + 0.0051*\"premiums\" + 0.005*\"clause\"'), (8, '0.0015*\"density\" + 0.0014*\"allocated\" + 0.0013*\"clientele\" + 0.0013*\"ddaif\" + 0.0013*\"fared\" + 0.0013*\"inorganic\" + 0.0012*\"downbeat\" + 0.0012*\"ntdoy\" + 0.0011*\"sg\" + 0.0011*\"testament\"'), (9, '0.0209*\"false\" + 0.018*\"career\" + 0.0177*\"hate\" + 0.0176*\"shock\" + 0.0174*\"treat\" + 0.0157*\"danger\" + 0.0155*\"conversations\" + 0.0146*\"cooker\" + 0.0142*\"description\" + 0.0129*\"student\"'), (10, '0.002*\"capped\" + 0.0019*\"extracted\" + 0.0018*\"issuing\" + 0.0018*\"todayexperts\" + 0.0017*\"garner\" + 0.0017*\"idaho\" + 0.0016*\"handily\" + 0.0016*\"phenomenal\" + 0.0016*\"dipping\" + 0.0015*\"oxy\"'), (11, '0.0757*\"spreading\" + 0.0562*\"ill\" + 0.0534*\"hospitals\" + 0.0478*\"nicholas\" + 0.0438*\"champion\" + 0.0397*\"navy\" + 0.0393*\"dental\" + 0.0369*\"threw\" + 0.0361*\"observations\" + 0.0357*\"spikes\"'), (12, '0.0029*\"penetrate\" + 0.0027*\"rebounding\" + 0.0025*\"inflationary\" + 0.0025*\"virtualization\" + 0.0024*\"avenues\" + 0.0024*\"resilience\" + 0.0024*\"leisure\" + 0.0024*\"slowest\" + 0.0023*\"implementing\" + 0.0023*\"influenced\"'), (13, '0.0046*\"council\" + 0.0043*\"ordering\" + 0.0042*\"cupertino\" + 0.0041*\"costly\" + 0.004*\"outlets\" + 0.0037*\"worrying\" + 0.0035*\"compromise\" + 0.0034*\"brewing\" + 0.0034*\"carrier\" + 0.0034*\"spun\"'), (14, '0.0295*\"burning\" + 0.0294*\"traveling\" + 0.0292*\"questionable\" + 0.0289*\"entertain\" + 0.0287*\"disruptor\" + 0.0284*\"confused\" + 0.0281*\"paragraphs\" + 0.0268*\"judges\" + 0.0266*\"brave\" + 0.0252*\"democratize\"'), (15, '0.0402*\"afraid\" + 0.0268*\"ceos\" + 0.0254*\"memories\" + 0.0243*\"emotional\" + 0.024*\"scramble\" + 0.0188*\"wisconsin\" + 0.0186*\"brookings\" + 0.0182*\"gregory\" + 0.0178*\"tendencies\" + 0.0177*\"terry\"'), (16, '0.0406*\"originated\" + 0.0391*\"syndrome\" + 0.0311*\"varieties\" + 0.0311*\"infections\" + 0.0311*\"jane\" + 0.031*\"mandelbrot\" + 0.031*\"benoit\" + 0.0309*\"pseudo\" + 0.0307*\"champ\" + 0.0306*\"garry\"'), (17, '0.016*\"constraints\" + 0.0141*\"immune\" + 0.0132*\"streamed\" + 0.0124*\"jay\" + 0.0115*\"succeed\" + 0.0113*\"weapons\" + 0.0112*\"fraud\" + 0.0111*\"exacerbate\" + 0.0109*\"enriched\" + 0.0107*\"awareness\"'), (18, '0.0337*\"fda\" + 0.0237*\"fiction\" + 0.022*\"papers\" + 0.021*\"teenage\" + 0.0197*\"experimental\" + 0.0189*\"cognition\" + 0.0178*\"receptor\" + 0.0178*\"lively\" + 0.0177*\"sabotage\" + 0.0172*\"communicates\"'), (19, '0.0063*\"bob\" + 0.0061*\"communicate\" + 0.0058*\"personalized\" + 0.0058*\"specifics\" + 0.0055*\"suspect\" + 0.0055*\"diving\" + 0.0052*\"collective\" + 0.0052*\"carefully\" + 0.0049*\"filters\" + 0.0047*\"yhoo\"'), (20, '0.0069*\"throw\" + 0.0067*\"outlined\" + 0.0067*\"deployments\" + 0.0066*\"coffee\" + 0.0065*\"lawyers\" + 0.0063*\"charged\" + 0.0063*\"upgrading\" + 0.0058*\"exploit\" + 0.0054*\"releasing\" + 0.0053*\"obligations\"'), (21, '0.0063*\"drawn\" + 0.0059*\"casual\" + 0.0059*\"convinced\" + 0.0057*\"imminent\" + 0.0052*\"caters\" + 0.005*\"vacation\" + 0.0047*\"displaying\" + 0.0046*\"unfold\" + 0.0044*\"chill\" + 0.0044*\"gild\"'), (22, '0.0045*\"upped\" + 0.0038*\"barriers\" + 0.0036*\"sticking\" + 0.0034*\"dream\" + 0.0033*\"pledge\" + 0.0032*\"pessimism\" + 0.0029*\"liability\" + 0.0028*\"ingredients\" + 0.0028*\"indicative\" + 0.0028*\"rocky\"'), (23, '0.001*\"lookhere\" + 0.0009*\"envisioned\" + 0.0009*\"xsd\" + 0.0008*\"flownvidia\" + 0.0008*\"marginsnvidia\" + 0.0008*\"nfm\" + 0.0008*\"guidancethe\" + 0.0008*\"pstg\" + 0.0008*\"receivables\" + 0.0008*\"hsi\"'), (24, '0.0677*\"commonly\" + 0.0574*\"province\" + 0.0459*\"compass\" + 0.0452*\"mild\" + 0.0447*\"probable\" + 0.044*\"exceeds\" + 0.0438*\"county\" + 0.0425*\"termination\" + 0.0399*\"magnetic\" + 0.0341*\"foundational\"'), (25, '0.0093*\"sycamore\" + 0.0082*\"systematic\" + 0.0074*\"blindspots\" + 0.0069*\"blunders\" + 0.0067*\"overcoming\" + 0.0065*\"calculation\" + 0.0064*\"tversky\" + 0.0057*\"manner\" + 0.0057*\"accomplished\" + 0.0057*\"quipped\"'), (26, '0.0019*\"blows\" + 0.0017*\"rocks\" + 0.0017*\"retaliated\" + 0.0017*\"raymond\" + 0.0016*\"drastically\" + 0.0016*\"functionalities\" + 0.0016*\"sensational\" + 0.0016*\"registration\" + 0.0016*\"reverses\" + 0.0016*\"paving\"'), (27, '0.0446*\"isolated\" + 0.0404*\"handing\" + 0.0404*\"outward\" + 0.0398*\"birds\" + 0.0395*\"easiest\" + 0.0394*\"fooled\" + 0.0385*\"miserable\" + 0.0371*\"illness\" + 0.0361*\"nvax\" + 0.0361*\"novavax\"'), (28, '0.0428*\"rarely\" + 0.0419*\"occurs\" + 0.0417*\"tens\" + 0.0414*\"fan\" + 0.0384*\"eventual\" + 0.0383*\"exist\" + 0.0379*\"tackle\" + 0.0364*\"racing\" + 0.0353*\"speeding\" + 0.0335*\"writes\"'), (29, '0.0098*\"collecting\" + 0.0098*\"pursuing\" + 0.0093*\"excessive\" + 0.0092*\"filling\" + 0.0083*\"monetize\" + 0.008*\"distributed\" + 0.0076*\"latin\" + 0.0075*\"wsj\" + 0.0071*\"approached\" + 0.0071*\"heights\"'), (30, '0.0206*\"angle\" + 0.0196*\"shorting\" + 0.0174*\"observed\" + 0.0153*\"assembled\" + 0.0142*\"comply\" + 0.0133*\"women\" + 0.0123*\"searched\" + 0.012*\"conducts\" + 0.0119*\"altered\" + 0.0118*\"disrupted\"'), (31, '0.0033*\"extraordinary\" + 0.003*\"hammered\" + 0.003*\"constitute\" + 0.0027*\"hesitant\" + 0.0027*\"gameplay\" + 0.0026*\"erased\" + 0.0026*\"congestion\" + 0.0025*\"sounded\" + 0.0025*\"integral\" + 0.0024*\"voted\"'), (32, '0.0765*\"neuroscience\" + 0.0694*\"brains\" + 0.0566*\"neuroscientist\" + 0.0527*\"physiological\" + 0.0298*\"teller\" + 0.0224*\"agendas\" + 0.0153*\"poverty\" + 0.0149*\"studying\" + 0.0144*\"arms\" + 0.0131*\"ancient\"'), (33, '0.0156*\"ethical\" + 0.0135*\"naval\" + 0.0125*\"imperialism\" + 0.0125*\"cnas\" + 0.0125*\"mariners\" + 0.0125*\"empathy\" + 0.0125*\"scruffy\" + 0.0125*\"podcasted\" + 0.0125*\"crowdstrike\" + 0.0125*\"osnos\"'), (34, '0.0167*\"accepted\" + 0.0155*\"undisclosed\" + 0.0134*\"disagree\" + 0.0127*\"english\" + 0.0097*\"thailand\" + 0.0084*\"soccer\" + 0.0084*\"genuine\" + 0.008*\"fighter\" + 0.008*\"contained\" + 0.0076*\"hopefully\"'), (35, '0.0739*\"chaos\" + 0.0536*\"philosophy\" + 0.0433*\"radical\" + 0.0414*\"attitudes\" + 0.0409*\"eternal\" + 0.0407*\"refunds\" + 0.0405*\"reissued\" + 0.0404*\"sean\" + 0.0392*\"revolutionized\" + 0.039*\"yep\"'), (36, '0.2136*\"species\" + 0.1918*\"survival\" + 0.1347*\"gem\" + 0.0189*\"approximate\" + 0.0147*\"stars\" + 0.0142*\"inventing\" + 0.0139*\"adult\" + 0.0133*\"feynman\" + 0.0121*\"exploring\" + 0.0111*\"birth\"'), (37, '0.0012*\"isi\" + 0.0011*\"differentiated\" + 0.0011*\"friedrichshafen\" + 0.001*\"detailsnon\" + 0.001*\"pickscurrently\" + 0.001*\"segmental\" + 0.001*\"turbulent\" + 0.001*\"cy\" + 0.001*\"mentor\" + 0.0009*\"workstation\"'), (38, '0.0278*\"circles\" + 0.0276*\"explodes\" + 0.0275*\"nails\" + 0.0272*\"amassing\" + 0.027*\"happiness\" + 0.0269*\"harnessed\" + 0.0267*\"livestock\" + 0.0267*\"grains\" + 0.0263*\"narrated\" + 0.0257*\"timetables\"'), (39, '0.0034*\"atlantic\" + 0.0033*\"indirect\" + 0.003*\"wright\" + 0.0028*\"du\" + 0.0028*\"pitch\" + 0.0028*\"marketwatch\" + 0.0028*\"plethora\" + 0.0026*\"jaw\" + 0.0026*\"avail\" + 0.0025*\"diagnostics\"'), (40, '0.0037*\"stabilize\" + 0.0037*\"secondary\" + 0.0036*\"bearing\" + 0.0035*\"fcau\" + 0.0035*\"exclude\" + 0.0032*\"revealing\" + 0.0031*\"corresponding\" + 0.003*\"enjoying\" + 0.003*\"peaking\" + 0.003*\"wheel\"'), (41, '0.0006*\"flowthe\" + 0.0006*\"stockholders\" + 0.0006*\"mindful\" + 0.0006*\"soxl\" + 0.0005*\"guidancemanagement\" + 0.0005*\"considertexas\" + 0.0005*\"wipro\" + 0.0005*\"backtest\" + 0.0005*\"detailsgross\" + 0.0005*\"receivable\"'), (42, '0.0271*\"listened\" + 0.0182*\"interactions\" + 0.0127*\"sums\" + 0.0127*\"mental\" + 0.0126*\"gingrich\" + 0.0126*\"newt\" + 0.0118*\"xanax\" + 0.0097*\"kandel\" + 0.0097*\"neurobiology\" + 0.0097*\"lurk\"'), (43, '0.0364*\"southwest\" + 0.0363*\"pronounced\" + 0.0328*\"loved\" + 0.0319*\"timed\" + 0.0306*\"determination\" + 0.0301*\"realm\" + 0.0301*\"judgment\" + 0.0293*\"todd\" + 0.0277*\"confusion\" + 0.0276*\"chromebook\"'), (44, '0.0117*\"epiphany\" + 0.0112*\"huxley\" + 0.0112*\"darwin\" + 0.0112*\"julian\" + 0.0101*\"classroom\" + 0.0099*\"disconnecting\" + 0.0099*\"hugger\" + 0.0099*\"silted\" + 0.0099*\"obliterating\" + 0.0099*\"dogma\"'), (45, '0.0148*\"stored\" + 0.013*\"sourcing\" + 0.0104*\"aspect\" + 0.01*\"performs\" + 0.009*\"hunt\" + 0.0085*\"requiring\" + 0.0084*\"ambitions\" + 0.0082*\"laboratory\" + 0.0081*\"resigned\" + 0.008*\"rewards\"'), (46, '0.0548*\"clip\" + 0.0394*\"voices\" + 0.0353*\"ayx\" + 0.0342*\"inevitable\" + 0.0325*\"alteryx\" + 0.0324*\"celgene\" + 0.0292*\"feelings\" + 0.0257*\"explorer\" + 0.0249*\"sydney\" + 0.0247*\"graduate\"'), (47, '0.2884*\"degrees\" + 0.0873*\"stars\" + 0.0571*\"gem\" + 0.0497*\"birth\" + 0.0483*\"exploring\" + 0.0158*\"explode\" + 0.0122*\"survival\" + 0.0105*\"mathematical\" + 0.0087*\"adult\" + 0.0081*\"inventing\"'), (48, '0.0051*\"cleaning\" + 0.0047*\"calculations\" + 0.0038*\"postponed\" + 0.0037*\"favorites\" + 0.0037*\"berlin\" + 0.0035*\"pipelines\" + 0.0035*\"rounding\" + 0.0034*\"challenged\" + 0.0033*\"convenient\" + 0.0033*\"brake\"'), (49, '0.0022*\"badly\" + 0.0021*\"payouts\" + 0.002*\"feast\" + 0.0019*\"primed\" + 0.0019*\"debuted\" + 0.0019*\"cites\" + 0.0018*\"digested\" + 0.0018*\"dsp\" + 0.0018*\"cassidy\" + 0.0017*\"negotiators\"'), (50, '0.0433*\"afford\" + 0.0395*\"ipads\" + 0.0385*\"perfectly\" + 0.0371*\"directions\" + 0.0328*\"knowing\" + 0.0308*\"dig\" + 0.0294*\"entrepreneurs\" + 0.0282*\"wing\" + 0.0281*\"centered\" + 0.0275*\"unpredictable\"'), (51, '0.0136*\"essays\" + 0.0136*\"misunderstand\" + 0.0136*\"anarchism\" + 0.0136*\"dispositions\" + 0.0136*\"misuses\" + 0.0136*\"multiplicity\" + 0.0136*\"foretaste\" + 0.0136*\"heritable\" + 0.0136*\"everythingfor\" + 0.0136*\"visceral\"'), (52, '0.0053*\"scaled\" + 0.0048*\"softening\" + 0.0046*\"claiming\" + 0.0038*\"headway\" + 0.0038*\"ample\" + 0.0038*\"obstacle\" + 0.0037*\"ssys\" + 0.0037*\"disk\" + 0.0036*\"renowned\" + 0.0031*\"km\"'), (53, '0.0037*\"garnered\" + 0.0037*\"brussels\" + 0.0032*\"convenience\" + 0.0032*\"tag\" + 0.003*\"comp\" + 0.003*\"larry\" + 0.0029*\"alike\" + 0.0029*\"tcehy\" + 0.0028*\"wiped\" + 0.0028*\"lure\"'), (54, '0.0059*\"threatens\" + 0.0057*\"referred\" + 0.0053*\"external\" + 0.0051*\"repeatedly\" + 0.005*\"hulu\" + 0.0046*\"considerations\" + 0.0046*\"internally\" + 0.0046*\"complaints\" + 0.0046*\"bridge\" + 0.0044*\"object\"'), (55, '0.0241*\"responses\" + 0.0228*\"beasts\" + 0.022*\"stress\" + 0.0215*\"anxiety\" + 0.0198*\"consistency\" + 0.0197*\"wealthy\" + 0.0178*\"preeminent\" + 0.0178*\"darkness\" + 0.0173*\"scan\" + 0.0171*\"pompeo\"'), (56, '0.0051*\"ironically\" + 0.0048*\"fits\" + 0.0048*\"wfe\" + 0.0047*\"reviewing\" + 0.0045*\"bankers\" + 0.0044*\"projecting\" + 0.0041*\"lipacis\" + 0.0039*\"airline\" + 0.0037*\"zu\" + 0.0037*\"routine\"'), (57, '0.3741*\"certainty\" + 0.1239*\"beliefs\" + 0.0342*\"inventing\" + 0.0297*\"adult\" + 0.0168*\"civilization\" + 0.0142*\"feynman\" + 0.0121*\"episodes\" + 0.0107*\"gould\" + 0.0107*\"pursuit\" + 0.0095*\"religion\"'), (58, '0.1847*\"professor\" + 0.092*\"subtitle\" + 0.0556*\"conscious\" + 0.0535*\"unstoppable\" + 0.0449*\"biologist\" + 0.0369*\"civilization\" + 0.033*\"gould\" + 0.033*\"pursuit\" + 0.0313*\"transcended\" + 0.0223*\"teachers\"'), (59, '0.0138*\"shut\" + 0.0133*\"privately\" + 0.0112*\"telephone\" + 0.01*\"gmail\" + 0.0097*\"chat\" + 0.0065*\"emailed\" + 0.0062*\"cortana\" + 0.0054*\"sheets\" + 0.005*\"databases\" + 0.0047*\"violates\"')]\n",
      "['confirming', 'checking', 'ihs', 'pundits', 'litigation', 'intervention', 'distribute', 'travelers', 'ed', 'efficiencies']\n",
      "['diversity', 'behalf', 'feet', 'xm', 'mcmilon', 'juventus', 'atomics', 'censors', 'bhanga', 'millward']\n",
      "['mit', 'candace', 'norepinephrine', 'subconscious', 'teller', 'hormones', 'pert', 'experiments', 'technologically', 'tribalism']\n",
      "['preserve', 'okay', 'jungle', 'deeply', 'downstream', 'priorities', 'communities', 'treasure', 'brother', 'quest']\n",
      "['rader', 'respiratory', 'pandemic', 'vaccines', 'mortality', 'mers', 'influenza', 'maricopa', 'cov', 'certainties']\n",
      "['daddy', 'cruising', 'remarked', 'inventions', 'populations', 'portuguese', 'preposterous', 'silk', 'preparedness', 'disproportionately']\n",
      "['woke', 'illusion', 'ariely', 'consciously', 'monsters', 'cerebral', 'reconciling', 'tory', 'teaches', 'obituary']\n",
      "['stopping', 'bidding', 'removal', 'incorporate', 'significance', 'interaction', 'roles', 'authorized', 'premiums', 'clause']\n",
      "['density', 'allocated', 'clientele', 'ddaif', 'fared', 'inorganic', 'downbeat', 'ntdoy', 'sg', 'testament']\n",
      "['false', 'career', 'hate', 'shock', 'treat', 'danger', 'conversations', 'cooker', 'description', 'student']\n",
      "['capped', 'extracted', 'issuing', 'todayexperts', 'garner', 'idaho', 'handily', 'phenomenal', 'dipping', 'oxy']\n",
      "['spreading', 'ill', 'hospitals', 'nicholas', 'champion', 'navy', 'dental', 'threw', 'observations', 'spikes']\n",
      "['penetrate', 'rebounding', 'inflationary', 'virtualization', 'avenues', 'resilience', 'leisure', 'slowest', 'implementing', 'influenced']\n",
      "['council', 'ordering', 'cupertino', 'costly', 'outlets', 'worrying', 'compromise', 'brewing', 'carrier', 'spun']\n",
      "['burning', 'traveling', 'questionable', 'entertain', 'disruptor', 'confused', 'paragraphs', 'judges', 'brave', 'democratize']\n",
      "['afraid', 'ceos', 'memories', 'emotional', 'scramble', 'wisconsin', 'brookings', 'gregory', 'tendencies', 'terry']\n",
      "['originated', 'syndrome', 'varieties', 'infections', 'jane', 'mandelbrot', 'benoit', 'pseudo', 'champ', 'garry']\n",
      "['constraints', 'immune', 'streamed', 'jay', 'succeed', 'weapons', 'fraud', 'exacerbate', 'enriched', 'awareness']\n",
      "['fda', 'fiction', 'papers', 'teenage', 'experimental', 'cognition', 'receptor', 'lively', 'sabotage', 'communicates']\n",
      "['bob', 'communicate', 'personalized', 'specifics', 'suspect', 'diving', 'collective', 'carefully', 'filters', 'yhoo']\n",
      "['throw', 'outlined', 'deployments', 'coffee', 'lawyers', 'charged', 'upgrading', 'exploit', 'releasing', 'obligations']\n",
      "['drawn', 'casual', 'convinced', 'imminent', 'caters', 'vacation', 'displaying', 'unfold', 'chill', 'gild']\n",
      "['upped', 'barriers', 'sticking', 'dream', 'pledge', 'pessimism', 'liability', 'ingredients', 'indicative', 'rocky']\n",
      "['lookhere', 'envisioned', 'xsd', 'flownvidia', 'marginsnvidia', 'nfm', 'guidancethe', 'pstg', 'receivables', 'hsi']\n",
      "['commonly', 'province', 'compass', 'mild', 'probable', 'exceeds', 'county', 'termination', 'magnetic', 'foundational']\n",
      "['sycamore', 'systematic', 'blindspots', 'blunders', 'overcoming', 'calculation', 'tversky', 'manner', 'accomplished', 'quipped']\n",
      "['blows', 'rocks', 'retaliated', 'raymond', 'drastically', 'functionalities', 'sensational', 'registration', 'reverses', 'paving']\n",
      "['isolated', 'handing', 'outward', 'birds', 'easiest', 'fooled', 'miserable', 'illness', 'nvax', 'novavax']\n",
      "['rarely', 'occurs', 'tens', 'fan', 'eventual', 'exist', 'tackle', 'racing', 'speeding', 'writes']\n",
      "['collecting', 'pursuing', 'excessive', 'filling', 'monetize', 'distributed', 'latin', 'wsj', 'approached', 'heights']\n",
      "['angle', 'shorting', 'observed', 'assembled', 'comply', 'women', 'searched', 'conducts', 'altered', 'disrupted']\n",
      "['extraordinary', 'hammered', 'constitute', 'hesitant', 'gameplay', 'erased', 'congestion', 'sounded', 'integral', 'voted']\n",
      "['neuroscience', 'brains', 'neuroscientist', 'physiological', 'teller', 'agendas', 'poverty', 'studying', 'arms', 'ancient']\n",
      "['ethical', 'naval', 'imperialism', 'cnas', 'mariners', 'empathy', 'scruffy', 'podcasted', 'crowdstrike', 'osnos']\n",
      "['accepted', 'undisclosed', 'disagree', 'english', 'thailand', 'soccer', 'genuine', 'fighter', 'contained', 'hopefully']\n",
      "['chaos', 'philosophy', 'radical', 'attitudes', 'eternal', 'refunds', 'reissued', 'sean', 'revolutionized', 'yep']\n",
      "['species', 'survival', 'gem', 'approximate', 'stars', 'inventing', 'adult', 'feynman', 'exploring', 'birth']\n",
      "['isi', 'differentiated', 'friedrichshafen', 'detailsnon', 'pickscurrently', 'segmental', 'turbulent', 'cy', 'mentor', 'workstation']\n",
      "['circles', 'explodes', 'nails', 'amassing', 'happiness', 'harnessed', 'livestock', 'grains', 'narrated', 'timetables']\n",
      "['atlantic', 'indirect', 'wright', 'du', 'pitch', 'marketwatch', 'plethora', 'jaw', 'avail', 'diagnostics']\n",
      "['stabilize', 'secondary', 'bearing', 'fcau', 'exclude', 'revealing', 'corresponding', 'enjoying', 'peaking', 'wheel']\n",
      "['flowthe', 'stockholders', 'mindful', 'soxl', 'guidancemanagement', 'considertexas', 'wipro', 'backtest', 'detailsgross', 'receivable']\n",
      "['listened', 'interactions', 'sums', 'mental', 'gingrich', 'newt', 'xanax', 'kandel', 'neurobiology', 'lurk']\n",
      "['southwest', 'pronounced', 'loved', 'timed', 'determination', 'realm', 'judgment', 'todd', 'confusion', 'chromebook']\n",
      "['epiphany', 'huxley', 'darwin', 'julian', 'classroom', 'disconnecting', 'hugger', 'silted', 'obliterating', 'dogma']\n",
      "['stored', 'sourcing', 'aspect', 'performs', 'hunt', 'requiring', 'ambitions', 'laboratory', 'resigned', 'rewards']\n",
      "['clip', 'voices', 'ayx', 'inevitable', 'alteryx', 'celgene', 'feelings', 'explorer', 'sydney', 'graduate']\n",
      "['degrees', 'stars', 'gem', 'birth', 'exploring', 'explode', 'survival', 'mathematical', 'adult', 'inventing']\n",
      "['cleaning', 'calculations', 'postponed', 'favorites', 'berlin', 'pipelines', 'rounding', 'challenged', 'convenient', 'brake']\n",
      "['badly', 'payouts', 'feast', 'primed', 'debuted', 'cites', 'digested', 'dsp', 'cassidy', 'negotiators']\n",
      "['afford', 'ipads', 'perfectly', 'directions', 'knowing', 'dig', 'entrepreneurs', 'wing', 'centered', 'unpredictable']\n",
      "['essays', 'misunderstand', 'anarchism', 'dispositions', 'misuses', 'multiplicity', 'foretaste', 'heritable', 'everythingfor', 'visceral']\n",
      "['scaled', 'softening', 'claiming', 'headway', 'ample', 'obstacle', 'ssys', 'disk', 'renowned', 'km']\n",
      "['garnered', 'brussels', 'convenience', 'tag', 'comp', 'larry', 'alike', 'tcehy', 'wiped', 'lure']\n",
      "['threatens', 'referred', 'external', 'repeatedly', 'hulu', 'considerations', 'internally', 'complaints', 'bridge', 'object']\n",
      "['responses', 'beasts', 'stress', 'anxiety', 'consistency', 'wealthy', 'preeminent', 'darkness', 'scan', 'pompeo']\n",
      "['ironically', 'fits', 'wfe', 'reviewing', 'bankers', 'projecting', 'lipacis', 'airline', 'zu', 'routine']\n",
      "['certainty', 'beliefs', 'inventing', 'adult', 'civilization', 'feynman', 'episodes', 'gould', 'pursuit', 'religion']\n",
      "['professor', 'subtitle', 'conscious', 'unstoppable', 'biologist', 'civilization', 'gould', 'pursuit', 'transcended', 'teachers']\n",
      "['shut', 'privately', 'telephone', 'gmail', 'chat', 'emailed', 'cortana', 'sheets', 'databases', 'violates']\n",
      "Coherence Score: 0.4591012120433261\n",
      "Diversity Score: 0.9766666666666667\n",
      "Interpretability Score: 0.44838885042898186\n"
     ]
    }
   ],
   "execution_count": 10
  },
  {
   "metadata": {},
   "cell_type": "markdown",
   "source": "Coherence score of approximately 0.46 is an improvement from the starting point 0.40. This suggests that the topics generated in this iteration are more semantically meaningful, with words in each topic being more closely related."
  },
  {
   "metadata": {},
   "cell_type": "markdown",
   "source": "## Iteration 4: top 20% and bottom 20%"
  },
  {
   "metadata": {
    "ExecuteTime": {
     "end_time": "2024-11-05T22:43:58.698020Z",
     "start_time": "2024-11-05T22:43:46.731705Z"
    }
   },
   "cell_type": "code",
   "source": [
    "# Parameters\n",
    "flsaw_data = remove_n_percent(data, 20)\n",
    "num_topics=60\n",
    "num_words=10\n",
    "\n",
    "flsaW = FLSA_W(\n",
    "    input_file = flsaw_data,\n",
    "    num_topics=num_topics,\n",
    "    num_words=num_words,\n",
    ")\n",
    "\n",
    "flsaW.get_vocabulary_size()\n",
    "pwgt, ptgd = flsaW.get_matrices() # THIS TRAINS THE MODEL\n",
    "\n",
    "\n",
    "print(flsaW.show_topics())\n",
    "\n",
    "for topic in flsaW.show_topics(representation='words'):\n",
    "    print(topic)\n",
    "  \n",
    "    \n",
    "print(\"Coherence Score:\", flsaW.get_coherence_score())\n",
    "print(\"Diversity Score:\",flsaW.get_diversity_score())\n",
    "print(\"Interpretability Score:\",flsaW.get_interpretability_score())"
   ],
   "outputs": [
    {
     "name": "stdout",
     "output_type": "stream",
     "text": [
      "[(0, '0.0079*\"workload\" + 0.0076*\"disappear\" + 0.0075*\"admitted\" + 0.0069*\"reflection\" + 0.0068*\"scanning\" + 0.0064*\"secrets\" + 0.0056*\"column\" + 0.0055*\"chooses\" + 0.0054*\"granting\" + 0.0051*\"smartwatch\"'), (1, '0.0296*\"berkeley\" + 0.0266*\"keith\" + 0.02*\"modify\" + 0.019*\"addictive\" + 0.0183*\"therapies\" + 0.0175*\"discovering\" + 0.0174*\"cassandra\" + 0.0172*\"caliber\" + 0.017*\"feng\" + 0.0168*\"ponzi\"'), (2, '0.5845*\"animals\" + 0.048*\"species\" + 0.016*\"animal\" + 0.0091*\"intersection\" + 0.0087*\"ancient\" + 0.0086*\"mammals\" + 0.0073*\"joking\" + 0.0068*\"spacex\" + 0.0064*\"sums\" + 0.006*\"feelings\"'), (3, '0.0204*\"understood\" + 0.0172*\"complexities\" + 0.0154*\"suing\" + 0.0123*\"creatures\" + 0.0104*\"defect\" + 0.0103*\"receptor\" + 0.01*\"unrealistic\" + 0.01*\"hospital\" + 0.0093*\"weighty\" + 0.0089*\"bucks\"'), (4, '0.0093*\"addressing\" + 0.0091*\"men\" + 0.0089*\"totaling\" + 0.0073*\"harness\" + 0.0064*\"devaluation\" + 0.0064*\"visits\" + 0.0061*\"paths\" + 0.0055*\"sheets\" + 0.005*\"ng\" + 0.0049*\"defending\"'), (5, '0.0455*\"cruising\" + 0.0454*\"daddy\" + 0.0454*\"portuguese\" + 0.0453*\"populations\" + 0.0453*\"breathing\" + 0.0452*\"remarked\" + 0.045*\"preposterous\" + 0.0448*\"silk\" + 0.0447*\"preparedness\" + 0.0447*\"adults\"'), (6, '0.239*\"jared\" + 0.1888*\"survival\" + 0.1026*\"tour\" + 0.0349*\"joking\" + 0.0321*\"wikipedia\" + 0.026*\"explorers\" + 0.0248*\"superpower\" + 0.0205*\"mars\" + 0.0141*\"inventing\" + 0.0137*\"spacex\"'), (7, '0.0446*\"scares\" + 0.0446*\"succinctly\" + 0.0446*\"fascination\" + 0.0445*\"rouge\" + 0.0445*\"interfered\" + 0.0443*\"despair\" + 0.0443*\"volunteered\" + 0.0442*\"gifted\" + 0.0442*\"bees\" + 0.044*\"exotic\"'), (8, '0.0079*\"addressed\" + 0.0078*\"bridge\" + 0.007*\"battles\" + 0.007*\"lining\" + 0.006*\"descending\" + 0.006*\"removal\" + 0.0055*\"arguing\" + 0.005*\"defenses\" + 0.005*\"seattle\" + 0.005*\"destroying\"'), (9, '0.0269*\"consequences\" + 0.0212*\"blank\" + 0.0208*\"shelves\" + 0.0182*\"copy\" + 0.0176*\"description\" + 0.0168*\"clothing\" + 0.0167*\"disastrous\" + 0.0159*\"inevitably\" + 0.0137*\"brink\" + 0.0124*\"famously\"'), (10, '0.0347*\"unforeseen\" + 0.034*\"cultural\" + 0.0286*\"voices\" + 0.0285*\"spoils\" + 0.0284*\"brookings\" + 0.0282*\"tendencies\" + 0.0282*\"wealthy\" + 0.0278*\"populist\" + 0.0276*\"gregory\" + 0.0266*\"vc\"'), (11, '0.0462*\"millennial\" + 0.0446*\"severity\" + 0.0444*\"conducts\" + 0.0444*\"demise\" + 0.0431*\"evidenced\" + 0.0424*\"altered\" + 0.0419*\"magical\" + 0.0414*\"touches\" + 0.0371*\"circuitry\" + 0.0367*\"searched\"'), (12, '0.0022*\"concrete\" + 0.0022*\"plagued\" + 0.002*\"reacts\" + 0.002*\"respite\" + 0.0019*\"illustrating\" + 0.0019*\"takeaway\" + 0.0019*\"daysjust\" + 0.0018*\"pedestrians\" + 0.0018*\"contractor\" + 0.0018*\"torrid\"'), (13, '0.0038*\"toys\" + 0.0036*\"sage\" + 0.0035*\"complacency\" + 0.0034*\"races\" + 0.0034*\"declaration\" + 0.0033*\"grant\" + 0.0032*\"gameplay\" + 0.003*\"elected\" + 0.0029*\"pounds\" + 0.0029*\"safest\"'), (14, '0.0395*\"inevitable\" + 0.0337*\"technologically\" + 0.0309*\"hunger\" + 0.0309*\"sherman\" + 0.0308*\"responsibly\" + 0.0307*\"acknowledging\" + 0.0307*\"pompeo\" + 0.0305*\"dragon\" + 0.0299*\"thankfully\" + 0.0299*\"historian\"'), (15, '0.0453*\"enriched\" + 0.0373*\"thrive\" + 0.0323*\"hunting\" + 0.0259*\"faring\" + 0.0256*\"institution\" + 0.0208*\"rna\" + 0.0205*\"maximize\" + 0.0194*\"eddy\" + 0.0191*\"brink\" + 0.0189*\"copy\"'), (16, '0.0065*\"spun\" + 0.0053*\"spinning\" + 0.0051*\"tradition\" + 0.0048*\"grapples\" + 0.0048*\"fort\" + 0.0047*\"contacts\" + 0.0046*\"foldable\" + 0.0046*\"object\" + 0.0045*\"objections\" + 0.0044*\"boys\"'), (17, '0.012*\"circumstances\" + 0.0099*\"sphere\" + 0.0097*\"accurately\" + 0.0096*\"prevented\" + 0.0091*\"translating\" + 0.0086*\"formula\" + 0.0084*\"borrowed\" + 0.0075*\"controversial\" + 0.0071*\"clause\" + 0.007*\"workaround\"'), (18, '0.0279*\"practical\" + 0.0195*\"confused\" + 0.0195*\"euphoric\" + 0.0183*\"treasure\" + 0.0175*\"southwest\" + 0.0174*\"priorities\" + 0.0173*\"summed\" + 0.017*\"quest\" + 0.0162*\"destruction\" + 0.0157*\"piles\"'), (19, '0.211*\"poverty\" + 0.1929*\"ancient\" + 0.1233*\"doctoral\" + 0.0898*\"intersection\" + 0.0466*\"mental\" + 0.0399*\"feelings\" + 0.0229*\"neuroscience\" + 0.0169*\"sums\" + 0.0129*\"observer\" + 0.0126*\"species\"'), (20, '0.103*\"epidemic\" + 0.0836*\"defeat\" + 0.0827*\"conquer\" + 0.0825*\"marco\" + 0.0812*\"puzzles\" + 0.08*\"whichever\" + 0.079*\"ino\" + 0.0488*\"nassim\" + 0.0426*\"illness\" + 0.0291*\"isolated\"'), (21, '0.154*\"sydney\" + 0.1092*\"mental\" + 0.1075*\"wrongly\" + 0.0996*\"neuroscientist\" + 0.0963*\"feelings\" + 0.0877*\"physiological\" + 0.086*\"neuroscience\" + 0.0313*\"intersection\" + 0.0217*\"observer\" + 0.0178*\"sums\"'), (22, '0.0684*\"freeze\" + 0.0579*\"experiments\" + 0.0495*\"masters\" + 0.0493*\"sans\" + 0.0492*\"instincts\" + 0.0489*\"trainer\" + 0.0486*\"wolf\" + 0.0486*\"baton\" + 0.0486*\"lifetimes\" + 0.0484*\"medications\"'), (23, '0.0108*\"outright\" + 0.0101*\"saved\" + 0.0094*\"telephone\" + 0.0094*\"kennedy\" + 0.0082*\"protectionism\" + 0.0061*\"bargaining\" + 0.0058*\"utterly\" + 0.0058*\"commenting\" + 0.0056*\"barry\" + 0.0055*\"temptation\"'), (24, '0.0016*\"bolstering\" + 0.0015*\"completing\" + 0.0015*\"cheered\" + 0.0015*\"grmn\" + 0.0014*\"instrumental\" + 0.0014*\"motorola\" + 0.0014*\"pricey\" + 0.0014*\"pave\" + 0.0014*\"calculating\" + 0.0014*\"htz\"'), (25, '0.0396*\"scramble\" + 0.0394*\"explicit\" + 0.0389*\"interviewed\" + 0.0352*\"lucky\" + 0.0325*\"noah\" + 0.0324*\"mit\" + 0.032*\"cooker\" + 0.032*\"havoc\" + 0.0316*\"interacting\" + 0.0302*\"politically\"'), (26, '0.0098*\"hires\" + 0.0097*\"preferences\" + 0.0091*\"campus\" + 0.0081*\"researcher\" + 0.0077*\"neighborhood\" + 0.0076*\"nba\" + 0.0073*\"prize\" + 0.0072*\"obligations\" + 0.0071*\"describing\" + 0.0068*\"loses\"'), (27, '0.0023*\"gloomy\" + 0.0019*\"divestment\" + 0.0018*\"fcf\" + 0.0018*\"trumped\" + 0.0017*\"spny\" + 0.0017*\"corresponds\" + 0.0017*\"realizing\" + 0.0016*\"abiomed\" + 0.0016*\"abmd\" + 0.0016*\"undergoing\"'), (28, '0.02*\"realm\" + 0.0151*\"ears\" + 0.0148*\"democratize\" + 0.0146*\"pronounced\" + 0.0143*\"farming\" + 0.0142*\"chromebook\" + 0.0132*\"careers\" + 0.0132*\"determination\" + 0.0125*\"broadening\" + 0.0123*\"wine\"'), (29, '0.0502*\"miserable\" + 0.0497*\"easiest\" + 0.0494*\"birds\" + 0.0491*\"davos\" + 0.049*\"handing\" + 0.0489*\"warming\" + 0.0481*\"hn\" + 0.0481*\"nvax\" + 0.0481*\"novavax\" + 0.0429*\"outward\"'), (30, '0.0006*\"whispersour\" + 0.0006*\"flowthe\" + 0.0006*\"trv\" + 0.0006*\"stockholders\" + 0.0005*\"mindful\" + 0.0005*\"leds\" + 0.0005*\"flowas\" + 0.0005*\"soxl\" + 0.0005*\"favourable\" + 0.0005*\"sabotaging\"'), (31, '0.0043*\"iconic\" + 0.0037*\"microchips\" + 0.0033*\"normalization\" + 0.0033*\"routes\" + 0.0031*\"butter\" + 0.0031*\"blaming\" + 0.003*\"pricewaterhousecoopers\" + 0.003*\"helm\" + 0.003*\"exhibiting\" + 0.003*\"buster\"'), (32, '0.1387*\"consistency\" + 0.1349*\"scan\" + 0.1056*\"manual\" + 0.0845*\"barrett\" + 0.07*\"conscious\" + 0.0679*\"alteryx\" + 0.061*\"curiosity\" + 0.0357*\"sums\" + 0.0137*\"studying\" + 0.011*\"observer\"'), (33, '0.0042*\"tentative\" + 0.0041*\"weaknesses\" + 0.004*\"paint\" + 0.004*\"blew\" + 0.0036*\"lure\" + 0.0034*\"burst\" + 0.0034*\"acknowledge\" + 0.0034*\"classes\" + 0.0033*\"swift\" + 0.0033*\"dust\"'), (34, '0.0046*\"simpler\" + 0.0044*\"mitigate\" + 0.004*\"blocked\" + 0.0039*\"needing\" + 0.0038*\"declare\" + 0.0037*\"obamacare\" + 0.0036*\"panw\" + 0.0035*\"respected\" + 0.0035*\"morningstar\" + 0.0033*\"overwatch\"'), (35, '0.0155*\"lt\" + 0.0155*\"conceptual\" + 0.0155*\"gods\" + 0.0155*\"sapiensis\" + 0.0155*\"glue\" + 0.0155*\"doctrines\" + 0.0155*\"perkins\" + 0.0155*\"colonial\" + 0.0155*\"scruffy\" + 0.0155*\"zc\"'), (36, '0.0254*\"ignorance\" + 0.0247*\"creativity\" + 0.0231*\"pretend\" + 0.023*\"darwin\" + 0.0225*\"classroom\" + 0.019*\"explored\" + 0.0189*\"pirsig\" + 0.0189*\"soulless\" + 0.0189*\"huxleys\" + 0.0189*\"nye\"'), (37, '0.0573*\"exceeds\" + 0.0566*\"termination\" + 0.0566*\"magnetic\" + 0.0561*\"probable\" + 0.0544*\"compass\" + 0.0509*\"county\" + 0.0399*\"emerges\" + 0.0331*\"gem\" + 0.0315*\"brainer\" + 0.0309*\"mystery\"'), (38, '0.0454*\"harvard\" + 0.0311*\"homo\" + 0.0288*\"vested\" + 0.0287*\"amassing\" + 0.0284*\"rituals\" + 0.0283*\"circles\" + 0.0283*\"orbit\" + 0.0283*\"explodes\" + 0.0283*\"narrated\" + 0.0282*\"happiness\"'), (39, '0.0065*\"stealing\" + 0.0063*\"illinois\" + 0.0061*\"lets\" + 0.006*\"financially\" + 0.006*\"contractors\" + 0.0052*\"concepts\" + 0.0046*\"brilliant\" + 0.0046*\"layered\" + 0.0044*\"internally\" + 0.004*\"tweak\"'), (40, '0.0459*\"originated\" + 0.0352*\"infections\" + 0.0349*\"mandelbrot\" + 0.0349*\"benoit\" + 0.0347*\"kasparov\" + 0.0347*\"garry\" + 0.0345*\"lethal\" + 0.0344*\"pseudo\" + 0.0343*\"champ\" + 0.0342*\"pigs\"'), (41, '0.0108*\"rogue\" + 0.0097*\"employ\" + 0.0086*\"bodies\" + 0.0084*\"hastings\" + 0.0082*\"hey\" + 0.0082*\"violated\" + 0.0081*\"bay\" + 0.0081*\"guest\" + 0.0078*\"wildly\" + 0.0077*\"tricky\"'), (42, '0.0011*\"limelight\" + 0.0011*\"multiplayer\" + 0.0011*\"outperforms\" + 0.0011*\"spate\" + 0.0011*\"undertaking\" + 0.001*\"rebates\" + 0.001*\"jpr\" + 0.001*\"technavio\" + 0.001*\"quadruple\" + 0.001*\"accomplish\"'), (43, '0.0197*\"respiratory\" + 0.0194*\"vaccines\" + 0.0179*\"primatologist\" + 0.0179*\"fooling\" + 0.0179*\"vikings\" + 0.0179*\"caltech\" + 0.0179*\"crossbows\" + 0.0179*\"immunity\" + 0.0179*\"mongols\" + 0.0179*\"rarer\"'), (44, '0.0115*\"empirical\" + 0.0105*\"definite\" + 0.0088*\"blur\" + 0.0086*\"leak\" + 0.0083*\"omnichannel\" + 0.0082*\"warranty\" + 0.0076*\"conflicting\" + 0.0066*\"refurbished\" + 0.0064*\"convincing\" + 0.0064*\"backward\"'), (45, '0.0009*\"alv\" + 0.0009*\"nfm\" + 0.0009*\"benefitting\" + 0.0008*\"guidancethe\" + 0.0008*\"undertaken\" + 0.0008*\"rebounds\" + 0.0008*\"baird\" + 0.0008*\"mott\" + 0.0008*\"shedding\" + 0.0008*\"bmwyy\"'), (46, '0.0022*\"hurdle\" + 0.0021*\"verified\" + 0.002*\"honeywell\" + 0.0019*\"mulling\" + 0.0019*\"allocate\" + 0.0019*\"unfold\" + 0.0019*\"jaw\" + 0.0018*\"loves\" + 0.0018*\"loom\" + 0.0018*\"dimension\"'), (47, '0.0082*\"leaning\" + 0.0082*\"examine\" + 0.0078*\"homework\" + 0.0071*\"satisfied\" + 0.0068*\"nas\" + 0.0064*\"productions\" + 0.0059*\"pockets\" + 0.0057*\"tuning\" + 0.0056*\"curious\" + 0.0056*\"puerto\"'), (48, '0.4712*\"xanax\" + 0.0332*\"species\" + 0.028*\"intersection\" + 0.02*\"ancient\" + 0.0158*\"feelings\" + 0.0157*\"animal\" + 0.0108*\"sums\" + 0.0096*\"mental\" + 0.009*\"neuroscience\" + 0.0087*\"conscious\"'), (49, '0.0032*\"clearer\" + 0.003*\"jetson\" + 0.0029*\"paired\" + 0.0027*\"boats\" + 0.0027*\"thibault\" + 0.0027*\"remind\" + 0.0026*\"unified\" + 0.0025*\"analytica\" + 0.0025*\"slashing\" + 0.0025*\"restricted\"'), (50, '0.0158*\"everythingi\" + 0.0158*\"holes\" + 0.0158*\"ufc\" + 0.0158*\"rodents\" + 0.0158*\"vertebrate\" + 0.0158*\"minored\" + 0.0158*\"subcortical\" + 0.0158*\"spiders\" + 0.0158*\"prefrontal\" + 0.0158*\"gazzaniga\"'), (51, '0.0105*\"angles\" + 0.01*\"anthony\" + 0.0091*\"applies\" + 0.0077*\"nebraska\" + 0.0074*\"ignoring\" + 0.0072*\"wish\" + 0.0066*\"undermine\" + 0.0065*\"accumulate\" + 0.0059*\"wallace\" + 0.0051*\"hegemony\"'), (52, '0.0668*\"threw\" + 0.0665*\"spikes\" + 0.0645*\"kill\" + 0.0542*\"stating\" + 0.0526*\"wa\" + 0.045*\"acute\" + 0.0425*\"angeles\" + 0.0405*\"limitations\" + 0.0359*\"ill\" + 0.0343*\"hospitals\"'), (53, '0.1224*\"harari\" + 0.0732*\"ethical\" + 0.0653*\"pursuit\" + 0.0653*\"gould\" + 0.0649*\"myths\" + 0.0537*\"civilization\" + 0.023*\"memories\" + 0.022*\"biased\" + 0.0198*\"discoveries\" + 0.0196*\"naval\"'), (54, '0.0169*\"allergic\" + 0.0149*\"algebra\" + 0.0142*\"equations\" + 0.0131*\"mathwhen\" + 0.0131*\"bale\" + 0.0131*\"sucker\" + 0.0131*\"insensitive\" + 0.0131*\"annoying\" + 0.0131*\"absolves\" + 0.0131*\"huff\"'), (55, '0.0049*\"passes\" + 0.0048*\"prospective\" + 0.0047*\"distributors\" + 0.0046*\"computation\" + 0.004*\"achieving\" + 0.004*\"devastating\" + 0.0038*\"cumulative\" + 0.0038*\"apc\" + 0.0037*\"pocket\" + 0.0036*\"trails\"'), (56, '0.0318*\"confusing\" + 0.031*\"founding\" + 0.03*\"infinite\" + 0.0252*\"illusion\" + 0.0218*\"philosophy\" + 0.0212*\"champions\" + 0.0177*\"tinker\" + 0.0174*\"cerebral\" + 0.0174*\"sha\" + 0.0174*\"softee\"'), (57, '0.0054*\"waters\" + 0.0053*\"reign\" + 0.0051*\"bargains\" + 0.0045*\"transformed\" + 0.0045*\"seasons\" + 0.0045*\"communist\" + 0.0044*\"aggregated\" + 0.0041*\"probabilities\" + 0.004*\"nowthe\" + 0.0038*\"ny\"'), (58, '0.0161*\"novel\" + 0.0144*\"massachusetts\" + 0.0141*\"loose\" + 0.0132*\"devoted\" + 0.0125*\"chi\" + 0.0121*\"specter\" + 0.012*\"reshape\" + 0.0116*\"police\" + 0.0116*\"proceedings\" + 0.0111*\"kgi\"'), (59, '0.0021*\"upswing\" + 0.002*\"oklahoma\" + 0.002*\"royal\" + 0.002*\"measuring\" + 0.002*\"sigh\" + 0.002*\"cong\" + 0.002*\"misuse\" + 0.0019*\"argentina\" + 0.0019*\"capitol\" + 0.0019*\"bitter\"')]\n",
      "['workload', 'disappear', 'admitted', 'reflection', 'scanning', 'secrets', 'column', 'chooses', 'granting', 'smartwatch']\n",
      "['berkeley', 'keith', 'modify', 'addictive', 'therapies', 'discovering', 'cassandra', 'caliber', 'feng', 'ponzi']\n",
      "['animals', 'species', 'animal', 'intersection', 'ancient', 'mammals', 'joking', 'spacex', 'sums', 'feelings']\n",
      "['understood', 'complexities', 'suing', 'creatures', 'defect', 'receptor', 'unrealistic', 'hospital', 'weighty', 'bucks']\n",
      "['addressing', 'men', 'totaling', 'harness', 'devaluation', 'visits', 'paths', 'sheets', 'ng', 'defending']\n",
      "['cruising', 'daddy', 'portuguese', 'populations', 'breathing', 'remarked', 'preposterous', 'silk', 'preparedness', 'adults']\n",
      "['jared', 'survival', 'tour', 'joking', 'wikipedia', 'explorers', 'superpower', 'mars', 'inventing', 'spacex']\n",
      "['scares', 'succinctly', 'fascination', 'rouge', 'interfered', 'despair', 'volunteered', 'gifted', 'bees', 'exotic']\n",
      "['addressed', 'bridge', 'battles', 'lining', 'descending', 'removal', 'arguing', 'defenses', 'seattle', 'destroying']\n",
      "['consequences', 'blank', 'shelves', 'copy', 'description', 'clothing', 'disastrous', 'inevitably', 'brink', 'famously']\n",
      "['unforeseen', 'cultural', 'voices', 'spoils', 'brookings', 'tendencies', 'wealthy', 'populist', 'gregory', 'vc']\n",
      "['millennial', 'severity', 'conducts', 'demise', 'evidenced', 'altered', 'magical', 'touches', 'circuitry', 'searched']\n",
      "['concrete', 'plagued', 'reacts', 'respite', 'illustrating', 'takeaway', 'daysjust', 'pedestrians', 'contractor', 'torrid']\n",
      "['toys', 'sage', 'complacency', 'races', 'declaration', 'grant', 'gameplay', 'elected', 'pounds', 'safest']\n",
      "['inevitable', 'technologically', 'hunger', 'sherman', 'responsibly', 'acknowledging', 'pompeo', 'dragon', 'thankfully', 'historian']\n",
      "['enriched', 'thrive', 'hunting', 'faring', 'institution', 'rna', 'maximize', 'eddy', 'brink', 'copy']\n",
      "['spun', 'spinning', 'tradition', 'grapples', 'fort', 'contacts', 'foldable', 'object', 'objections', 'boys']\n",
      "['circumstances', 'sphere', 'accurately', 'prevented', 'translating', 'formula', 'borrowed', 'controversial', 'clause', 'workaround']\n",
      "['practical', 'confused', 'euphoric', 'treasure', 'southwest', 'priorities', 'summed', 'quest', 'destruction', 'piles']\n",
      "['poverty', 'ancient', 'doctoral', 'intersection', 'mental', 'feelings', 'neuroscience', 'sums', 'observer', 'species']\n",
      "['epidemic', 'defeat', 'conquer', 'marco', 'puzzles', 'whichever', 'ino', 'nassim', 'illness', 'isolated']\n",
      "['sydney', 'mental', 'wrongly', 'neuroscientist', 'feelings', 'physiological', 'neuroscience', 'intersection', 'observer', 'sums']\n",
      "['freeze', 'experiments', 'masters', 'sans', 'instincts', 'trainer', 'wolf', 'baton', 'lifetimes', 'medications']\n",
      "['outright', 'saved', 'telephone', 'kennedy', 'protectionism', 'bargaining', 'utterly', 'commenting', 'barry', 'temptation']\n",
      "['bolstering', 'completing', 'cheered', 'grmn', 'instrumental', 'motorola', 'pricey', 'pave', 'calculating', 'htz']\n",
      "['scramble', 'explicit', 'interviewed', 'lucky', 'noah', 'mit', 'cooker', 'havoc', 'interacting', 'politically']\n",
      "['hires', 'preferences', 'campus', 'researcher', 'neighborhood', 'nba', 'prize', 'obligations', 'describing', 'loses']\n",
      "['gloomy', 'divestment', 'fcf', 'trumped', 'spny', 'corresponds', 'realizing', 'abiomed', 'abmd', 'undergoing']\n",
      "['realm', 'ears', 'democratize', 'pronounced', 'farming', 'chromebook', 'careers', 'determination', 'broadening', 'wine']\n",
      "['miserable', 'easiest', 'birds', 'davos', 'handing', 'warming', 'hn', 'nvax', 'novavax', 'outward']\n",
      "['whispersour', 'flowthe', 'trv', 'stockholders', 'mindful', 'leds', 'flowas', 'soxl', 'favourable', 'sabotaging']\n",
      "['iconic', 'microchips', 'normalization', 'routes', 'butter', 'blaming', 'pricewaterhousecoopers', 'helm', 'exhibiting', 'buster']\n",
      "['consistency', 'scan', 'manual', 'barrett', 'conscious', 'alteryx', 'curiosity', 'sums', 'studying', 'observer']\n",
      "['tentative', 'weaknesses', 'paint', 'blew', 'lure', 'burst', 'acknowledge', 'classes', 'swift', 'dust']\n",
      "['simpler', 'mitigate', 'blocked', 'needing', 'declare', 'obamacare', 'panw', 'respected', 'morningstar', 'overwatch']\n",
      "['lt', 'conceptual', 'gods', 'sapiensis', 'glue', 'doctrines', 'perkins', 'colonial', 'scruffy', 'zc']\n",
      "['ignorance', 'creativity', 'pretend', 'darwin', 'classroom', 'explored', 'pirsig', 'soulless', 'huxleys', 'nye']\n",
      "['exceeds', 'termination', 'magnetic', 'probable', 'compass', 'county', 'emerges', 'gem', 'brainer', 'mystery']\n",
      "['harvard', 'homo', 'vested', 'amassing', 'rituals', 'circles', 'orbit', 'explodes', 'narrated', 'happiness']\n",
      "['stealing', 'illinois', 'lets', 'financially', 'contractors', 'concepts', 'brilliant', 'layered', 'internally', 'tweak']\n",
      "['originated', 'infections', 'mandelbrot', 'benoit', 'kasparov', 'garry', 'lethal', 'pseudo', 'champ', 'pigs']\n",
      "['rogue', 'employ', 'bodies', 'hastings', 'hey', 'violated', 'bay', 'guest', 'wildly', 'tricky']\n",
      "['limelight', 'multiplayer', 'outperforms', 'spate', 'undertaking', 'rebates', 'jpr', 'technavio', 'quadruple', 'accomplish']\n",
      "['respiratory', 'vaccines', 'primatologist', 'fooling', 'vikings', 'caltech', 'crossbows', 'immunity', 'mongols', 'rarer']\n",
      "['empirical', 'definite', 'blur', 'leak', 'omnichannel', 'warranty', 'conflicting', 'refurbished', 'convincing', 'backward']\n",
      "['alv', 'nfm', 'benefitting', 'guidancethe', 'undertaken', 'rebounds', 'baird', 'mott', 'shedding', 'bmwyy']\n",
      "['hurdle', 'verified', 'honeywell', 'mulling', 'allocate', 'unfold', 'jaw', 'loves', 'loom', 'dimension']\n",
      "['leaning', 'examine', 'homework', 'satisfied', 'nas', 'productions', 'pockets', 'tuning', 'curious', 'puerto']\n",
      "['xanax', 'species', 'intersection', 'ancient', 'feelings', 'animal', 'sums', 'mental', 'neuroscience', 'conscious']\n",
      "['clearer', 'jetson', 'paired', 'boats', 'thibault', 'remind', 'unified', 'analytica', 'slashing', 'restricted']\n",
      "['everythingi', 'holes', 'ufc', 'rodents', 'vertebrate', 'minored', 'subcortical', 'spiders', 'prefrontal', 'gazzaniga']\n",
      "['angles', 'anthony', 'applies', 'nebraska', 'ignoring', 'wish', 'undermine', 'accumulate', 'wallace', 'hegemony']\n",
      "['threw', 'spikes', 'kill', 'stating', 'wa', 'acute', 'angeles', 'limitations', 'ill', 'hospitals']\n",
      "['harari', 'ethical', 'pursuit', 'gould', 'myths', 'civilization', 'memories', 'biased', 'discoveries', 'naval']\n",
      "['allergic', 'algebra', 'equations', 'mathwhen', 'bale', 'sucker', 'insensitive', 'annoying', 'absolves', 'huff']\n",
      "['passes', 'prospective', 'distributors', 'computation', 'achieving', 'devastating', 'cumulative', 'apc', 'pocket', 'trails']\n",
      "['confusing', 'founding', 'infinite', 'illusion', 'philosophy', 'champions', 'tinker', 'cerebral', 'sha', 'softee']\n",
      "['waters', 'reign', 'bargains', 'transformed', 'seasons', 'communist', 'aggregated', 'probabilities', 'nowthe', 'ny']\n",
      "['novel', 'massachusetts', 'loose', 'devoted', 'chi', 'specter', 'reshape', 'police', 'proceedings', 'kgi']\n",
      "['upswing', 'oklahoma', 'royal', 'measuring', 'sigh', 'cong', 'misuse', 'argentina', 'capitol', 'bitter']\n",
      "Coherence Score: 0.5412084631769096\n",
      "Diversity Score: 0.9566666666666667\n",
      "Interpretability Score: 0.5177560964392436\n"
     ]
    }
   ],
   "execution_count": 19
  },
  {
   "metadata": {},
   "cell_type": "markdown",
   "source": [
    "The increase in coherence indicates that the adjusting top_n_percent to 15% helped create more coherent topics and removed most typos but diversity decreased significantly. Relying solely on raw frequency, we may have removed important words from the corpus.\n",
    "\n"
   ]
  },
  {
   "metadata": {},
   "cell_type": "markdown",
   "source": "## Iteration 5: num_words per topic = 5"
  },
  {
   "metadata": {
    "ExecuteTime": {
     "end_time": "2024-11-05T22:44:26.772281Z",
     "start_time": "2024-11-05T22:44:03.129907Z"
    }
   },
   "cell_type": "code",
   "source": [
    "# Parameters\n",
    "flsaw_data = remove_n_percent(data, 15)\n",
    "num_topics=60\n",
    "num_words=5\n",
    "\n",
    "flsaW = FLSA_W(\n",
    "    input_file = flsaw_data,\n",
    "    num_topics=num_topics,\n",
    "    num_words=num_words,\n",
    ")\n",
    "\n",
    "flsaW.get_vocabulary_size()\n",
    "pwgt, ptgd = flsaW.get_matrices() # THIS TRAINS THE MODEL\n",
    "\n",
    "\n",
    "print(flsaW.show_topics())\n",
    "\n",
    "for topic in flsaW.show_topics(representation='words'):\n",
    "    print(topic)\n",
    "  \n",
    "    \n",
    "print(\"Coherence Score:\", flsaW.get_coherence_score())\n",
    "print(\"Diversity Score:\",flsaW.get_diversity_score())\n",
    "print(\"Interpretability Score:\",flsaW.get_interpretability_score())"
   ],
   "outputs": [
    {
     "name": "stdout",
     "output_type": "stream",
     "text": [
      "[(0, '0.034*\"anxiety\" + 0.0297*\"lee\" + 0.0275*\"responses\" + 0.0234*\"scan\" + 0.0188*\"dragon\"'), (1, '0.0047*\"council\" + 0.0044*\"ordering\" + 0.0042*\"cupertino\" + 0.0042*\"costly\" + 0.004*\"outlets\"'), (2, '0.0077*\"removal\" + 0.0075*\"incorporate\" + 0.007*\"stopping\" + 0.0057*\"clause\" + 0.0056*\"nationwide\"'), (3, '0.0019*\"blows\" + 0.0018*\"rocks\" + 0.0018*\"retaliated\" + 0.0017*\"raymond\" + 0.0017*\"functionalities\"'), (4, '0.0057*\"wfe\" + 0.0053*\"ironically\" + 0.005*\"bankers\" + 0.005*\"fits\" + 0.0047*\"lipacis\"'), (5, '0.0192*\"rader\" + 0.0187*\"respiratory\" + 0.0185*\"pandemic\" + 0.0181*\"vaccines\" + 0.0167*\"sanitation\"'), (6, '0.0214*\"diversity\" + 0.0197*\"behalf\" + 0.0102*\"feet\" + 0.0086*\"xm\" + 0.008*\"satoshi\"'), (7, '0.0021*\"dented\" + 0.002*\"badly\" + 0.0019*\"cites\" + 0.0019*\"feast\" + 0.0019*\"breakeven\"'), (8, '0.0678*\"commonly\" + 0.0585*\"province\" + 0.0468*\"compass\" + 0.0466*\"mild\" + 0.0453*\"probable\"'), (9, '0.078*\"spreading\" + 0.0573*\"hospitals\" + 0.0568*\"ill\" + 0.0504*\"nicholas\" + 0.0469*\"champion\"'), (10, '0.0397*\"daddy\" + 0.0396*\"cruising\" + 0.0396*\"remarked\" + 0.0396*\"inventions\" + 0.0395*\"populations\"'), (11, '0.003*\"penetrate\" + 0.0029*\"implementing\" + 0.0026*\"rebounding\" + 0.0026*\"avenues\" + 0.0026*\"virtualization\"'), (12, '0.0044*\"exclude\" + 0.004*\"secondary\" + 0.0039*\"corresponding\" + 0.0038*\"seat\" + 0.0037*\"bearing\"'), (13, '0.0055*\"scaled\" + 0.0049*\"softening\" + 0.0048*\"claiming\" + 0.0041*\"obstacle\" + 0.0041*\"headway\"'), (14, '0.0013*\"isi\" + 0.0011*\"detailsnon\" + 0.0011*\"differentiated\" + 0.0011*\"friedrichshafen\" + 0.0011*\"pickscurrently\"'), (15, '0.0442*\"occurs\" + 0.0428*\"exist\" + 0.0424*\"tackle\" + 0.0409*\"fan\" + 0.0407*\"racing\"'), (16, '0.0086*\"coffee\" + 0.008*\"exploit\" + 0.0079*\"upgrading\" + 0.0079*\"throw\" + 0.0072*\"favoring\"'), (17, '0.001*\"lookhere\" + 0.0009*\"marginsnvidia\" + 0.0009*\"flownvidia\" + 0.0009*\"nfm\" + 0.0009*\"xsd\"'), (18, '0.0345*\"fda\" + 0.024*\"fiction\" + 0.0222*\"papers\" + 0.0211*\"teenage\" + 0.0201*\"experimental\"'), (19, '0.0407*\"originated\" + 0.0392*\"syndrome\" + 0.0311*\"varieties\" + 0.0311*\"infections\" + 0.0311*\"jane\"'), (20, '0.0685*\"mit\" + 0.0519*\"candace\" + 0.0417*\"norepinephrine\" + 0.0373*\"subconscious\" + 0.0323*\"teller\"'), (21, '0.0418*\"pronounced\" + 0.0396*\"loved\" + 0.0395*\"realm\" + 0.0382*\"southwest\" + 0.0348*\"confusion\"'), (22, '0.0015*\"allocated\" + 0.0014*\"clientele\" + 0.0014*\"ddaif\" + 0.0013*\"inorganic\" + 0.0013*\"splrct\"'), (23, '0.033*\"disruptor\" + 0.0326*\"paragraphs\" + 0.0325*\"burning\" + 0.0315*\"questionable\" + 0.0315*\"traveling\"'), (24, '0.016*\"ethical\" + 0.0139*\"naval\" + 0.0128*\"burgess\" + 0.0128*\"consumerism\" + 0.0128*\"tribal\"'), (25, '0.0053*\"cleaning\" + 0.0048*\"calculations\" + 0.0039*\"berlin\" + 0.0039*\"favorites\" + 0.0039*\"postponed\"'), (26, '0.0064*\"drawn\" + 0.0061*\"convinced\" + 0.006*\"casual\" + 0.0059*\"caters\" + 0.0057*\"vacation\"'), (27, '0.0447*\"afford\" + 0.0431*\"perfectly\" + 0.0407*\"directions\" + 0.0403*\"ipads\" + 0.0379*\"knowing\"'), (28, '0.0101*\"advantages\" + 0.0075*\"ugly\" + 0.0075*\"virginia\" + 0.0071*\"destination\" + 0.007*\"error\"'), (29, '0.0149*\"differ\" + 0.0148*\"everywhere\" + 0.0123*\"constraints\" + 0.0119*\"disastrous\" + 0.0118*\"pictures\"'), (30, '0.1144*\"creativity\" + 0.1031*\"synthesis\" + 0.0959*\"motorcycle\" + 0.0824*\"educators\" + 0.0799*\"pretend\"'), (31, '0.0449*\"isolated\" + 0.0407*\"handing\" + 0.0407*\"outward\" + 0.04*\"birds\" + 0.0397*\"fooled\"'), (32, '0.0237*\"narrated\" + 0.0237*\"happiness\" + 0.0236*\"npr\" + 0.0235*\"livestock\" + 0.0235*\"timetables\"'), (33, '0.0035*\"viable\" + 0.0035*\"contains\" + 0.0032*\"enthusiasm\" + 0.003*\"locking\" + 0.0029*\"depressed\"'), (34, '0.0036*\"garnered\" + 0.0036*\"adequate\" + 0.0036*\"alike\" + 0.0036*\"wiped\" + 0.0034*\"comp\"'), (35, '0.0528*\"woke\" + 0.0522*\"illusion\" + 0.0359*\"monsters\" + 0.0359*\"ariely\" + 0.0358*\"reconciling\"'), (36, '0.0743*\"chaos\" + 0.0528*\"philosophy\" + 0.0385*\"attitudes\" + 0.0381*\"radical\" + 0.0377*\"eternal\"'), (37, '0.0034*\"extraordinary\" + 0.0032*\"erased\" + 0.0031*\"constitute\" + 0.0031*\"voted\" + 0.003*\"revolutionize\"'), (38, '0.0136*\"endorphins\" + 0.0136*\"intellectuals\" + 0.0136*\"dopamine\" + 0.0136*\"romantic\" + 0.0136*\"bakunin\"'), (39, '0.0198*\"false\" + 0.0171*\"hate\" + 0.017*\"career\" + 0.0169*\"shock\" + 0.0165*\"treat\"'), (40, '0.0051*\"conclude\" + 0.0048*\"invite\" + 0.0042*\"tolerance\" + 0.004*\"switched\" + 0.0039*\"dog\"'), (41, '0.0037*\"atlantic\" + 0.0034*\"wright\" + 0.0033*\"indirect\" + 0.003*\"du\" + 0.0029*\"clearer\"'), (42, '0.0098*\"sycamore\" + 0.0083*\"systematic\" + 0.0078*\"blindspots\" + 0.0072*\"blunders\" + 0.0069*\"overcoming\"'), (43, '0.0061*\"threatens\" + 0.0058*\"referred\" + 0.0055*\"external\" + 0.0054*\"repeatedly\" + 0.0052*\"hulu\"'), (44, '0.0125*\"showcased\" + 0.011*\"complaint\" + 0.011*\"exercise\" + 0.0106*\"fab\" + 0.0101*\"fines\"'), (45, '0.1933*\"gem\" + 0.1905*\"species\" + 0.1425*\"survival\" + 0.0618*\"degrees\" + 0.0195*\"stars\"'), (46, '0.0455*\"preserve\" + 0.0403*\"okay\" + 0.0348*\"jungle\" + 0.0341*\"priorities\" + 0.0337*\"downstream\"'), (47, '0.0782*\"neuroscience\" + 0.0721*\"brains\" + 0.0603*\"neuroscientist\" + 0.0555*\"physiological\" + 0.0327*\"teller\"'), (48, '0.0875*\"tighter\" + 0.0759*\"derail\" + 0.0537*\"dutch\" + 0.0508*\"posed\" + 0.0498*\"companion\"'), (49, '0.0007*\"flowthe\" + 0.0007*\"stockholders\" + 0.0006*\"mindful\" + 0.0006*\"soxl\" + 0.0005*\"guidancemanagement\"'), (50, '0.0064*\"confirming\" + 0.0063*\"checking\" + 0.0049*\"intervention\" + 0.0047*\"ihs\" + 0.0047*\"pundits\"'), (51, '0.0596*\"students\" + 0.0555*\"nadella\" + 0.0512*\"interviews\" + 0.0465*\"proponent\" + 0.0437*\"brown\"'), (52, '0.0118*\"epiphany\" + 0.0116*\"huxley\" + 0.0107*\"darwin\" + 0.0104*\"julian\" + 0.0104*\"halpern\"'), (53, '0.0107*\"collecting\" + 0.0095*\"pursuing\" + 0.0093*\"filling\" + 0.009*\"monetize\" + 0.0088*\"distributed\"'), (54, '0.0019*\"garner\" + 0.0018*\"capped\" + 0.0018*\"todayexperts\" + 0.0017*\"idaho\" + 0.0017*\"pendinga\"'), (55, '0.0066*\"bob\" + 0.0063*\"communicate\" + 0.0062*\"personalized\" + 0.0061*\"specifics\" + 0.0057*\"diving\"'), (56, '0.0184*\"shorting\" + 0.0177*\"angle\" + 0.0156*\"observed\" + 0.0143*\"assembled\" + 0.0132*\"supreme\"'), (57, '0.0356*\"scheme\" + 0.0234*\"explicit\" + 0.0199*\"freeze\" + 0.0189*\"afraid\" + 0.0177*\"emotional\"'), (58, '0.0168*\"accepted\" + 0.0151*\"undisclosed\" + 0.0125*\"english\" + 0.0124*\"disagree\" + 0.0096*\"contained\"'), (59, '0.027*\"listened\" + 0.0195*\"interactions\" + 0.0143*\"mental\" + 0.013*\"sums\" + 0.0125*\"gingrich\"')]\n",
      "['anxiety', 'lee', 'responses', 'scan', 'dragon']\n",
      "['council', 'ordering', 'cupertino', 'costly', 'outlets']\n",
      "['removal', 'incorporate', 'stopping', 'clause', 'nationwide']\n",
      "['blows', 'rocks', 'retaliated', 'raymond', 'functionalities']\n",
      "['wfe', 'ironically', 'bankers', 'fits', 'lipacis']\n",
      "['rader', 'respiratory', 'pandemic', 'vaccines', 'sanitation']\n",
      "['diversity', 'behalf', 'feet', 'xm', 'satoshi']\n",
      "['dented', 'badly', 'cites', 'feast', 'breakeven']\n",
      "['commonly', 'province', 'compass', 'mild', 'probable']\n",
      "['spreading', 'hospitals', 'ill', 'nicholas', 'champion']\n",
      "['daddy', 'cruising', 'remarked', 'inventions', 'populations']\n",
      "['penetrate', 'implementing', 'rebounding', 'avenues', 'virtualization']\n",
      "['exclude', 'secondary', 'corresponding', 'seat', 'bearing']\n",
      "['scaled', 'softening', 'claiming', 'obstacle', 'headway']\n",
      "['isi', 'detailsnon', 'differentiated', 'friedrichshafen', 'pickscurrently']\n",
      "['occurs', 'exist', 'tackle', 'fan', 'racing']\n",
      "['coffee', 'exploit', 'upgrading', 'throw', 'favoring']\n",
      "['lookhere', 'marginsnvidia', 'flownvidia', 'nfm', 'xsd']\n",
      "['fda', 'fiction', 'papers', 'teenage', 'experimental']\n",
      "['originated', 'syndrome', 'varieties', 'infections', 'jane']\n",
      "['mit', 'candace', 'norepinephrine', 'subconscious', 'teller']\n",
      "['pronounced', 'loved', 'realm', 'southwest', 'confusion']\n",
      "['allocated', 'clientele', 'ddaif', 'inorganic', 'splrct']\n",
      "['disruptor', 'paragraphs', 'burning', 'questionable', 'traveling']\n",
      "['ethical', 'naval', 'burgess', 'consumerism', 'tribal']\n",
      "['cleaning', 'calculations', 'berlin', 'favorites', 'postponed']\n",
      "['drawn', 'convinced', 'casual', 'caters', 'vacation']\n",
      "['afford', 'perfectly', 'directions', 'ipads', 'knowing']\n",
      "['advantages', 'ugly', 'virginia', 'destination', 'error']\n",
      "['differ', 'everywhere', 'constraints', 'disastrous', 'pictures']\n",
      "['creativity', 'synthesis', 'motorcycle', 'educators', 'pretend']\n",
      "['isolated', 'handing', 'outward', 'birds', 'fooled']\n",
      "['narrated', 'happiness', 'npr', 'livestock', 'timetables']\n",
      "['viable', 'contains', 'enthusiasm', 'locking', 'depressed']\n",
      "['garnered', 'adequate', 'alike', 'wiped', 'comp']\n",
      "['woke', 'illusion', 'monsters', 'ariely', 'reconciling']\n",
      "['chaos', 'philosophy', 'attitudes', 'radical', 'eternal']\n",
      "['extraordinary', 'erased', 'constitute', 'voted', 'revolutionize']\n",
      "['endorphins', 'intellectuals', 'dopamine', 'romantic', 'bakunin']\n",
      "['false', 'hate', 'career', 'shock', 'treat']\n",
      "['conclude', 'invite', 'tolerance', 'switched', 'dog']\n",
      "['atlantic', 'wright', 'indirect', 'du', 'clearer']\n",
      "['sycamore', 'systematic', 'blindspots', 'blunders', 'overcoming']\n",
      "['threatens', 'referred', 'external', 'repeatedly', 'hulu']\n",
      "['showcased', 'complaint', 'exercise', 'fab', 'fines']\n",
      "['gem', 'species', 'survival', 'degrees', 'stars']\n",
      "['preserve', 'okay', 'jungle', 'priorities', 'downstream']\n",
      "['neuroscience', 'brains', 'neuroscientist', 'physiological', 'teller']\n",
      "['tighter', 'derail', 'dutch', 'posed', 'companion']\n",
      "['flowthe', 'stockholders', 'mindful', 'soxl', 'guidancemanagement']\n",
      "['confirming', 'checking', 'intervention', 'ihs', 'pundits']\n",
      "['students', 'nadella', 'interviews', 'proponent', 'brown']\n",
      "['epiphany', 'huxley', 'darwin', 'julian', 'halpern']\n",
      "['collecting', 'pursuing', 'filling', 'monetize', 'distributed']\n",
      "['garner', 'capped', 'todayexperts', 'idaho', 'pendinga']\n",
      "['bob', 'communicate', 'personalized', 'specifics', 'diving']\n",
      "['shorting', 'angle', 'observed', 'assembled', 'supreme']\n",
      "['scheme', 'explicit', 'freeze', 'afraid', 'emotional']\n",
      "['accepted', 'undisclosed', 'english', 'disagree', 'contained']\n",
      "['listened', 'interactions', 'mental', 'sums', 'gingrich']\n",
      "Coherence Score: 0.3917961214899531\n",
      "Diversity Score: 0.9966666666666667\n",
      "Interpretability Score: 0.3904901344183199\n"
     ]
    }
   ],
   "execution_count": 20
  },
  {
   "metadata": {},
   "cell_type": "markdown",
   "source": "Coherence score decreased when lowering number of words per topic."
  },
  {
   "metadata": {},
   "cell_type": "markdown",
   "source": "Some topics are related to neurology and health themes. Majority of the words in the topics seem irrelevant."
  },
  {
   "metadata": {},
   "cell_type": "markdown",
   "source": "## Iteration 6: num_words per topic = 15"
  },
  {
   "metadata": {
    "ExecuteTime": {
     "end_time": "2024-11-05T22:45:00.235554Z",
     "start_time": "2024-11-05T22:44:26.773704Z"
    }
   },
   "cell_type": "code",
   "source": [
    "# Parameters\n",
    "flsaw_data = remove_n_percent(data, 15)\n",
    "num_topics=60\n",
    "num_words=15\n",
    "\n",
    "flsaW = FLSA_W(\n",
    "    input_file = flsaw_data,\n",
    "    num_topics=num_topics,\n",
    "    num_words=num_words,\n",
    ")\n",
    "\n",
    "flsaW.get_vocabulary_size()\n",
    "pwgt, ptgd = flsaW.get_matrices() # THIS TRAINS THE MODEL\n",
    "\n",
    "\n",
    "print(flsaW.show_topics())\n",
    "\n",
    "for topic in flsaW.show_topics(representation='words'):\n",
    "    print(topic)\n",
    "  \n",
    "    \n",
    "print(\"Coherence Score:\", flsaW.get_coherence_score())\n",
    "print(\"Diversity Score:\",flsaW.get_diversity_score())\n",
    "print(\"Interpretability Score:\",flsaW.get_interpretability_score())"
   ],
   "outputs": [
    {
     "name": "stdout",
     "output_type": "stream",
     "text": [
      "[(0, '0.0049*\"scaled\" + 0.0046*\"softening\" + 0.0041*\"disk\" + 0.0039*\"claiming\" + 0.0039*\"ssys\" + 0.0033*\"renowned\" + 0.0032*\"ample\" + 0.0032*\"obstacle\" + 0.0031*\"headway\" + 0.003*\"mo\" + 0.003*\"kraft\" + 0.0029*\"eyeing\" + 0.0029*\"reign\" + 0.0028*\"dining\" + 0.0028*\"understandably\"'), (1, '0.0163*\"accepted\" + 0.0147*\"undisclosed\" + 0.0136*\"disagree\" + 0.0125*\"english\" + 0.0093*\"thailand\" + 0.0087*\"genuine\" + 0.0084*\"contained\" + 0.0082*\"soccer\" + 0.0082*\"fighter\" + 0.0081*\"hopefully\" + 0.0074*\"unlawful\" + 0.0073*\"ming\" + 0.0072*\"philippines\" + 0.0071*\"flew\" + 0.0071*\"kuo\"'), (2, '0.005*\"cleaning\" + 0.0047*\"calculations\" + 0.0039*\"favorites\" + 0.0036*\"berlin\" + 0.0036*\"postponed\" + 0.0035*\"pipelines\" + 0.0034*\"rounding\" + 0.0034*\"brake\" + 0.0033*\"negotiator\" + 0.0032*\"convenient\" + 0.0032*\"challenged\" + 0.0032*\"allies\" + 0.0031*\"cry\" + 0.003*\"addressed\" + 0.003*\"protectionist\"'), (3, '0.1871*\"stars\" + 0.1687*\"exploring\" + 0.1566*\"birth\" + 0.0481*\"degrees\" + 0.0193*\"gem\" + 0.0154*\"explode\" + 0.0125*\"mathematical\" + 0.01*\"species\" + 0.0098*\"survival\" + 0.0064*\"describes\" + 0.0061*\"causes\" + 0.0057*\"college\" + 0.0054*\"connections\" + 0.0053*\"destiny\" + 0.0044*\"adult\"'), (4, '0.0221*\"diversity\" + 0.0196*\"behalf\" + 0.0103*\"feet\" + 0.0085*\"xm\" + 0.0084*\"terror\" + 0.0084*\"fraudulently\" + 0.0084*\"millward\" + 0.0084*\"mcmilon\" + 0.0084*\"liveup\" + 0.0084*\"facilitation\" + 0.0084*\"yergin\" + 0.0084*\"plas\" + 0.0084*\"satoshi\" + 0.0084*\"injunctive\" + 0.0084*\"outfitting\"'), (5, '0.0165*\"constraints\" + 0.014*\"immune\" + 0.0127*\"jay\" + 0.0125*\"streamed\" + 0.0121*\"succeed\" + 0.0116*\"fraud\" + 0.0116*\"weapons\" + 0.0114*\"exacerbate\" + 0.0111*\"awareness\" + 0.0107*\"supposedly\" + 0.0103*\"enriched\" + 0.0103*\"differ\" + 0.01*\"broadcast\" + 0.0099*\"beg\" + 0.0098*\"famously\"'), (6, '0.0045*\"council\" + 0.0042*\"cupertino\" + 0.0042*\"ordering\" + 0.004*\"costly\" + 0.004*\"outlets\" + 0.0037*\"worrying\" + 0.0035*\"carrier\" + 0.0034*\"compromise\" + 0.0034*\"convince\" + 0.0034*\"spun\" + 0.0033*\"brewing\" + 0.0032*\"jointly\" + 0.0032*\"altogether\" + 0.0032*\"expire\" + 0.0031*\"mbbyf\"'), (7, '0.0069*\"throw\" + 0.0068*\"outlined\" + 0.0067*\"deployments\" + 0.0065*\"coffee\" + 0.0065*\"lawyers\" + 0.0064*\"charged\" + 0.0062*\"upgrading\" + 0.0058*\"exploit\" + 0.0055*\"releasing\" + 0.0053*\"obligations\" + 0.0052*\"refers\" + 0.0051*\"bills\" + 0.0049*\"favoring\" + 0.0049*\"twitch\" + 0.0048*\"anymore\"'), (8, '0.0139*\"shut\" + 0.0134*\"privately\" + 0.0111*\"telephone\" + 0.01*\"gmail\" + 0.0098*\"chat\" + 0.0065*\"emailed\" + 0.0062*\"cortana\" + 0.0055*\"sheets\" + 0.0051*\"databases\" + 0.0047*\"violates\" + 0.0045*\"wii\" + 0.0043*\"unattractive\" + 0.0042*\"tab\" + 0.0041*\"default\" + 0.004*\"woo\"'), (9, '0.0264*\"southwest\" + 0.0262*\"pronounced\" + 0.025*\"realm\" + 0.0249*\"todd\" + 0.0245*\"loved\" + 0.0234*\"confusion\" + 0.0222*\"timed\" + 0.0214*\"determination\" + 0.0213*\"judgment\" + 0.0205*\"chromebook\" + 0.0196*\"wine\" + 0.0189*\"physics\" + 0.0174*\"parade\" + 0.0167*\"henry\" + 0.016*\"bag\"'), (10, '0.0029*\"rebounding\" + 0.0028*\"penetrate\" + 0.0027*\"slowest\" + 0.0026*\"resilience\" + 0.0025*\"leisure\" + 0.0025*\"armour\" + 0.0024*\"avenues\" + 0.0024*\"ambitious\" + 0.0024*\"virtualization\" + 0.0024*\"digest\" + 0.0024*\"batch\" + 0.0023*\"occupies\" + 0.0023*\"inflationary\" + 0.0023*\"influenced\" + 0.0022*\"implementing\"'), (11, '0.0271*\"circles\" + 0.0267*\"explodes\" + 0.0267*\"harnessed\" + 0.0267*\"nails\" + 0.0265*\"grains\" + 0.0261*\"happiness\" + 0.0261*\"amassing\" + 0.0256*\"livestock\" + 0.0256*\"narrated\" + 0.0249*\"npr\" + 0.0246*\"timetables\" + 0.0232*\"derek\" + 0.0223*\"consequential\" + 0.0197*\"intersection\" + 0.0147*\"interactions\"'), (12, '0.002*\"capped\" + 0.0019*\"extracted\" + 0.0018*\"todayexperts\" + 0.0018*\"issuing\" + 0.0017*\"garner\" + 0.0017*\"idaho\" + 0.0016*\"handily\" + 0.0016*\"dipping\" + 0.0016*\"phenomenal\" + 0.0015*\"oxy\" + 0.0015*\"stabilizing\" + 0.0015*\"dull\" + 0.0015*\"gddr\" + 0.0015*\"respite\" + 0.0015*\"budding\"'), (13, '0.0022*\"badly\" + 0.0021*\"feast\" + 0.0021*\"payouts\" + 0.0019*\"primed\" + 0.0018*\"cites\" + 0.0018*\"debuted\" + 0.0018*\"dented\" + 0.0018*\"cassidy\" + 0.0018*\"decreasing\" + 0.0018*\"dsp\" + 0.0018*\"ranges\" + 0.0018*\"digested\" + 0.0017*\"breakeven\" + 0.0017*\"negotiators\" + 0.0017*\"intriguing\"'), (14, '0.0405*\"originated\" + 0.039*\"syndrome\" + 0.031*\"infections\" + 0.031*\"varieties\" + 0.031*\"jane\" + 0.0308*\"mandelbrot\" + 0.0308*\"benoit\" + 0.0308*\"pseudo\" + 0.0306*\"champ\" + 0.0305*\"kasparov\" + 0.0305*\"garry\" + 0.0303*\"pigs\" + 0.0301*\"lethal\" + 0.0297*\"impoverished\" + 0.0296*\"mathematician\"'), (15, '0.0309*\"fda\" + 0.024*\"fiction\" + 0.0198*\"experimental\" + 0.0196*\"cognition\" + 0.0194*\"receptor\" + 0.0193*\"teenage\" + 0.0193*\"papers\" + 0.0193*\"sabotage\" + 0.0185*\"societies\" + 0.0179*\"communicates\" + 0.0179*\"lively\" + 0.0174*\"police\" + 0.0172*\"gottlieb\" + 0.0134*\"psychologist\" + 0.0133*\"creatures\"'), (16, '0.0555*\"mit\" + 0.0497*\"candace\" + 0.0399*\"norepinephrine\" + 0.0325*\"teller\" + 0.032*\"subconscious\" + 0.0184*\"hormones\" + 0.0149*\"pert\" + 0.0126*\"experiments\" + 0.0123*\"brains\" + 0.0112*\"technologically\" + 0.0083*\"tribalism\" + 0.0082*\"neuroscience\" + 0.0073*\"neuroscientist\" + 0.007*\"studying\" + 0.0067*\"located\"'), (17, '0.0137*\"foretaste\" + 0.0137*\"tatters\" + 0.0137*\"essays\" + 0.0137*\"ecosphere\" + 0.0137*\"dance\" + 0.0137*\"endorphins\" + 0.0137*\"anarchist\" + 0.0137*\"neurochemistry\" + 0.0137*\"bloodstream\" + 0.0137*\"peaceable\" + 0.0137*\"philosopher\" + 0.0137*\"gigs\" + 0.0137*\"dopamine\" + 0.0137*\"heritable\" + 0.0137*\"humanists\"'), (18, '0.0095*\"sycamore\" + 0.0079*\"systematic\" + 0.0074*\"blindspots\" + 0.0068*\"blunders\" + 0.0066*\"overcoming\" + 0.0064*\"tversky\" + 0.0063*\"calculation\" + 0.0057*\"manner\" + 0.0057*\"astray\" + 0.0057*\"erred\" + 0.0057*\"progenitors\" + 0.0057*\"moneyball\" + 0.0057*\"unconscious\" + 0.0057*\"repeatable\" + 0.0057*\"footnote\"'), (19, '0.0931*\"unstoppable\" + 0.0831*\"conscious\" + 0.0725*\"champions\" + 0.0602*\"curiosity\" + 0.0511*\"biologist\" + 0.0392*\"professor\" + 0.0358*\"teachers\" + 0.0258*\"guy\" + 0.0258*\"religion\" + 0.0252*\"founding\" + 0.0235*\"episodes\" + 0.0231*\"kevinbcook\" + 0.0175*\"civilization\" + 0.0158*\"radical\" + 0.0156*\"chaos\"'), (20, '0.0006*\"flowthe\" + 0.0006*\"stockholders\" + 0.0006*\"mindful\" + 0.0006*\"soxl\" + 0.0005*\"guidancemanagement\" + 0.0005*\"considertexas\" + 0.0005*\"wipro\" + 0.0005*\"backtest\" + 0.0005*\"detailsgross\" + 0.0005*\"receivable\" + 0.0005*\"pickssome\" + 0.0005*\"vip\" + 0.0005*\"refreshes\" + 0.0005*\"whispersour\" + 0.0005*\"azpn\"'), (21, '0.0059*\"confirming\" + 0.0057*\"checking\" + 0.0049*\"ihs\" + 0.0046*\"pundits\" + 0.0045*\"litigation\" + 0.0043*\"intervention\" + 0.0042*\"distribute\" + 0.0041*\"travelers\" + 0.0041*\"ed\" + 0.004*\"efficiencies\" + 0.004*\"campus\" + 0.0039*\"patrick\" + 0.0039*\"rounds\" + 0.0038*\"gop\" + 0.0038*\"lists\"'), (22, '0.001*\"lookhere\" + 0.0009*\"envisioned\" + 0.0009*\"xsd\" + 0.0008*\"flownvidia\" + 0.0008*\"marginsnvidia\" + 0.0008*\"nfm\" + 0.0008*\"guidancethe\" + 0.0008*\"pstg\" + 0.0008*\"receivables\" + 0.0008*\"hsi\" + 0.0008*\"conducive\" + 0.0008*\"zacksbeyond\" + 0.0008*\"flashblade\" + 0.0008*\"elated\" + 0.0007*\"bmwyy\"'), (23, '0.0673*\"commonly\" + 0.0582*\"province\" + 0.0466*\"mild\" + 0.0465*\"compass\" + 0.0451*\"probable\" + 0.0447*\"county\" + 0.0442*\"exceeds\" + 0.0424*\"termination\" + 0.0396*\"magnetic\" + 0.035*\"foundational\" + 0.0347*\"az\" + 0.0333*\"declaring\" + 0.0329*\"wonderful\" + 0.0261*\"predetermined\" + 0.0256*\"brainer\"'), (24, '0.0069*\"stopping\" + 0.0068*\"bidding\" + 0.006*\"removal\" + 0.0056*\"incorporate\" + 0.0056*\"interaction\" + 0.0055*\"significance\" + 0.0055*\"roles\" + 0.0054*\"authorized\" + 0.0051*\"premiums\" + 0.005*\"criminal\" + 0.0049*\"clause\" + 0.0049*\"nationwide\" + 0.0046*\"grows\" + 0.0045*\"tick\" + 0.0045*\"character\"'), (25, '0.0243*\"communities\" + 0.0222*\"preserve\" + 0.0219*\"psychologically\" + 0.0219*\"summed\" + 0.0219*\"pursued\" + 0.0218*\"reasoning\" + 0.0214*\"euphoric\" + 0.0213*\"presentations\" + 0.0211*\"observation\" + 0.021*\"stratosphere\" + 0.0208*\"coined\" + 0.0201*\"glad\" + 0.0199*\"brave\" + 0.0193*\"paragraphs\" + 0.0184*\"deeply\"'), (26, '0.0059*\"threatens\" + 0.0058*\"referred\" + 0.0052*\"external\" + 0.005*\"hulu\" + 0.005*\"repeatedly\" + 0.0047*\"complaints\" + 0.0046*\"considerations\" + 0.0046*\"internally\" + 0.0045*\"bridge\" + 0.0044*\"object\" + 0.0043*\"kansas\" + 0.0039*\"distance\" + 0.0038*\"rico\" + 0.0038*\"adjusting\" + 0.0038*\"opposed\"'), (27, '0.044*\"occurs\" + 0.0426*\"exist\" + 0.0422*\"tackle\" + 0.0407*\"fan\" + 0.0405*\"racing\" + 0.0404*\"rarely\" + 0.04*\"difficulties\" + 0.0396*\"tens\" + 0.0391*\"writes\" + 0.0367*\"crack\" + 0.0355*\"eventual\" + 0.0354*\"speeding\" + 0.0354*\"ralph\" + 0.0347*\"stark\" + 0.0336*\"deviation\"'), (28, '0.0157*\"ethical\" + 0.0138*\"poverty\" + 0.0136*\"naval\" + 0.0133*\"arms\" + 0.0123*\"osnos\" + 0.0123*\"crowdstrike\" + 0.0123*\"spaceflight\" + 0.0123*\"consumerism\" + 0.0123*\"doctrines\" + 0.0123*\"perkins\" + 0.0123*\"sapiens\" + 0.0123*\"scruffy\" + 0.0123*\"colonial\" + 0.0123*\"pushback\" + 0.0123*\"mobs\"'), (29, '0.1131*\"pursuit\" + 0.1131*\"gould\" + 0.0969*\"professor\" + 0.057*\"subtitle\" + 0.0474*\"certainty\" + 0.0412*\"civilization\" + 0.0326*\"morality\" + 0.0285*\"transcended\" + 0.0278*\"beliefs\" + 0.0129*\"episodes\" + 0.0112*\"reconciliation\" + 0.0109*\"guy\" + 0.0108*\"teachers\" + 0.0104*\"founding\" + 0.0093*\"religion\"'), (30, '0.0149*\"stored\" + 0.0128*\"sourcing\" + 0.0109*\"aspect\" + 0.0103*\"performs\" + 0.0093*\"hunt\" + 0.0087*\"requiring\" + 0.0085*\"laboratory\" + 0.0083*\"interpret\" + 0.0082*\"feye\" + 0.0079*\"ambitions\" + 0.0078*\"rewards\" + 0.0077*\"resigned\" + 0.0076*\"workflow\" + 0.0074*\"websites\" + 0.0073*\"preventing\"'), (31, '0.0012*\"isi\" + 0.0011*\"differentiated\" + 0.0011*\"friedrichshafen\" + 0.001*\"detailsnon\" + 0.001*\"pickscurrently\" + 0.001*\"segmental\" + 0.001*\"turbulent\" + 0.001*\"cy\" + 0.001*\"mentor\" + 0.0009*\"workstation\" + 0.0009*\"overhangs\" + 0.0009*\"boise\" + 0.0009*\"aftermarket\" + 0.0009*\"ssnlf\" + 0.0009*\"byd\"'), (32, '0.0035*\"unusually\" + 0.0031*\"streets\" + 0.0029*\"jc\" + 0.0028*\"proposition\" + 0.0026*\"successive\" + 0.0026*\"plethora\" + 0.0026*\"observe\" + 0.0026*\"striking\" + 0.0025*\"indirect\" + 0.0024*\"convert\" + 0.0024*\"concessions\" + 0.0024*\"diagnostics\" + 0.0024*\"farmers\" + 0.0024*\"dxy\" + 0.0024*\"flaw\"'), (33, '0.0775*\"spreading\" + 0.057*\"hospitals\" + 0.0564*\"ill\" + 0.0502*\"nicholas\" + 0.0467*\"champion\" + 0.0444*\"navy\" + 0.0419*\"dental\" + 0.0408*\"observations\" + 0.0329*\"threw\" + 0.0317*\"spikes\" + 0.0317*\"graduates\" + 0.0311*\"taleb\" + 0.0286*\"prevention\" + 0.0276*\"emerges\" + 0.0254*\"animal\"'), (34, '0.005*\"conclude\" + 0.0045*\"invite\" + 0.0036*\"switched\" + 0.0035*\"tolerance\" + 0.0035*\"dog\" + 0.0035*\"prowess\" + 0.0033*\"overperiod\" + 0.0032*\"reits\" + 0.0031*\"blacklist\" + 0.0031*\"sizable\" + 0.003*\"dmasvix\" + 0.0029*\"trillions\" + 0.0029*\"removing\" + 0.0028*\"extremes\" + 0.0027*\"watt\"'), (35, '0.0448*\"isolated\" + 0.0405*\"handing\" + 0.0405*\"outward\" + 0.0398*\"birds\" + 0.0395*\"fooled\" + 0.0395*\"easiest\" + 0.0385*\"miserable\" + 0.0373*\"illness\" + 0.036*\"novavax\" + 0.036*\"nvax\" + 0.0353*\"warming\" + 0.0344*\"davos\" + 0.0343*\"hubei\" + 0.0328*\"hn\" + 0.0269*\"explorers\"'), (36, '0.0409*\"academic\" + 0.032*\"branson\" + 0.0314*\"teenager\" + 0.0214*\"neurological\" + 0.0208*\"roots\" + 0.0203*\"thinkers\" + 0.0202*\"behaviors\" + 0.0157*\"opiate\" + 0.0125*\"swirling\" + 0.0121*\"essence\" + 0.0094*\"emphasize\" + 0.0086*\"therapies\" + 0.0078*\"weighty\" + 0.0076*\"madoff\" + 0.0075*\"bernie\"'), (37, '0.0235*\"responses\" + 0.0226*\"beasts\" + 0.0216*\"anxiety\" + 0.0213*\"stress\" + 0.0201*\"consistency\" + 0.0193*\"wealthy\" + 0.0176*\"darkness\" + 0.0176*\"preeminent\" + 0.0171*\"scan\" + 0.0171*\"pompeo\" + 0.0169*\"settlements\" + 0.0168*\"lee\" + 0.0167*\"conquered\" + 0.0166*\"freeze\" + 0.0166*\"penned\"'), (38, '0.0534*\"clip\" + 0.0384*\"voices\" + 0.0345*\"ayx\" + 0.0333*\"inevitable\" + 0.032*\"celgene\" + 0.0316*\"alteryx\" + 0.0282*\"feelings\" + 0.0256*\"explorer\" + 0.0242*\"wrongly\" + 0.0238*\"sydney\" + 0.0232*\"graduate\" + 0.0212*\"sherman\" + 0.0207*\"segmenting\" + 0.0204*\"wreak\" + 0.0159*\"fascinated\"'), (39, '0.0015*\"allocated\" + 0.0014*\"density\" + 0.0013*\"clientele\" + 0.0013*\"ddaif\" + 0.0013*\"fared\" + 0.0013*\"inorganic\" + 0.0012*\"downbeat\" + 0.0012*\"ntdoy\" + 0.0011*\"testament\" + 0.0011*\"sg\" + 0.0011*\"splrct\" + 0.0011*\"slate\" + 0.0011*\"alexandria\" + 0.0011*\"insane\" + 0.0011*\"quadro\"'), (40, '0.0036*\"enjoying\" + 0.0033*\"adapt\" + 0.0033*\"tuned\" + 0.0033*\"beneficiary\" + 0.0033*\"comprise\" + 0.0033*\"slammed\" + 0.0032*\"revealing\" + 0.0032*\"dealt\" + 0.0031*\"boon\" + 0.003*\"monetization\" + 0.0029*\"unlimited\" + 0.0029*\"bearing\" + 0.0029*\"hinted\" + 0.0028*\"stabilize\" + 0.0027*\"tracked\"'), (41, '0.0031*\"reserves\" + 0.0031*\"constitute\" + 0.0031*\"hammered\" + 0.0029*\"hesitant\" + 0.0028*\"sliding\" + 0.0027*\"voted\" + 0.0027*\"multiples\" + 0.0027*\"integrity\" + 0.0026*\"extraordinary\" + 0.0025*\"congestion\" + 0.0025*\"hints\" + 0.0024*\"revolutionize\" + 0.0024*\"trackers\" + 0.0023*\"bofa\" + 0.0023*\"erased\"'), (42, '0.0036*\"contains\" + 0.0032*\"enthusiasm\" + 0.0031*\"viable\" + 0.0029*\"dominating\" + 0.0027*\"depressed\" + 0.0027*\"upped\" + 0.0027*\"sticking\" + 0.0026*\"pessimism\" + 0.0026*\"barriers\" + 0.0026*\"locking\" + 0.0026*\"indicative\" + 0.0025*\"sia\" + 0.0024*\"assessing\" + 0.0024*\"dream\" + 0.0024*\"baked\"'), (43, '0.0569*\"chaos\" + 0.0537*\"radical\" + 0.0461*\"philosophy\" + 0.0398*\"eternal\" + 0.0397*\"attitudes\" + 0.0395*\"reissued\" + 0.0394*\"sean\" + 0.0393*\"refunds\" + 0.0389*\"revolutionized\" + 0.0386*\"yep\" + 0.0381*\"destined\" + 0.03*\"tinker\" + 0.0271*\"religious\" + 0.0239*\"socially\" + 0.0186*\"kevinbcook\"'), (44, '0.0019*\"blows\" + 0.0018*\"retaliated\" + 0.0018*\"raymond\" + 0.0017*\"rocks\" + 0.0017*\"drastically\" + 0.0016*\"functionalities\" + 0.0016*\"sensational\" + 0.0016*\"reverses\" + 0.0016*\"registration\" + 0.0016*\"paving\" + 0.0015*\"paltry\" + 0.0015*\"chaim\" + 0.0015*\"philip\" + 0.0015*\"possess\" + 0.0015*\"headquarter\"'), (45, '0.0206*\"shorting\" + 0.0197*\"angle\" + 0.0183*\"observed\" + 0.0155*\"assembled\" + 0.0133*\"comply\" + 0.0126*\"searched\" + 0.0125*\"women\" + 0.0124*\"conducts\" + 0.0123*\"disrupted\" + 0.0122*\"altered\" + 0.0122*\"shelves\" + 0.0117*\"boss\" + 0.0115*\"supreme\" + 0.0114*\"specializing\" + 0.011*\"livestream\"'), (46, '0.0209*\"false\" + 0.018*\"career\" + 0.0177*\"hate\" + 0.0176*\"shock\" + 0.0175*\"treat\" + 0.0155*\"danger\" + 0.0154*\"conversations\" + 0.0147*\"cooker\" + 0.0142*\"description\" + 0.0128*\"student\" + 0.0111*\"rationale\" + 0.0103*\"vocal\" + 0.0096*\"colleagues\" + 0.0094*\"demographics\" + 0.0091*\"wit\"'), (47, '0.0063*\"bob\" + 0.006*\"communicate\" + 0.0059*\"personalized\" + 0.0058*\"specifics\" + 0.0055*\"suspect\" + 0.0054*\"diving\" + 0.0052*\"collective\" + 0.0052*\"carefully\" + 0.0049*\"filters\" + 0.0046*\"yhoo\" + 0.0046*\"station\" + 0.0046*\"objectives\" + 0.0046*\"eliminating\" + 0.0045*\"averaging\" + 0.0045*\"baby\"'), (48, '0.0399*\"afraid\" + 0.0264*\"ceos\" + 0.0247*\"emotional\" + 0.0245*\"memories\" + 0.0235*\"scramble\" + 0.0192*\"wisconsin\" + 0.0183*\"brookings\" + 0.0182*\"gregory\" + 0.018*\"tendencies\" + 0.0175*\"terry\" + 0.0174*\"spoils\" + 0.0168*\"weathered\" + 0.0166*\"politically\" + 0.0164*\"arenas\" + 0.016*\"trainer\"'), (49, '0.0572*\"illusion\" + 0.0561*\"woke\" + 0.039*\"consciously\" + 0.0389*\"ariely\" + 0.0386*\"monsters\" + 0.0386*\"cerebral\" + 0.0386*\"tory\" + 0.0385*\"teaches\" + 0.0384*\"obituary\" + 0.0384*\"sha\" + 0.0383*\"notions\" + 0.0383*\"softee\" + 0.0381*\"reconciling\" + 0.0379*\"vigorous\" + 0.0377*\"furthering\"'), (50, '0.0098*\"pursuing\" + 0.0097*\"collecting\" + 0.0095*\"excessive\" + 0.0093*\"filling\" + 0.0081*\"monetize\" + 0.0078*\"latin\" + 0.0078*\"distributed\" + 0.0073*\"wsj\" + 0.0073*\"heights\" + 0.0071*\"approached\" + 0.0068*\"chose\" + 0.0067*\"surgical\" + 0.0066*\"slice\" + 0.0065*\"violation\" + 0.0065*\"distracted\"'), (51, '0.0395*\"daddy\" + 0.0394*\"cruising\" + 0.0394*\"remarked\" + 0.0394*\"inventions\" + 0.0393*\"populations\" + 0.0392*\"portuguese\" + 0.0392*\"silk\" + 0.0392*\"preposterous\" + 0.0392*\"preparedness\" + 0.0392*\"disproportionately\" + 0.0391*\"mis\" + 0.0391*\"inovio\" + 0.039*\"adults\" + 0.0387*\"commencement\" + 0.0387*\"coincidentally\"'), (52, '0.1269*\"creativity\" + 0.1053*\"synthesis\" + 0.1034*\"motorcycle\" + 0.0857*\"ingenuity\" + 0.0854*\"philosophical\" + 0.0822*\"educators\" + 0.0755*\"pretend\" + 0.075*\"ignorance\" + 0.0429*\"reconciliation\" + 0.0092*\"certainty\" + 0.0086*\"beliefs\" + 0.0084*\"morality\" + 0.0063*\"professor\" + 0.0041*\"transcended\" + 0.0038*\"subtitle\"'), (53, '0.0192*\"rader\" + 0.0187*\"respiratory\" + 0.0184*\"pandemic\" + 0.0181*\"vaccines\" + 0.0167*\"breeding\" + 0.0167*\"incubation\" + 0.0167*\"sanitation\" + 0.0167*\"sharon\" + 0.0167*\"primatologist\" + 0.0167*\"fooling\" + 0.0167*\"liking\" + 0.0167*\"mrna\" + 0.0167*\"mortality\" + 0.0167*\"ebola\" + 0.0167*\"certainties\"'), (54, '0.0269*\"listened\" + 0.018*\"interactions\" + 0.0129*\"sums\" + 0.0127*\"mental\" + 0.0123*\"newt\" + 0.0123*\"gingrich\" + 0.0116*\"xanax\" + 0.0096*\"sensory\" + 0.0096*\"neurology\" + 0.0096*\"rodents\" + 0.0096*\"kandel\" + 0.0096*\"mammal\" + 0.0096*\"rabbit\" + 0.0096*\"lsu\" + 0.0096*\"wasps\"'), (55, '0.0863*\"tighter\" + 0.0751*\"derail\" + 0.0527*\"dutch\" + 0.0505*\"posed\" + 0.0493*\"companion\" + 0.0446*\"classification\" + 0.0395*\"spreads\" + 0.0391*\"equals\" + 0.0326*\"deaths\" + 0.0267*\"examples\" + 0.024*\"perspectives\" + 0.0237*\"bats\" + 0.0205*\"empire\" + 0.0204*\"bus\" + 0.0202*\"debates\"'), (56, '0.0061*\"drawn\" + 0.0059*\"convinced\" + 0.0057*\"caters\" + 0.0056*\"casual\" + 0.0055*\"vacation\" + 0.0051*\"imminent\" + 0.0049*\"displaying\" + 0.0043*\"chill\" + 0.0041*\"unfold\" + 0.004*\"gild\" + 0.0039*\"jaffray\" + 0.0039*\"par\" + 0.0037*\"disrupt\" + 0.0037*\"infringed\" + 0.0036*\"propaganda\"'), (57, '0.0054*\"wfe\" + 0.0049*\"ironically\" + 0.0048*\"fits\" + 0.0048*\"bankers\" + 0.0044*\"reviewing\" + 0.0044*\"lipacis\" + 0.0043*\"bars\" + 0.0039*\"solo\" + 0.0039*\"airline\" + 0.0039*\"zu\" + 0.0038*\"routine\" + 0.0037*\"holder\" + 0.0036*\"abbreviated\" + 0.0035*\"projecting\" + 0.0035*\"spirit\"'), (58, '0.0107*\"illing\" + 0.0107*\"silted\" + 0.0107*\"twentieth\" + 0.0107*\"bottles\" + 0.0107*\"stale\" + 0.0107*\"chautauqua\" + 0.0107*\"fondly\" + 0.0107*\"kwa\" + 0.0107*\"commoners\" + 0.0107*\"feelies\" + 0.0107*\"dogma\" + 0.0107*\"intentional\" + 0.0107*\"vox\" + 0.0107*\"chautauquas\" + 0.0107*\"wildlife\"'), (59, '0.1633*\"classroom\" + 0.1427*\"darwin\" + 0.1303*\"julian\" + 0.0879*\"epiphany\" + 0.0308*\"pretend\" + 0.0216*\"educators\" + 0.0204*\"synthesis\" + 0.0202*\"reconciliation\" + 0.0187*\"huxley\" + 0.0168*\"ignorance\" + 0.0165*\"beliefs\" + 0.0156*\"certainty\" + 0.0084*\"motorcycle\" + 0.0078*\"professor\" + 0.0077*\"morality\"')]\n",
      "['scaled', 'softening', 'disk', 'claiming', 'ssys', 'renowned', 'ample', 'obstacle', 'headway', 'mo', 'kraft', 'eyeing', 'reign', 'dining', 'understandably']\n",
      "['accepted', 'undisclosed', 'disagree', 'english', 'thailand', 'genuine', 'contained', 'soccer', 'fighter', 'hopefully', 'unlawful', 'ming', 'philippines', 'flew', 'kuo']\n",
      "['cleaning', 'calculations', 'favorites', 'berlin', 'postponed', 'pipelines', 'rounding', 'brake', 'negotiator', 'convenient', 'challenged', 'allies', 'cry', 'addressed', 'protectionist']\n",
      "['stars', 'exploring', 'birth', 'degrees', 'gem', 'explode', 'mathematical', 'species', 'survival', 'describes', 'causes', 'college', 'connections', 'destiny', 'adult']\n",
      "['diversity', 'behalf', 'feet', 'xm', 'terror', 'fraudulently', 'millward', 'mcmilon', 'liveup', 'facilitation', 'yergin', 'plas', 'satoshi', 'injunctive', 'outfitting']\n",
      "['constraints', 'immune', 'jay', 'streamed', 'succeed', 'fraud', 'weapons', 'exacerbate', 'awareness', 'supposedly', 'enriched', 'differ', 'broadcast', 'beg', 'famously']\n",
      "['council', 'cupertino', 'ordering', 'costly', 'outlets', 'worrying', 'carrier', 'compromise', 'convince', 'spun', 'brewing', 'jointly', 'altogether', 'expire', 'mbbyf']\n",
      "['throw', 'outlined', 'deployments', 'coffee', 'lawyers', 'charged', 'upgrading', 'exploit', 'releasing', 'obligations', 'refers', 'bills', 'favoring', 'twitch', 'anymore']\n",
      "['shut', 'privately', 'telephone', 'gmail', 'chat', 'emailed', 'cortana', 'sheets', 'databases', 'violates', 'wii', 'unattractive', 'tab', 'default', 'woo']\n",
      "['southwest', 'pronounced', 'realm', 'todd', 'loved', 'confusion', 'timed', 'determination', 'judgment', 'chromebook', 'wine', 'physics', 'parade', 'henry', 'bag']\n",
      "['rebounding', 'penetrate', 'slowest', 'resilience', 'leisure', 'armour', 'avenues', 'ambitious', 'virtualization', 'digest', 'batch', 'occupies', 'inflationary', 'influenced', 'implementing']\n",
      "['circles', 'explodes', 'harnessed', 'nails', 'grains', 'happiness', 'amassing', 'livestock', 'narrated', 'npr', 'timetables', 'derek', 'consequential', 'intersection', 'interactions']\n",
      "['capped', 'extracted', 'todayexperts', 'issuing', 'garner', 'idaho', 'handily', 'dipping', 'phenomenal', 'oxy', 'stabilizing', 'dull', 'gddr', 'respite', 'budding']\n",
      "['badly', 'feast', 'payouts', 'primed', 'cites', 'debuted', 'dented', 'cassidy', 'decreasing', 'dsp', 'ranges', 'digested', 'breakeven', 'negotiators', 'intriguing']\n",
      "['originated', 'syndrome', 'infections', 'varieties', 'jane', 'mandelbrot', 'benoit', 'pseudo', 'champ', 'kasparov', 'garry', 'pigs', 'lethal', 'impoverished', 'mathematician']\n",
      "['fda', 'fiction', 'experimental', 'cognition', 'receptor', 'teenage', 'papers', 'sabotage', 'societies', 'communicates', 'lively', 'police', 'gottlieb', 'psychologist', 'creatures']\n",
      "['mit', 'candace', 'norepinephrine', 'teller', 'subconscious', 'hormones', 'pert', 'experiments', 'brains', 'technologically', 'tribalism', 'neuroscience', 'neuroscientist', 'studying', 'located']\n",
      "['foretaste', 'tatters', 'essays', 'ecosphere', 'dance', 'endorphins', 'anarchist', 'neurochemistry', 'bloodstream', 'peaceable', 'philosopher', 'gigs', 'dopamine', 'heritable', 'humanists']\n",
      "['sycamore', 'systematic', 'blindspots', 'blunders', 'overcoming', 'tversky', 'calculation', 'manner', 'astray', 'erred', 'progenitors', 'moneyball', 'unconscious', 'repeatable', 'footnote']\n",
      "['unstoppable', 'conscious', 'champions', 'curiosity', 'biologist', 'professor', 'teachers', 'guy', 'religion', 'founding', 'episodes', 'kevinbcook', 'civilization', 'radical', 'chaos']\n",
      "['flowthe', 'stockholders', 'mindful', 'soxl', 'guidancemanagement', 'considertexas', 'wipro', 'backtest', 'detailsgross', 'receivable', 'pickssome', 'vip', 'refreshes', 'whispersour', 'azpn']\n",
      "['confirming', 'checking', 'ihs', 'pundits', 'litigation', 'intervention', 'distribute', 'travelers', 'ed', 'efficiencies', 'campus', 'patrick', 'rounds', 'gop', 'lists']\n",
      "['lookhere', 'envisioned', 'xsd', 'flownvidia', 'marginsnvidia', 'nfm', 'guidancethe', 'pstg', 'receivables', 'hsi', 'conducive', 'zacksbeyond', 'flashblade', 'elated', 'bmwyy']\n",
      "['commonly', 'province', 'mild', 'compass', 'probable', 'county', 'exceeds', 'termination', 'magnetic', 'foundational', 'az', 'declaring', 'wonderful', 'predetermined', 'brainer']\n",
      "['stopping', 'bidding', 'removal', 'incorporate', 'interaction', 'significance', 'roles', 'authorized', 'premiums', 'criminal', 'clause', 'nationwide', 'grows', 'tick', 'character']\n",
      "['communities', 'preserve', 'psychologically', 'summed', 'pursued', 'reasoning', 'euphoric', 'presentations', 'observation', 'stratosphere', 'coined', 'glad', 'brave', 'paragraphs', 'deeply']\n",
      "['threatens', 'referred', 'external', 'hulu', 'repeatedly', 'complaints', 'considerations', 'internally', 'bridge', 'object', 'kansas', 'distance', 'rico', 'adjusting', 'opposed']\n",
      "['occurs', 'exist', 'tackle', 'fan', 'racing', 'rarely', 'difficulties', 'tens', 'writes', 'crack', 'eventual', 'speeding', 'ralph', 'stark', 'deviation']\n",
      "['ethical', 'poverty', 'naval', 'arms', 'osnos', 'crowdstrike', 'spaceflight', 'consumerism', 'doctrines', 'perkins', 'sapiens', 'scruffy', 'colonial', 'pushback', 'mobs']\n",
      "['pursuit', 'gould', 'professor', 'subtitle', 'certainty', 'civilization', 'morality', 'transcended', 'beliefs', 'episodes', 'reconciliation', 'guy', 'teachers', 'founding', 'religion']\n",
      "['stored', 'sourcing', 'aspect', 'performs', 'hunt', 'requiring', 'laboratory', 'interpret', 'feye', 'ambitions', 'rewards', 'resigned', 'workflow', 'websites', 'preventing']\n",
      "['isi', 'differentiated', 'friedrichshafen', 'detailsnon', 'pickscurrently', 'segmental', 'turbulent', 'cy', 'mentor', 'workstation', 'overhangs', 'boise', 'aftermarket', 'ssnlf', 'byd']\n",
      "['unusually', 'streets', 'jc', 'proposition', 'successive', 'plethora', 'observe', 'striking', 'indirect', 'convert', 'concessions', 'diagnostics', 'farmers', 'dxy', 'flaw']\n",
      "['spreading', 'hospitals', 'ill', 'nicholas', 'champion', 'navy', 'dental', 'observations', 'threw', 'spikes', 'graduates', 'taleb', 'prevention', 'emerges', 'animal']\n",
      "['conclude', 'invite', 'switched', 'tolerance', 'dog', 'prowess', 'overperiod', 'reits', 'blacklist', 'sizable', 'dmasvix', 'trillions', 'removing', 'extremes', 'watt']\n",
      "['isolated', 'handing', 'outward', 'birds', 'fooled', 'easiest', 'miserable', 'illness', 'novavax', 'nvax', 'warming', 'davos', 'hubei', 'hn', 'explorers']\n",
      "['academic', 'branson', 'teenager', 'neurological', 'roots', 'thinkers', 'behaviors', 'opiate', 'swirling', 'essence', 'emphasize', 'therapies', 'weighty', 'madoff', 'bernie']\n",
      "['responses', 'beasts', 'anxiety', 'stress', 'consistency', 'wealthy', 'darkness', 'preeminent', 'scan', 'pompeo', 'settlements', 'lee', 'conquered', 'freeze', 'penned']\n",
      "['clip', 'voices', 'ayx', 'inevitable', 'celgene', 'alteryx', 'feelings', 'explorer', 'wrongly', 'sydney', 'graduate', 'sherman', 'segmenting', 'wreak', 'fascinated']\n",
      "['allocated', 'density', 'clientele', 'ddaif', 'fared', 'inorganic', 'downbeat', 'ntdoy', 'testament', 'sg', 'splrct', 'slate', 'alexandria', 'insane', 'quadro']\n",
      "['enjoying', 'adapt', 'tuned', 'beneficiary', 'comprise', 'slammed', 'revealing', 'dealt', 'boon', 'monetization', 'unlimited', 'bearing', 'hinted', 'stabilize', 'tracked']\n",
      "['reserves', 'constitute', 'hammered', 'hesitant', 'sliding', 'voted', 'multiples', 'integrity', 'extraordinary', 'congestion', 'hints', 'revolutionize', 'trackers', 'bofa', 'erased']\n",
      "['contains', 'enthusiasm', 'viable', 'dominating', 'depressed', 'upped', 'sticking', 'pessimism', 'barriers', 'locking', 'indicative', 'sia', 'assessing', 'dream', 'baked']\n",
      "['chaos', 'radical', 'philosophy', 'eternal', 'attitudes', 'reissued', 'sean', 'refunds', 'revolutionized', 'yep', 'destined', 'tinker', 'religious', 'socially', 'kevinbcook']\n",
      "['blows', 'retaliated', 'raymond', 'rocks', 'drastically', 'functionalities', 'sensational', 'reverses', 'registration', 'paving', 'paltry', 'chaim', 'philip', 'possess', 'headquarter']\n",
      "['shorting', 'angle', 'observed', 'assembled', 'comply', 'searched', 'women', 'conducts', 'disrupted', 'altered', 'shelves', 'boss', 'supreme', 'specializing', 'livestream']\n",
      "['false', 'career', 'hate', 'shock', 'treat', 'danger', 'conversations', 'cooker', 'description', 'student', 'rationale', 'vocal', 'colleagues', 'demographics', 'wit']\n",
      "['bob', 'communicate', 'personalized', 'specifics', 'suspect', 'diving', 'collective', 'carefully', 'filters', 'yhoo', 'station', 'objectives', 'eliminating', 'averaging', 'baby']\n",
      "['afraid', 'ceos', 'emotional', 'memories', 'scramble', 'wisconsin', 'brookings', 'gregory', 'tendencies', 'terry', 'spoils', 'weathered', 'politically', 'arenas', 'trainer']\n",
      "['illusion', 'woke', 'consciously', 'ariely', 'monsters', 'cerebral', 'tory', 'teaches', 'obituary', 'sha', 'notions', 'softee', 'reconciling', 'vigorous', 'furthering']\n",
      "['pursuing', 'collecting', 'excessive', 'filling', 'monetize', 'latin', 'distributed', 'wsj', 'heights', 'approached', 'chose', 'surgical', 'slice', 'violation', 'distracted']\n",
      "['daddy', 'cruising', 'remarked', 'inventions', 'populations', 'portuguese', 'silk', 'preposterous', 'preparedness', 'disproportionately', 'mis', 'inovio', 'adults', 'commencement', 'coincidentally']\n",
      "['creativity', 'synthesis', 'motorcycle', 'ingenuity', 'philosophical', 'educators', 'pretend', 'ignorance', 'reconciliation', 'certainty', 'beliefs', 'morality', 'professor', 'transcended', 'subtitle']\n",
      "['rader', 'respiratory', 'pandemic', 'vaccines', 'breeding', 'incubation', 'sanitation', 'sharon', 'primatologist', 'fooling', 'liking', 'mrna', 'mortality', 'ebola', 'certainties']\n",
      "['listened', 'interactions', 'sums', 'mental', 'newt', 'gingrich', 'xanax', 'sensory', 'neurology', 'rodents', 'kandel', 'mammal', 'rabbit', 'lsu', 'wasps']\n",
      "['tighter', 'derail', 'dutch', 'posed', 'companion', 'classification', 'spreads', 'equals', 'deaths', 'examples', 'perspectives', 'bats', 'empire', 'bus', 'debates']\n",
      "['drawn', 'convinced', 'caters', 'casual', 'vacation', 'imminent', 'displaying', 'chill', 'unfold', 'gild', 'jaffray', 'par', 'disrupt', 'infringed', 'propaganda']\n",
      "['wfe', 'ironically', 'fits', 'bankers', 'reviewing', 'lipacis', 'bars', 'solo', 'airline', 'zu', 'routine', 'holder', 'abbreviated', 'projecting', 'spirit']\n",
      "['illing', 'silted', 'twentieth', 'bottles', 'stale', 'chautauqua', 'fondly', 'kwa', 'commoners', 'feelies', 'dogma', 'intentional', 'vox', 'chautauquas', 'wildlife']\n",
      "['classroom', 'darwin', 'julian', 'epiphany', 'pretend', 'educators', 'synthesis', 'reconciliation', 'huxley', 'ignorance', 'beliefs', 'certainty', 'motorcycle', 'professor', 'morality']\n",
      "Coherence Score: 0.4716360105642588\n",
      "Diversity Score: 0.9688888888888889\n",
      "Interpretability Score: 0.456962890235593\n"
     ]
    }
   ],
   "execution_count": 21
  },
  {
   "metadata": {},
   "cell_type": "markdown",
   "source": "Coherence score slightly increased compared to 10 words per topic."
  },
  {
   "metadata": {},
   "cell_type": "markdown",
   "source": "## Iteration 7: num_words per topic = 20"
  },
  {
   "metadata": {
    "ExecuteTime": {
     "end_time": "2024-11-05T22:45:25.707056Z",
     "start_time": "2024-11-05T22:45:00.236558Z"
    }
   },
   "cell_type": "code",
   "source": [
    "# Parameters\n",
    "flsaw_data = remove_n_percent(data, 15)\n",
    "num_topics=60\n",
    "num_words=20\n",
    "\n",
    "flsaW = FLSA_W(\n",
    "    input_file = flsaw_data,\n",
    "    num_topics=num_topics,\n",
    "    num_words=num_words,\n",
    ")\n",
    "\n",
    "flsaW.get_vocabulary_size()\n",
    "pwgt, ptgd = flsaW.get_matrices() # THIS TRAINS THE MODEL\n",
    "\n",
    "\n",
    "print(flsaW.show_topics())\n",
    "\n",
    "for topic in flsaW.show_topics(representation='words'):\n",
    "    print(topic)\n",
    "  \n",
    "    \n",
    "print(\"Coherence Score:\", flsaW.get_coherence_score())\n",
    "print(\"Diversity Score:\",flsaW.get_diversity_score())\n",
    "print(\"Interpretability Score:\",flsaW.get_interpretability_score())"
   ],
   "outputs": [
    {
     "name": "stdout",
     "output_type": "stream",
     "text": [
      "[(0, '0.0207*\"false\" + 0.0177*\"career\" + 0.0175*\"shock\" + 0.0172*\"hate\" + 0.0171*\"treat\" + 0.0162*\"danger\" + 0.0158*\"conversations\" + 0.0143*\"cooker\" + 0.0141*\"description\" + 0.0127*\"student\" + 0.0114*\"rationale\" + 0.0106*\"vocal\" + 0.0101*\"colleagues\" + 0.0093*\"demographics\" + 0.0089*\"wit\" + 0.0088*\"centre\" + 0.0075*\"eddy\" + 0.0074*\"allen\" + 0.0073*\"repeats\" + 0.0069*\"genes\"'), (1, '0.0283*\"explodes\" + 0.0282*\"circles\" + 0.028*\"amassing\" + 0.0277*\"nails\" + 0.027*\"harnessed\" + 0.027*\"happiness\" + 0.0267*\"grains\" + 0.0267*\"livestock\" + 0.0261*\"narrated\" + 0.0254*\"timetables\" + 0.0249*\"npr\" + 0.0235*\"derek\" + 0.0224*\"consequential\" + 0.0221*\"intersection\" + 0.016*\"interactions\" + 0.0142*\"vested\" + 0.014*\"mental\" + 0.0122*\"rituals\" + 0.0105*\"fascinated\" + 0.0104*\"orbit\"'), (2, '0.0406*\"originated\" + 0.0391*\"syndrome\" + 0.0311*\"varieties\" + 0.0311*\"infections\" + 0.0311*\"jane\" + 0.031*\"benoit\" + 0.031*\"mandelbrot\" + 0.0309*\"pseudo\" + 0.0307*\"champ\" + 0.0306*\"garry\" + 0.0306*\"kasparov\" + 0.0304*\"pigs\" + 0.0302*\"lethal\" + 0.0298*\"impoverished\" + 0.0297*\"mathematician\" + 0.0295*\"pneumonia\" + 0.0293*\"antiviral\" + 0.0291*\"outbreaks\" + 0.029*\"references\" + 0.0288*\"beds\"'), (3, '0.0271*\"listened\" + 0.0179*\"interactions\" + 0.0129*\"sums\" + 0.0126*\"gingrich\" + 0.0126*\"newt\" + 0.0122*\"mental\" + 0.0118*\"xanax\" + 0.0097*\"kittens\" + 0.0097*\"anxietyin\" + 0.0097*\"annotation\" + 0.0097*\"ancestor\" + 0.0097*\"pharmacological\" + 0.0097*\"theamygdaloid\" + 0.0097*\"anxietyeven\" + 0.0097*\"reflex\" + 0.0097*\"amygdala\" + 0.0097*\"sabotagethe\" + 0.0097*\"sweaty\" + 0.0097*\"vertebrate\" + 0.0097*\"happenswhen\"'), (4, '0.0015*\"density\" + 0.0014*\"allocated\" + 0.0013*\"clientele\" + 0.0013*\"ddaif\" + 0.0013*\"fared\" + 0.0013*\"inorganic\" + 0.0012*\"downbeat\" + 0.0012*\"ntdoy\" + 0.0011*\"sg\" + 0.0011*\"testament\" + 0.0011*\"splrct\" + 0.0011*\"slate\" + 0.0011*\"alexandria\" + 0.0011*\"pave\" + 0.0011*\"insane\" + 0.0011*\"cabot\" + 0.0011*\"quadro\" + 0.001*\"raked\" + 0.001*\"dived\" + 0.001*\"fcf\"'), (5, '0.1608*\"describes\" + 0.0884*\"college\" + 0.0432*\"harvard\" + 0.0375*\"destiny\" + 0.0356*\"mathematical\" + 0.028*\"connections\" + 0.0276*\"harari\" + 0.0242*\"library\" + 0.019*\"explode\" + 0.0189*\"homo\" + 0.015*\"noah\" + 0.0125*\"havoc\" + 0.0121*\"yuval\" + 0.0107*\"scientist\" + 0.0095*\"grand\" + 0.0092*\"satya\" + 0.0081*\"located\" + 0.0077*\"brown\" + 0.0073*\"biological\" + 0.0072*\"lucky\"'), (6, '0.0297*\"burning\" + 0.0295*\"traveling\" + 0.0292*\"questionable\" + 0.0291*\"disruptor\" + 0.0289*\"entertain\" + 0.0287*\"paragraphs\" + 0.0283*\"confused\" + 0.0272*\"brave\" + 0.0266*\"judges\" + 0.0251*\"democratize\" + 0.0249*\"ears\" + 0.0248*\"destruction\" + 0.0195*\"weave\" + 0.0191*\"nerd\" + 0.0188*\"reasoning\" + 0.0181*\"inner\" + 0.018*\"pursued\" + 0.0176*\"glad\" + 0.0171*\"endless\" + 0.0167*\"franklin\"'), (7, '0.0525*\"woke\" + 0.0519*\"illusion\" + 0.0357*\"monsters\" + 0.0357*\"ariely\" + 0.0356*\"reconciling\" + 0.0355*\"consciously\" + 0.0351*\"tory\" + 0.035*\"cerebral\" + 0.0349*\"teaches\" + 0.0349*\"obituary\" + 0.0349*\"sha\" + 0.0348*\"notions\" + 0.0347*\"softee\" + 0.0344*\"vigorous\" + 0.0342*\"furthering\" + 0.0342*\"wasteful\" + 0.032*\"stupor\" + 0.032*\"ecology\" + 0.032*\"luddite\" + 0.031*\"professor\"'), (8, '0.0445*\"isolated\" + 0.0404*\"handing\" + 0.0403*\"outward\" + 0.0397*\"birds\" + 0.0394*\"easiest\" + 0.0394*\"fooled\" + 0.0385*\"miserable\" + 0.0371*\"illness\" + 0.0361*\"novavax\" + 0.0361*\"nvax\" + 0.0354*\"warming\" + 0.0345*\"davos\" + 0.0341*\"hubei\" + 0.033*\"hn\" + 0.0267*\"explorers\" + 0.0265*\"italians\" + 0.0239*\"flush\" + 0.0223*\"whichever\" + 0.022*\"nonprofit\" + 0.022*\"hydraulics\"'), (9, '0.0677*\"commonly\" + 0.0573*\"province\" + 0.0458*\"compass\" + 0.045*\"mild\" + 0.0446*\"probable\" + 0.044*\"exceeds\" + 0.0437*\"county\" + 0.0424*\"termination\" + 0.0399*\"magnetic\" + 0.034*\"foundational\" + 0.0337*\"az\" + 0.0328*\"wonderful\" + 0.0323*\"declaring\" + 0.026*\"brainer\" + 0.0255*\"predetermined\" + 0.0222*\"freak\" + 0.0219*\"eponymous\" + 0.0217*\"mkt\" + 0.0207*\"surmised\" + 0.0195*\"wuhan\"'), (10, '0.3873*\"survival\" + 0.0743*\"species\" + 0.0272*\"degrees\" + 0.0262*\"approximate\" + 0.0233*\"inventing\" + 0.0218*\"feynman\" + 0.0216*\"adult\" + 0.0148*\"stars\" + 0.014*\"certainty\" + 0.0112*\"exploring\" + 0.011*\"beliefs\" + 0.0104*\"birth\" + 0.0062*\"explode\" + 0.0059*\"jared\" + 0.0045*\"wikipedia\" + 0.0043*\"wonderful\" + 0.0041*\"episodes\" + 0.0041*\"causes\" + 0.0039*\"mathematical\" + 0.0036*\"professor\"'), (11, '0.0073*\"removal\" + 0.0071*\"incorporate\" + 0.0068*\"stopping\" + 0.0057*\"bidding\" + 0.0055*\"tick\" + 0.0055*\"clause\" + 0.0054*\"nationwide\" + 0.0051*\"significance\" + 0.005*\"interaction\" + 0.0049*\"minivans\" + 0.0047*\"roles\" + 0.0046*\"authorized\" + 0.0046*\"premiums\" + 0.0046*\"character\" + 0.0045*\"grows\" + 0.0045*\"ps\" + 0.0044*\"deficits\" + 0.0044*\"lawyer\" + 0.0044*\"accept\" + 0.0042*\"criminal\"'), (12, '0.0691*\"mit\" + 0.0535*\"candace\" + 0.0451*\"norepinephrine\" + 0.0408*\"teller\" + 0.0306*\"subconscious\" + 0.0169*\"hormones\" + 0.0155*\"experiments\" + 0.0147*\"brains\" + 0.0138*\"technologically\" + 0.0136*\"pert\" + 0.0097*\"neuroscience\" + 0.0086*\"studying\" + 0.0084*\"neuroscientist\" + 0.0078*\"tribalism\" + 0.0069*\"physiological\" + 0.0059*\"located\" + 0.0056*\"spoke\" + 0.0052*\"recommended\" + 0.0051*\"genetic\" + 0.0051*\"rural\"'), (13, '0.0068*\"confirming\" + 0.0053*\"efficiencies\" + 0.0053*\"pundits\" + 0.0048*\"ed\" + 0.0046*\"intervention\" + 0.0046*\"browser\" + 0.0046*\"patrick\" + 0.0045*\"lists\" + 0.0044*\"intention\" + 0.0044*\"offline\" + 0.0043*\"viewers\" + 0.004*\"bot\" + 0.004*\"bargaining\" + 0.0039*\"checking\" + 0.0039*\"campus\" + 0.0038*\"lender\" + 0.0038*\"sponsored\" + 0.0037*\"unwilling\" + 0.0037*\"presidents\" + 0.0035*\"deemed\"'), (14, '0.0032*\"extraordinary\" + 0.0031*\"hammered\" + 0.003*\"constitute\" + 0.0027*\"hesitant\" + 0.0026*\"gameplay\" + 0.0025*\"erased\" + 0.0025*\"congestion\" + 0.0025*\"sounded\" + 0.0025*\"reserves\" + 0.0024*\"voted\" + 0.0024*\"integral\" + 0.0024*\"toys\" + 0.0023*\"surveyed\" + 0.0023*\"jbl\" + 0.0023*\"technicals\" + 0.0022*\"barred\" + 0.0022*\"shell\" + 0.0022*\"spooked\" + 0.0022*\"weighs\" + 0.0022*\"ticking\"'), (15, '0.0139*\"stimulation\" + 0.0139*\"emily\" + 0.0139*\"empiricist\" + 0.0139*\"blake\" + 0.0139*\"humanists\" + 0.0139*\"anemia\" + 0.0139*\"judgement\" + 0.0139*\"dance\" + 0.0139*\"intellectuals\" + 0.0139*\"neurochemistry\" + 0.0139*\"pinker\" + 0.0139*\"dopamine\" + 0.0139*\"adaline\" + 0.0139*\"bakunin\" + 0.0139*\"neurotransmitters\" + 0.0139*\"gigs\" + 0.0139*\"anarchism\" + 0.0139*\"foretaste\" + 0.0139*\"endorphins\" + 0.0139*\"dispositions\"'), (16, '0.0118*\"epiphany\" + 0.0116*\"huxley\" + 0.0107*\"darwin\" + 0.0104*\"julian\" + 0.0104*\"luxuries\" + 0.0104*\"dyson\" + 0.0104*\"vitello\" + 0.0104*\"sloman\" + 0.0104*\"bottles\" + 0.0104*\"aldous\" + 0.0104*\"vox\" + 0.0104*\"illing\" + 0.0104*\"spiritual\" + 0.0104*\"rightness\" + 0.0104*\"pirsig\" + 0.0104*\"indecision\" + 0.0104*\"revolt\" + 0.0104*\"gregor\" + 0.0104*\"scourge\" + 0.0104*\"trivia\"'), (17, '0.0205*\"fantastic\" + 0.02*\"genetics\" + 0.0159*\"lump\" + 0.0159*\"theoretical\" + 0.0143*\"borrowed\" + 0.0141*\"wildly\" + 0.0136*\"films\" + 0.0134*\"controversial\" + 0.0128*\"boring\" + 0.0121*\"rogue\" + 0.0117*\"languages\" + 0.0116*\"explaining\" + 0.0109*\"masses\" + 0.0108*\"motives\" + 0.0104*\"pie\" + 0.0102*\"bodies\" + 0.0099*\"tom\" + 0.0099*\"conflicts\" + 0.0097*\"stanford\" + 0.0097*\"identifies\"'), (18, '0.0062*\"raw\" + 0.006*\"deputy\" + 0.0054*\"amongst\" + 0.0051*\"vowed\" + 0.005*\"seriously\" + 0.0049*\"examine\" + 0.0049*\"sensing\" + 0.0048*\"investigations\" + 0.0046*\"harm\" + 0.0046*\"dead\" + 0.0045*\"rounds\" + 0.0045*\"prototype\" + 0.0044*\"neutrality\" + 0.0044*\"progressive\" + 0.0043*\"reasonably\" + 0.0042*\"punished\" + 0.004*\"reliant\" + 0.004*\"voters\" + 0.0039*\"omnichannel\" + 0.0037*\"distribute\"'), (19, '0.0177*\"shorting\" + 0.0174*\"angle\" + 0.0146*\"observed\" + 0.0146*\"supreme\" + 0.0143*\"assembled\" + 0.0136*\"shelves\" + 0.0129*\"disrupted\" + 0.0109*\"livestream\" + 0.0108*\"oh\" + 0.0108*\"conducts\" + 0.0108*\"comply\" + 0.0106*\"attached\" + 0.0104*\"portal\" + 0.01*\"altered\" + 0.0099*\"women\" + 0.0099*\"searched\" + 0.0098*\"boss\" + 0.0095*\"andy\" + 0.0093*\"quant\" + 0.0092*\"programmed\"'), (20, '0.0029*\"penetrate\" + 0.0027*\"rebounding\" + 0.0025*\"resilience\" + 0.0024*\"inflationary\" + 0.0024*\"virtualization\" + 0.0024*\"slowest\" + 0.0024*\"leisure\" + 0.0024*\"avenues\" + 0.0023*\"influenced\" + 0.0023*\"ambitious\" + 0.0023*\"armour\" + 0.0022*\"implementing\" + 0.0022*\"occupies\" + 0.0022*\"macd\" + 0.0022*\"allied\" + 0.0022*\"thirds\" + 0.0022*\"digest\" + 0.0022*\"batch\" + 0.0021*\"aversion\" + 0.0021*\"register\"'), (21, '0.0036*\"garnered\" + 0.0036*\"brussels\" + 0.0032*\"tag\" + 0.0031*\"convenience\" + 0.003*\"larry\" + 0.0029*\"comp\" + 0.0029*\"tcehy\" + 0.0029*\"meaningfully\" + 0.0028*\"wiped\" + 0.0028*\"alike\" + 0.0028*\"multinational\" + 0.0028*\"lure\" + 0.0027*\"satellite\" + 0.0027*\"nascent\" + 0.0027*\"kicked\" + 0.0025*\"complacency\" + 0.0025*\"propelled\" + 0.0025*\"clock\" + 0.0024*\"firing\" + 0.0024*\"adopting\"'), (22, '0.0116*\"showcased\" + 0.0114*\"fab\" + 0.011*\"fines\" + 0.0108*\"complaint\" + 0.0104*\"exercise\" + 0.0097*\"listing\" + 0.0084*\"violated\" + 0.0081*\"lies\" + 0.0078*\"artists\" + 0.0078*\"avis\" + 0.0077*\"proceedings\" + 0.0077*\"filter\" + 0.0075*\"satisfaction\" + 0.0074*\"rewards\" + 0.0074*\"pension\" + 0.0073*\"voting\" + 0.0073*\"irish\" + 0.0071*\"promotions\" + 0.0067*\"margrethe\" + 0.0067*\"opt\"'), (23, '0.0536*\"subjects\" + 0.049*\"unforeseen\" + 0.038*\"kurzweil\" + 0.0286*\"feldman\" + 0.0254*\"cultural\" + 0.0226*\"emphasize\" + 0.0225*\"interviewed\" + 0.0204*\"teaching\" + 0.0203*\"addiction\" + 0.0122*\"barrett\" + 0.012*\"grasp\" + 0.0111*\"populist\" + 0.0106*\"therapies\" + 0.0101*\"tribalism\" + 0.0085*\"teller\" + 0.0066*\"experiments\" + 0.0058*\"essence\" + 0.0056*\"lee\" + 0.0054*\"swirling\" + 0.0051*\"technologically\"'), (24, '0.0072*\"throw\" + 0.0072*\"coffee\" + 0.0068*\"outlined\" + 0.0068*\"upgrading\" + 0.0067*\"lawyers\" + 0.0066*\"deployments\" + 0.0065*\"exploit\" + 0.0061*\"charged\" + 0.0057*\"favoring\" + 0.0057*\"bills\" + 0.0055*\"refers\" + 0.0054*\"obligations\" + 0.0052*\"releasing\" + 0.0051*\"twitch\" + 0.0051*\"preferences\" + 0.0045*\"anymore\" + 0.0045*\"procedure\" + 0.0044*\"requested\" + 0.0043*\"chuck\" + 0.0043*\"accomplishments\"'), (25, '0.0037*\"secondary\" + 0.0037*\"exclude\" + 0.0037*\"stabilize\" + 0.0036*\"bearing\" + 0.0034*\"fcau\" + 0.0033*\"corresponding\" + 0.0032*\"seat\" + 0.0031*\"peaking\" + 0.003*\"susquehanna\" + 0.003*\"revealing\" + 0.0029*\"sweet\" + 0.0029*\"retaliation\" + 0.0029*\"wheel\" + 0.0029*\"regain\" + 0.0028*\"acted\" + 0.0028*\"axp\" + 0.0028*\"enjoying\" + 0.0028*\"departure\" + 0.0028*\"reduces\" + 0.0027*\"slammed\"'), (26, '0.0563*\"clip\" + 0.0406*\"voices\" + 0.0355*\"inevitable\" + 0.0347*\"ayx\" + 0.0345*\"celgene\" + 0.0318*\"alteryx\" + 0.0291*\"feelings\" + 0.0271*\"sydney\" + 0.0262*\"explorer\" + 0.0247*\"graduate\" + 0.0246*\"wrongly\" + 0.0218*\"segmenting\" + 0.0216*\"sherman\" + 0.0201*\"wreak\" + 0.0176*\"storms\" + 0.0166*\"fascinated\" + 0.0164*\"manual\" + 0.0136*\"lee\" + 0.008*\"practitioners\" + 0.0072*\"anxiety\"'), (27, '0.0151*\"everywhere\" + 0.0148*\"differ\" + 0.0128*\"pictures\" + 0.0118*\"hunting\" + 0.0116*\"disastrous\" + 0.0112*\"constraints\" + 0.0111*\"wish\" + 0.0105*\"streamed\" + 0.01*\"eating\" + 0.0097*\"fraud\" + 0.0084*\"enriched\" + 0.0084*\"succeed\" + 0.0081*\"nevada\" + 0.0079*\"hacked\" + 0.0078*\"touches\" + 0.0075*\"immune\" + 0.0072*\"hopefully\" + 0.007*\"clinical\" + 0.0069*\"personally\" + 0.0068*\"quote\"'), (28, '0.0158*\"ethical\" + 0.0136*\"poverty\" + 0.0136*\"naval\" + 0.0129*\"arms\" + 0.0123*\"inhabited\" + 0.0123*\"fu\" + 0.0123*\"crwd\" + 0.0123*\"superstitions\" + 0.0123*\"cnas\" + 0.0123*\"domestication\" + 0.0123*\"jaic\" + 0.0123*\"enslaved\" + 0.0123*\"colonial\" + 0.0123*\"tegmark\" + 0.0123*\"glue\" + 0.0123*\"expeditions\" + 0.0123*\"perkins\" + 0.0123*\"germs\" + 0.0123*\"eaten\" + 0.0123*\"jeanette\"'), (29, '0.0192*\"rader\" + 0.0187*\"respiratory\" + 0.0185*\"pandemic\" + 0.0181*\"vaccines\" + 0.0167*\"mortality\" + 0.0167*\"mers\" + 0.0167*\"influenza\" + 0.0167*\"leighton\" + 0.0167*\"caltech\" + 0.0167*\"econ\" + 0.0167*\"polo\" + 0.0167*\"certainties\" + 0.0167*\"contagious\" + 0.0167*\"ebola\" + 0.0167*\"backwater\" + 0.0167*\"colonizing\" + 0.0167*\"maricopa\" + 0.0167*\"moderna\" + 0.0167*\"sharon\" + 0.0167*\"vikings\"'), (30, '0.2947*\"gem\" + 0.1151*\"degrees\" + 0.0945*\"species\" + 0.0301*\"stars\" + 0.0199*\"exploring\" + 0.0194*\"birth\" + 0.0147*\"adult\" + 0.0139*\"inventing\" + 0.0115*\"approximate\" + 0.0113*\"certainty\" + 0.0106*\"feynman\" + 0.0089*\"explode\" + 0.0079*\"beliefs\" + 0.0052*\"mathematical\" + 0.005*\"causes\" + 0.005*\"jared\" + 0.0043*\"wonderful\" + 0.004*\"episodes\" + 0.0037*\"wikipedia\" + 0.0037*\"spacex\"'), (31, '0.0059*\"vacation\" + 0.0057*\"caters\" + 0.0047*\"convinced\" + 0.0045*\"drawn\" + 0.0044*\"disrupt\" + 0.0044*\"displaying\" + 0.0039*\"casual\" + 0.0037*\"patented\" + 0.0037*\"severely\" + 0.0036*\"sued\" + 0.0036*\"par\" + 0.0034*\"propaganda\" + 0.0034*\"jaffray\" + 0.0033*\"satisfied\" + 0.0033*\"enters\" + 0.0032*\"imminent\" + 0.0032*\"chill\" + 0.003*\"junk\" + 0.003*\"pickup\" + 0.003*\"facilitates\"'), (32, '0.0172*\"accepted\" + 0.0157*\"undisclosed\" + 0.0127*\"english\" + 0.0121*\"disagree\" + 0.0096*\"thailand\" + 0.0093*\"contained\" + 0.008*\"soccer\" + 0.0075*\"premises\" + 0.0072*\"fighter\" + 0.0071*\"flew\" + 0.007*\"unlawful\" + 0.0069*\"genuine\" + 0.0063*\"clouds\" + 0.0062*\"hopefully\" + 0.0061*\"certification\" + 0.006*\"denotes\" + 0.006*\"colorful\" + 0.006*\"kuo\" + 0.006*\"sleep\" + 0.0059*\"kgi\"'), (33, '0.0428*\"rarely\" + 0.0418*\"occurs\" + 0.0416*\"tens\" + 0.0413*\"fan\" + 0.0383*\"eventual\" + 0.0382*\"exist\" + 0.0378*\"tackle\" + 0.0363*\"racing\" + 0.0352*\"speeding\" + 0.0335*\"writes\" + 0.0329*\"difficulties\" + 0.0323*\"crack\" + 0.0319*\"ralph\" + 0.0301*\"stark\" + 0.0283*\"examples\" + 0.0278*\"deviation\" + 0.0255*\"los\" + 0.0224*\"forum\" + 0.0224*\"fever\" + 0.0188*\"characters\"'), (34, '0.002*\"capped\" + 0.0019*\"extracted\" + 0.0018*\"issuing\" + 0.0018*\"todayexperts\" + 0.0017*\"garner\" + 0.0017*\"idaho\" + 0.0016*\"handily\" + 0.0016*\"phenomenal\" + 0.0016*\"dipping\" + 0.0015*\"oxy\" + 0.0015*\"dull\" + 0.0015*\"stabilizing\" + 0.0015*\"lb\" + 0.0015*\"budding\" + 0.0015*\"gddr\" + 0.0015*\"ninth\" + 0.0014*\"respite\" + 0.0014*\"pouring\" + 0.0014*\"hmc\" + 0.0014*\"draghi\"'), (35, '0.0093*\"sycamore\" + 0.0086*\"systematic\" + 0.0076*\"blindspots\" + 0.0071*\"blunders\" + 0.007*\"overcoming\" + 0.0068*\"calculation\" + 0.0064*\"tversky\" + 0.006*\"accomplished\" + 0.0057*\"quipped\" + 0.0057*\"cass\" + 0.0057*\"astray\" + 0.0057*\"undo\" + 0.0057*\"undisciplined\" + 0.0057*\"pudd\" + 0.0057*\"paperback\" + 0.0057*\"sunstein\" + 0.0057*\"undoing\" + 0.0057*\"brilliance\" + 0.0057*\"nhead\" + 0.0057*\"shephard\"'), (36, '0.006*\"belief\" + 0.005*\"hulu\" + 0.0046*\"dark\" + 0.0045*\"considerations\" + 0.0044*\"tonight\" + 0.0043*\"headset\" + 0.0042*\"craig\" + 0.0042*\"sphere\" + 0.0041*\"unusual\" + 0.0041*\"explanation\" + 0.0039*\"repeatedly\" + 0.0038*\"pixel\" + 0.0038*\"likewise\" + 0.0038*\"stepped\" + 0.0038*\"punish\" + 0.0037*\"threatens\" + 0.0037*\"eat\" + 0.0037*\"opposed\" + 0.0036*\"nearby\" + 0.0036*\"skin\"'), (37, '0.0019*\"blows\" + 0.0017*\"rocks\" + 0.0017*\"retaliated\" + 0.0017*\"raymond\" + 0.0016*\"drastically\" + 0.0016*\"functionalities\" + 0.0016*\"sensational\" + 0.0016*\"registration\" + 0.0016*\"reverses\" + 0.0015*\"paving\" + 0.0015*\"paltry\" + 0.0015*\"chaim\" + 0.0015*\"possess\" + 0.0015*\"headquarter\" + 0.0015*\"philip\" + 0.0014*\"signoff\" + 0.0014*\"elazar\" + 0.0014*\"mentioning\" + 0.0013*\"ferrari\" + 0.0013*\"erasing\"'), (38, '0.001*\"lookhere\" + 0.0009*\"envisioned\" + 0.0009*\"xsd\" + 0.0008*\"marginsnvidia\" + 0.0008*\"flownvidia\" + 0.0008*\"nfm\" + 0.0008*\"guidancethe\" + 0.0008*\"pstg\" + 0.0008*\"receivables\" + 0.0008*\"hsi\" + 0.0008*\"conducive\" + 0.0008*\"zacksbeyond\" + 0.0008*\"flashblade\" + 0.0007*\"elated\" + 0.0007*\"bmwyy\" + 0.0007*\"mott\" + 0.0007*\"outlookfor\" + 0.0007*\"considera\" + 0.0007*\"sonam\" + 0.0007*\"sabotaging\"'), (39, '0.0012*\"isi\" + 0.0011*\"differentiated\" + 0.0011*\"friedrichshafen\" + 0.001*\"detailsnon\" + 0.001*\"pickscurrently\" + 0.001*\"segmental\" + 0.001*\"turbulent\" + 0.001*\"mentor\" + 0.001*\"cy\" + 0.0009*\"workstation\" + 0.0009*\"overhangs\" + 0.0009*\"boise\" + 0.0009*\"ssnlf\" + 0.0009*\"aftermarket\" + 0.0009*\"enhances\" + 0.0008*\"byd\" + 0.0008*\"rodrigo\" + 0.0008*\"shedding\" + 0.0008*\"shortlist\" + 0.0008*\"engineered\"'), (40, '0.0248*\"responses\" + 0.0232*\"beasts\" + 0.0228*\"stress\" + 0.0212*\"anxiety\" + 0.0203*\"wealthy\" + 0.0192*\"consistency\" + 0.0181*\"preeminent\" + 0.0181*\"darkness\" + 0.0177*\"penned\" + 0.0176*\"scan\" + 0.0172*\"pompeo\" + 0.0172*\"settlements\" + 0.0166*\"freeze\" + 0.0162*\"conquered\" + 0.0161*\"historian\" + 0.0161*\"symbolize\" + 0.016*\"lee\" + 0.0158*\"louisiana\" + 0.0156*\"acknowledging\" + 0.0153*\"scheme\"'), (41, '0.0437*\"afford\" + 0.0398*\"ipads\" + 0.0392*\"perfectly\" + 0.0376*\"directions\" + 0.0326*\"knowing\" + 0.0304*\"dig\" + 0.03*\"entrepreneurs\" + 0.0289*\"centered\" + 0.0284*\"unpredictable\" + 0.0282*\"wing\" + 0.028*\"controversy\" + 0.0279*\"thomas\" + 0.0275*\"bunch\" + 0.0272*\"newspaper\" + 0.0263*\"searching\" + 0.0243*\"thrives\" + 0.0218*\"repeated\" + 0.021*\"discussing\" + 0.0198*\"broadening\" + 0.0197*\"woman\"'), (42, '0.0022*\"badly\" + 0.0021*\"payouts\" + 0.0021*\"feast\" + 0.0019*\"primed\" + 0.0019*\"debuted\" + 0.0019*\"cites\" + 0.0018*\"digested\" + 0.0018*\"dsp\" + 0.0018*\"cassidy\" + 0.0017*\"negotiators\" + 0.0017*\"pledged\" + 0.0017*\"decreasing\" + 0.0017*\"dented\" + 0.0017*\"microcontrollers\" + 0.0017*\"ranges\" + 0.0017*\"varied\" + 0.0016*\"sentiments\" + 0.0016*\"rewarded\" + 0.0016*\"cad\" + 0.0016*\"breakeven\"'), (43, '0.0396*\"daddy\" + 0.0395*\"cruising\" + 0.0395*\"remarked\" + 0.0395*\"inventions\" + 0.0394*\"populations\" + 0.0393*\"portuguese\" + 0.0393*\"preposterous\" + 0.0393*\"silk\" + 0.0393*\"preparedness\" + 0.0393*\"disproportionately\" + 0.0392*\"mis\" + 0.0391*\"inovio\" + 0.0391*\"adults\" + 0.0389*\"commencement\" + 0.0388*\"coincidentally\" + 0.0387*\"designated\" + 0.0386*\"toilets\" + 0.0376*\"breathing\" + 0.0373*\"chess\" + 0.0332*\"joking\"'), (44, '0.0042*\"upped\" + 0.0037*\"barriers\" + 0.0035*\"sticking\" + 0.0033*\"dream\" + 0.0032*\"pessimism\" + 0.0031*\"pledge\" + 0.0029*\"indicative\" + 0.0027*\"viable\" + 0.0027*\"assessing\" + 0.0027*\"ingredients\" + 0.0027*\"liability\" + 0.0026*\"contains\" + 0.0026*\"burned\" + 0.0026*\"rocky\" + 0.0024*\"cta\" + 0.0024*\"scalability\" + 0.0024*\"throws\" + 0.0024*\"depressed\" + 0.0024*\"brka\" + 0.0024*\"compounding\"'), (45, '0.0393*\"afraid\" + 0.0278*\"ceos\" + 0.0254*\"memories\" + 0.0237*\"scramble\" + 0.0229*\"emotional\" + 0.0189*\"brookings\" + 0.0184*\"terry\" + 0.0184*\"wisconsin\" + 0.0181*\"spoils\" + 0.018*\"weathered\" + 0.018*\"tendencies\" + 0.0177*\"gregory\" + 0.0162*\"evan\" + 0.016*\"arenas\" + 0.016*\"trainer\" + 0.0158*\"politically\" + 0.0151*\"employed\" + 0.0136*\"lifetimes\" + 0.0135*\"thankfully\" + 0.0133*\"capitalist\"'), (46, '0.0728*\"chaos\" + 0.0519*\"philosophy\" + 0.0389*\"radical\" + 0.0379*\"attitudes\" + 0.0372*\"eternal\" + 0.037*\"refunds\" + 0.0367*\"reissued\" + 0.0367*\"sean\" + 0.0366*\"tinker\" + 0.0363*\"religious\" + 0.0352*\"revolutionized\" + 0.0351*\"yep\" + 0.0344*\"destined\" + 0.0325*\"kevinbcook\" + 0.0304*\"founding\" + 0.0297*\"teachers\" + 0.0273*\"unstoppable\" + 0.0256*\"champions\" + 0.0213*\"socially\" + 0.0176*\"conscious\"'), (47, '0.0368*\"pronounced\" + 0.0365*\"southwest\" + 0.0334*\"loved\" + 0.0327*\"timed\" + 0.0315*\"determination\" + 0.0307*\"judgment\" + 0.0301*\"realm\" + 0.0288*\"todd\" + 0.0281*\"chromebook\" + 0.0274*\"confusion\" + 0.0254*\"wine\" + 0.0238*\"henry\" + 0.021*\"unleash\" + 0.0207*\"physics\" + 0.0187*\"unrelated\" + 0.0184*\"parade\" + 0.0183*\"vein\" + 0.0181*\"wheeler\" + 0.0176*\"daughter\" + 0.0172*\"virtue\"'), (48, '0.0755*\"spreading\" + 0.0561*\"ill\" + 0.0532*\"hospitals\" + 0.0476*\"nicholas\" + 0.0437*\"champion\" + 0.0395*\"navy\" + 0.0391*\"dental\" + 0.0371*\"threw\" + 0.0359*\"observations\" + 0.0359*\"spikes\" + 0.0328*\"graduates\" + 0.029*\"taleb\" + 0.0252*\"prevention\" + 0.0243*\"limitations\" + 0.024*\"kits\" + 0.0239*\"emerges\" + 0.0237*\"kill\" + 0.023*\"fluids\" + 0.0227*\"animal\" + 0.019*\"mystery\"'), (49, '0.005*\"cleaning\" + 0.0047*\"calculations\" + 0.0041*\"favorites\" + 0.0036*\"pipelines\" + 0.0035*\"berlin\" + 0.0035*\"rounding\" + 0.0035*\"brake\" + 0.0034*\"allies\" + 0.0033*\"postponed\" + 0.0033*\"negotiator\" + 0.0032*\"seamless\" + 0.0031*\"cry\" + 0.0031*\"convenient\" + 0.0028*\"pegatron\" + 0.0028*\"challenged\" + 0.0028*\"addressed\" + 0.0028*\"protectionist\" + 0.0028*\"noble\" + 0.0027*\"catching\" + 0.0027*\"retailing\"'), (50, '0.0032*\"atlantic\" + 0.0032*\"indirect\" + 0.003*\"plethora\" + 0.0029*\"pitch\" + 0.0028*\"diagnostics\" + 0.0027*\"du\" + 0.0027*\"marketwatch\" + 0.0027*\"wright\" + 0.0026*\"avail\" + 0.0026*\"striking\" + 0.0025*\"unusually\" + 0.0024*\"jaw\" + 0.0024*\"jong\" + 0.0023*\"settings\" + 0.0023*\"assigned\" + 0.0023*\"parks\" + 0.0023*\"flaw\" + 0.0023*\"trendline\" + 0.0022*\"barcelona\" + 0.0022*\"ke\"'), (51, '0.004*\"outlets\" + 0.004*\"council\" + 0.0039*\"compromise\" + 0.0039*\"ordering\" + 0.0038*\"mbbyf\" + 0.0037*\"cupertino\" + 0.0037*\"brewing\" + 0.0037*\"altogether\" + 0.0037*\"costly\" + 0.0036*\"replacing\" + 0.0036*\"worrying\" + 0.0033*\"cuda\" + 0.0033*\"expire\" + 0.0032*\"fans\" + 0.0031*\"spun\" + 0.0031*\"standalone\" + 0.003*\"minor\" + 0.0029*\"optimal\" + 0.0028*\"duo\" + 0.0028*\"convince\"'), (52, '0.0339*\"fda\" + 0.0241*\"papers\" + 0.0222*\"teenage\" + 0.022*\"fiction\" + 0.0192*\"lively\" + 0.0185*\"gottlieb\" + 0.0183*\"experimental\" + 0.0182*\"psychologist\" + 0.0182*\"cognition\" + 0.0182*\"communicates\" + 0.0177*\"receptor\" + 0.0169*\"proudly\" + 0.0167*\"creatures\" + 0.0166*\"sabotage\" + 0.0162*\"societies\" + 0.015*\"unrealistic\" + 0.0146*\"police\" + 0.0112*\"cultures\" + 0.0111*\"academic\" + 0.0104*\"captured\"'), (53, '0.0053*\"scaled\" + 0.0047*\"claiming\" + 0.0046*\"softening\" + 0.0037*\"headway\" + 0.0037*\"ample\" + 0.0037*\"ssys\" + 0.0036*\"renowned\" + 0.0036*\"disk\" + 0.0036*\"obstacle\" + 0.0031*\"kraft\" + 0.0031*\"cl\" + 0.003*\"understandably\" + 0.0029*\"km\" + 0.0028*\"dining\" + 0.0028*\"reign\" + 0.0027*\"hai\" + 0.0027*\"obstacles\" + 0.0026*\"mo\" + 0.0025*\"attractions\" + 0.0025*\"determining\"'), (54, '0.0106*\"collecting\" + 0.0095*\"filling\" + 0.0088*\"pursuing\" + 0.0087*\"monetize\" + 0.0085*\"distributed\" + 0.0082*\"violation\" + 0.0079*\"excessive\" + 0.0078*\"wsj\" + 0.0075*\"surgical\" + 0.0074*\"rolls\" + 0.0072*\"approached\" + 0.007*\"rumored\" + 0.007*\"slice\" + 0.0067*\"heights\" + 0.0067*\"latin\" + 0.0065*\"directed\" + 0.0064*\"distracted\" + 0.0064*\"carriers\" + 0.0064*\"incentive\" + 0.0061*\"covers\"'), (55, '0.0051*\"ironically\" + 0.0049*\"wfe\" + 0.0047*\"fits\" + 0.0046*\"reviewing\" + 0.0045*\"bankers\" + 0.0042*\"projecting\" + 0.0042*\"lipacis\" + 0.0038*\"airline\" + 0.0038*\"zu\" + 0.0037*\"routine\" + 0.0037*\"bars\" + 0.0036*\"solo\" + 0.0035*\"holder\" + 0.0034*\"tail\" + 0.0034*\"spirit\" + 0.0033*\"enforce\" + 0.0033*\"specify\" + 0.0032*\"abbreviated\" + 0.0032*\"execute\" + 0.003*\"pain\"'), (56, '0.0223*\"diversity\" + 0.0196*\"behalf\" + 0.0102*\"feet\" + 0.0085*\"xm\" + 0.0085*\"deportes\" + 0.0085*\"mcmilon\" + 0.0085*\"pudding\" + 0.0085*\"aerodynamics\" + 0.0085*\"outfitting\" + 0.0085*\"ztesoft\" + 0.0085*\"facilitation\" + 0.0085*\"gaze\" + 0.0085*\"identifiable\" + 0.0085*\"atomics\" + 0.0085*\"althoff\" + 0.0085*\"unwelcome\" + 0.0085*\"punishment\" + 0.0085*\"courtois\" + 0.0085*\"redmart\" + 0.0085*\"rosalie\"'), (57, '0.0006*\"flowthe\" + 0.0006*\"stockholders\" + 0.0006*\"mindful\" + 0.0006*\"soxl\" + 0.0005*\"guidancemanagement\" + 0.0005*\"considertexas\" + 0.0005*\"wipro\" + 0.0005*\"backtest\" + 0.0005*\"detailsgross\" + 0.0005*\"receivable\" + 0.0005*\"pickssome\" + 0.0005*\"vip\" + 0.0005*\"refreshes\" + 0.0005*\"whispersour\" + 0.0005*\"azpn\" + 0.0005*\"itus\" + 0.0005*\"gelyy\" + 0.0005*\"conclusionas\" + 0.0005*\"dramexchange\" + 0.0005*\"suspends\"'), (58, '0.0454*\"preserve\" + 0.0393*\"okay\" + 0.0329*\"jungle\" + 0.0323*\"downstream\" + 0.032*\"deeply\" + 0.0318*\"priorities\" + 0.0311*\"treasure\" + 0.0304*\"brother\" + 0.0302*\"communities\" + 0.03*\"quest\" + 0.0285*\"pollution\" + 0.0278*\"paced\" + 0.0276*\"god\" + 0.0269*\"died\" + 0.0268*\"enduring\" + 0.0169*\"presentations\" + 0.0164*\"judgments\" + 0.0153*\"explored\" + 0.0153*\"crsp\" + 0.0148*\"grand\"'), (59, '0.1139*\"creativity\" + 0.1027*\"synthesis\" + 0.0955*\"motorcycle\" + 0.082*\"educators\" + 0.0795*\"pretend\" + 0.0778*\"ingenuity\" + 0.0777*\"philosophical\" + 0.0738*\"ignorance\" + 0.0459*\"reconciliation\" + 0.0236*\"classroom\" + 0.0121*\"professor\" + 0.011*\"morality\" + 0.0099*\"certainty\" + 0.0097*\"gould\" + 0.0097*\"pursuit\" + 0.0091*\"beliefs\" + 0.0089*\"julian\" + 0.0067*\"darwin\" + 0.0067*\"subtitle\" + 0.0053*\"conscious\"')]\n",
      "['false', 'career', 'shock', 'hate', 'treat', 'danger', 'conversations', 'cooker', 'description', 'student', 'rationale', 'vocal', 'colleagues', 'demographics', 'wit', 'centre', 'eddy', 'allen', 'repeats', 'genes']\n",
      "['explodes', 'circles', 'amassing', 'nails', 'harnessed', 'happiness', 'grains', 'livestock', 'narrated', 'timetables', 'npr', 'derek', 'consequential', 'intersection', 'interactions', 'vested', 'mental', 'rituals', 'fascinated', 'orbit']\n",
      "['originated', 'syndrome', 'varieties', 'infections', 'jane', 'benoit', 'mandelbrot', 'pseudo', 'champ', 'garry', 'kasparov', 'pigs', 'lethal', 'impoverished', 'mathematician', 'pneumonia', 'antiviral', 'outbreaks', 'references', 'beds']\n",
      "['listened', 'interactions', 'sums', 'gingrich', 'newt', 'mental', 'xanax', 'kittens', 'anxietyin', 'annotation', 'ancestor', 'pharmacological', 'theamygdaloid', 'anxietyeven', 'reflex', 'amygdala', 'sabotagethe', 'sweaty', 'vertebrate', 'happenswhen']\n",
      "['density', 'allocated', 'clientele', 'ddaif', 'fared', 'inorganic', 'downbeat', 'ntdoy', 'sg', 'testament', 'splrct', 'slate', 'alexandria', 'pave', 'insane', 'cabot', 'quadro', 'raked', 'dived', 'fcf']\n",
      "['describes', 'college', 'harvard', 'destiny', 'mathematical', 'connections', 'harari', 'library', 'explode', 'homo', 'noah', 'havoc', 'yuval', 'scientist', 'grand', 'satya', 'located', 'brown', 'biological', 'lucky']\n",
      "['burning', 'traveling', 'questionable', 'disruptor', 'entertain', 'paragraphs', 'confused', 'brave', 'judges', 'democratize', 'ears', 'destruction', 'weave', 'nerd', 'reasoning', 'inner', 'pursued', 'glad', 'endless', 'franklin']\n",
      "['woke', 'illusion', 'monsters', 'ariely', 'reconciling', 'consciously', 'tory', 'cerebral', 'teaches', 'obituary', 'sha', 'notions', 'softee', 'vigorous', 'furthering', 'wasteful', 'stupor', 'ecology', 'luddite', 'professor']\n",
      "['isolated', 'handing', 'outward', 'birds', 'easiest', 'fooled', 'miserable', 'illness', 'novavax', 'nvax', 'warming', 'davos', 'hubei', 'hn', 'explorers', 'italians', 'flush', 'whichever', 'nonprofit', 'hydraulics']\n",
      "['commonly', 'province', 'compass', 'mild', 'probable', 'exceeds', 'county', 'termination', 'magnetic', 'foundational', 'az', 'wonderful', 'declaring', 'brainer', 'predetermined', 'freak', 'eponymous', 'mkt', 'surmised', 'wuhan']\n",
      "['survival', 'species', 'degrees', 'approximate', 'inventing', 'feynman', 'adult', 'stars', 'certainty', 'exploring', 'beliefs', 'birth', 'explode', 'jared', 'wikipedia', 'wonderful', 'episodes', 'causes', 'mathematical', 'professor']\n",
      "['removal', 'incorporate', 'stopping', 'bidding', 'tick', 'clause', 'nationwide', 'significance', 'interaction', 'minivans', 'roles', 'authorized', 'premiums', 'character', 'grows', 'ps', 'deficits', 'lawyer', 'accept', 'criminal']\n",
      "['mit', 'candace', 'norepinephrine', 'teller', 'subconscious', 'hormones', 'experiments', 'brains', 'technologically', 'pert', 'neuroscience', 'studying', 'neuroscientist', 'tribalism', 'physiological', 'located', 'spoke', 'recommended', 'genetic', 'rural']\n",
      "['confirming', 'efficiencies', 'pundits', 'ed', 'intervention', 'browser', 'patrick', 'lists', 'intention', 'offline', 'viewers', 'bot', 'bargaining', 'checking', 'campus', 'lender', 'sponsored', 'unwilling', 'presidents', 'deemed']\n",
      "['extraordinary', 'hammered', 'constitute', 'hesitant', 'gameplay', 'erased', 'congestion', 'sounded', 'reserves', 'voted', 'integral', 'toys', 'surveyed', 'jbl', 'technicals', 'barred', 'shell', 'spooked', 'weighs', 'ticking']\n",
      "['stimulation', 'emily', 'empiricist', 'blake', 'humanists', 'anemia', 'judgement', 'dance', 'intellectuals', 'neurochemistry', 'pinker', 'dopamine', 'adaline', 'bakunin', 'neurotransmitters', 'gigs', 'anarchism', 'foretaste', 'endorphins', 'dispositions']\n",
      "['epiphany', 'huxley', 'darwin', 'julian', 'luxuries', 'dyson', 'vitello', 'sloman', 'bottles', 'aldous', 'vox', 'illing', 'spiritual', 'rightness', 'pirsig', 'indecision', 'revolt', 'gregor', 'scourge', 'trivia']\n",
      "['fantastic', 'genetics', 'lump', 'theoretical', 'borrowed', 'wildly', 'films', 'controversial', 'boring', 'rogue', 'languages', 'explaining', 'masses', 'motives', 'pie', 'bodies', 'tom', 'conflicts', 'stanford', 'identifies']\n",
      "['raw', 'deputy', 'amongst', 'vowed', 'seriously', 'examine', 'sensing', 'investigations', 'harm', 'dead', 'rounds', 'prototype', 'neutrality', 'progressive', 'reasonably', 'punished', 'reliant', 'voters', 'omnichannel', 'distribute']\n",
      "['shorting', 'angle', 'observed', 'supreme', 'assembled', 'shelves', 'disrupted', 'livestream', 'oh', 'conducts', 'comply', 'attached', 'portal', 'altered', 'women', 'searched', 'boss', 'andy', 'quant', 'programmed']\n",
      "['penetrate', 'rebounding', 'resilience', 'inflationary', 'virtualization', 'slowest', 'leisure', 'avenues', 'influenced', 'ambitious', 'armour', 'implementing', 'occupies', 'macd', 'allied', 'thirds', 'digest', 'batch', 'aversion', 'register']\n",
      "['garnered', 'brussels', 'tag', 'convenience', 'larry', 'comp', 'tcehy', 'meaningfully', 'wiped', 'alike', 'multinational', 'lure', 'satellite', 'nascent', 'kicked', 'complacency', 'propelled', 'clock', 'firing', 'adopting']\n",
      "['showcased', 'fab', 'fines', 'complaint', 'exercise', 'listing', 'violated', 'lies', 'artists', 'avis', 'proceedings', 'filter', 'satisfaction', 'rewards', 'pension', 'voting', 'irish', 'promotions', 'margrethe', 'opt']\n",
      "['subjects', 'unforeseen', 'kurzweil', 'feldman', 'cultural', 'emphasize', 'interviewed', 'teaching', 'addiction', 'barrett', 'grasp', 'populist', 'therapies', 'tribalism', 'teller', 'experiments', 'essence', 'lee', 'swirling', 'technologically']\n",
      "['throw', 'coffee', 'outlined', 'upgrading', 'lawyers', 'deployments', 'exploit', 'charged', 'favoring', 'bills', 'refers', 'obligations', 'releasing', 'twitch', 'preferences', 'anymore', 'procedure', 'requested', 'chuck', 'accomplishments']\n",
      "['secondary', 'exclude', 'stabilize', 'bearing', 'fcau', 'corresponding', 'seat', 'peaking', 'susquehanna', 'revealing', 'sweet', 'retaliation', 'wheel', 'regain', 'acted', 'axp', 'enjoying', 'departure', 'reduces', 'slammed']\n",
      "['clip', 'voices', 'inevitable', 'ayx', 'celgene', 'alteryx', 'feelings', 'sydney', 'explorer', 'graduate', 'wrongly', 'segmenting', 'sherman', 'wreak', 'storms', 'fascinated', 'manual', 'lee', 'practitioners', 'anxiety']\n",
      "['everywhere', 'differ', 'pictures', 'hunting', 'disastrous', 'constraints', 'wish', 'streamed', 'eating', 'fraud', 'enriched', 'succeed', 'nevada', 'hacked', 'touches', 'immune', 'hopefully', 'clinical', 'personally', 'quote']\n",
      "['ethical', 'poverty', 'naval', 'arms', 'inhabited', 'fu', 'crwd', 'superstitions', 'cnas', 'domestication', 'jaic', 'enslaved', 'colonial', 'tegmark', 'glue', 'expeditions', 'perkins', 'germs', 'eaten', 'jeanette']\n",
      "['rader', 'respiratory', 'pandemic', 'vaccines', 'mortality', 'mers', 'influenza', 'leighton', 'caltech', 'econ', 'polo', 'certainties', 'contagious', 'ebola', 'backwater', 'colonizing', 'maricopa', 'moderna', 'sharon', 'vikings']\n",
      "['gem', 'degrees', 'species', 'stars', 'exploring', 'birth', 'adult', 'inventing', 'approximate', 'certainty', 'feynman', 'explode', 'beliefs', 'mathematical', 'causes', 'jared', 'wonderful', 'episodes', 'wikipedia', 'spacex']\n",
      "['vacation', 'caters', 'convinced', 'drawn', 'disrupt', 'displaying', 'casual', 'patented', 'severely', 'sued', 'par', 'propaganda', 'jaffray', 'satisfied', 'enters', 'imminent', 'chill', 'junk', 'pickup', 'facilitates']\n",
      "['accepted', 'undisclosed', 'english', 'disagree', 'thailand', 'contained', 'soccer', 'premises', 'fighter', 'flew', 'unlawful', 'genuine', 'clouds', 'hopefully', 'certification', 'denotes', 'colorful', 'kuo', 'sleep', 'kgi']\n",
      "['rarely', 'occurs', 'tens', 'fan', 'eventual', 'exist', 'tackle', 'racing', 'speeding', 'writes', 'difficulties', 'crack', 'ralph', 'stark', 'examples', 'deviation', 'los', 'forum', 'fever', 'characters']\n",
      "['capped', 'extracted', 'issuing', 'todayexperts', 'garner', 'idaho', 'handily', 'phenomenal', 'dipping', 'oxy', 'dull', 'stabilizing', 'lb', 'budding', 'gddr', 'ninth', 'respite', 'pouring', 'hmc', 'draghi']\n",
      "['sycamore', 'systematic', 'blindspots', 'blunders', 'overcoming', 'calculation', 'tversky', 'accomplished', 'quipped', 'cass', 'astray', 'undo', 'undisciplined', 'pudd', 'paperback', 'sunstein', 'undoing', 'brilliance', 'nhead', 'shephard']\n",
      "['belief', 'hulu', 'dark', 'considerations', 'tonight', 'headset', 'craig', 'sphere', 'unusual', 'explanation', 'repeatedly', 'pixel', 'likewise', 'stepped', 'punish', 'threatens', 'eat', 'opposed', 'nearby', 'skin']\n",
      "['blows', 'rocks', 'retaliated', 'raymond', 'drastically', 'functionalities', 'sensational', 'registration', 'reverses', 'paving', 'paltry', 'chaim', 'possess', 'headquarter', 'philip', 'signoff', 'elazar', 'mentioning', 'ferrari', 'erasing']\n",
      "['lookhere', 'envisioned', 'xsd', 'marginsnvidia', 'flownvidia', 'nfm', 'guidancethe', 'pstg', 'receivables', 'hsi', 'conducive', 'zacksbeyond', 'flashblade', 'elated', 'bmwyy', 'mott', 'outlookfor', 'considera', 'sonam', 'sabotaging']\n",
      "['isi', 'differentiated', 'friedrichshafen', 'detailsnon', 'pickscurrently', 'segmental', 'turbulent', 'mentor', 'cy', 'workstation', 'overhangs', 'boise', 'ssnlf', 'aftermarket', 'enhances', 'byd', 'rodrigo', 'shedding', 'shortlist', 'engineered']\n",
      "['responses', 'beasts', 'stress', 'anxiety', 'wealthy', 'consistency', 'preeminent', 'darkness', 'penned', 'scan', 'pompeo', 'settlements', 'freeze', 'conquered', 'historian', 'symbolize', 'lee', 'louisiana', 'acknowledging', 'scheme']\n",
      "['afford', 'ipads', 'perfectly', 'directions', 'knowing', 'dig', 'entrepreneurs', 'centered', 'unpredictable', 'wing', 'controversy', 'thomas', 'bunch', 'newspaper', 'searching', 'thrives', 'repeated', 'discussing', 'broadening', 'woman']\n",
      "['badly', 'payouts', 'feast', 'primed', 'debuted', 'cites', 'digested', 'dsp', 'cassidy', 'negotiators', 'pledged', 'decreasing', 'dented', 'microcontrollers', 'ranges', 'varied', 'sentiments', 'rewarded', 'cad', 'breakeven']\n",
      "['daddy', 'cruising', 'remarked', 'inventions', 'populations', 'portuguese', 'preposterous', 'silk', 'preparedness', 'disproportionately', 'mis', 'inovio', 'adults', 'commencement', 'coincidentally', 'designated', 'toilets', 'breathing', 'chess', 'joking']\n",
      "['upped', 'barriers', 'sticking', 'dream', 'pessimism', 'pledge', 'indicative', 'viable', 'assessing', 'ingredients', 'liability', 'contains', 'burned', 'rocky', 'cta', 'scalability', 'throws', 'depressed', 'brka', 'compounding']\n",
      "['afraid', 'ceos', 'memories', 'scramble', 'emotional', 'brookings', 'terry', 'wisconsin', 'spoils', 'weathered', 'tendencies', 'gregory', 'evan', 'arenas', 'trainer', 'politically', 'employed', 'lifetimes', 'thankfully', 'capitalist']\n",
      "['chaos', 'philosophy', 'radical', 'attitudes', 'eternal', 'refunds', 'reissued', 'sean', 'tinker', 'religious', 'revolutionized', 'yep', 'destined', 'kevinbcook', 'founding', 'teachers', 'unstoppable', 'champions', 'socially', 'conscious']\n",
      "['pronounced', 'southwest', 'loved', 'timed', 'determination', 'judgment', 'realm', 'todd', 'chromebook', 'confusion', 'wine', 'henry', 'unleash', 'physics', 'unrelated', 'parade', 'vein', 'wheeler', 'daughter', 'virtue']\n",
      "['spreading', 'ill', 'hospitals', 'nicholas', 'champion', 'navy', 'dental', 'threw', 'observations', 'spikes', 'graduates', 'taleb', 'prevention', 'limitations', 'kits', 'emerges', 'kill', 'fluids', 'animal', 'mystery']\n",
      "['cleaning', 'calculations', 'favorites', 'pipelines', 'berlin', 'rounding', 'brake', 'allies', 'postponed', 'negotiator', 'seamless', 'cry', 'convenient', 'pegatron', 'challenged', 'addressed', 'protectionist', 'noble', 'catching', 'retailing']\n",
      "['atlantic', 'indirect', 'plethora', 'pitch', 'diagnostics', 'du', 'marketwatch', 'wright', 'avail', 'striking', 'unusually', 'jaw', 'jong', 'settings', 'assigned', 'parks', 'flaw', 'trendline', 'barcelona', 'ke']\n",
      "['outlets', 'council', 'compromise', 'ordering', 'mbbyf', 'cupertino', 'brewing', 'altogether', 'costly', 'replacing', 'worrying', 'cuda', 'expire', 'fans', 'spun', 'standalone', 'minor', 'optimal', 'duo', 'convince']\n",
      "['fda', 'papers', 'teenage', 'fiction', 'lively', 'gottlieb', 'experimental', 'psychologist', 'cognition', 'communicates', 'receptor', 'proudly', 'creatures', 'sabotage', 'societies', 'unrealistic', 'police', 'cultures', 'academic', 'captured']\n",
      "['scaled', 'claiming', 'softening', 'headway', 'ample', 'ssys', 'renowned', 'disk', 'obstacle', 'kraft', 'cl', 'understandably', 'km', 'dining', 'reign', 'hai', 'obstacles', 'mo', 'attractions', 'determining']\n",
      "['collecting', 'filling', 'pursuing', 'monetize', 'distributed', 'violation', 'excessive', 'wsj', 'surgical', 'rolls', 'approached', 'rumored', 'slice', 'heights', 'latin', 'directed', 'distracted', 'carriers', 'incentive', 'covers']\n",
      "['ironically', 'wfe', 'fits', 'reviewing', 'bankers', 'projecting', 'lipacis', 'airline', 'zu', 'routine', 'bars', 'solo', 'holder', 'tail', 'spirit', 'enforce', 'specify', 'abbreviated', 'execute', 'pain']\n",
      "['diversity', 'behalf', 'feet', 'xm', 'deportes', 'mcmilon', 'pudding', 'aerodynamics', 'outfitting', 'ztesoft', 'facilitation', 'gaze', 'identifiable', 'atomics', 'althoff', 'unwelcome', 'punishment', 'courtois', 'redmart', 'rosalie']\n",
      "['flowthe', 'stockholders', 'mindful', 'soxl', 'guidancemanagement', 'considertexas', 'wipro', 'backtest', 'detailsgross', 'receivable', 'pickssome', 'vip', 'refreshes', 'whispersour', 'azpn', 'itus', 'gelyy', 'conclusionas', 'dramexchange', 'suspends']\n",
      "['preserve', 'okay', 'jungle', 'downstream', 'deeply', 'priorities', 'treasure', 'brother', 'communities', 'quest', 'pollution', 'paced', 'god', 'died', 'enduring', 'presentations', 'judgments', 'explored', 'crsp', 'grand']\n",
      "['creativity', 'synthesis', 'motorcycle', 'educators', 'pretend', 'ingenuity', 'philosophical', 'ignorance', 'reconciliation', 'classroom', 'professor', 'morality', 'certainty', 'gould', 'pursuit', 'beliefs', 'julian', 'darwin', 'subtitle', 'conscious']\n",
      "Coherence Score: 0.48474455692758955\n",
      "Diversity Score: 0.9658333333333333\n",
      "Interpretability Score: 0.4681824512325636\n"
     ]
    }
   ],
   "execution_count": 22
  },
  {
   "metadata": {},
   "cell_type": "markdown",
   "source": "Increasing the number of words per topic above 15 improved coherence but reduced diversity score. Moreover, increasing the number of topics makes interpreting the themes more challenging for the human eye and lowers the interpretability score."
  },
  {
   "metadata": {},
   "cell_type": "markdown",
   "source": "Removing the top and bottom 20% of the most frequent words seems to have improved coherence without significantly affecting diversity. This suggests that the common and rare words removed in this step were likely not contributing much to topic quality. However, by relying solely on raw frequency, we may have removed important words from the corpus. "
  },
  {
   "metadata": {},
   "cell_type": "markdown",
   "source": [
    "To address this, we can use a document frequency threshold as part of the TF-IDF calculation, removing words based on the proportion of documents they appear in rather than just their raw frequency. This approach takes into account how widely or narrowly distributed a word is across the corpus. \n",
    "\n",
    "Detecting bigrams and trigrams and applying TF-IDF-based filtering (using max_df and min_df) is can be a relatively safer approach. This method identifies word pairs and triplets that convey significant meaning, capturing important multi-word phrases like “stock market” or “price increase” that single-word analysis might overlook. Next, TF-IDF filtering adapts to the actual distribution of words across documents, effectively removing overly common or extremely rare terms based on their document frequency. This may provide a more targeted and context-aware way to clean data compared to the more arbitrary removal of a fixed top and bottom percentage, which risks excluding contextually important words or retaining irrelevant ones. Further experiments on FLSA-W model are presented in a separate jupyter notebook named \"Experiments with FLSA-W\"."
   ]
  }
 ],
 "metadata": {
  "kernelspec": {
   "display_name": "Python [conda env:JADS-nlp] *",
   "language": "python",
   "name": "conda-env-JADS-nlp-py"
  },
  "language_info": {
   "codemirror_mode": {
    "name": "ipython",
    "version": 3
   },
   "file_extension": ".py",
   "mimetype": "text/x-python",
   "name": "python",
   "nbconvert_exporter": "python",
   "pygments_lexer": "ipython3",
   "version": "3.12.4"
  }
 },
 "nbformat": 4,
 "nbformat_minor": 4
}
