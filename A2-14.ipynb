{
 "cells": [
  {
   "metadata": {},
   "cell_type": "markdown",
   "source": "## Assignment 2, Natural Language Processing, Group 14"
  },
  {
   "metadata": {},
   "cell_type": "markdown",
   "source": "# Pre-processing"
  },
  {
   "metadata": {},
   "cell_type": "markdown",
   "source": "## Filter corpus"
  },
  {
   "metadata": {
    "ExecuteTime": {
     "end_time": "2024-11-01T22:50:55.996444Z",
     "start_time": "2024-11-01T22:50:38.090459Z"
    }
   },
   "cell_type": "code",
   "source": [
    "import nltk\n",
    "import pandas as pd\n",
    "from nltk.corpus import stopwords\n",
    "from nltk.tokenize import word_tokenize\n",
    "# nltk.download('punkt')\n",
    "# nltk.download('stopwords')\n",
    "import re\n",
    "import random\n",
    "random.seed(45)\n",
    "\n",
    "# Load and filter the data\n",
    "news_df = pd.read_csv('us_equities_news_dataset.csv')\n",
    "news_df = news_df.drop(columns=['article_id', 'url', 'category', 'release_date', 'provider'])\n",
    "news_df = news_df.dropna(subset=['content'])\n",
    "news_df['content'] = news_df['content'].astype(str)\n",
    "\n",
    "\n",
    "# Filter for articles mentioning 'Nvidia' or 'NVDA' in the ticker, title, or content\n",
    "pattern_nvidia = r'\\b(?:Nvidia|NVDA)\\b'\n",
    "nvidia_mentioned_articles = news_df[\n",
    "    (news_df['ticker'] == 'NVDA') | \n",
    "    news_df['title'].str.contains(pattern_nvidia, case=False, na=False) |\n",
    "    news_df['content'].str.contains(pattern_nvidia, case=False, na=False)\n",
    "]\n",
    "\n",
    "# Save and reload filtered articles to avoid duplicate content\n",
    "filtered_corpus = nvidia_mentioned_articles.copy()\n",
    "filtered_corpus.to_csv('filtered_corpus.csv', index=False)\n",
    "\n",
    "print('Filtered corpus dimensions:', filtered_corpus.shape)"
   ],
   "outputs": [
    {
     "name": "stdout",
     "output_type": "stream",
     "text": [
      "Filtered corpus dimensions: (3459, 4)\n"
     ]
    }
   ],
   "execution_count": 1
  },
  {
   "metadata": {},
   "cell_type": "markdown",
   "source": "## Clean and tokenize filtered corpus"
  },
  {
   "metadata": {
    "ExecuteTime": {
     "end_time": "2024-11-01T22:51:01.739429Z",
     "start_time": "2024-11-01T22:51:01.218895Z"
    }
   },
   "cell_type": "code",
   "source": [
    "news_df = pd.read_csv('filtered_corpus.csv')\n",
    "\n",
    "# Set up stopwords\n",
    "stop_words = set(stopwords.words('english'))\n",
    "\n",
    "# Function to preprocess and tokenize text\n",
    "def preprocess_text(text):\n",
    "    # Convert to lowercase\n",
    "    text = text.lower()\n",
    "    # Remove leading and trailing whitespace\n",
    "    text = text.strip()\n",
    "    # Remove non-alphabetic characters\n",
    "    text = re.sub(r'[^a-zA-Z\\s]', '', text)\n",
    "    # Tokenize the text\n",
    "    tokens = text.split()\n",
    "    # Remove 1-letter words and stopwords\n",
    "    tokens = [token for token in tokens if len(token) > 1 and token not in stop_words]\n",
    "    return tokens\n",
    "\n",
    "# Apply the function to the content column and create a new 'tokens' column\n",
    "news_df['tokens'] = news_df['content'].apply(preprocess_text)\n",
    "\n",
    "# Remove duplicates based on the 'tokens' column\n",
    "df = news_df.drop_duplicates(subset=['tokens'])\n",
    "print('Filtered corpus dimensions:', df.shape)\n",
    "print(df[['content', 'tokens']].head(10))\n"
   ],
   "outputs": [
    {
     "name": "stdout",
     "output_type": "stream",
     "text": [
      "Filtered corpus dimensions: (3306, 5)\n",
      "                                             content  \\\n",
      "0  ECB Effects\\nThe move in the euro was huge  fa...   \n",
      "1  6 Stocks To Watch  March 6 Trading Session\\nSt...   \n",
      "2  Investing com   A rout in Apple and Facebook  ...   \n",
      "3  For Immediate ReleaseChicago  IL   January 13 ...   \n",
      "4  With 4 500 companies bringing their innovation...   \n",
      "5  With 4 500 companies bringing their innovation...   \n",
      "6  When trading opened in 2019  investors were ju...   \n",
      "7  Excitement is building up for the 2020 Summer ...   \n",
      "8  For Immediate ReleaseChicago  IL   December 3 ...   \n",
      "9  For Immediate ReleaseChicago  IL   November 26...   \n",
      "\n",
      "                                              tokens  \n",
      "0  [ecb, effects, move, euro, huge, falling, pips...  \n",
      "1  [stocks, watch, march, trading, session, stock...  \n",
      "2  [investing, com, rout, apple, facebook, nasdaq...  \n",
      "3  [immediate, releasechicago, il, january, zacks...  \n",
      "4  [companies, bringing, innovations, ces, jan, g...  \n",
      "5  [companies, bringing, innovations, ces, jan, g...  \n",
      "6  [trading, opened, investors, hoping, stocks, w...  \n",
      "7  [excitement, building, summer, olympics, tokyo...  \n",
      "8  [immediate, releasechicago, il, december, zack...  \n",
      "9  [immediate, releasechicago, il, november, nvid...  \n"
     ]
    }
   ],
   "execution_count": 2
  },
  {
   "metadata": {
    "ExecuteTime": {
     "end_time": "2024-11-01T22:51:16.587971Z",
     "start_time": "2024-11-01T22:51:16.562629Z"
    }
   },
   "cell_type": "code",
   "source": [
    "# Function to convert the tokenized column to a list of lists (flatten list)\n",
    "def make_list_of_lists(data_frame, column_name):\n",
    "    data = data_frame[column_name].tolist()\n",
    "    return data\n",
    "\n",
    "# Create the list of lists for modeling\n",
    "data = make_list_of_lists(df, 'tokens')\n",
    "print(len(data))"
   ],
   "outputs": [
    {
     "name": "stdout",
     "output_type": "stream",
     "text": [
      "3306\n"
     ]
    }
   ],
   "execution_count": 3
  },
  {
   "metadata": {},
   "cell_type": "markdown",
   "source": "## top-n% bottom-n% removal"
  },
  {
   "metadata": {
    "ExecuteTime": {
     "end_time": "2024-11-01T22:51:34.685022Z",
     "start_time": "2024-11-01T22:51:34.680267Z"
    }
   },
   "cell_type": "code",
   "source": [
    "from collections import Counter\n",
    "def remove_n_percent(processed_text, n=0):\n",
    "    if n > 0:\n",
    "        word_freq = Counter([word for doc in processed_text for word in doc])\n",
    "        top_n = set([word for word, _ in word_freq.most_common(int(n/100*len(word_freq)))])\n",
    "        bottom_n = set([word for word, _ in word_freq.most_common()[:-int(n/100*len(word_freq))-1:-1]])\n",
    "        processed_text = [[word for word in doc if word not in top_n and word not in bottom_n] for doc in\n",
    "        processed_text]\n",
    "    return processed_text"
   ],
   "outputs": [],
   "execution_count": 4
  },
  {
   "metadata": {
    "ExecuteTime": {
     "end_time": "2024-11-01T22:55:12.845181Z",
     "start_time": "2024-11-01T22:55:12.839188Z"
    }
   },
   "cell_type": "code",
   "source": [
    "from collections import Counter\n",
    "\n",
    "def remove_n_percent(data, n=0):\n",
    "    \"\"\"\n",
    "    Removes the top n% and bottom n% of the most and least frequent words from the input list of lists.\n",
    "    \n",
    "    Parameters:\n",
    "    data (list of lists): The input data, where each sublist contains tokenized text.\n",
    "    n (float): The percentage of the most and least common words to remove.\n",
    "    \n",
    "    Returns:\n",
    "    list of lists: The input data with the top n% and bottom n% words removed.\n",
    "    \"\"\"\n",
    "    if n <= 0 or n > 50:\n",
    "        raise ValueError(\"n should be greater than 0 and less than or equal to 50.\")\n",
    "    \n",
    "    # Flatten the list of lists to count word frequencies\n",
    "    all_words = [word for sublist in data for word in sublist]\n",
    "    word_freq = Counter(all_words)\n",
    "    # Calculate the number of words to remove for top and bottom n%\n",
    "    num_words_to_remove = int(n / 100 * len(word_freq))\n",
    "    # Get the top n% most frequent words\n",
    "    top_n_words = {word for word, _ in word_freq.most_common(num_words_to_remove)}   \n",
    "    # Get the bottom n% least frequent words\n",
    "    bottom_n_words = {word for word, _ in word_freq.most_common()[:-num_words_to_remove -1:-1]}    \n",
    "    # Combine top and bottom n% words to be removed\n",
    "    words_to_remove = top_n_words.union(bottom_n_words)   \n",
    "    # Filter the data to remove these words\n",
    "    filtered_data = [[word for word in sublist if word not in words_to_remove] for sublist in data]  \n",
    "    filtered_data = [doc for doc in filtered_data if len(doc) > 0]\n",
    "    \n",
    "    return filtered_data"
   ],
   "outputs": [],
   "execution_count": 6
  },
  {
   "metadata": {},
   "cell_type": "markdown",
   "source": "## Preprocess the data"
  },
  {
   "metadata": {},
   "cell_type": "markdown",
   "source": "# Train FLSA-W Model"
  },
  {
   "metadata": {},
   "cell_type": "markdown",
   "source": "# Experimentation"
  },
  {
   "metadata": {
    "ExecuteTime": {
     "end_time": "2024-11-01T21:26:44.493482Z",
     "start_time": "2024-11-01T21:16:00.189760Z"
    }
   },
   "cell_type": "code",
   "source": [
    "import matplotlib.pyplot as plt\n",
    "from FuzzyTM import FLSA_W\n",
    "# Range of topic numbers to test\n",
    "topic_numbers = range(10, 101, 10)\n",
    "coherence_scores = []\n",
    "\n",
    "for num_topics in topic_numbers:\n",
    "    flsaW = FLSA_W(\n",
    "        input_file=data,  # Preprocessed data\n",
    "        num_topics=num_topics,\n",
    "        num_words=10\n",
    "    )\n",
    "    pwgt, ptgd = flsaW.get_matrices()  # Train the model\n",
    "    coherence_score = flsaW.get_coherence_score()  # Calculate coherence\n",
    "    coherence_scores.append(coherence_score)\n",
    "\n",
    "# Plotting the Elbow Plot\n",
    "plt.figure(figsize=(10, 5))\n",
    "plt.plot(topic_numbers, coherence_scores, marker='o', linestyle='--')\n",
    "plt.xlabel('Number of Topics')\n",
    "plt.ylabel('Coherence Score')\n",
    "plt.title('Elbow Plot for Optimal Number of Topics (FLSA-W)')\n",
    "plt.show()"
   ],
   "outputs": [
    {
     "data": {
      "text/plain": [
       "<Figure size 1000x500 with 1 Axes>"
      ],
      "image/png": "[encoded data removed]"
     },
     "metadata": {},
     "output_type": "display_data"
    }
   ],
   "execution_count": 31
  },
  {
   "metadata": {},
   "cell_type": "markdown",
   "source": "After 60 topics it the curve starts to flatten. After 60 topics there is no substantial increase in the coherence score. We can experiment with 60 topics."
  },
  {
   "metadata": {},
   "cell_type": "markdown",
   "source": "# Iteration 0: full data"
  },
  {
   "metadata": {
    "ExecuteTime": {
     "end_time": "2024-11-01T21:40:03.366725Z",
     "start_time": "2024-11-01T21:38:49.878288Z"
    }
   },
   "cell_type": "code",
   "source": [
    "# Parameters\n",
    "flsaw_data = data\n",
    "num_topics = 60\n",
    "num_words = 10\n",
    "\n",
    "flsaW = FLSA_W(\n",
    "    input_file = flsaw_data,\n",
    "    num_topics=num_topics,\n",
    "    num_words=num_words,\n",
    ")\n",
    "\n",
    "flsaW.get_vocabulary_size()\n",
    "pwgt, ptgd = flsaW.get_matrices() # THIS TRAINS THE MODEL\n",
    "\n",
    "\n",
    "print(flsaW.show_topics())\n",
    "\n",
    "for topic in flsaW.show_topics(representation='words'):\n",
    "    print(topic)\n",
    "  \n",
    "    \n",
    "print(\"Coherence Score:\", flsaW.get_coherence_score())\n",
    "print(\"Diversity Score:\",flsaW.get_diversity_score())\n",
    "print(\"Interpretability Score:\",flsaW.get_interpretability_score())"
   ],
   "outputs": [
    {
     "name": "stdout",
     "output_type": "stream",
     "text": [
      "[(0, '0.001*\"soxl\" + 0.0009*\"gelyy\" + 0.0008*\"audvf\" + 0.0008*\"suspends\" + 0.0007*\"nysearca\" + 0.0007*\"xth\" + 0.0007*\"ichr\" + 0.0007*\"xitk\" + 0.0007*\"rom\" + 0.0007*\"jhmt\"'), (1, '0.0061*\"worst\" + 0.0051*\"screens\" + 0.0051*\"elsewhere\" + 0.0046*\"resistance\" + 0.0045*\"unveiled\" + 0.0043*\"forecasts\" + 0.0041*\"begun\" + 0.0041*\"periods\" + 0.0041*\"division\" + 0.004*\"delivering\"'), (2, '0.0098*\"thursday\" + 0.009*\"friday\" + 0.0086*\"intel\" + 0.0085*\"rise\" + 0.0085*\"meanwhile\" + 0.0083*\"added\" + 0.008*\"launch\" + 0.0079*\"generate\" + 0.0078*\"profit\" + 0.0077*\"negative\"'), (3, '0.0067*\"fund\" + 0.006*\"lrcx\" + 0.0055*\"pulled\" + 0.0054*\"inventory\" + 0.0052*\"editor\" + 0.0052*\"cnbc\" + 0.0052*\"newsletter\" + 0.005*\"gs\" + 0.005*\"info\" + 0.005*\"funds\"'), (4, '0.0019*\"vlkay\" + 0.0016*\"randewich\" + 0.0016*\"noel\" + 0.0013*\"kramer\" + 0.0013*\"mainstay\" + 0.0013*\"raymond\" + 0.0012*\"singular\" + 0.0012*\"stm\" + 0.0012*\"chesapeake\" + 0.0012*\"sweden\"'), (5, '0.0243*\"latest\" + 0.0207*\"china\" + 0.0194*\"special\" + 0.0192*\"aapl\" + 0.0188*\"times\" + 0.0181*\"move\" + 0.0176*\"fb\" + 0.017*\"makes\" + 0.017*\"free\" + 0.0163*\"interest\"'), (6, '0.0284*\"nvidia\" + 0.0268*\"nyse\" + 0.0262*\"hold\" + 0.0259*\"price\" + 0.0229*\"past\" + 0.022*\"sell\" + 0.0214*\"recently\" + 0.0209*\"shares\" + 0.0193*\"term\" + 0.0182*\"growing\"'), (7, '0.0007*\"soxs\" + 0.0007*\"bmwyy\" + 0.0006*\"wsm\" + 0.0005*\"ndls\" + 0.0005*\"kopn\" + 0.0005*\"kopin\" + 0.0005*\"wbc\" + 0.0005*\"mpwr\" + 0.0005*\"topsline\" + 0.0005*\"loxo\"'), (8, '0.0015*\"measuring\" + 0.0014*\"circle\" + 0.0014*\"visitors\" + 0.0013*\"define\" + 0.0013*\"retested\" + 0.0013*\"recruited\" + 0.0012*\"robg\" + 0.0012*\"ellison\" + 0.0012*\"divide\" + 0.0011*\"clarify\"'), (9, '0.005*\"jay\" + 0.005*\"touches\" + 0.0049*\"blind\" + 0.004*\"referring\" + 0.0037*\"enriched\" + 0.0037*\"crops\" + 0.0036*\"empirical\" + 0.0034*\"beautiful\" + 0.003*\"workflow\" + 0.003*\"intuition\"'), (10, '0.0061*\"perform\" + 0.0058*\"yesterday\" + 0.0057*\"rebound\" + 0.0055*\"hottest\" + 0.0055*\"holds\" + 0.0054*\"supplier\" + 0.0052*\"managed\" + 0.0052*\"financials\" + 0.005*\"slowdown\" + 0.005*\"virtual\"'), (11, '0.004*\"lie\" + 0.0039*\"filling\" + 0.0038*\"pursuing\" + 0.0035*\"universities\" + 0.0034*\"arrive\" + 0.0033*\"releasing\" + 0.0033*\"trials\" + 0.0028*\"messy\" + 0.0028*\"abandoned\" + 0.0028*\"keybanc\"'), (12, '0.0602*\"nasdaq\" + 0.0464*\"companies\" + 0.0381*\"next\" + 0.038*\"still\" + 0.0371*\"high\" + 0.0363*\"may\" + 0.033*\"last\" + 0.0319*\"investors\" + 0.031*\"see\" + 0.0275*\"stocks\"'), (13, '0.0028*\"random\" + 0.0025*\"equifax\" + 0.0025*\"sought\" + 0.0024*\"processed\" + 0.0022*\"invented\" + 0.0022*\"sgh\" + 0.0021*\"coin\" + 0.0021*\"waves\" + 0.0021*\"acronym\" + 0.0021*\"guests\"'), (14, '0.0078*\"recommendations\" + 0.0077*\"corp\" + 0.0076*\"prior\" + 0.0074*\"cars\" + 0.0073*\"missed\" + 0.0068*\"firms\" + 0.0067*\"close\" + 0.0064*\"offers\" + 0.0062*\"components\" + 0.0062*\"spending\"'), (15, '0.033*\"creating\" + 0.0242*\"everything\" + 0.022*\"th\" + 0.0218*\"known\" + 0.0215*\"changes\" + 0.0206*\"must\" + 0.0192*\"popular\" + 0.0181*\"sense\" + 0.0174*\"easily\" + 0.0173*\"problem\"'), (16, '0.0112*\"julian\" + 0.0107*\"epiphany\" + 0.0102*\"darwin\" + 0.01*\"huxley\" + 0.0097*\"classroom\" + 0.0089*\"pirsig\" + 0.0089*\"edify\" + 0.0089*\"luxuries\" + 0.0089*\"silted\" + 0.0089*\"eras\"'), (17, '0.0176*\"january\" + 0.0172*\"machine\" + 0.0159*\"video\" + 0.0154*\"highly\" + 0.0142*\"american\" + 0.0136*\"common\" + 0.0129*\"created\" + 0.0128*\"care\" + 0.0124*\"goes\" + 0.0117*\"health\"'), (18, '0.0008*\"endp\" + 0.0007*\"otcpk\" + 0.0007*\"breakaway\" + 0.0006*\"trv\" + 0.0006*\"ei\" + 0.0006*\"canaccord\" + 0.0006*\"silica\" + 0.0006*\"slca\" + 0.0006*\"delisting\" + 0.0006*\"nktr\"'), (19, '0.0099*\"inc\" + 0.0092*\"upside\" + 0.0084*\"beat\" + 0.0081*\"losses\" + 0.0079*\"chips\" + 0.0079*\"corporation\" + 0.0078*\"slightly\" + 0.0076*\"sentiment\" + 0.0075*\"drop\" + 0.0074*\"buys\"'), (20, '0.0191*\"believe\" + 0.0181*\"intelligence\" + 0.0161*\"open\" + 0.0145*\"find\" + 0.0142*\"list\" + 0.0131*\"msft\" + 0.0126*\"levels\" + 0.0123*\"clear\" + 0.0123*\"note\" + 0.0118*\"small\"'), (21, '0.0048*\"otc\" + 0.0041*\"biotech\" + 0.004*\"jpmorgan\" + 0.0038*\"ranging\" + 0.0036*\"foothold\" + 0.0036*\"finish\" + 0.0035*\"happy\" + 0.0034*\"struggled\" + 0.0033*\"prediction\" + 0.0033*\"ending\"'), (22, '0.001*\"pcg\" + 0.001*\"rosenblatt\" + 0.0008*\"planemaker\" + 0.0008*\"culp\" + 0.0008*\"spxhc\" + 0.0008*\"bwa\" + 0.0008*\"reassured\" + 0.0008*\"betsy\" + 0.0008*\"jk\" + 0.0008*\"showdown\"'), (23, '0.0153*\"familiar\" + 0.0131*\"losing\" + 0.0125*\"brief\" + 0.0124*\"pushed\" + 0.0115*\"officials\" + 0.011*\"scale\" + 0.0094*\"speaking\" + 0.0085*\"tsla\" + 0.008*\"missing\" + 0.0078*\"excellent\"'), (24, '0.0054*\"reserve\" + 0.0053*\"mu\" + 0.0051*\"catalyst\" + 0.0047*\"releases\" + 0.0047*\"futures\" + 0.0046*\"normally\" + 0.0044*\"stated\" + 0.0044*\"equities\" + 0.0044*\"mere\" + 0.0043*\"produced\"'), (25, '0.0075*\"session\" + 0.0072*\"jones\" + 0.007*\"breakthrough\" + 0.0069*\"falling\" + 0.0066*\"fell\" + 0.0065*\"declining\" + 0.0065*\"forecast\" + 0.0062*\"select\" + 0.0061*\"measures\" + 0.006*\"points\"'), (26, '0.0067*\"deepening\" + 0.0066*\"dan\" + 0.0065*\"puzzles\" + 0.0061*\"hole\" + 0.006*\"ino\" + 0.0057*\"charles\" + 0.0057*\"designated\" + 0.0055*\"defeat\" + 0.0055*\"whichever\" + 0.0054*\"preparedness\"'), (27, '0.0088*\"diseases\" + 0.0085*\"dive\" + 0.0079*\"suggested\" + 0.0064*\"tomorrow\" + 0.0063*\"wild\" + 0.0063*\"journal\" + 0.0062*\"rolling\" + 0.006*\"dedicated\" + 0.0056*\"city\" + 0.0055*\"james\"'), (28, '0.0011*\"velocityshares\" + 0.001*\"predatory\" + 0.001*\"diamondback\" + 0.001*\"acad\" + 0.001*\"jess\" + 0.001*\"mindful\" + 0.0009*\"dia\" + 0.0009*\"acadia\" + 0.0009*\"atif\" + 0.0008*\"riot\"'), (29, '0.0118*\"jensen\" + 0.0109*\"edition\" + 0.0091*\"robert\" + 0.0089*\"trouble\" + 0.0085*\"compelling\" + 0.0084*\"killed\" + 0.0081*\"writes\" + 0.0079*\"coronavirus\" + 0.0078*\"linked\" + 0.0078*\"spreading\"'), (30, '0.0049*\"unchanged\" + 0.0044*\"ounce\" + 0.0042*\"greenback\" + 0.0038*\"gamers\" + 0.0035*\"partnered\" + 0.0033*\"capable\" + 0.0033*\"bolster\" + 0.0032*\"slump\" + 0.0031*\"uptrend\" + 0.0031*\"vulnerability\"'), (31, '0.0016*\"mcqueeney\" + 0.0016*\"nellis\" + 0.0015*\"translates\" + 0.0015*\"daimler\" + 0.0014*\"saturation\" + 0.0014*\"constituents\" + 0.0014*\"mizuho\" + 0.0014*\"taipei\" + 0.0014*\"streamlined\" + 0.0012*\"twlo\"'), (32, '0.0014*\"reiterates\" + 0.0011*\"dives\" + 0.001*\"spny\" + 0.001*\"rankintel\" + 0.0009*\"rodrigo\" + 0.0009*\"evaluates\" + 0.0009*\"backtest\" + 0.0009*\"htz\" + 0.0009*\"kinngai\" + 0.0009*\"supplied\"'), (33, '0.0028*\"performers\" + 0.0023*\"hemophilia\" + 0.0022*\"advancers\" + 0.0022*\"stone\" + 0.002*\"automatic\" + 0.0019*\"dystrophy\" + 0.0019*\"muscular\" + 0.0019*\"triangle\" + 0.0019*\"outdated\" + 0.0018*\"notched\"'), (34, '0.0396*\"richard\" + 0.0325*\"professor\" + 0.03*\"certainty\" + 0.0299*\"woke\" + 0.0274*\"book\" + 0.0274*\"books\" + 0.0245*\"adult\" + 0.0243*\"illusion\" + 0.0223*\"civilization\" + 0.0215*\"biologist\"'), (35, '0.0155*\"newest\" + 0.011*\"searching\" + 0.0102*\"connecting\" + 0.0091*\"bunch\" + 0.0087*\"biotechnology\" + 0.0083*\"originated\" + 0.0082*\"tendency\" + 0.0081*\"gathering\" + 0.0077*\"persist\" + 0.0075*\"joking\"'), (36, '0.0034*\"gmt\" + 0.0032*\"gainers\" + 0.0029*\"negatively\" + 0.0028*\"wondrous\" + 0.0027*\"favored\" + 0.0027*\"potentialthe\" + 0.0027*\"techniques\" + 0.0026*\"vectors\" + 0.0026*\"inked\" + 0.0025*\"chevron\"'), (37, '0.0016*\"chipsets\" + 0.0015*\"computational\" + 0.0015*\"esports\" + 0.0014*\"demanding\" + 0.0013*\"instrumental\" + 0.0013*\"insane\" + 0.0013*\"calculating\" + 0.0013*\"blackberry\" + 0.0013*\"premarket\" + 0.0013*\"smh\"'), (38, '0.0082*\"liberty\" + 0.0067*\"spokesperson\" + 0.0061*\"lessons\" + 0.0052*\"az\" + 0.0049*\"predetermined\" + 0.0045*\"hn\" + 0.0044*\"declaring\" + 0.0043*\"unforeseen\" + 0.0041*\"stupid\" + 0.0041*\"novavax\"'), (39, '0.0073*\"therapeutics\" + 0.0055*\"ralph\" + 0.0049*\"phd\" + 0.0047*\"wa\" + 0.0046*\"beasts\" + 0.0044*\"tails\" + 0.0043*\"assessments\" + 0.0039*\"capitalist\" + 0.0039*\"ayx\" + 0.0038*\"dragon\"'), (40, '0.0039*\"obligation\" + 0.0039*\"basket\" + 0.0035*\"pointing\" + 0.0034*\"erase\" + 0.0032*\"advancing\" + 0.0031*\"deere\" + 0.003*\"drops\" + 0.0028*\"aimed\" + 0.0028*\"performances\" + 0.0027*\"mart\"'), (41, '0.009*\"believes\" + 0.0077*\"regular\" + 0.0074*\"test\" + 0.0072*\"trends\" + 0.0068*\"designed\" + 0.0064*\"picture\" + 0.0064*\"decided\" + 0.0061*\"department\" + 0.0061*\"project\" + 0.006*\"cheaper\"'), (42, '0.043*\"chaos\" + 0.0305*\"modern\" + 0.0293*\"philosophy\" + 0.0267*\"science\" + 0.0246*\"socially\" + 0.0241*\"teachers\" + 0.0239*\"founding\" + 0.0235*\"religion\" + 0.0234*\"champions\" + 0.0218*\"titled\"'), (43, '0.0177*\"topics\" + 0.0154*\"dramatic\" + 0.0152*\"becoming\" + 0.0143*\"classic\" + 0.0139*\"comfortable\" + 0.0135*\"writing\" + 0.0133*\"indeed\" + 0.0126*\"recommend\" + 0.0117*\"frequently\" + 0.0116*\"introduction\"'), (44, '0.002*\"sends\" + 0.0019*\"teamed\" + 0.0018*\"designing\" + 0.0018*\"pouring\" + 0.0018*\"safeguard\" + 0.0018*\"id\" + 0.0017*\"blown\" + 0.0017*\"conversely\" + 0.0017*\"slowest\" + 0.0016*\"sne\"'), (45, '0.0163*\"positive\" + 0.0156*\"industry\" + 0.0137*\"taking\" + 0.0137*\"analysts\" + 0.0133*\"seen\" + 0.0129*\"point\" + 0.0128*\"deal\" + 0.0128*\"despite\" + 0.0127*\"due\" + 0.0126*\"near\"'), (46, '0.0438*\"nvda\" + 0.0288*\"long\" + 0.0282*\"recent\" + 0.0249*\"better\" + 0.0246*\"want\" + 0.0224*\"without\" + 0.021*\"three\" + 0.0203*\"use\" + 0.0183*\"information\" + 0.018*\"news\"'), (47, '0.0321*\"grand\" + 0.0282*\"minds\" + 0.0259*\"theory\" + 0.0239*\"gem\" + 0.0238*\"crsp\" + 0.0214*\"cognitive\" + 0.0177*\"explored\" + 0.0163*\"pollution\" + 0.0163*\"isolating\" + 0.0137*\"answers\"'), (48, '0.0182*\"havoc\" + 0.0181*\"mathematical\" + 0.0178*\"solve\" + 0.0172*\"stars\" + 0.0164*\"bag\" + 0.0142*\"noah\" + 0.0134*\"exploring\" + 0.0129*\"virtue\" + 0.0121*\"ridiculous\" + 0.0115*\"evolutionary\"'), (49, '0.0197*\"degrees\" + 0.0169*\"brave\" + 0.0155*\"paragraphs\" + 0.0154*\"reasoning\" + 0.0153*\"pursued\" + 0.0152*\"yuval\" + 0.0151*\"stratosphere\" + 0.0151*\"glad\" + 0.0149*\"observation\" + 0.0149*\"disruptor\"'), (50, '0.0037*\"miners\" + 0.0033*\"beneficial\" + 0.0033*\"giaquinto\" + 0.0032*\"swing\" + 0.003*\"addressable\" + 0.0027*\"sync\" + 0.0026*\"drawing\" + 0.0025*\"ag\" + 0.0025*\"squeeze\" + 0.0025*\"perceived\"'), (51, '0.0018*\"stalled\" + 0.0017*\"subscribe\" + 0.0017*\"delphi\" + 0.0017*\"utilizes\" + 0.0017*\"shrunk\" + 0.0016*\"cvs\" + 0.0015*\"cooled\" + 0.0015*\"csgn\" + 0.0015*\"iwm\" + 0.0015*\"rewarded\"'), (52, '0.0014*\"colette\" + 0.0014*\"splrct\" + 0.0013*\"pct\" + 0.0013*\"baird\" + 0.0013*\"horton\" + 0.0012*\"incyte\" + 0.0012*\"incy\" + 0.0012*\"ssnlf\" + 0.0012*\"movidius\" + 0.0012*\"ibes\"'), (53, '0.002*\"blacklist\" + 0.0017*\"thwart\" + 0.0017*\"sci\" + 0.0017*\"fibonacci\" + 0.0016*\"loves\" + 0.0016*\"examines\" + 0.0014*\"tqqq\" + 0.0014*\"satellites\" + 0.0014*\"glaring\" + 0.0014*\"thoroughly\"'), (54, '0.0056*\"ryniec\" + 0.0049*\"tracey\" + 0.0046*\"pioneer\" + 0.0043*\"finishing\" + 0.0035*\"cruise\" + 0.0035*\"detect\" + 0.0035*\"pivotal\" + 0.0034*\"craig\" + 0.0033*\"fill\" + 0.0032*\"text\"'), (55, '0.014*\"unpredictable\" + 0.0136*\"thomas\" + 0.0119*\"discussing\" + 0.0113*\"newspaper\" + 0.011*\"centered\" + 0.0108*\"afford\" + 0.01*\"controversy\" + 0.0081*\"entrepreneurs\" + 0.0076*\"woman\" + 0.0071*\"passage\"'), (56, '0.0145*\"released\" + 0.0128*\"advanced\" + 0.0124*\"among\" + 0.0115*\"rally\" + 0.0111*\"six\" + 0.0107*\"bottom\" + 0.0101*\"addition\" + 0.0095*\"portfolio\" + 0.0094*\"process\" + 0.0094*\"returns\"'), (57, '0.0028*\"deadly\" + 0.0024*\"midday\" + 0.0022*\"senate\" + 0.0021*\"inference\" + 0.0021*\"stretched\" + 0.0021*\"debut\" + 0.002*\"peg\" + 0.002*\"continuously\" + 0.002*\"aim\" + 0.002*\"lineup\"'), (58, '0.0046*\"witnessing\" + 0.0042*\"peers\" + 0.0042*\"dis\" + 0.004*\"selloff\" + 0.0038*\"downturn\" + 0.0038*\"geo\" + 0.0037*\"indicated\" + 0.0036*\"shanghai\" + 0.0036*\"graphic\" + 0.0036*\"ttm\"'), (59, '0.0106*\"gaap\" + 0.0054*\"pleased\" + 0.0051*\"ramping\" + 0.0048*\"visibility\" + 0.0046*\"barclays\" + 0.0046*\"exiting\" + 0.0045*\"excluding\" + 0.0044*\"sequential\" + 0.004*\"vivek\" + 0.0038*\"expenses\"')]\n",
      "['soxl', 'gelyy', 'audvf', 'suspends', 'nysearca', 'xth', 'ichr', 'xitk', 'rom', 'jhmt']\n",
      "['worst', 'screens', 'elsewhere', 'resistance', 'unveiled', 'forecasts', 'begun', 'periods', 'division', 'delivering']\n",
      "['thursday', 'friday', 'intel', 'rise', 'meanwhile', 'added', 'launch', 'generate', 'profit', 'negative']\n",
      "['fund', 'lrcx', 'pulled', 'inventory', 'editor', 'cnbc', 'newsletter', 'gs', 'info', 'funds']\n",
      "['vlkay', 'randewich', 'noel', 'kramer', 'mainstay', 'raymond', 'singular', 'stm', 'chesapeake', 'sweden']\n",
      "['latest', 'china', 'special', 'aapl', 'times', 'move', 'fb', 'makes', 'free', 'interest']\n",
      "['nvidia', 'nyse', 'hold', 'price', 'past', 'sell', 'recently', 'shares', 'term', 'growing']\n",
      "['soxs', 'bmwyy', 'wsm', 'ndls', 'kopn', 'kopin', 'wbc', 'mpwr', 'topsline', 'loxo']\n",
      "['measuring', 'circle', 'visitors', 'define', 'retested', 'recruited', 'robg', 'ellison', 'divide', 'clarify']\n",
      "['jay', 'touches', 'blind', 'referring', 'enriched', 'crops', 'empirical', 'beautiful', 'workflow', 'intuition']\n",
      "['perform', 'yesterday', 'rebound', 'hottest', 'holds', 'supplier', 'managed', 'financials', 'slowdown', 'virtual']\n",
      "['lie', 'filling', 'pursuing', 'universities', 'arrive', 'releasing', 'trials', 'messy', 'abandoned', 'keybanc']\n",
      "['nasdaq', 'companies', 'next', 'still', 'high', 'may', 'last', 'investors', 'see', 'stocks']\n",
      "['random', 'equifax', 'sought', 'processed', 'invented', 'sgh', 'coin', 'waves', 'acronym', 'guests']\n",
      "['recommendations', 'corp', 'prior', 'cars', 'missed', 'firms', 'close', 'offers', 'components', 'spending']\n",
      "['creating', 'everything', 'th', 'known', 'changes', 'must', 'popular', 'sense', 'easily', 'problem']\n",
      "['julian', 'epiphany', 'darwin', 'huxley', 'classroom', 'pirsig', 'edify', 'luxuries', 'silted', 'eras']\n",
      "['january', 'machine', 'video', 'highly', 'american', 'common', 'created', 'care', 'goes', 'health']\n",
      "['endp', 'otcpk', 'breakaway', 'trv', 'ei', 'canaccord', 'silica', 'slca', 'delisting', 'nktr']\n",
      "['inc', 'upside', 'beat', 'losses', 'chips', 'corporation', 'slightly', 'sentiment', 'drop', 'buys']\n",
      "['believe', 'intelligence', 'open', 'find', 'list', 'msft', 'levels', 'clear', 'note', 'small']\n",
      "['otc', 'biotech', 'jpmorgan', 'ranging', 'foothold', 'finish', 'happy', 'struggled', 'prediction', 'ending']\n",
      "['pcg', 'rosenblatt', 'planemaker', 'culp', 'spxhc', 'bwa', 'reassured', 'betsy', 'jk', 'showdown']\n",
      "['familiar', 'losing', 'brief', 'pushed', 'officials', 'scale', 'speaking', 'tsla', 'missing', 'excellent']\n",
      "['reserve', 'mu', 'catalyst', 'releases', 'futures', 'normally', 'stated', 'equities', 'mere', 'produced']\n",
      "['session', 'jones', 'breakthrough', 'falling', 'fell', 'declining', 'forecast', 'select', 'measures', 'points']\n",
      "['deepening', 'dan', 'puzzles', 'hole', 'ino', 'charles', 'designated', 'defeat', 'whichever', 'preparedness']\n",
      "['diseases', 'dive', 'suggested', 'tomorrow', 'wild', 'journal', 'rolling', 'dedicated', 'city', 'james']\n",
      "['velocityshares', 'predatory', 'diamondback', 'acad', 'jess', 'mindful', 'dia', 'acadia', 'atif', 'riot']\n",
      "['jensen', 'edition', 'robert', 'trouble', 'compelling', 'killed', 'writes', 'coronavirus', 'linked', 'spreading']\n",
      "['unchanged', 'ounce', 'greenback', 'gamers', 'partnered', 'capable', 'bolster', 'slump', 'uptrend', 'vulnerability']\n",
      "['mcqueeney', 'nellis', 'translates', 'daimler', 'saturation', 'constituents', 'mizuho', 'taipei', 'streamlined', 'twlo']\n",
      "['reiterates', 'dives', 'spny', 'rankintel', 'rodrigo', 'evaluates', 'backtest', 'htz', 'kinngai', 'supplied']\n",
      "['performers', 'hemophilia', 'advancers', 'stone', 'automatic', 'dystrophy', 'muscular', 'triangle', 'outdated', 'notched']\n",
      "['richard', 'professor', 'certainty', 'woke', 'book', 'books', 'adult', 'illusion', 'civilization', 'biologist']\n",
      "['newest', 'searching', 'connecting', 'bunch', 'biotechnology', 'originated', 'tendency', 'gathering', 'persist', 'joking']\n",
      "['gmt', 'gainers', 'negatively', 'wondrous', 'favored', 'potentialthe', 'techniques', 'vectors', 'inked', 'chevron']\n",
      "['chipsets', 'computational', 'esports', 'demanding', 'instrumental', 'insane', 'calculating', 'blackberry', 'premarket', 'smh']\n",
      "['liberty', 'spokesperson', 'lessons', 'az', 'predetermined', 'hn', 'declaring', 'unforeseen', 'stupid', 'novavax']\n",
      "['therapeutics', 'ralph', 'phd', 'wa', 'beasts', 'tails', 'assessments', 'capitalist', 'ayx', 'dragon']\n",
      "['obligation', 'basket', 'pointing', 'erase', 'advancing', 'deere', 'drops', 'aimed', 'performances', 'mart']\n",
      "['believes', 'regular', 'test', 'trends', 'designed', 'picture', 'decided', 'department', 'project', 'cheaper']\n",
      "['chaos', 'modern', 'philosophy', 'science', 'socially', 'teachers', 'founding', 'religion', 'champions', 'titled']\n",
      "['topics', 'dramatic', 'becoming', 'classic', 'comfortable', 'writing', 'indeed', 'recommend', 'frequently', 'introduction']\n",
      "['sends', 'teamed', 'designing', 'pouring', 'safeguard', 'id', 'blown', 'conversely', 'slowest', 'sne']\n",
      "['positive', 'industry', 'taking', 'analysts', 'seen', 'point', 'deal', 'despite', 'due', 'near']\n",
      "['nvda', 'long', 'recent', 'better', 'want', 'without', 'three', 'use', 'information', 'news']\n",
      "['grand', 'minds', 'theory', 'gem', 'crsp', 'cognitive', 'explored', 'pollution', 'isolating', 'answers']\n",
      "['havoc', 'mathematical', 'solve', 'stars', 'bag', 'noah', 'exploring', 'virtue', 'ridiculous', 'evolutionary']\n",
      "['degrees', 'brave', 'paragraphs', 'reasoning', 'pursued', 'yuval', 'stratosphere', 'glad', 'observation', 'disruptor']\n",
      "['miners', 'beneficial', 'giaquinto', 'swing', 'addressable', 'sync', 'drawing', 'ag', 'squeeze', 'perceived']\n",
      "['stalled', 'subscribe', 'delphi', 'utilizes', 'shrunk', 'cvs', 'cooled', 'csgn', 'iwm', 'rewarded']\n",
      "['colette', 'splrct', 'pct', 'baird', 'horton', 'incyte', 'incy', 'ssnlf', 'movidius', 'ibes']\n",
      "['blacklist', 'thwart', 'sci', 'fibonacci', 'loves', 'examines', 'tqqq', 'satellites', 'glaring', 'thoroughly']\n",
      "['ryniec', 'tracey', 'pioneer', 'finishing', 'cruise', 'detect', 'pivotal', 'craig', 'fill', 'text']\n",
      "['unpredictable', 'thomas', 'discussing', 'newspaper', 'centered', 'afford', 'controversy', 'entrepreneurs', 'woman', 'passage']\n",
      "['released', 'advanced', 'among', 'rally', 'six', 'bottom', 'addition', 'portfolio', 'process', 'returns']\n",
      "['deadly', 'midday', 'senate', 'inference', 'stretched', 'debut', 'peg', 'continuously', 'aim', 'lineup']\n",
      "['witnessing', 'peers', 'dis', 'selloff', 'downturn', 'geo', 'indicated', 'shanghai', 'graphic', 'ttm']\n",
      "['gaap', 'pleased', 'ramping', 'visibility', 'barclays', 'exiting', 'excluding', 'sequential', 'vivek', 'expenses']\n",
      "Coherence Score: 0.4076569540347908\n",
      "Diversity Score: 1.0\n",
      "Interpretability Score: 0.4076569540347908\n"
     ]
    }
   ],
   "execution_count": 34
  },
  {
   "metadata": {},
   "cell_type": "markdown",
   "source": "Diversity score of 1.0 indicates that the topics are completely distinct from each other, with no significant overlap in the words that define them. "
  },
  {
   "metadata": {},
   "cell_type": "markdown",
   "source": "Coherence score of 0.41 suggests that while the topics have some level of meaningful structure, there is room for improvement."
  },
  {
   "metadata": {},
   "cell_type": "markdown",
   "source": "Content:"
  },
  {
   "metadata": {},
   "cell_type": "markdown",
   "source": "# Iteration 1: Remove 5% most common and rarest words"
  },
  {
   "metadata": {
    "ExecuteTime": {
     "end_time": "2024-11-01T21:47:06.159271Z",
     "start_time": "2024-11-01T21:46:03.354410Z"
    }
   },
   "cell_type": "code",
   "source": [
    "# Parameters\n",
    "flsaw_data = remove_n_percent(data, 5)\n",
    "num_topics=60\n",
    "num_words=10\n",
    "\n",
    "flsaW = FLSA_W(\n",
    "    input_file = flsaw_data,\n",
    "    num_topics=num_topics,\n",
    "    num_words=num_words,\n",
    ")\n",
    "\n",
    "flsaW.get_vocabulary_size()\n",
    "pwgt, ptgd = flsaW.get_matrices() # THIS TRAINS THE MODEL\n",
    "\n",
    "\n",
    "print(flsaW.show_topics())\n",
    "\n",
    "for topic in flsaW.show_topics(representation='words'):\n",
    "    print(topic)\n",
    "  \n",
    "    \n",
    "print(\"Coherence Score:\", flsaW.get_coherence_score())\n",
    "print(\"Diversity Score:\",flsaW.get_diversity_score())\n",
    "print(\"Interpretability Score:\",flsaW.get_interpretability_score())"
   ],
   "outputs": [
    {
     "name": "stdout",
     "output_type": "stream",
     "text": [
      "[(0, '0.0098*\"floor\" + 0.0073*\"strike\" + 0.0052*\"file\" + 0.0048*\"strictly\" + 0.0044*\"bloc\" + 0.0039*\"provocative\" + 0.0036*\"examine\" + 0.0036*\"chat\" + 0.0035*\"raw\" + 0.0032*\"macy\"'), (1, '0.0027*\"premarket\" + 0.0026*\"considerhere\" + 0.0022*\"soxx\" + 0.0022*\"conclusively\" + 0.0018*\"delve\" + 0.0017*\"traced\" + 0.0017*\"boomed\" + 0.0017*\"polled\" + 0.0016*\"aaa\" + 0.0015*\"southwestern\"'), (2, '0.008*\"racing\" + 0.0078*\"emotion\" + 0.0073*\"frontier\" + 0.0062*\"fever\" + 0.006*\"ralph\" + 0.0058*\"massively\" + 0.0057*\"winner\" + 0.0055*\"writer\" + 0.0054*\"stating\" + 0.0051*\"habits\"'), (3, '0.0009*\"soxl\" + 0.0007*\"conclusionas\" + 0.0007*\"itus\" + 0.0007*\"suspends\" + 0.0007*\"tndm\" + 0.0007*\"xth\" + 0.0007*\"maritime\" + 0.0006*\"abil\" + 0.0006*\"dwdp\" + 0.0006*\"cnat\"'), (4, '0.0007*\"trv\" + 0.0007*\"gelyy\" + 0.0007*\"ei\" + 0.0006*\"zackstoday\" + 0.0006*\"considerwe\" + 0.0006*\"ndls\" + 0.0006*\"wipro\" + 0.0006*\"panchadar\" + 0.0006*\"arjun\" + 0.0006*\"cslt\"'), (5, '0.0141*\"cutting\" + 0.0131*\"safe\" + 0.0131*\"raising\" + 0.0115*\"touch\" + 0.011*\"payment\" + 0.0109*\"planned\" + 0.0107*\"continuing\" + 0.0107*\"hands\" + 0.0105*\"issued\" + 0.0095*\"necessarily\"'), (6, '0.0051*\"marks\" + 0.0046*\"scalable\" + 0.0045*\"catching\" + 0.0041*\"modules\" + 0.0041*\"claiming\" + 0.0037*\"deteriorating\" + 0.0035*\"workload\" + 0.0035*\"pickup\" + 0.0033*\"revealing\" + 0.0032*\"branded\"'), (7, '0.039*\"woke\" + 0.0332*\"illusion\" + 0.0274*\"richard\" + 0.0256*\"monsters\" + 0.0255*\"ariely\" + 0.025*\"consciously\" + 0.0245*\"luddite\" + 0.0245*\"ecology\" + 0.0245*\"stupor\" + 0.0234*\"sha\"'), (8, '0.0176*\"watching\" + 0.0175*\"unique\" + 0.0159*\"perfect\" + 0.0132*\"creation\" + 0.0121*\"structure\" + 0.012*\"minute\" + 0.0113*\"finance\" + 0.0106*\"ship\" + 0.0102*\"approved\" + 0.0094*\"neural\"'), (9, '0.004*\"gainers\" + 0.0038*\"incorporated\" + 0.0033*\"xilinx\" + 0.0032*\"skyrocket\" + 0.0032*\"marginally\" + 0.0032*\"nordstrom\" + 0.0032*\"performances\" + 0.003*\"datacenters\" + 0.0029*\"skyrocketed\" + 0.0029*\"monster\"'), (10, '0.0025*\"ipgp\" + 0.0023*\"payc\" + 0.0023*\"mrvl\" + 0.0023*\"decliners\" + 0.0022*\"microprocessors\" + 0.0021*\"handpicked\" + 0.0021*\"mlnx\" + 0.002*\"racked\" + 0.0019*\"hopeful\" + 0.0019*\"hardest\"'), (11, '0.0014*\"differentiated\" + 0.0012*\"receivables\" + 0.0012*\"combinationhere\" + 0.0012*\"nfm\" + 0.0011*\"cree\" + 0.0011*\"baird\" + 0.0011*\"amba\" + 0.0011*\"flagged\" + 0.0011*\"maddy\" + 0.0011*\"colette\"'), (12, '0.0027*\"troy\" + 0.0019*\"kem\" + 0.0019*\"kemet\" + 0.0018*\"qrvo\" + 0.0016*\"smh\" + 0.0014*\"saysaccording\" + 0.0014*\"randewich\" + 0.0014*\"noel\" + 0.0014*\"multimillionaire\" + 0.0014*\"swn\"'), (13, '0.0052*\"evp\" + 0.0045*\"industrials\" + 0.0041*\"sluggish\" + 0.0039*\"peers\" + 0.0035*\"partial\" + 0.0034*\"barrels\" + 0.0034*\"walt\" + 0.0033*\"reiterated\" + 0.0033*\"uptrend\" + 0.0032*\"contribute\"'), (14, '0.0076*\"upgrade\" + 0.0071*\"launches\" + 0.0069*\"count\" + 0.0068*\"plunge\" + 0.0066*\"purchases\" + 0.0066*\"charging\" + 0.0066*\"lon\" + 0.0064*\"manufacture\" + 0.0062*\"sensitive\" + 0.0062*\"hikes\"'), (15, '0.0141*\"address\" + 0.0126*\"reduced\" + 0.0125*\"slight\" + 0.0125*\"caused\" + 0.0105*\"travel\" + 0.0102*\"achieve\" + 0.0101*\"tried\" + 0.0095*\"challenges\" + 0.0088*\"globally\" + 0.0087*\"dominate\"'), (16, '0.0053*\"promising\" + 0.0044*\"snapdragon\" + 0.0042*\"crowded\" + 0.004*\"dual\" + 0.0039*\"throwing\" + 0.0035*\"print\" + 0.0035*\"bi\" + 0.0035*\"backward\" + 0.0034*\"thereafter\" + 0.0034*\"notebook\"'), (17, '0.0221*\"paragraphs\" + 0.021*\"disruptor\" + 0.0203*\"reasoning\" + 0.0203*\"pursued\" + 0.0193*\"brave\" + 0.0189*\"psychologically\" + 0.0184*\"stratosphere\" + 0.0183*\"observation\" + 0.0182*\"burning\" + 0.0176*\"coined\"'), (18, '0.0178*\"spend\" + 0.0167*\"comparison\" + 0.0162*\"benefits\" + 0.0162*\"stake\" + 0.0158*\"strongly\" + 0.0147*\"paying\" + 0.0144*\"augmented\" + 0.0134*\"generally\" + 0.0122*\"privacy\" + 0.0121*\"allowing\"'), (19, '0.0471*\"art\" + 0.0426*\"theory\" + 0.0375*\"grand\" + 0.0348*\"minds\" + 0.0325*\"thoughts\" + 0.0289*\"deeply\" + 0.0268*\"communities\" + 0.0239*\"preserve\" + 0.0239*\"crsp\" + 0.0208*\"explored\"'), (20, '0.0009*\"ftxl\" + 0.0008*\"ibex\" + 0.0008*\"bmwyy\" + 0.0008*\"amtek\" + 0.0008*\"muse\" + 0.0007*\"nemours\" + 0.0007*\"pont\" + 0.0007*\"favourable\" + 0.0007*\"recommends\" + 0.0007*\"proai\"'), (21, '0.0071*\"criticism\" + 0.0065*\"conflict\" + 0.0065*\"statista\" + 0.0062*\"buzz\" + 0.0055*\"thrive\" + 0.0051*\"warn\" + 0.0048*\"sea\" + 0.0047*\"institution\" + 0.0046*\"movements\" + 0.0044*\"revolutionary\"'), (22, '0.0199*\"covered\" + 0.0131*\"intelligent\" + 0.0128*\"accelerated\" + 0.0105*\"lake\" + 0.0079*\"teaching\" + 0.0071*\"grown\" + 0.0068*\"association\" + 0.0066*\"focuses\" + 0.0066*\"restrictions\" + 0.0063*\"movement\"'), (23, '0.0052*\"sustained\" + 0.005*\"representing\" + 0.005*\"parent\" + 0.0049*\"supplies\" + 0.0046*\"announces\" + 0.0044*\"sanctions\" + 0.0041*\"reform\" + 0.0041*\"whopping\" + 0.004*\"slowly\" + 0.004*\"delay\"'), (24, '0.0237*\"macro\" + 0.0235*\"spent\" + 0.0179*\"lives\" + 0.0147*\"probability\" + 0.0131*\"associated\" + 0.0127*\"selection\" + 0.0114*\"experiences\" + 0.0097*\"amazing\" + 0.0095*\"sound\" + 0.0093*\"studying\"'), (25, '0.0477*\"intuitive\" + 0.031*\"nice\" + 0.0264*\"digging\" + 0.0242*\"rob\" + 0.0229*\"vinci\" + 0.0226*\"atlassian\" + 0.0196*\"nevada\" + 0.0186*\"ratings\" + 0.0185*\"da\" + 0.0176*\"supreme\"'), (26, '0.0299*\"installed\" + 0.0243*\"fairly\" + 0.0206*\"happening\" + 0.018*\"hopefully\" + 0.0175*\"express\" + 0.0174*\"chunk\" + 0.0167*\"opt\" + 0.0158*\"hospital\" + 0.0121*\"somewhere\" + 0.0121*\"offices\"'), (27, '0.0035*\"phlx\" + 0.0031*\"overhang\" + 0.003*\"dax\" + 0.0029*\"wondrous\" + 0.0028*\"entirety\" + 0.0028*\"factset\" + 0.0028*\"midday\" + 0.0028*\"leukemia\" + 0.0027*\"vectors\" + 0.0027*\"contributor\"'), (28, '0.0424*\"decisions\" + 0.0335*\"member\" + 0.0321*\"internal\" + 0.0222*\"click\" + 0.0214*\"classic\" + 0.0205*\"dr\" + 0.0186*\"absolutely\" + 0.018*\"interested\" + 0.0141*\"decades\" + 0.0133*\"arena\"'), (29, '0.0031*\"avoided\" + 0.0025*\"incremental\" + 0.0025*\"finest\" + 0.0024*\"carmaker\" + 0.0023*\"accretive\" + 0.0023*\"heavyweights\" + 0.0022*\"dgx\" + 0.0022*\"flashpoint\" + 0.0021*\"calculated\" + 0.0021*\"bolan\"'), (30, '0.0087*\"historical\" + 0.0082*\"pharmaceuticals\" + 0.0073*\"invited\" + 0.0072*\"bidu\" + 0.0069*\"verge\" + 0.006*\"namely\" + 0.0056*\"agricultural\" + 0.0046*\"heights\" + 0.0046*\"fill\" + 0.0046*\"pivotal\"'), (31, '0.0061*\"computation\" + 0.0033*\"invention\" + 0.0032*\"scrambled\" + 0.0031*\"roger\" + 0.003*\"unsure\" + 0.0029*\"wilson\" + 0.0028*\"alex\" + 0.0027*\"mistrust\" + 0.0027*\"supercomputers\" + 0.0027*\"journals\"'), (32, '0.0201*\"trouble\" + 0.02*\"tap\" + 0.02*\"surrounding\" + 0.0153*\"felt\" + 0.0141*\"jensen\" + 0.0115*\"musk\" + 0.0113*\"shown\" + 0.0112*\"shifted\" + 0.0108*\"scientific\" + 0.0098*\"filled\"'), (33, '0.0352*\"intensive\" + 0.0266*\"league\" + 0.0259*\"walk\" + 0.0246*\"vegas\" + 0.0241*\"listening\" + 0.0198*\"curtain\" + 0.0197*\"nba\" + 0.0194*\"scandal\" + 0.0184*\"shop\" + 0.0184*\"nbc\"'), (34, '0.0053*\"wet\" + 0.0044*\"barbara\" + 0.0044*\"radiologists\" + 0.0043*\"borders\" + 0.0043*\"jay\" + 0.0041*\"histories\" + 0.004*\"maximize\" + 0.0039*\"beautiful\" + 0.0039*\"congressman\" + 0.0038*\"prophetic\"'), (35, '0.0032*\"strategiesit\" + 0.003*\"outnumbered\" + 0.0026*\"aum\" + 0.0026*\"hemophilia\" + 0.0025*\"cater\" + 0.0025*\"gtx\" + 0.0024*\"repurchase\" + 0.0023*\"photonics\" + 0.0022*\"comprised\" + 0.0022*\"intensifying\"'), (36, '0.05*\"chaos\" + 0.0364*\"philosophy\" + 0.0285*\"radical\" + 0.0274*\"attitudes\" + 0.0271*\"refunds\" + 0.0269*\"socially\" + 0.0253*\"sean\" + 0.0252*\"religious\" + 0.025*\"founding\" + 0.0238*\"yep\"'), (37, '0.032*\"surgical\" + 0.0301*\"legalized\" + 0.0298*\"notion\" + 0.0262*\"coach\" + 0.0252*\"illustrated\" + 0.0219*\"legalize\" + 0.0181*\"subscribers\" + 0.0179*\"appropriately\" + 0.0177*\"luke\" + 0.0177*\"draft\"'), (38, '0.0114*\"majority\" + 0.0094*\"fuel\" + 0.009*\"facing\" + 0.0072*\"organizations\" + 0.0069*\"entry\" + 0.0068*\"normally\" + 0.0065*\"excitement\" + 0.0065*\"attempt\" + 0.0064*\"idc\" + 0.006*\"manage\"'), (39, '0.033*\"involved\" + 0.0302*\"step\" + 0.0296*\"eight\" + 0.0285*\"primary\" + 0.0241*\"allowed\" + 0.022*\"reaction\" + 0.022*\"apparently\" + 0.0205*\"happens\" + 0.0186*\"section\" + 0.017*\"becomes\"'), (40, '0.0207*\"determination\" + 0.0206*\"judgment\" + 0.0197*\"timed\" + 0.0188*\"confusion\" + 0.0181*\"bag\" + 0.018*\"southwest\" + 0.0169*\"havoc\" + 0.0169*\"pronounced\" + 0.0166*\"evolutionary\" + 0.015*\"virtue\"'), (41, '0.0104*\"enabled\" + 0.0102*\"revealed\" + 0.0101*\"finding\" + 0.0096*\"entities\" + 0.0089*\"overseas\" + 0.0085*\"contactzacks\" + 0.0082*\"frame\" + 0.0082*\"white\" + 0.0077*\"virtually\" + 0.0074*\"st\"'), (42, '0.0272*\"type\" + 0.0247*\"employees\" + 0.0199*\"shopping\" + 0.0196*\"agreed\" + 0.0184*\"allows\" + 0.0178*\"owned\" + 0.0162*\"facilitate\" + 0.0151*\"youtube\" + 0.0148*\"study\" + 0.0143*\"argument\"'), (43, '0.0066*\"portion\" + 0.0057*\"millionaires\" + 0.0049*\"dipped\" + 0.0047*\"guzzlers\" + 0.0043*\"smooth\" + 0.0042*\"softer\" + 0.0042*\"regional\" + 0.0041*\"wearables\" + 0.004*\"accused\" + 0.004*\"evs\"'), (44, '0.0127*\"enables\" + 0.0102*\"thereby\" + 0.0101*\"ultimately\" + 0.0092*\"vote\" + 0.0092*\"suggests\" + 0.0091*\"collaboration\" + 0.009*\"tests\" + 0.0084*\"reducing\" + 0.0083*\"intends\" + 0.0077*\"uk\"'), (45, '0.0048*\"famed\" + 0.0045*\"clara\" + 0.0043*\"upgraded\" + 0.0042*\"outpaced\" + 0.0041*\"yearly\" + 0.004*\"greenback\" + 0.0038*\"weighed\" + 0.0038*\"uptick\" + 0.0035*\"rolled\" + 0.0034*\"marked\"'), (46, '0.0328*\"chicago\" + 0.0237*\"politics\" + 0.0219*\"tool\" + 0.015*\"teller\" + 0.0136*\"military\" + 0.0124*\"imagine\" + 0.0118*\"brains\" + 0.0112*\"stream\" + 0.0099*\"aside\" + 0.009*\"older\"'), (47, '0.0072*\"nevertheless\" + 0.007*\"throughout\" + 0.0068*\"listed\" + 0.0053*\"tone\" + 0.0052*\"underlying\" + 0.0051*\"achieved\" + 0.005*\"headline\" + 0.0049*\"chase\" + 0.0048*\"defined\" + 0.0046*\"decent\"'), (48, '0.0185*\"winners\" + 0.0168*\"looked\" + 0.0133*\"billions\" + 0.0097*\"bet\" + 0.0095*\"lenovo\" + 0.0088*\"concept\" + 0.0086*\"outside\" + 0.008*\"featuring\" + 0.0079*\"versions\" + 0.0064*\"hyundai\"'), (49, '0.0046*\"tumbled\" + 0.0042*\"headwind\" + 0.0041*\"accounted\" + 0.0039*\"lifted\" + 0.0038*\"bode\" + 0.0036*\"jpy\" + 0.0036*\"lagged\" + 0.0035*\"tailwind\" + 0.0033*\"secular\" + 0.0032*\"adas\"'), (50, '0.028*\"receive\" + 0.0234*\"love\" + 0.0226*\"anti\" + 0.0132*\"dig\" + 0.0114*\"pages\" + 0.0104*\"rule\" + 0.0103*\"nature\" + 0.0098*\"runs\" + 0.0096*\"british\" + 0.0079*\"explain\"'), (51, '0.0188*\"opened\" + 0.0144*\"natural\" + 0.0134*\"compelling\" + 0.0129*\"dominated\" + 0.0119*\"mild\" + 0.0102*\"empire\" + 0.0102*\"calling\" + 0.01*\"videos\" + 0.0092*\"robert\" + 0.0091*\"psychology\"'), (52, '0.0012*\"xsd\" + 0.0012*\"alv\" + 0.0011*\"lookhere\" + 0.001*\"foraying\" + 0.001*\"reiterates\" + 0.001*\"mott\" + 0.001*\"ame\" + 0.0009*\"considersome\" + 0.0009*\"tensilica\" + 0.0009*\"chipmaking\"'), (53, '0.0201*\"nine\" + 0.014*\"telling\" + 0.0108*\"sitting\" + 0.0107*\"enjoy\" + 0.0106*\"operator\" + 0.0105*\"practices\" + 0.0105*\"ben\" + 0.0101*\"patient\" + 0.0095*\"load\" + 0.0093*\"mover\"'), (54, '0.0077*\"exclusive\" + 0.0073*\"visual\" + 0.0067*\"selected\" + 0.0065*\"remaining\" + 0.0064*\"strongest\" + 0.006*\"ecosystem\" + 0.0058*\"dropping\" + 0.0055*\"suggesting\" + 0.0055*\"lowered\" + 0.005*\"strengthening\"'), (55, '0.0176*\"chris\" + 0.0156*\"football\" + 0.0144*\"nfl\" + 0.0139*\"hill\" + 0.013*\"baseball\" + 0.0125*\"tractor\" + 0.0122*\"ron\" + 0.0119*\"motley\" + 0.0111*\"bowl\" + 0.0108*\"laughs\"'), (56, '0.0027*\"turing\" + 0.0023*\"considercurrently\" + 0.0022*\"mcqueeney\" + 0.0019*\"nowzacks\" + 0.0019*\"ipg\" + 0.0019*\"pendinga\" + 0.0017*\"snps\" + 0.0017*\"kla\" + 0.0017*\"downbeat\" + 0.0017*\"invesco\"'), (57, '0.0268*\"sport\" + 0.0169*\"embracing\" + 0.0159*\"penalties\" + 0.0158*\"flop\" + 0.0156*\"length\" + 0.0156*\"bang\" + 0.015*\"kicking\" + 0.015*\"sponsor\" + 0.0148*\"likewise\" + 0.0143*\"obligations\"'), (58, '0.0111*\"epiphany\" + 0.0109*\"julian\" + 0.0107*\"darwin\" + 0.0104*\"huxley\" + 0.01*\"classroom\" + 0.0093*\"geology\" + 0.0093*\"beachhead\" + 0.0093*\"aldous\" + 0.0093*\"unesco\" + 0.0093*\"halpern\"'), (59, '0.0046*\"remarkably\" + 0.0037*\"pointing\" + 0.0036*\"edged\" + 0.0036*\"benefited\" + 0.0033*\"exposed\" + 0.0033*\"macroeconomic\" + 0.0031*\"automaker\" + 0.0031*\"behemoth\" + 0.003*\"techniques\" + 0.003*\"trillionaires\"')]\n",
      "['floor', 'strike', 'file', 'strictly', 'bloc', 'provocative', 'examine', 'chat', 'raw', 'macy']\n",
      "['premarket', 'considerhere', 'soxx', 'conclusively', 'delve', 'traced', 'boomed', 'polled', 'aaa', 'southwestern']\n",
      "['racing', 'emotion', 'frontier', 'fever', 'ralph', 'massively', 'winner', 'writer', 'stating', 'habits']\n",
      "['soxl', 'conclusionas', 'itus', 'suspends', 'tndm', 'xth', 'maritime', 'abil', 'dwdp', 'cnat']\n",
      "['trv', 'gelyy', 'ei', 'zackstoday', 'considerwe', 'ndls', 'wipro', 'panchadar', 'arjun', 'cslt']\n",
      "['cutting', 'safe', 'raising', 'touch', 'payment', 'planned', 'continuing', 'hands', 'issued', 'necessarily']\n",
      "['marks', 'scalable', 'catching', 'modules', 'claiming', 'deteriorating', 'workload', 'pickup', 'revealing', 'branded']\n",
      "['woke', 'illusion', 'richard', 'monsters', 'ariely', 'consciously', 'luddite', 'ecology', 'stupor', 'sha']\n",
      "['watching', 'unique', 'perfect', 'creation', 'structure', 'minute', 'finance', 'ship', 'approved', 'neural']\n",
      "['gainers', 'incorporated', 'xilinx', 'skyrocket', 'marginally', 'nordstrom', 'performances', 'datacenters', 'skyrocketed', 'monster']\n",
      "['ipgp', 'payc', 'mrvl', 'decliners', 'microprocessors', 'handpicked', 'mlnx', 'racked', 'hopeful', 'hardest']\n",
      "['differentiated', 'receivables', 'combinationhere', 'nfm', 'cree', 'baird', 'amba', 'flagged', 'maddy', 'colette']\n",
      "['troy', 'kem', 'kemet', 'qrvo', 'smh', 'saysaccording', 'randewich', 'noel', 'multimillionaire', 'swn']\n",
      "['evp', 'industrials', 'sluggish', 'peers', 'partial', 'barrels', 'walt', 'reiterated', 'uptrend', 'contribute']\n",
      "['upgrade', 'launches', 'count', 'plunge', 'purchases', 'charging', 'lon', 'manufacture', 'sensitive', 'hikes']\n",
      "['address', 'reduced', 'slight', 'caused', 'travel', 'achieve', 'tried', 'challenges', 'globally', 'dominate']\n",
      "['promising', 'snapdragon', 'crowded', 'dual', 'throwing', 'print', 'bi', 'backward', 'thereafter', 'notebook']\n",
      "['paragraphs', 'disruptor', 'reasoning', 'pursued', 'brave', 'psychologically', 'stratosphere', 'observation', 'burning', 'coined']\n",
      "['spend', 'comparison', 'benefits', 'stake', 'strongly', 'paying', 'augmented', 'generally', 'privacy', 'allowing']\n",
      "['art', 'theory', 'grand', 'minds', 'thoughts', 'deeply', 'communities', 'preserve', 'crsp', 'explored']\n",
      "['ftxl', 'ibex', 'bmwyy', 'amtek', 'muse', 'nemours', 'pont', 'favourable', 'recommends', 'proai']\n",
      "['criticism', 'conflict', 'statista', 'buzz', 'thrive', 'warn', 'sea', 'institution', 'movements', 'revolutionary']\n",
      "['covered', 'intelligent', 'accelerated', 'lake', 'teaching', 'grown', 'association', 'focuses', 'restrictions', 'movement']\n",
      "['sustained', 'representing', 'parent', 'supplies', 'announces', 'sanctions', 'reform', 'whopping', 'slowly', 'delay']\n",
      "['macro', 'spent', 'lives', 'probability', 'associated', 'selection', 'experiences', 'amazing', 'sound', 'studying']\n",
      "['intuitive', 'nice', 'digging', 'rob', 'vinci', 'atlassian', 'nevada', 'ratings', 'da', 'supreme']\n",
      "['installed', 'fairly', 'happening', 'hopefully', 'express', 'chunk', 'opt', 'hospital', 'somewhere', 'offices']\n",
      "['phlx', 'overhang', 'dax', 'wondrous', 'entirety', 'factset', 'midday', 'leukemia', 'vectors', 'contributor']\n",
      "['decisions', 'member', 'internal', 'click', 'classic', 'dr', 'absolutely', 'interested', 'decades', 'arena']\n",
      "['avoided', 'incremental', 'finest', 'carmaker', 'accretive', 'heavyweights', 'dgx', 'flashpoint', 'calculated', 'bolan']\n",
      "['historical', 'pharmaceuticals', 'invited', 'bidu', 'verge', 'namely', 'agricultural', 'heights', 'fill', 'pivotal']\n",
      "['computation', 'invention', 'scrambled', 'roger', 'unsure', 'wilson', 'alex', 'mistrust', 'supercomputers', 'journals']\n",
      "['trouble', 'tap', 'surrounding', 'felt', 'jensen', 'musk', 'shown', 'shifted', 'scientific', 'filled']\n",
      "['intensive', 'league', 'walk', 'vegas', 'listening', 'curtain', 'nba', 'scandal', 'shop', 'nbc']\n",
      "['wet', 'barbara', 'radiologists', 'borders', 'jay', 'histories', 'maximize', 'beautiful', 'congressman', 'prophetic']\n",
      "['strategiesit', 'outnumbered', 'aum', 'hemophilia', 'cater', 'gtx', 'repurchase', 'photonics', 'comprised', 'intensifying']\n",
      "['chaos', 'philosophy', 'radical', 'attitudes', 'refunds', 'socially', 'sean', 'religious', 'founding', 'yep']\n",
      "['surgical', 'legalized', 'notion', 'coach', 'illustrated', 'legalize', 'subscribers', 'appropriately', 'luke', 'draft']\n",
      "['majority', 'fuel', 'facing', 'organizations', 'entry', 'normally', 'excitement', 'attempt', 'idc', 'manage']\n",
      "['involved', 'step', 'eight', 'primary', 'allowed', 'reaction', 'apparently', 'happens', 'section', 'becomes']\n",
      "['determination', 'judgment', 'timed', 'confusion', 'bag', 'southwest', 'havoc', 'pronounced', 'evolutionary', 'virtue']\n",
      "['enabled', 'revealed', 'finding', 'entities', 'overseas', 'contactzacks', 'frame', 'white', 'virtually', 'st']\n",
      "['type', 'employees', 'shopping', 'agreed', 'allows', 'owned', 'facilitate', 'youtube', 'study', 'argument']\n",
      "['portion', 'millionaires', 'dipped', 'guzzlers', 'smooth', 'softer', 'regional', 'wearables', 'accused', 'evs']\n",
      "['enables', 'thereby', 'ultimately', 'vote', 'suggests', 'collaboration', 'tests', 'reducing', 'intends', 'uk']\n",
      "['famed', 'clara', 'upgraded', 'outpaced', 'yearly', 'greenback', 'weighed', 'uptick', 'rolled', 'marked']\n",
      "['chicago', 'politics', 'tool', 'teller', 'military', 'imagine', 'brains', 'stream', 'aside', 'older']\n",
      "['nevertheless', 'throughout', 'listed', 'tone', 'underlying', 'achieved', 'headline', 'chase', 'defined', 'decent']\n",
      "['winners', 'looked', 'billions', 'bet', 'lenovo', 'concept', 'outside', 'featuring', 'versions', 'hyundai']\n",
      "['tumbled', 'headwind', 'accounted', 'lifted', 'bode', 'jpy', 'lagged', 'tailwind', 'secular', 'adas']\n",
      "['receive', 'love', 'anti', 'dig', 'pages', 'rule', 'nature', 'runs', 'british', 'explain']\n",
      "['opened', 'natural', 'compelling', 'dominated', 'mild', 'empire', 'calling', 'videos', 'robert', 'psychology']\n",
      "['xsd', 'alv', 'lookhere', 'foraying', 'reiterates', 'mott', 'ame', 'considersome', 'tensilica', 'chipmaking']\n",
      "['nine', 'telling', 'sitting', 'enjoy', 'operator', 'practices', 'ben', 'patient', 'load', 'mover']\n",
      "['exclusive', 'visual', 'selected', 'remaining', 'strongest', 'ecosystem', 'dropping', 'suggesting', 'lowered', 'strengthening']\n",
      "['chris', 'football', 'nfl', 'hill', 'baseball', 'tractor', 'ron', 'motley', 'bowl', 'laughs']\n",
      "['turing', 'considercurrently', 'mcqueeney', 'nowzacks', 'ipg', 'pendinga', 'snps', 'kla', 'downbeat', 'invesco']\n",
      "['sport', 'embracing', 'penalties', 'flop', 'length', 'bang', 'kicking', 'sponsor', 'likewise', 'obligations']\n",
      "['epiphany', 'julian', 'darwin', 'huxley', 'classroom', 'geology', 'beachhead', 'aldous', 'unesco', 'halpern']\n",
      "['remarkably', 'pointing', 'edged', 'benefited', 'exposed', 'macroeconomic', 'automaker', 'behemoth', 'techniques', 'trillionaires']\n",
      "Coherence Score: 0.32577742235208607\n",
      "Diversity Score: 1.0\n",
      "Interpretability Score: 0.32577742235208607\n"
     ]
    }
   ],
   "execution_count": 35
  },
  {
   "metadata": {},
   "cell_type": "markdown",
   "source": "Coherence score dropped while diversity stays at maximum."
  },
  {
   "metadata": {},
   "cell_type": "markdown",
   "source": ""
  },
  {
   "metadata": {},
   "cell_type": "markdown",
   "source": "# Iteration 2: Remove 10%"
  },
  {
   "metadata": {
    "ExecuteTime": {
     "end_time": "2024-11-01T21:51:53.511198Z",
     "start_time": "2024-11-01T21:50:57.808084Z"
    }
   },
   "cell_type": "code",
   "source": [
    "# Parameters\n",
    "flsaw_data = remove_n_percent(data, 10)\n",
    "num_topics=60\n",
    "num_words=10\n",
    "\n",
    "flsaW = FLSA_W(\n",
    "    input_file = flsaw_data,\n",
    "    num_topics=num_topics,\n",
    "    num_words=num_words,\n",
    ")\n",
    "\n",
    "flsaW.get_vocabulary_size()\n",
    "pwgt, ptgd = flsaW.get_matrices() # THIS TRAINS THE MODEL\n",
    "\n",
    "\n",
    "print(flsaW.show_topics())\n",
    "\n",
    "for topic in flsaW.show_topics(representation='words'):\n",
    "    print(topic)\n",
    "  \n",
    "    \n",
    "print(\"Coherence Score:\", flsaW.get_coherence_score())\n",
    "print(\"Diversity Score:\",flsaW.get_diversity_score())\n",
    "print(\"Interpretability Score:\",flsaW.get_interpretability_score())"
   ],
   "outputs": [
    {
     "name": "stdout",
     "output_type": "stream",
     "text": [
      "[(0, '0.001*\"ftxl\" + 0.0008*\"flowthe\" + 0.0007*\"nktr\" + 0.0007*\"amtek\" + 0.0007*\"stockholders\" + 0.0007*\"favourable\" + 0.0007*\"gelyy\" + 0.0007*\"canaccord\" + 0.0007*\"endp\" + 0.0007*\"backtest\"'), (1, '0.0321*\"afford\" + 0.0306*\"values\" + 0.0287*\"ipads\" + 0.0264*\"directions\" + 0.0247*\"discussing\" + 0.0239*\"perfectly\" + 0.0211*\"knowing\" + 0.0209*\"controversy\" + 0.0195*\"daniel\" + 0.0184*\"passage\"'), (2, '0.0116*\"exceed\" + 0.0103*\"fantastic\" + 0.0097*\"realized\" + 0.0089*\"rallies\" + 0.0086*\"attached\" + 0.0081*\"profiles\" + 0.0078*\"emotion\" + 0.0076*\"implications\" + 0.0076*\"disruption\" + 0.0076*\"copy\"'), (3, '0.0041*\"intense\" + 0.0034*\"courtesy\" + 0.0031*\"midday\" + 0.0031*\"doubts\" + 0.0031*\"contributor\" + 0.0028*\"plain\" + 0.0027*\"attaining\" + 0.0027*\"propel\" + 0.0024*\"penetrate\" + 0.0024*\"ore\"'), (4, '0.0057*\"anytime\" + 0.0051*\"serves\" + 0.0049*\"accidents\" + 0.0048*\"pays\" + 0.0046*\"database\" + 0.0045*\"appropriate\" + 0.0045*\"readings\" + 0.0044*\"initiated\" + 0.0044*\"representative\" + 0.0042*\"underperform\"'), (5, '0.0298*\"channels\" + 0.0259*\"brave\" + 0.0256*\"paragraphs\" + 0.0237*\"disruptor\" + 0.0227*\"reasoning\" + 0.0222*\"pursued\" + 0.0215*\"burning\" + 0.0206*\"glad\" + 0.0204*\"psychologically\" + 0.0204*\"coined\"'), (6, '0.0438*\"digging\" + 0.0431*\"nevada\" + 0.0427*\"intuitive\" + 0.0417*\"andrew\" + 0.0325*\"atlassian\" + 0.0322*\"rob\" + 0.03*\"vinci\" + 0.0229*\"credible\" + 0.0224*\"synchrony\" + 0.0223*\"diapers\"'), (7, '0.0155*\"syndrome\" + 0.0138*\"population\" + 0.0131*\"spanish\" + 0.0113*\"classic\" + 0.0109*\"respiratory\" + 0.0107*\"vaccines\" + 0.0106*\"wikipedia\" + 0.0101*\"mortality\" + 0.0101*\"influenza\" + 0.0101*\"mers\"'), (8, '0.0298*\"landscape\" + 0.0238*\"patient\" + 0.022*\"scrutiny\" + 0.0202*\"operator\" + 0.0198*\"pressures\" + 0.0188*\"mover\" + 0.0187*\"england\" + 0.0167*\"lucrative\" + 0.0162*\"mode\" + 0.0154*\"ben\"'), (9, '0.0042*\"subdued\" + 0.0037*\"reforms\" + 0.0034*\"specialty\" + 0.0034*\"topline\" + 0.0033*\"sanjay\" + 0.0033*\"inception\" + 0.0032*\"divided\" + 0.0032*\"wrapping\" + 0.003*\"pose\" + 0.0029*\"demonstrate\"'), (10, '0.0326*\"recognize\" + 0.0273*\"reviews\" + 0.0247*\"sitting\" + 0.0223*\"someone\" + 0.0172*\"section\" + 0.0163*\"statements\" + 0.016*\"movie\" + 0.0154*\"clinical\" + 0.0154*\"owners\" + 0.0142*\"honda\"'), (11, '0.0115*\"julian\" + 0.0113*\"epiphany\" + 0.0108*\"darwin\" + 0.0107*\"huxley\" + 0.0102*\"classroom\" + 0.0095*\"revolt\" + 0.0095*\"unconsciously\" + 0.0095*\"labyrinth\" + 0.0095*\"bottles\" + 0.0095*\"townhall\"'), (12, '0.0076*\"sooner\" + 0.0076*\"viewed\" + 0.0068*\"barclays\" + 0.0064*\"households\" + 0.0064*\"seasonality\" + 0.0052*\"buttons\" + 0.0051*\"translation\" + 0.0049*\"toronto\" + 0.0048*\"matt\" + 0.0047*\"incorporate\"'), (13, '0.0023*\"delve\" + 0.0017*\"turbulent\" + 0.0017*\"mvis\" + 0.0016*\"kemet\" + 0.0016*\"kem\" + 0.0016*\"randewich\" + 0.0016*\"noel\" + 0.0015*\"intellidex\" + 0.0015*\"payable\" + 0.0015*\"isi\"'), (14, '0.0166*\"chris\" + 0.0165*\"nfl\" + 0.0154*\"football\" + 0.0151*\"ron\" + 0.0148*\"tractor\" + 0.0139*\"baseball\" + 0.013*\"motley\" + 0.0123*\"ers\" + 0.012*\"laughs\" + 0.0119*\"bowl\"'), (15, '0.0039*\"giaquinto\" + 0.0039*\"ixic\" + 0.0039*\"backdrop\" + 0.0039*\"behemoths\" + 0.0037*\"narrowed\" + 0.0033*\"leukemia\" + 0.0033*\"realization\" + 0.0032*\"jcp\" + 0.003*\"retain\" + 0.003*\"slipping\"'), (16, '0.0407*\"ratings\" + 0.0366*\"surgical\" + 0.0323*\"illustrated\" + 0.0318*\"legalized\" + 0.0314*\"walking\" + 0.0312*\"notion\" + 0.0297*\"coach\" + 0.0283*\"hey\" + 0.0263*\"legalize\" + 0.0256*\"appropriately\"'), (17, '0.0194*\"authorities\" + 0.0183*\"preparing\" + 0.0145*\"lawsuit\" + 0.0139*\"versions\" + 0.0132*\"collapse\" + 0.012*\"siri\" + 0.0119*\"hyundai\" + 0.0112*\"resultant\" + 0.011*\"ireland\" + 0.0097*\"maps\"'), (18, '0.0036*\"aforementioned\" + 0.0029*\"pan\" + 0.0026*\"footing\" + 0.0026*\"emea\" + 0.0026*\"minus\" + 0.0025*\"jnj\" + 0.0025*\"implementing\" + 0.0024*\"payouts\" + 0.0024*\"bolstered\" + 0.0023*\"markedly\"'), (19, '0.0108*\"struggle\" + 0.0093*\"acquiring\" + 0.0084*\"ties\" + 0.0083*\"partnering\" + 0.0081*\"transform\" + 0.0074*\"quiet\" + 0.0074*\"targeted\" + 0.0074*\"bills\" + 0.0073*\"logistics\" + 0.007*\"feedback\"'), (20, '0.0071*\"principal\" + 0.0064*\"merchandise\" + 0.0063*\"accelerators\" + 0.0061*\"replacement\" + 0.0051*\"workload\" + 0.0051*\"cleaning\" + 0.0047*\"checks\" + 0.0046*\"determining\" + 0.0045*\"staying\" + 0.0043*\"favorites\"'), (21, '0.0056*\"marketable\" + 0.0053*\"uncertainties\" + 0.0052*\"regarded\" + 0.0047*\"interim\" + 0.0044*\"bulk\" + 0.004*\"parliament\" + 0.004*\"steering\" + 0.0038*\"luxury\" + 0.0038*\"residential\" + 0.0038*\"drops\"'), (22, '0.0108*\"body\" + 0.0097*\"technologically\" + 0.0093*\"kids\" + 0.0087*\"friendly\" + 0.0085*\"lake\" + 0.0083*\"arms\" + 0.0078*\"shifted\" + 0.0074*\"wars\" + 0.0069*\"lessons\" + 0.0065*\"experiments\"'), (23, '0.0095*\"surprisingly\" + 0.0091*\"fewer\" + 0.008*\"failure\" + 0.0078*\"hosted\" + 0.0059*\"strictly\" + 0.0059*\"derivatives\" + 0.0057*\"atlanta\" + 0.0051*\"deteriorating\" + 0.0043*\"warranted\" + 0.0042*\"drinking\"'), (24, '0.0436*\"philosophy\" + 0.0394*\"chaos\" + 0.0364*\"radical\" + 0.032*\"refunds\" + 0.0317*\"attitudes\" + 0.0306*\"sean\" + 0.0306*\"modern\" + 0.0303*\"religious\" + 0.03*\"tinker\" + 0.0292*\"eternal\"'), (25, '0.0012*\"xsd\" + 0.0011*\"lookhere\" + 0.0011*\"zacksbeyond\" + 0.001*\"receivables\" + 0.001*\"mott\" + 0.001*\"ame\" + 0.001*\"hsi\" + 0.0009*\"foraying\" + 0.0009*\"considersome\" + 0.0009*\"pcg\"'), (26, '0.0236*\"forum\" + 0.0209*\"mild\" + 0.019*\"commonly\" + 0.0165*\"probable\" + 0.0148*\"compass\" + 0.0131*\"discover\" + 0.0126*\"ino\" + 0.0125*\"warming\" + 0.0123*\"hubei\" + 0.0121*\"whichever\"'), (27, '0.0075*\"unclear\" + 0.0063*\"individuals\" + 0.0059*\"constantly\" + 0.0058*\"busy\" + 0.0057*\"counterparts\" + 0.0054*\"supplying\" + 0.0053*\"intention\" + 0.0052*\"chosen\" + 0.0052*\"takeover\" + 0.005*\"homes\"'), (28, '0.0023*\"polled\" + 0.0022*\"ideaswhile\" + 0.0022*\"nowzacks\" + 0.002*\"crus\" + 0.002*\"positivity\" + 0.0018*\"downbeat\" + 0.0017*\"enhancement\" + 0.0017*\"usdx\" + 0.0017*\"incurred\" + 0.0015*\"chipset\"'), (29, '0.0028*\"morris\" + 0.0026*\"lookout\" + 0.0026*\"foray\" + 0.0025*\"sentiments\" + 0.0025*\"dgx\" + 0.0024*\"ensures\" + 0.0024*\"utilizes\" + 0.0023*\"translates\" + 0.0023*\"widened\" + 0.0022*\"await\"'), (30, '0.0025*\"spurred\" + 0.0024*\"intertechnology\" + 0.0024*\"adsk\" + 0.0023*\"unturned\" + 0.0022*\"amazonzacks\" + 0.0021*\"pcie\" + 0.0021*\"constituents\" + 0.002*\"vsh\" + 0.0019*\"raymond\" + 0.0018*\"etn\"'), (31, '0.0053*\"counts\" + 0.0047*\"consulting\" + 0.0044*\"settled\" + 0.004*\"safer\" + 0.004*\"approaches\" + 0.0039*\"sudden\" + 0.0038*\"dmasvix\" + 0.0038*\"adi\" + 0.0037*\"spring\" + 0.0036*\"fallout\"'), (32, '0.0212*\"approve\" + 0.0159*\"stopped\" + 0.0145*\"happening\" + 0.0142*\"broadcast\" + 0.0136*\"tom\" + 0.0108*\"somewhere\" + 0.01*\"fairly\" + 0.0097*\"tens\" + 0.0096*\"fan\" + 0.0095*\"perception\"'), (33, '0.0223*\"joking\" + 0.021*\"symptoms\" + 0.0187*\"lethal\" + 0.0181*\"champ\" + 0.0173*\"garry\" + 0.0173*\"kasparov\" + 0.0167*\"ncov\" + 0.0152*\"geometric\" + 0.0152*\"plague\" + 0.0151*\"pseudo\"'), (34, '0.0364*\"switching\" + 0.0217*\"length\" + 0.0206*\"participated\" + 0.0202*\"flop\" + 0.0201*\"ton\" + 0.0197*\"penalties\" + 0.0197*\"distant\" + 0.0195*\"promotion\" + 0.0193*\"procedure\" + 0.0189*\"genuine\"'), (35, '0.0038*\"weakening\" + 0.0037*\"criteria\" + 0.0036*\"disappoint\" + 0.0035*\"lawmakers\" + 0.0033*\"resolved\" + 0.0033*\"comparisons\" + 0.0032*\"blamed\" + 0.0031*\"absence\" + 0.0031*\"subscriptions\" + 0.0031*\"heels\"'), (36, '0.0223*\"train\" + 0.022*\"economist\" + 0.0153*\"rarely\" + 0.0148*\"forces\" + 0.0132*\"functions\" + 0.0129*\"ill\" + 0.0123*\"describe\" + 0.0118*\"die\" + 0.0115*\"situations\" + 0.011*\"responses\"'), (37, '0.0447*\"richard\" + 0.0389*\"woke\" + 0.036*\"professor\" + 0.0339*\"illusion\" + 0.0256*\"monsters\" + 0.0253*\"ariely\" + 0.0252*\"consciously\" + 0.0248*\"evolution\" + 0.0246*\"ecology\" + 0.0246*\"stupor\"'), (38, '0.0123*\"partly\" + 0.0101*\"deploy\" + 0.0094*\"builds\" + 0.0094*\"illegal\" + 0.0093*\"collect\" + 0.0093*\"sit\" + 0.0086*\"lnkd\" + 0.0085*\"collecting\" + 0.0081*\"location\" + 0.0079*\"letter\"'), (39, '0.0008*\"soxl\" + 0.0006*\"predictiontexas\" + 0.0006*\"azpn\" + 0.0006*\"conclusiongiven\" + 0.0006*\"conclusionas\" + 0.0006*\"itus\" + 0.0006*\"dwdp\" + 0.0006*\"suggestsaccording\" + 0.0006*\"nysearca\" + 0.0006*\"dowdupont\"'), (40, '0.011*\"caught\" + 0.0094*\"prompted\" + 0.0081*\"patterns\" + 0.0078*\"eighth\" + 0.0065*\"skill\" + 0.0064*\"performs\" + 0.0063*\"logical\" + 0.0062*\"sky\" + 0.0061*\"stumbled\" + 0.0059*\"knew\"'), (41, '0.0043*\"mood\" + 0.0043*\"rallying\" + 0.0043*\"muted\" + 0.0041*\"outsized\" + 0.004*\"powering\" + 0.004*\"longest\" + 0.0038*\"rhetoric\" + 0.0038*\"vast\" + 0.0037*\"navigation\" + 0.0036*\"beneficial\"'), (42, '0.0053*\"fold\" + 0.0052*\"fomc\" + 0.0045*\"theresa\" + 0.0043*\"replacing\" + 0.0042*\"returning\" + 0.0042*\"blockbuster\" + 0.0041*\"sipc\" + 0.004*\"briefing\" + 0.0039*\"buffett\" + 0.0039*\"passenger\"'), (43, '0.0035*\"repurchased\" + 0.0029*\"handpicked\" + 0.0029*\"racked\" + 0.0025*\"pfizer\" + 0.0025*\"beverage\" + 0.0023*\"anticipating\" + 0.0023*\"dystrophy\" + 0.0023*\"muscular\" + 0.0023*\"officers\" + 0.0022*\"eli\"'), (44, '0.0313*\"paul\" + 0.0279*\"solve\" + 0.0246*\"havoc\" + 0.0242*\"judgment\" + 0.0238*\"forever\" + 0.0233*\"virtue\" + 0.0229*\"determination\" + 0.0225*\"timed\" + 0.0223*\"invent\" + 0.0204*\"evolutionary\"'), (45, '0.0057*\"undoubtedly\" + 0.0039*\"acronym\" + 0.0037*\"pessimism\" + 0.0036*\"tenth\" + 0.0032*\"troubles\" + 0.0031*\"dc\" + 0.0031*\"voiced\" + 0.003*\"conversational\" + 0.0027*\"detention\" + 0.0027*\"drastic\"'), (46, '0.0177*\"psychology\" + 0.0108*\"therapies\" + 0.01*\"grasp\" + 0.0069*\"secret\" + 0.0067*\"emotions\" + 0.0063*\"fascinated\" + 0.0059*\"sums\" + 0.0056*\"teaching\" + 0.0055*\"empire\" + 0.0053*\"essence\"'), (47, '0.0041*\"movers\" + 0.0036*\"emergence\" + 0.0033*\"tops\" + 0.0031*\"shy\" + 0.003*\"fading\" + 0.003*\"workstations\" + 0.0029*\"abroad\" + 0.0029*\"preparation\" + 0.0028*\"constitute\" + 0.0027*\"hints\"'), (48, '0.0074*\"reliable\" + 0.0065*\"persistent\" + 0.0065*\"invited\" + 0.0064*\"agricultural\" + 0.0058*\"element\" + 0.0054*\"verge\" + 0.0053*\"impossible\" + 0.0053*\"rd\" + 0.0051*\"lie\" + 0.0047*\"filling\"'), (49, '0.0147*\"fields\" + 0.0116*\"tells\" + 0.0105*\"excerpt\" + 0.0105*\"film\" + 0.01*\"complexity\" + 0.0091*\"presentation\" + 0.0086*\"understood\" + 0.0085*\"frontier\" + 0.008*\"captured\" + 0.008*\"wit\"'), (50, '0.0371*\"listening\" + 0.0358*\"scandal\" + 0.0352*\"league\" + 0.0322*\"intensive\" + 0.032*\"walk\" + 0.0308*\"nba\" + 0.0292*\"everywhere\" + 0.0281*\"anymore\" + 0.0242*\"lender\" + 0.024*\"attracts\"'), (51, '0.0511*\"art\" + 0.0441*\"minds\" + 0.0411*\"thoughts\" + 0.0383*\"grand\" + 0.0362*\"preserve\" + 0.0345*\"deeply\" + 0.0311*\"communities\" + 0.028*\"okay\" + 0.0265*\"crsp\" + 0.0233*\"isolating\"'), (52, '0.0057*\"sake\" + 0.0054*\"watson\" + 0.0054*\"collaborated\" + 0.0052*\"imperative\" + 0.005*\"zu\" + 0.0048*\"madness\" + 0.0048*\"timely\" + 0.0046*\"proving\" + 0.0038*\"variation\" + 0.0037*\"legitimacy\"'), (53, '0.0341*\"capex\" + 0.021*\"casino\" + 0.0198*\"adjusting\" + 0.0195*\"kansas\" + 0.0179*\"downs\" + 0.0176*\"shut\" + 0.0175*\"commissioner\" + 0.0174*\"hanging\" + 0.0168*\"choosing\" + 0.0166*\"broadband\"'), (54, '0.006*\"pa\" + 0.006*\"lynch\" + 0.0055*\"hearing\" + 0.0048*\"capability\" + 0.0046*\"ice\" + 0.0046*\"pleased\" + 0.0045*\"noise\" + 0.0041*\"caters\" + 0.0041*\"promised\" + 0.0041*\"lawsuits\"'), (55, '0.002*\"saysaccording\" + 0.0014*\"combinationhere\" + 0.0013*\"signifies\" + 0.0013*\"envisioned\" + 0.0013*\"renewal\" + 0.0013*\"midrange\" + 0.0012*\"kramer\" + 0.0012*\"arrays\" + 0.0012*\"hees\" + 0.0012*\"occupying\"'), (56, '0.0196*\"sars\" + 0.0186*\"nassim\" + 0.0161*\"pneumonia\" + 0.0161*\"references\" + 0.016*\"beds\" + 0.0159*\"inventions\" + 0.0156*\"deadliest\" + 0.0155*\"competing\" + 0.0154*\"outbreaks\" + 0.0149*\"assumptions\"'), (57, '0.0208*\"judge\" + 0.016*\"ruling\" + 0.0144*\"comply\" + 0.0143*\"posts\" + 0.0134*\"glance\" + 0.0133*\"sites\" + 0.0131*\"shelves\" + 0.0077*\"diversity\" + 0.0077*\"suggestions\" + 0.006*\"ship\"'), (58, '0.0156*\"gotten\" + 0.011*\"collaborating\" + 0.0105*\"spotify\" + 0.0105*\"truly\" + 0.0096*\"brazil\" + 0.0093*\"fix\" + 0.0093*\"messenger\" + 0.0091*\"french\" + 0.0087*\"exit\" + 0.0087*\"accepted\"'), (59, '0.03*\"heard\" + 0.0254*\"severe\" + 0.0197*\"animal\" + 0.0171*\"inovio\" + 0.0151*\"adults\" + 0.0147*\"mis\" + 0.0143*\"populations\" + 0.0141*\"commencement\" + 0.0141*\"coincidentally\" + 0.0132*\"preposterous\"')]\n",
      "['ftxl', 'flowthe', 'nktr', 'amtek', 'stockholders', 'favourable', 'gelyy', 'canaccord', 'endp', 'backtest']\n",
      "['afford', 'values', 'ipads', 'directions', 'discussing', 'perfectly', 'knowing', 'controversy', 'daniel', 'passage']\n",
      "['exceed', 'fantastic', 'realized', 'rallies', 'attached', 'profiles', 'emotion', 'implications', 'disruption', 'copy']\n",
      "['intense', 'courtesy', 'midday', 'doubts', 'contributor', 'plain', 'attaining', 'propel', 'penetrate', 'ore']\n",
      "['anytime', 'serves', 'accidents', 'pays', 'database', 'appropriate', 'readings', 'initiated', 'representative', 'underperform']\n",
      "['channels', 'brave', 'paragraphs', 'disruptor', 'reasoning', 'pursued', 'burning', 'glad', 'psychologically', 'coined']\n",
      "['digging', 'nevada', 'intuitive', 'andrew', 'atlassian', 'rob', 'vinci', 'credible', 'synchrony', 'diapers']\n",
      "['syndrome', 'population', 'spanish', 'classic', 'respiratory', 'vaccines', 'wikipedia', 'mortality', 'influenza', 'mers']\n",
      "['landscape', 'patient', 'scrutiny', 'operator', 'pressures', 'mover', 'england', 'lucrative', 'mode', 'ben']\n",
      "['subdued', 'reforms', 'specialty', 'topline', 'sanjay', 'inception', 'divided', 'wrapping', 'pose', 'demonstrate']\n",
      "['recognize', 'reviews', 'sitting', 'someone', 'section', 'statements', 'movie', 'clinical', 'owners', 'honda']\n",
      "['julian', 'epiphany', 'darwin', 'huxley', 'classroom', 'revolt', 'unconsciously', 'labyrinth', 'bottles', 'townhall']\n",
      "['sooner', 'viewed', 'barclays', 'households', 'seasonality', 'buttons', 'translation', 'toronto', 'matt', 'incorporate']\n",
      "['delve', 'turbulent', 'mvis', 'kemet', 'kem', 'randewich', 'noel', 'intellidex', 'payable', 'isi']\n",
      "['chris', 'nfl', 'football', 'ron', 'tractor', 'baseball', 'motley', 'ers', 'laughs', 'bowl']\n",
      "['giaquinto', 'ixic', 'backdrop', 'behemoths', 'narrowed', 'leukemia', 'realization', 'jcp', 'retain', 'slipping']\n",
      "['ratings', 'surgical', 'illustrated', 'legalized', 'walking', 'notion', 'coach', 'hey', 'legalize', 'appropriately']\n",
      "['authorities', 'preparing', 'lawsuit', 'versions', 'collapse', 'siri', 'hyundai', 'resultant', 'ireland', 'maps']\n",
      "['aforementioned', 'pan', 'footing', 'emea', 'minus', 'jnj', 'implementing', 'payouts', 'bolstered', 'markedly']\n",
      "['struggle', 'acquiring', 'ties', 'partnering', 'transform', 'quiet', 'targeted', 'bills', 'logistics', 'feedback']\n",
      "['principal', 'merchandise', 'accelerators', 'replacement', 'workload', 'cleaning', 'checks', 'determining', 'staying', 'favorites']\n",
      "['marketable', 'uncertainties', 'regarded', 'interim', 'bulk', 'parliament', 'steering', 'luxury', 'residential', 'drops']\n",
      "['body', 'technologically', 'kids', 'friendly', 'lake', 'arms', 'shifted', 'wars', 'lessons', 'experiments']\n",
      "['surprisingly', 'fewer', 'failure', 'hosted', 'strictly', 'derivatives', 'atlanta', 'deteriorating', 'warranted', 'drinking']\n",
      "['philosophy', 'chaos', 'radical', 'refunds', 'attitudes', 'sean', 'modern', 'religious', 'tinker', 'eternal']\n",
      "['xsd', 'lookhere', 'zacksbeyond', 'receivables', 'mott', 'ame', 'hsi', 'foraying', 'considersome', 'pcg']\n",
      "['forum', 'mild', 'commonly', 'probable', 'compass', 'discover', 'ino', 'warming', 'hubei', 'whichever']\n",
      "['unclear', 'individuals', 'constantly', 'busy', 'counterparts', 'supplying', 'intention', 'chosen', 'takeover', 'homes']\n",
      "['polled', 'ideaswhile', 'nowzacks', 'crus', 'positivity', 'downbeat', 'enhancement', 'usdx', 'incurred', 'chipset']\n",
      "['morris', 'lookout', 'foray', 'sentiments', 'dgx', 'ensures', 'utilizes', 'translates', 'widened', 'await']\n",
      "['spurred', 'intertechnology', 'adsk', 'unturned', 'amazonzacks', 'pcie', 'constituents', 'vsh', 'raymond', 'etn']\n",
      "['counts', 'consulting', 'settled', 'safer', 'approaches', 'sudden', 'dmasvix', 'adi', 'spring', 'fallout']\n",
      "['approve', 'stopped', 'happening', 'broadcast', 'tom', 'somewhere', 'fairly', 'tens', 'fan', 'perception']\n",
      "['joking', 'symptoms', 'lethal', 'champ', 'garry', 'kasparov', 'ncov', 'geometric', 'plague', 'pseudo']\n",
      "['switching', 'length', 'participated', 'flop', 'ton', 'penalties', 'distant', 'promotion', 'procedure', 'genuine']\n",
      "['weakening', 'criteria', 'disappoint', 'lawmakers', 'resolved', 'comparisons', 'blamed', 'absence', 'subscriptions', 'heels']\n",
      "['train', 'economist', 'rarely', 'forces', 'functions', 'ill', 'describe', 'die', 'situations', 'responses']\n",
      "['richard', 'woke', 'professor', 'illusion', 'monsters', 'ariely', 'consciously', 'evolution', 'ecology', 'stupor']\n",
      "['partly', 'deploy', 'builds', 'illegal', 'collect', 'sit', 'lnkd', 'collecting', 'location', 'letter']\n",
      "['soxl', 'predictiontexas', 'azpn', 'conclusiongiven', 'conclusionas', 'itus', 'dwdp', 'suggestsaccording', 'nysearca', 'dowdupont']\n",
      "['caught', 'prompted', 'patterns', 'eighth', 'skill', 'performs', 'logical', 'sky', 'stumbled', 'knew']\n",
      "['mood', 'rallying', 'muted', 'outsized', 'powering', 'longest', 'rhetoric', 'vast', 'navigation', 'beneficial']\n",
      "['fold', 'fomc', 'theresa', 'replacing', 'returning', 'blockbuster', 'sipc', 'briefing', 'buffett', 'passenger']\n",
      "['repurchased', 'handpicked', 'racked', 'pfizer', 'beverage', 'anticipating', 'dystrophy', 'muscular', 'officers', 'eli']\n",
      "['paul', 'solve', 'havoc', 'judgment', 'forever', 'virtue', 'determination', 'timed', 'invent', 'evolutionary']\n",
      "['undoubtedly', 'acronym', 'pessimism', 'tenth', 'troubles', 'dc', 'voiced', 'conversational', 'detention', 'drastic']\n",
      "['psychology', 'therapies', 'grasp', 'secret', 'emotions', 'fascinated', 'sums', 'teaching', 'empire', 'essence']\n",
      "['movers', 'emergence', 'tops', 'shy', 'fading', 'workstations', 'abroad', 'preparation', 'constitute', 'hints']\n",
      "['reliable', 'persistent', 'invited', 'agricultural', 'element', 'verge', 'impossible', 'rd', 'lie', 'filling']\n",
      "['fields', 'tells', 'excerpt', 'film', 'complexity', 'presentation', 'understood', 'frontier', 'captured', 'wit']\n",
      "['listening', 'scandal', 'league', 'intensive', 'walk', 'nba', 'everywhere', 'anymore', 'lender', 'attracts']\n",
      "['art', 'minds', 'thoughts', 'grand', 'preserve', 'deeply', 'communities', 'okay', 'crsp', 'isolating']\n",
      "['sake', 'watson', 'collaborated', 'imperative', 'zu', 'madness', 'timely', 'proving', 'variation', 'legitimacy']\n",
      "['capex', 'casino', 'adjusting', 'kansas', 'downs', 'shut', 'commissioner', 'hanging', 'choosing', 'broadband']\n",
      "['pa', 'lynch', 'hearing', 'capability', 'ice', 'pleased', 'noise', 'caters', 'promised', 'lawsuits']\n",
      "['saysaccording', 'combinationhere', 'signifies', 'envisioned', 'renewal', 'midrange', 'kramer', 'arrays', 'hees', 'occupying']\n",
      "['sars', 'nassim', 'pneumonia', 'references', 'beds', 'inventions', 'deadliest', 'competing', 'outbreaks', 'assumptions']\n",
      "['judge', 'ruling', 'comply', 'posts', 'glance', 'sites', 'shelves', 'diversity', 'suggestions', 'ship']\n",
      "['gotten', 'collaborating', 'spotify', 'truly', 'brazil', 'fix', 'messenger', 'french', 'exit', 'accepted']\n",
      "['heard', 'severe', 'animal', 'inovio', 'adults', 'mis', 'populations', 'commencement', 'coincidentally', 'preposterous']\n",
      "Coherence Score: 0.3739360113957815\n",
      "Diversity Score: 1.0\n",
      "Interpretability Score: 0.3739360113957815\n"
     ]
    }
   ],
   "execution_count": 37
  },
  {
   "metadata": {},
   "cell_type": "markdown",
   "source": "A significant increase in Coherence score after the first iteration but still lower than Iteration 0."
  },
  {
   "metadata": {},
   "cell_type": "markdown",
   "source": "## Iteration 3: Remove 15%"
  },
  {
   "metadata": {
    "ExecuteTime": {
     "end_time": "2024-11-01T21:55:52.459335Z",
     "start_time": "2024-11-01T21:55:27.077080Z"
    }
   },
   "cell_type": "code",
   "source": [
    "# Parameters\n",
    "flsaw_data = remove_n_percent(data, 15)\n",
    "num_topics=60\n",
    "num_words=10\n",
    "\n",
    "flsaW = FLSA_W(\n",
    "    input_file = flsaw_data,\n",
    "    num_topics=num_topics,\n",
    "    num_words=num_words,\n",
    ")\n",
    "\n",
    "flsaW.get_vocabulary_size()\n",
    "pwgt, ptgd = flsaW.get_matrices() # THIS TRAINS THE MODEL\n",
    "\n",
    "\n",
    "print(flsaW.show_topics())\n",
    "\n",
    "for topic in flsaW.show_topics(representation='words'):\n",
    "    print(topic)\n",
    "  \n",
    "    \n",
    "print(\"Coherence Score:\", flsaW.get_coherence_score())\n",
    "print(\"Diversity Score:\",flsaW.get_diversity_score())\n",
    "print(\"Interpretability Score:\",flsaW.get_interpretability_score())"
   ],
   "outputs": [
    {
     "name": "stdout",
     "output_type": "stream",
     "text": [
      "[(0, '0.0127*\"neuro\" + 0.0127*\"blake\" + 0.0127*\"misuses\" + 0.0127*\"anarchist\" + 0.0127*\"tatters\" + 0.0127*\"foretaste\" + 0.0127*\"dance\" + 0.0127*\"bakunin\" + 0.0127*\"bloodstream\" + 0.0127*\"heritable\"'), (1, '0.0097*\"pursuing\" + 0.0093*\"excessive\" + 0.0073*\"collecting\" + 0.0072*\"meltdown\" + 0.007*\"reader\" + 0.007*\"monetize\" + 0.0068*\"latin\" + 0.0068*\"wsj\" + 0.0066*\"distributed\" + 0.0065*\"safely\"'), (2, '0.0214*\"diversity\" + 0.0192*\"behalf\" + 0.011*\"feet\" + 0.0087*\"jv\" + 0.0087*\"terror\" + 0.0083*\"xm\" + 0.0081*\"censors\" + 0.0081*\"hispanics\" + 0.0081*\"fraudulently\" + 0.0081*\"hyperconverged\"'), (3, '0.0044*\"council\" + 0.0042*\"ordering\" + 0.004*\"cupertino\" + 0.004*\"costly\" + 0.0038*\"outlets\" + 0.0036*\"compromise\" + 0.0035*\"worrying\" + 0.0035*\"brewing\" + 0.0033*\"spun\" + 0.0033*\"replacing\"'), (4, '0.0584*\"illusion\" + 0.0583*\"woke\" + 0.0401*\"ariely\" + 0.04*\"consciously\" + 0.0398*\"monsters\" + 0.0395*\"cerebral\" + 0.0395*\"tory\" + 0.0394*\"reconciling\" + 0.0394*\"teaches\" + 0.0393*\"obituary\"'), (5, '0.0032*\"extraordinary\" + 0.0031*\"hammered\" + 0.003*\"constitute\" + 0.0027*\"hesitant\" + 0.0026*\"gameplay\" + 0.0025*\"congestion\" + 0.0025*\"erased\" + 0.0025*\"reserves\" + 0.0025*\"sounded\" + 0.0024*\"voted\"'), (6, '0.0226*\"fascinated\" + 0.022*\"celgene\" + 0.0217*\"sydney\" + 0.0217*\"narrated\" + 0.0217*\"derek\" + 0.0216*\"npr\" + 0.0216*\"timetables\" + 0.0216*\"consequential\" + 0.0215*\"happiness\" + 0.0215*\"livestock\"'), (7, '0.0426*\"rarely\" + 0.0415*\"tens\" + 0.0414*\"occurs\" + 0.0411*\"fan\" + 0.0381*\"eventual\" + 0.0378*\"exist\" + 0.0376*\"tackle\" + 0.0359*\"racing\" + 0.0349*\"speeding\" + 0.0333*\"writes\"'), (8, '0.0208*\"oh\" + 0.0193*\"sum\" + 0.0182*\"attached\" + 0.0177*\"consequences\" + 0.0171*\"copy\" + 0.0169*\"inevitably\" + 0.0161*\"shelves\" + 0.0124*\"emotion\" + 0.0121*\"cooperation\" + 0.0111*\"programmed\"'), (9, '0.0092*\"sycamore\" + 0.0078*\"systematic\" + 0.0072*\"blindspots\" + 0.0067*\"blunders\" + 0.0064*\"overcoming\" + 0.0063*\"tversky\" + 0.0063*\"calculation\" + 0.0057*\"manner\" + 0.0055*\"accomplished\" + 0.0055*\"unexamined\"'), (10, '0.1303*\"creativity\" + 0.1104*\"synthesis\" + 0.107*\"motorcycle\" + 0.0866*\"ingenuity\" + 0.0862*\"philosophical\" + 0.0821*\"educators\" + 0.0753*\"pretend\" + 0.0751*\"ignorance\" + 0.0465*\"reconciliation\" + 0.0109*\"morality\"'), (11, '0.0142*\"differ\" + 0.0142*\"everywhere\" + 0.0135*\"pictures\" + 0.0116*\"hunting\" + 0.0106*\"disastrous\" + 0.0103*\"wish\" + 0.0096*\"eating\" + 0.0096*\"constraints\" + 0.009*\"fraud\" + 0.0082*\"clinical\"'), (12, '0.0679*\"commonly\" + 0.0571*\"province\" + 0.0456*\"compass\" + 0.0445*\"probable\" + 0.0445*\"mild\" + 0.0439*\"exceeds\" + 0.0435*\"county\" + 0.0425*\"termination\" + 0.04*\"magnetic\" + 0.0337*\"foundational\"'), (13, '0.047*\"preserve\" + 0.0404*\"okay\" + 0.0392*\"communities\" + 0.0334*\"deeply\" + 0.0307*\"presentations\" + 0.029*\"downstream\" + 0.0286*\"jungle\" + 0.0267*\"brother\" + 0.0259*\"paced\" + 0.0255*\"treasure\"'), (14, '0.002*\"capped\" + 0.0019*\"extracted\" + 0.0018*\"issuing\" + 0.0018*\"todayexperts\" + 0.0017*\"handily\" + 0.0017*\"idaho\" + 0.0016*\"garner\" + 0.0016*\"phenomenal\" + 0.0016*\"dipping\" + 0.0016*\"dull\"'), (15, '0.0049*\"cleaning\" + 0.0046*\"calculations\" + 0.004*\"postponed\" + 0.0039*\"challenged\" + 0.0037*\"berlin\" + 0.0034*\"convenient\" + 0.0033*\"protectionist\" + 0.0033*\"addressed\" + 0.0033*\"favorites\" + 0.0033*\"rounding\"'), (16, '0.0012*\"isi\" + 0.0011*\"differentiated\" + 0.001*\"friedrichshafen\" + 0.001*\"detailsnon\" + 0.001*\"turbulent\" + 0.001*\"pickscurrently\" + 0.001*\"segmental\" + 0.001*\"mentor\" + 0.0009*\"cy\" + 0.0009*\"workstation\"'), (17, '0.0022*\"badly\" + 0.0022*\"payouts\" + 0.0021*\"feast\" + 0.002*\"primed\" + 0.002*\"debuted\" + 0.0019*\"digested\" + 0.0019*\"cites\" + 0.0018*\"dsp\" + 0.0018*\"negotiators\" + 0.0018*\"cassidy\"'), (18, '0.0856*\"chaos\" + 0.0606*\"philosophy\" + 0.0488*\"attitudes\" + 0.048*\"eternal\" + 0.0479*\"refunds\" + 0.0474*\"reissued\" + 0.0474*\"sean\" + 0.0454*\"revolutionized\" + 0.0454*\"yep\" + 0.0444*\"destined\"'), (19, '0.1438*\"describes\" + 0.0966*\"college\" + 0.0345*\"harvard\" + 0.0344*\"mathematical\" + 0.032*\"harari\" + 0.0318*\"connections\" + 0.0298*\"destiny\" + 0.0272*\"library\" + 0.0174*\"explode\" + 0.0151*\"homo\"'), (20, '0.0068*\"imminent\" + 0.0059*\"unfold\" + 0.0056*\"drawn\" + 0.0055*\"owner\" + 0.0053*\"casual\" + 0.0051*\"grubhub\" + 0.005*\"throwing\" + 0.005*\"convinced\" + 0.0049*\"extends\" + 0.0048*\"unsecured\"'), (21, '0.0154*\"ethical\" + 0.0134*\"naval\" + 0.0123*\"jaic\" + 0.0123*\"osnos\" + 0.0123*\"doctrines\" + 0.0123*\"tegmark\" + 0.0123*\"eaten\" + 0.0123*\"conduit\" + 0.0123*\"coexist\" + 0.0123*\"sapiensis\"'), (22, '0.0291*\"realm\" + 0.0284*\"todd\" + 0.028*\"confusion\" + 0.0267*\"practical\" + 0.0246*\"physics\" + 0.0237*\"empower\" + 0.0231*\"pronounced\" + 0.0226*\"parade\" + 0.0226*\"southwest\" + 0.0221*\"loved\"'), (23, '0.0733*\"neuroscience\" + 0.0702*\"brains\" + 0.0518*\"neuroscientist\" + 0.0481*\"physiological\" + 0.031*\"teller\" + 0.0208*\"agendas\" + 0.0159*\"studying\" + 0.0145*\"arms\" + 0.0145*\"poverty\" + 0.0124*\"ancient\"'), (24, '0.0266*\"entertain\" + 0.026*\"franklin\" + 0.0259*\"judges\" + 0.0259*\"traveling\" + 0.0257*\"ridiculous\" + 0.0257*\"questionable\" + 0.0257*\"confused\" + 0.025*\"ears\" + 0.0248*\"burning\" + 0.0248*\"democratize\"'), (25, '0.0019*\"blows\" + 0.0017*\"raymond\" + 0.0017*\"retaliated\" + 0.0017*\"rocks\" + 0.0016*\"drastically\" + 0.0016*\"sensational\" + 0.0016*\"functionalities\" + 0.0016*\"registration\" + 0.0016*\"paving\" + 0.0015*\"reverses\"'), (26, '0.0006*\"flowthe\" + 0.0006*\"stockholders\" + 0.0006*\"mindful\" + 0.0006*\"soxl\" + 0.0005*\"guidancemanagement\" + 0.0005*\"wipro\" + 0.0005*\"considertexas\" + 0.0005*\"backtest\" + 0.0005*\"detailsgross\" + 0.0005*\"receivable\"'), (27, '0.0061*\"confirming\" + 0.0055*\"checking\" + 0.0049*\"ihs\" + 0.0047*\"pundits\" + 0.0044*\"litigation\" + 0.0043*\"intervention\" + 0.0042*\"ed\" + 0.0042*\"efficiencies\" + 0.0041*\"patrick\" + 0.004*\"lists\"'), (28, '0.0564*\"radical\" + 0.0526*\"existed\" + 0.0526*\"benjamin\" + 0.052*\"misguided\" + 0.0516*\"sir\" + 0.0511*\"flooding\" + 0.0509*\"piles\" + 0.0507*\"reconcile\" + 0.0501*\"restriction\" + 0.0367*\"heroes\"'), (29, '0.007*\"throw\" + 0.0067*\"outlined\" + 0.0067*\"deployments\" + 0.0066*\"coffee\" + 0.0065*\"lawyers\" + 0.0062*\"upgrading\" + 0.0062*\"charged\" + 0.0059*\"exploit\" + 0.0053*\"releasing\" + 0.0053*\"obligations\"'), (30, '0.0195*\"pandemic\" + 0.0193*\"rader\" + 0.019*\"vaccines\" + 0.0177*\"caltech\" + 0.0177*\"mers\" + 0.0177*\"goodall\" + 0.0177*\"mortality\" + 0.0177*\"influenza\" + 0.0177*\"liking\" + 0.0177*\"theconversation\"'), (31, '0.0404*\"daddy\" + 0.0403*\"cruising\" + 0.0403*\"remarked\" + 0.0402*\"inventions\" + 0.0402*\"populations\" + 0.0401*\"preposterous\" + 0.0401*\"preparedness\" + 0.0401*\"portuguese\" + 0.04*\"silk\" + 0.04*\"disproportionately\"'), (32, '0.1161*\"conscious\" + 0.1072*\"professor\" + 0.0994*\"unstoppable\" + 0.0824*\"biologist\" + 0.0483*\"champions\" + 0.0466*\"curiosity\" + 0.0387*\"civilization\" + 0.0374*\"subtitle\" + 0.0295*\"teachers\" + 0.0218*\"certainty\"'), (33, '0.0396*\"afraid\" + 0.0271*\"emotional\" + 0.025*\"memories\" + 0.0241*\"scramble\" + 0.0211*\"ceos\" + 0.0187*\"politically\" + 0.0181*\"gregory\" + 0.0179*\"arenas\" + 0.017*\"wisconsin\" + 0.0164*\"capitalist\"'), (34, '0.0136*\"shut\" + 0.0131*\"privately\" + 0.0106*\"telephone\" + 0.0097*\"chat\" + 0.0095*\"gmail\" + 0.0063*\"emailed\" + 0.0061*\"cortana\" + 0.0055*\"sheets\" + 0.0051*\"databases\" + 0.0045*\"violates\"'), (35, '0.0046*\"upped\" + 0.0039*\"barriers\" + 0.0036*\"sticking\" + 0.0034*\"dream\" + 0.0033*\"pledge\" + 0.0032*\"pessimism\" + 0.0029*\"liability\" + 0.0028*\"indicative\" + 0.0028*\"ingredients\" + 0.0027*\"rocky\"'), (36, '0.001*\"lookhere\" + 0.0009*\"envisioned\" + 0.0009*\"xsd\" + 0.0008*\"flownvidia\" + 0.0008*\"marginsnvidia\" + 0.0008*\"nfm\" + 0.0008*\"guidancethe\" + 0.0008*\"pstg\" + 0.0008*\"hsi\" + 0.0008*\"receivables\"'), (37, '0.1355*\"infected\" + 0.1175*\"spanish\" + 0.102*\"ncov\" + 0.0787*\"infection\" + 0.0711*\"symptoms\" + 0.0657*\"mammals\" + 0.0576*\"colonize\" + 0.0379*\"quarantine\" + 0.0317*\"coughing\" + 0.0255*\"mars\"'), (38, '0.1944*\"gem\" + 0.1884*\"species\" + 0.1382*\"survival\" + 0.063*\"degrees\" + 0.02*\"stars\" + 0.0141*\"approximate\" + 0.0139*\"exploring\" + 0.0139*\"adult\" + 0.0137*\"inventing\" + 0.0134*\"birth\"'), (39, '0.0468*\"originated\" + 0.0382*\"syndrome\" + 0.0365*\"infections\" + 0.0352*\"pseudo\" + 0.0351*\"kasparov\" + 0.0351*\"garry\" + 0.0351*\"pigs\" + 0.0349*\"benoit\" + 0.0349*\"mandelbrot\" + 0.0349*\"champ\"'), (40, '0.0276*\"anxiety\" + 0.0266*\"responses\" + 0.0241*\"lee\" + 0.0208*\"stress\" + 0.0204*\"scan\" + 0.0196*\"consistency\" + 0.0177*\"beasts\" + 0.0168*\"louisiana\" + 0.0159*\"hunger\" + 0.0158*\"responsibly\"'), (41, '0.0063*\"bidding\" + 0.006*\"stopping\" + 0.0058*\"interaction\" + 0.0058*\"removal\" + 0.0055*\"incorporate\" + 0.0052*\"grows\" + 0.0049*\"authorized\" + 0.0049*\"tick\" + 0.0048*\"accept\" + 0.0048*\"roles\"'), (42, '0.0037*\"secondary\" + 0.0037*\"exclude\" + 0.0036*\"bearing\" + 0.0036*\"stabilize\" + 0.0034*\"fcau\" + 0.0033*\"corresponding\" + 0.0032*\"seat\" + 0.0032*\"peaking\" + 0.003*\"revealing\" + 0.003*\"susquehanna\"'), (43, '0.0609*\"mit\" + 0.0458*\"candace\" + 0.0364*\"norepinephrine\" + 0.0351*\"subconscious\" + 0.0284*\"teller\" + 0.0224*\"hormones\" + 0.0185*\"pert\" + 0.0132*\"experiments\" + 0.0119*\"technologically\" + 0.0108*\"tribalism\"'), (44, '0.0169*\"accepted\" + 0.0135*\"undisclosed\" + 0.0122*\"english\" + 0.0107*\"disagree\" + 0.0101*\"contained\" + 0.0088*\"premises\" + 0.0078*\"thailand\" + 0.0068*\"soccer\" + 0.0067*\"clouds\" + 0.0065*\"desired\"'), (45, '0.0035*\"garnered\" + 0.0035*\"brussels\" + 0.0033*\"tag\" + 0.0032*\"larry\" + 0.003*\"meaningfully\" + 0.003*\"convenience\" + 0.0029*\"multinational\" + 0.0029*\"nascent\" + 0.0028*\"comp\" + 0.0028*\"tcehy\"'), (46, '0.0057*\"threatens\" + 0.0055*\"referred\" + 0.0052*\"external\" + 0.005*\"repeatedly\" + 0.0048*\"hulu\" + 0.0046*\"considerations\" + 0.0045*\"internally\" + 0.0045*\"bridge\" + 0.0044*\"complaints\" + 0.0042*\"object\"'), (47, '0.0063*\"bob\" + 0.0061*\"communicate\" + 0.0058*\"specifics\" + 0.0057*\"personalized\" + 0.0055*\"suspect\" + 0.0054*\"diving\" + 0.0053*\"collective\" + 0.0052*\"carefully\" + 0.0048*\"filters\" + 0.0048*\"objectives\"'), (48, '0.0015*\"density\" + 0.0014*\"allocated\" + 0.0013*\"fared\" + 0.0013*\"clientele\" + 0.0013*\"ddaif\" + 0.0013*\"inorganic\" + 0.0013*\"downbeat\" + 0.0012*\"sg\" + 0.0012*\"testament\" + 0.0011*\"ntdoy\"'), (49, '0.1731*\"classroom\" + 0.1437*\"darwin\" + 0.1342*\"julian\" + 0.0854*\"epiphany\" + 0.0355*\"pretend\" + 0.0254*\"educators\" + 0.022*\"reconciliation\" + 0.021*\"synthesis\" + 0.0198*\"ignorance\" + 0.0184*\"huxley\"'), (50, '0.0031*\"indirect\" + 0.0031*\"atlantic\" + 0.003*\"plethora\" + 0.0029*\"pitch\" + 0.0028*\"diagnostics\" + 0.0027*\"unusually\" + 0.0027*\"striking\" + 0.0027*\"avail\" + 0.0026*\"marketwatch\" + 0.0026*\"du\"'), (51, '0.0203*\"false\" + 0.0177*\"hate\" + 0.0175*\"career\" + 0.0172*\"shock\" + 0.017*\"treat\" + 0.0154*\"danger\" + 0.0152*\"conversations\" + 0.0143*\"cooker\" + 0.014*\"description\" + 0.0127*\"student\"'), (52, '0.0443*\"isolated\" + 0.0405*\"handing\" + 0.0404*\"outward\" + 0.0399*\"birds\" + 0.0396*\"easiest\" + 0.0393*\"fooled\" + 0.0387*\"miserable\" + 0.0369*\"illness\" + 0.0363*\"nvax\" + 0.0363*\"novavax\"'), (53, '0.0107*\"townhall\" + 0.0107*\"heredity\" + 0.0107*\"autobiography\" + 0.0107*\"chautauqua\" + 0.0107*\"stale\" + 0.0107*\"vitello\" + 0.0107*\"sloman\" + 0.0107*\"humanism\" + 0.0107*\"coherence\" + 0.0107*\"granddad\"'), (54, '0.0262*\"listened\" + 0.0194*\"interactions\" + 0.0143*\"mental\" + 0.0128*\"sums\" + 0.0122*\"gingrich\" + 0.0122*\"newt\" + 0.0114*\"xanax\" + 0.0099*\"observer\" + 0.0099*\"metaphor\" + 0.0099*\"empires\"'), (55, '0.0748*\"spreading\" + 0.0558*\"ill\" + 0.0523*\"hospitals\" + 0.047*\"nicholas\" + 0.043*\"champion\" + 0.0385*\"navy\" + 0.0385*\"dental\" + 0.038*\"threw\" + 0.0367*\"spikes\" + 0.035*\"observations\"'), (56, '0.0053*\"scaled\" + 0.0047*\"claiming\" + 0.0046*\"softening\" + 0.0038*\"headway\" + 0.0038*\"ample\" + 0.0037*\"obstacle\" + 0.0036*\"ssys\" + 0.0036*\"renowned\" + 0.0036*\"disk\" + 0.0031*\"cl\"'), (57, '0.0174*\"comply\" + 0.0165*\"expression\" + 0.0162*\"women\" + 0.016*\"angle\" + 0.0144*\"taiwanese\" + 0.0117*\"hyundai\" + 0.0115*\"clothing\" + 0.0106*\"ubereats\" + 0.0104*\"terrorist\" + 0.0101*\"tweaking\"'), (58, '0.0029*\"penetrate\" + 0.0027*\"rebounding\" + 0.0024*\"resilience\" + 0.0024*\"slowest\" + 0.0024*\"inflationary\" + 0.0024*\"virtualization\" + 0.0024*\"leisure\" + 0.0024*\"avenues\" + 0.0023*\"influenced\" + 0.0023*\"ambitious\"'), (59, '0.0052*\"ironically\" + 0.005*\"wfe\" + 0.0046*\"fits\" + 0.0045*\"bankers\" + 0.0044*\"reviewing\" + 0.0042*\"projecting\" + 0.0042*\"lipacis\" + 0.0039*\"zu\" + 0.0037*\"bars\" + 0.0037*\"holder\"')]\n",
      "['neuro', 'blake', 'misuses', 'anarchist', 'tatters', 'foretaste', 'dance', 'bakunin', 'bloodstream', 'heritable']\n",
      "['pursuing', 'excessive', 'collecting', 'meltdown', 'reader', 'monetize', 'latin', 'wsj', 'distributed', 'safely']\n",
      "['diversity', 'behalf', 'feet', 'jv', 'terror', 'xm', 'censors', 'hispanics', 'fraudulently', 'hyperconverged']\n",
      "['council', 'ordering', 'cupertino', 'costly', 'outlets', 'compromise', 'worrying', 'brewing', 'spun', 'replacing']\n",
      "['illusion', 'woke', 'ariely', 'consciously', 'monsters', 'cerebral', 'tory', 'reconciling', 'teaches', 'obituary']\n",
      "['extraordinary', 'hammered', 'constitute', 'hesitant', 'gameplay', 'congestion', 'erased', 'reserves', 'sounded', 'voted']\n",
      "['fascinated', 'celgene', 'sydney', 'narrated', 'derek', 'npr', 'timetables', 'consequential', 'happiness', 'livestock']\n",
      "['rarely', 'tens', 'occurs', 'fan', 'eventual', 'exist', 'tackle', 'racing', 'speeding', 'writes']\n",
      "['oh', 'sum', 'attached', 'consequences', 'copy', 'inevitably', 'shelves', 'emotion', 'cooperation', 'programmed']\n",
      "['sycamore', 'systematic', 'blindspots', 'blunders', 'overcoming', 'tversky', 'calculation', 'manner', 'accomplished', 'unexamined']\n",
      "['creativity', 'synthesis', 'motorcycle', 'ingenuity', 'philosophical', 'educators', 'pretend', 'ignorance', 'reconciliation', 'morality']\n",
      "['differ', 'everywhere', 'pictures', 'hunting', 'disastrous', 'wish', 'eating', 'constraints', 'fraud', 'clinical']\n",
      "['commonly', 'province', 'compass', 'probable', 'mild', 'exceeds', 'county', 'termination', 'magnetic', 'foundational']\n",
      "['preserve', 'okay', 'communities', 'deeply', 'presentations', 'downstream', 'jungle', 'brother', 'paced', 'treasure']\n",
      "['capped', 'extracted', 'issuing', 'todayexperts', 'handily', 'idaho', 'garner', 'phenomenal', 'dipping', 'dull']\n",
      "['cleaning', 'calculations', 'postponed', 'challenged', 'berlin', 'convenient', 'protectionist', 'addressed', 'favorites', 'rounding']\n",
      "['isi', 'differentiated', 'friedrichshafen', 'detailsnon', 'turbulent', 'pickscurrently', 'segmental', 'mentor', 'cy', 'workstation']\n",
      "['badly', 'payouts', 'feast', 'primed', 'debuted', 'digested', 'cites', 'dsp', 'negotiators', 'cassidy']\n",
      "['chaos', 'philosophy', 'attitudes', 'eternal', 'refunds', 'reissued', 'sean', 'revolutionized', 'yep', 'destined']\n",
      "['describes', 'college', 'harvard', 'mathematical', 'harari', 'connections', 'destiny', 'library', 'explode', 'homo']\n",
      "['imminent', 'unfold', 'drawn', 'owner', 'casual', 'grubhub', 'throwing', 'convinced', 'extends', 'unsecured']\n",
      "['ethical', 'naval', 'jaic', 'osnos', 'doctrines', 'tegmark', 'eaten', 'conduit', 'coexist', 'sapiensis']\n",
      "['realm', 'todd', 'confusion', 'practical', 'physics', 'empower', 'pronounced', 'parade', 'southwest', 'loved']\n",
      "['neuroscience', 'brains', 'neuroscientist', 'physiological', 'teller', 'agendas', 'studying', 'arms', 'poverty', 'ancient']\n",
      "['entertain', 'franklin', 'judges', 'traveling', 'ridiculous', 'questionable', 'confused', 'ears', 'burning', 'democratize']\n",
      "['blows', 'raymond', 'retaliated', 'rocks', 'drastically', 'sensational', 'functionalities', 'registration', 'paving', 'reverses']\n",
      "['flowthe', 'stockholders', 'mindful', 'soxl', 'guidancemanagement', 'wipro', 'considertexas', 'backtest', 'detailsgross', 'receivable']\n",
      "['confirming', 'checking', 'ihs', 'pundits', 'litigation', 'intervention', 'ed', 'efficiencies', 'patrick', 'lists']\n",
      "['radical', 'existed', 'benjamin', 'misguided', 'sir', 'flooding', 'piles', 'reconcile', 'restriction', 'heroes']\n",
      "['throw', 'outlined', 'deployments', 'coffee', 'lawyers', 'upgrading', 'charged', 'exploit', 'releasing', 'obligations']\n",
      "['pandemic', 'rader', 'vaccines', 'caltech', 'mers', 'goodall', 'mortality', 'influenza', 'liking', 'theconversation']\n",
      "['daddy', 'cruising', 'remarked', 'inventions', 'populations', 'preposterous', 'preparedness', 'portuguese', 'silk', 'disproportionately']\n",
      "['conscious', 'professor', 'unstoppable', 'biologist', 'champions', 'curiosity', 'civilization', 'subtitle', 'teachers', 'certainty']\n",
      "['afraid', 'emotional', 'memories', 'scramble', 'ceos', 'politically', 'gregory', 'arenas', 'wisconsin', 'capitalist']\n",
      "['shut', 'privately', 'telephone', 'chat', 'gmail', 'emailed', 'cortana', 'sheets', 'databases', 'violates']\n",
      "['upped', 'barriers', 'sticking', 'dream', 'pledge', 'pessimism', 'liability', 'indicative', 'ingredients', 'rocky']\n",
      "['lookhere', 'envisioned', 'xsd', 'flownvidia', 'marginsnvidia', 'nfm', 'guidancethe', 'pstg', 'hsi', 'receivables']\n",
      "['infected', 'spanish', 'ncov', 'infection', 'symptoms', 'mammals', 'colonize', 'quarantine', 'coughing', 'mars']\n",
      "['gem', 'species', 'survival', 'degrees', 'stars', 'approximate', 'exploring', 'adult', 'inventing', 'birth']\n",
      "['originated', 'syndrome', 'infections', 'pseudo', 'kasparov', 'garry', 'pigs', 'benoit', 'mandelbrot', 'champ']\n",
      "['anxiety', 'responses', 'lee', 'stress', 'scan', 'consistency', 'beasts', 'louisiana', 'hunger', 'responsibly']\n",
      "['bidding', 'stopping', 'interaction', 'removal', 'incorporate', 'grows', 'authorized', 'tick', 'accept', 'roles']\n",
      "['secondary', 'exclude', 'bearing', 'stabilize', 'fcau', 'corresponding', 'seat', 'peaking', 'revealing', 'susquehanna']\n",
      "['mit', 'candace', 'norepinephrine', 'subconscious', 'teller', 'hormones', 'pert', 'experiments', 'technologically', 'tribalism']\n",
      "['accepted', 'undisclosed', 'english', 'disagree', 'contained', 'premises', 'thailand', 'soccer', 'clouds', 'desired']\n",
      "['garnered', 'brussels', 'tag', 'larry', 'meaningfully', 'convenience', 'multinational', 'nascent', 'comp', 'tcehy']\n",
      "['threatens', 'referred', 'external', 'repeatedly', 'hulu', 'considerations', 'internally', 'bridge', 'complaints', 'object']\n",
      "['bob', 'communicate', 'specifics', 'personalized', 'suspect', 'diving', 'collective', 'carefully', 'filters', 'objectives']\n",
      "['density', 'allocated', 'fared', 'clientele', 'ddaif', 'inorganic', 'downbeat', 'sg', 'testament', 'ntdoy']\n",
      "['classroom', 'darwin', 'julian', 'epiphany', 'pretend', 'educators', 'reconciliation', 'synthesis', 'ignorance', 'huxley']\n",
      "['indirect', 'atlantic', 'plethora', 'pitch', 'diagnostics', 'unusually', 'striking', 'avail', 'marketwatch', 'du']\n",
      "['false', 'hate', 'career', 'shock', 'treat', 'danger', 'conversations', 'cooker', 'description', 'student']\n",
      "['isolated', 'handing', 'outward', 'birds', 'easiest', 'fooled', 'miserable', 'illness', 'nvax', 'novavax']\n",
      "['townhall', 'heredity', 'autobiography', 'chautauqua', 'stale', 'vitello', 'sloman', 'humanism', 'coherence', 'granddad']\n",
      "['listened', 'interactions', 'mental', 'sums', 'gingrich', 'newt', 'xanax', 'observer', 'metaphor', 'empires']\n",
      "['spreading', 'ill', 'hospitals', 'nicholas', 'champion', 'navy', 'dental', 'threw', 'spikes', 'observations']\n",
      "['scaled', 'claiming', 'softening', 'headway', 'ample', 'obstacle', 'ssys', 'renowned', 'disk', 'cl']\n",
      "['comply', 'expression', 'women', 'angle', 'taiwanese', 'hyundai', 'clothing', 'ubereats', 'terrorist', 'tweaking']\n",
      "['penetrate', 'rebounding', 'resilience', 'slowest', 'inflationary', 'virtualization', 'leisure', 'avenues', 'influenced', 'ambitious']\n",
      "['ironically', 'wfe', 'fits', 'bankers', 'reviewing', 'projecting', 'lipacis', 'zu', 'bars', 'holder']\n",
      "Coherence Score: 0.4420559326129886\n",
      "Diversity Score: 0.99\n",
      "Interpretability Score: 0.4376353732868587\n"
     ]
    }
   ],
   "execution_count": 39
  },
  {
   "metadata": {},
   "cell_type": "markdown",
   "source": "Coherence score of approximately 0.44 is an improvement from the starting point 0.41 . This suggests that the topics generated in this iteration are more semantically meaningful, with words in each topic being more closely related. The increase in coherence indicates that the adjusting top_n_percent to 15% helped create more coherent and contextually relevant topics."
  },
  {
   "metadata": {},
   "cell_type": "markdown",
   "source": "Removing the top and bottom 15% of the most frequent words appears to have helped improve coherence without drastically affecting diversity. This might mean that common and rare words removed in this step were indeed not contributing much to topic quality."
  },
  {
   "metadata": {
    "ExecuteTime": {
     "end_time": "2024-11-01T22:20:53.185691Z",
     "start_time": "2024-11-01T22:20:42.018470Z"
    }
   },
   "cell_type": "code",
   "source": [
    "# Parameters\n",
    "flsaw_data = remove_n_percent(data, 20)\n",
    "num_topics=60\n",
    "num_words=10\n",
    "\n",
    "flsaW = FLSA_W(\n",
    "    input_file = flsaw_data,\n",
    "    num_topics=num_topics,\n",
    "    num_words=num_words,\n",
    ")\n",
    "\n",
    "flsaW.get_vocabulary_size()\n",
    "pwgt, ptgd = flsaW.get_matrices() # THIS TRAINS THE MODEL\n",
    "\n",
    "\n",
    "print(flsaW.show_topics())\n",
    "\n",
    "for topic in flsaW.show_topics(representation='words'):\n",
    "    print(topic)\n",
    "  \n",
    "    \n",
    "print(\"Coherence Score:\", flsaW.get_coherence_score())\n",
    "print(\"Diversity Score:\",flsaW.get_diversity_score())\n",
    "print(\"Interpretability Score:\",flsaW.get_interpretability_score())"
   ],
   "outputs": [
    {
     "name": "stdout",
     "output_type": "stream",
     "text": [
      "[(0, '0.0199*\"understood\" + 0.0169*\"complexities\" + 0.0158*\"suing\" + 0.0128*\"creatures\" + 0.0108*\"receptor\" + 0.0104*\"unrealistic\" + 0.0101*\"defect\" + 0.0096*\"weighty\" + 0.0093*\"hospital\" + 0.0082*\"bucks\"'), (1, '0.0356*\"founding\" + 0.0311*\"confusing\" + 0.0292*\"infinite\" + 0.0281*\"illusion\" + 0.0234*\"philosophy\" + 0.0213*\"champions\" + 0.0198*\"cerebral\" + 0.0197*\"sha\" + 0.0197*\"softee\" + 0.0195*\"tinker\"'), (2, '0.0504*\"explicit\" + 0.0466*\"interviewed\" + 0.0422*\"lucky\" + 0.0417*\"interacting\" + 0.0384*\"addiction\" + 0.0367*\"scramble\" + 0.0365*\"mit\" + 0.0339*\"allen\" + 0.032*\"politically\" + 0.0272*\"noah\"'), (3, '0.0016*\"bolstering\" + 0.0015*\"completing\" + 0.0015*\"cheered\" + 0.0014*\"grmn\" + 0.0014*\"instrumental\" + 0.0014*\"motorola\" + 0.0014*\"ftnt\" + 0.0014*\"pricey\" + 0.0014*\"pave\" + 0.0013*\"calculating\"'), (4, '0.0269*\"consequences\" + 0.0257*\"enriched\" + 0.0221*\"copy\" + 0.0198*\"shelves\" + 0.0198*\"blank\" + 0.0192*\"inevitably\" + 0.0191*\"disastrous\" + 0.0188*\"thrive\" + 0.0175*\"grasp\" + 0.017*\"brink\"'), (5, '0.0061*\"spun\" + 0.0051*\"spinning\" + 0.0048*\"contacts\" + 0.0047*\"tradition\" + 0.0047*\"objections\" + 0.0046*\"object\" + 0.0044*\"grapples\" + 0.0043*\"foldable\" + 0.0043*\"fort\" + 0.0042*\"republic\"'), (6, '0.0154*\"rodents\" + 0.0154*\"wasps\" + 0.0154*\"lsu\" + 0.0154*\"sensory\" + 0.0154*\"almond\" + 0.0154*\"daughters\" + 0.0154*\"neurobiology\" + 0.0154*\"prefrontal\" + 0.0154*\"medial\" + 0.0154*\"laborious\"'), (7, '0.0508*\"millennial\" + 0.0508*\"evidenced\" + 0.0506*\"severity\" + 0.0464*\"circuitry\" + 0.0459*\"searched\" + 0.0457*\"touches\" + 0.0441*\"demise\" + 0.044*\"conducts\" + 0.0398*\"altered\" + 0.0383*\"magical\"'), (8, '0.0021*\"hurdle\" + 0.0021*\"verified\" + 0.002*\"honeywell\" + 0.0019*\"loom\" + 0.0019*\"stimulate\" + 0.0019*\"allocate\" + 0.0018*\"quantities\" + 0.0018*\"incoming\" + 0.0018*\"jaw\" + 0.0018*\"mulling\"'), (9, '0.037*\"unforeseen\" + 0.0358*\"cultural\" + 0.0319*\"voices\" + 0.0313*\"spoils\" + 0.0312*\"brookings\" + 0.0312*\"tendencies\" + 0.0307*\"wealthy\" + 0.0307*\"gregory\" + 0.0298*\"arenas\" + 0.0292*\"populist\"'), (10, '0.0043*\"iconic\" + 0.0037*\"microchips\" + 0.0034*\"normalization\" + 0.0033*\"routes\" + 0.0032*\"blaming\" + 0.0031*\"cautioned\" + 0.003*\"pricewaterhousecoopers\" + 0.0029*\"butter\" + 0.0029*\"clawed\" + 0.0029*\"buster\"'), (11, '0.0009*\"alv\" + 0.0009*\"nfm\" + 0.0009*\"benefitting\" + 0.0008*\"undertaken\" + 0.0008*\"guidancethe\" + 0.0008*\"rebounds\" + 0.0008*\"mott\" + 0.0008*\"shedding\" + 0.0008*\"bmwyy\" + 0.0008*\"baird\"'), (12, '0.0011*\"limelight\" + 0.0011*\"spate\" + 0.0011*\"multiplayer\" + 0.0011*\"outperforms\" + 0.001*\"undertaking\" + 0.001*\"rebates\" + 0.001*\"technavio\" + 0.001*\"jpr\" + 0.001*\"quadruple\" + 0.001*\"leverages\"'), (13, '0.0383*\"creativity\" + 0.0363*\"teachers\" + 0.0308*\"motorcycle\" + 0.029*\"stupor\" + 0.029*\"luddite\" + 0.029*\"ecology\" + 0.0273*\"woke\" + 0.0253*\"explored\" + 0.0236*\"philosophical\" + 0.0234*\"ingenuity\"'), (14, '0.0198*\"vaccines\" + 0.0184*\"influenza\" + 0.0184*\"moderna\" + 0.0184*\"phoenicians\" + 0.0184*\"colonizing\" + 0.0184*\"sanitation\" + 0.0184*\"immunity\" + 0.0184*\"polo\" + 0.0184*\"cdc\" + 0.0184*\"backwater\"'), (15, '0.0429*\"portuguese\" + 0.0429*\"breathing\" + 0.0429*\"cruising\" + 0.0429*\"remarked\" + 0.0428*\"populations\" + 0.0428*\"daddy\" + 0.0426*\"preposterous\" + 0.0425*\"adults\" + 0.0424*\"coincidentally\" + 0.0423*\"silk\"'), (16, '0.0006*\"whispersour\" + 0.0006*\"flowthe\" + 0.0006*\"trv\" + 0.0006*\"stockholders\" + 0.0005*\"mindful\" + 0.0005*\"leds\" + 0.0005*\"flowas\" + 0.0005*\"soxl\" + 0.0005*\"sabotaging\" + 0.0005*\"favourable\"'), (17, '0.0269*\"ignorance\" + 0.0259*\"classroom\" + 0.0244*\"darwin\" + 0.0241*\"nye\" + 0.0241*\"flipgrid\" + 0.0241*\"aldous\" + 0.0241*\"consciousness\" + 0.0241*\"sloman\" + 0.0241*\"silt\" + 0.0241*\"pirsig\"'), (18, '0.0192*\"experiment\" + 0.0155*\"worlds\" + 0.0128*\"deficits\" + 0.0126*\"accessed\" + 0.0112*\"unfolding\" + 0.0081*\"blunder\" + 0.008*\"tantrum\" + 0.0078*\"roadshow\" + 0.0078*\"waras\" + 0.0078*\"asness\"'), (19, '0.0582*\"originated\" + 0.0451*\"infections\" + 0.0438*\"lethal\" + 0.0438*\"pigs\" + 0.0436*\"garry\" + 0.0436*\"kasparov\" + 0.0432*\"impoverished\" + 0.0429*\"antiviral\" + 0.0428*\"references\" + 0.0427*\"pneumonia\"'), (20, '0.0165*\"novel\" + 0.0144*\"massachusetts\" + 0.0139*\"loose\" + 0.013*\"devoted\" + 0.0123*\"chi\" + 0.012*\"proceedings\" + 0.012*\"reshape\" + 0.0118*\"specter\" + 0.0114*\"eating\" + 0.0112*\"repetitive\"'), (21, '0.0797*\"freeze\" + 0.0623*\"experiments\" + 0.0551*\"sans\" + 0.0548*\"trainer\" + 0.0546*\"masters\" + 0.0545*\"lifetimes\" + 0.0535*\"baton\" + 0.0532*\"instincts\" + 0.0528*\"wolf\" + 0.0523*\"medications\"'), (22, '0.2258*\"superpower\" + 0.0849*\"jared\" + 0.0689*\"spacex\" + 0.0551*\"survival\" + 0.0436*\"joking\" + 0.0401*\"tour\" + 0.0276*\"animal\" + 0.0162*\"wikipedia\" + 0.0142*\"mammals\" + 0.0134*\"mars\"'), (23, '0.0021*\"concrete\" + 0.0021*\"plagued\" + 0.0019*\"reacts\" + 0.0019*\"respite\" + 0.0019*\"illustrating\" + 0.0019*\"stabilized\" + 0.0019*\"takeaway\" + 0.0019*\"contractor\" + 0.0019*\"pedestrians\" + 0.0018*\"torrid\"'), (24, '0.0546*\"exceeds\" + 0.0546*\"probable\" + 0.0544*\"compass\" + 0.0543*\"termination\" + 0.0538*\"magnetic\" + 0.0497*\"county\" + 0.0353*\"gem\" + 0.0339*\"foundational\" + 0.0337*\"emerges\" + 0.0334*\"declaring\"'), (25, '0.0414*\"inevitable\" + 0.0353*\"technologically\" + 0.0324*\"hunger\" + 0.0324*\"sherman\" + 0.0323*\"responsibly\" + 0.0322*\"acknowledging\" + 0.0321*\"pompeo\" + 0.032*\"dragon\" + 0.0313*\"storms\" + 0.0312*\"historian\"'), (26, '0.2868*\"beliefs\" + 0.0268*\"hundred\" + 0.0258*\"birth\" + 0.0231*\"jared\" + 0.0217*\"spacex\" + 0.0199*\"classification\" + 0.0181*\"tour\" + 0.0175*\"survival\" + 0.0147*\"animal\" + 0.0144*\"explode\"'), (27, '0.025*\"practical\" + 0.0225*\"southwest\" + 0.0183*\"traveling\" + 0.0176*\"priorities\" + 0.0175*\"quest\" + 0.017*\"judgment\" + 0.0167*\"brother\" + 0.0165*\"disruptor\" + 0.0161*\"restriction\" + 0.0156*\"euphoric\"'), (28, '0.0095*\"saved\" + 0.0092*\"outright\" + 0.0082*\"telephone\" + 0.0081*\"kennedy\" + 0.0069*\"protectionism\" + 0.0068*\"commenting\" + 0.0067*\"bargaining\" + 0.006*\"presenting\" + 0.0056*\"renegotiation\" + 0.0054*\"circumstance\"'), (29, '0.0331*\"okay\" + 0.0252*\"sean\" + 0.0222*\"refunds\" + 0.0204*\"endless\" + 0.0203*\"presentations\" + 0.0202*\"revolutionized\" + 0.0199*\"benjamin\" + 0.0197*\"yep\" + 0.0186*\"brave\" + 0.018*\"downstream\"'), (30, '0.0154*\"sapiens\" + 0.0154*\"tribal\" + 0.0154*\"podcasted\" + 0.0154*\"domestication\" + 0.0154*\"coexist\" + 0.0154*\"superstitions\" + 0.0154*\"ancestors\" + 0.0154*\"colonial\" + 0.0154*\"glue\" + 0.0154*\"inhabited\"'), (31, '0.0089*\"men\" + 0.0084*\"addressing\" + 0.0073*\"harness\" + 0.0065*\"totaling\" + 0.0064*\"visits\" + 0.0055*\"devaluation\" + 0.0054*\"breathtaking\" + 0.0046*\"defending\" + 0.0046*\"ng\" + 0.0044*\"origin\"'), (32, '0.0023*\"gloomy\" + 0.0019*\"divestment\" + 0.0018*\"trumped\" + 0.0018*\"fcf\" + 0.0017*\"corresponds\" + 0.0017*\"spny\" + 0.0017*\"realizing\" + 0.0016*\"abmd\" + 0.0016*\"abiomed\" + 0.0016*\"undergoing\"'), (33, '0.2406*\"pillsbury\" + 0.1169*\"animal\" + 0.0276*\"spacex\" + 0.0239*\"species\" + 0.0239*\"hundred\" + 0.0162*\"classification\" + 0.0149*\"joking\" + 0.0123*\"harari\" + 0.0114*\"gould\" + 0.0114*\"pursuit\"'), (34, '0.0432*\"scares\" + 0.0432*\"fascination\" + 0.0431*\"succinctly\" + 0.043*\"rouge\" + 0.0429*\"interfered\" + 0.0427*\"despair\" + 0.0426*\"volunteered\" + 0.0426*\"gifted\" + 0.0425*\"bees\" + 0.0423*\"exotic\"'), (35, '0.1361*\"symptoms\" + 0.0974*\"quarantine\" + 0.0939*\"geometric\" + 0.0935*\"plague\" + 0.0884*\"vaccine\" + 0.0787*\"ncov\" + 0.0737*\"approximate\" + 0.0543*\"infection\" + 0.0291*\"colonize\" + 0.0229*\"mathematician\"'), (36, '0.0041*\"simpler\" + 0.004*\"blocked\" + 0.0039*\"morningstar\" + 0.0038*\"declare\" + 0.0038*\"needing\" + 0.0036*\"mitigate\" + 0.0034*\"respected\" + 0.0034*\"jnpr\" + 0.0033*\"panw\" + 0.0033*\"obamacare\"'), (37, '0.0439*\"isolated\" + 0.0423*\"birds\" + 0.0419*\"miserable\" + 0.0414*\"easiest\" + 0.0412*\"novavax\" + 0.0412*\"nvax\" + 0.041*\"handing\" + 0.0407*\"outward\" + 0.0403*\"warming\" + 0.0402*\"fooled\"'), (38, '0.0117*\"circumstances\" + 0.0097*\"sphere\" + 0.0094*\"prevented\" + 0.0093*\"accurately\" + 0.0087*\"translating\" + 0.0085*\"formula\" + 0.0083*\"borrowed\" + 0.0075*\"controversial\" + 0.0069*\"workaround\" + 0.0068*\"clause\"'), (39, '0.0021*\"oklahoma\" + 0.002*\"upswing\" + 0.002*\"sigh\" + 0.002*\"royal\" + 0.002*\"misuse\" + 0.002*\"cong\" + 0.0019*\"argentina\" + 0.0019*\"bitter\" + 0.0019*\"measuring\" + 0.0018*\"withstand\"'), (40, '0.047*\"harvard\" + 0.0334*\"homo\" + 0.0298*\"vested\" + 0.0296*\"amassing\" + 0.0295*\"rituals\" + 0.0293*\"orbit\" + 0.0293*\"empires\" + 0.0293*\"metaphor\" + 0.0291*\"circles\" + 0.0291*\"explodes\"'), (41, '0.0097*\"applies\" + 0.0096*\"anthony\" + 0.0094*\"angles\" + 0.0083*\"wish\" + 0.008*\"ignoring\" + 0.0072*\"nebraska\" + 0.0062*\"accumulate\" + 0.0061*\"undermine\" + 0.0055*\"shame\" + 0.0055*\"wallace\"'), (42, '0.0075*\"workload\" + 0.0071*\"disappear\" + 0.0069*\"admitted\" + 0.0063*\"scanning\" + 0.0062*\"reflection\" + 0.006*\"secrets\" + 0.0057*\"column\" + 0.0051*\"smartwatch\" + 0.0051*\"emphasized\" + 0.0051*\"chooses\"'), (43, '0.0037*\"toys\" + 0.0034*\"declaration\" + 0.0033*\"races\" + 0.0033*\"sage\" + 0.0033*\"complacency\" + 0.0032*\"grant\" + 0.0031*\"gameplay\" + 0.0029*\"safest\" + 0.0029*\"evans\" + 0.0028*\"elected\"'), (44, '0.0052*\"pocket\" + 0.0051*\"achieving\" + 0.0049*\"parliamentary\" + 0.0042*\"heats\" + 0.0042*\"tougher\" + 0.004*\"accordance\" + 0.0038*\"handsets\" + 0.0036*\"ohio\" + 0.0036*\"zoox\" + 0.0035*\"trails\"'), (45, '0.0305*\"berkeley\" + 0.0275*\"keith\" + 0.0202*\"addictive\" + 0.0185*\"modify\" + 0.0183*\"therapies\" + 0.0181*\"caliber\" + 0.0179*\"feng\" + 0.0177*\"ponzi\" + 0.0173*\"cassandra\" + 0.0173*\"altering\"'), (46, '0.0098*\"rogue\" + 0.009*\"bay\" + 0.0083*\"employ\" + 0.0082*\"violated\" + 0.0081*\"hastings\" + 0.0075*\"withdraw\" + 0.0073*\"bodies\" + 0.0072*\"algorithmic\" + 0.0072*\"hey\" + 0.0071*\"drawdowns\"'), (47, '0.0038*\"lure\" + 0.0037*\"dust\" + 0.0035*\"ironically\" + 0.0035*\"tentative\" + 0.0034*\"paint\" + 0.0033*\"backlash\" + 0.0033*\"pork\" + 0.0031*\"weaknesses\" + 0.0029*\"oppo\" + 0.0029*\"ceiling\"'), (48, '0.0098*\"empirical\" + 0.0091*\"omnichannel\" + 0.0086*\"blur\" + 0.0084*\"definite\" + 0.008*\"fines\" + 0.0079*\"convincing\" + 0.0075*\"warranty\" + 0.0075*\"conflicting\" + 0.0072*\"pen\" + 0.0069*\"leak\"'), (49, '0.2167*\"viruses\" + 0.1769*\"syndrome\" + 0.0532*\"approximate\" + 0.0359*\"mars\" + 0.0296*\"mathematician\" + 0.0226*\"feynman\" + 0.0171*\"bianco\" + 0.0156*\"ncov\" + 0.0136*\"inovio\" + 0.0132*\"colonize\"'), (50, '0.0191*\"realm\" + 0.0168*\"pronounced\" + 0.0153*\"democratize\" + 0.0153*\"ears\" + 0.0148*\"broadening\" + 0.0146*\"chromebook\" + 0.0141*\"unleash\" + 0.0138*\"physics\" + 0.0136*\"wine\" + 0.0131*\"pairing\"'), (51, '0.0076*\"leaning\" + 0.0075*\"examine\" + 0.0072*\"homework\" + 0.0062*\"satisfied\" + 0.0061*\"pockets\" + 0.0059*\"nas\" + 0.0057*\"productions\" + 0.0056*\"messy\" + 0.0053*\"curious\" + 0.0052*\"billionaire\"'), (52, '0.1287*\"mental\" + 0.1065*\"feelings\" + 0.1012*\"sydney\" + 0.0741*\"physiological\" + 0.0695*\"intersection\" + 0.0679*\"neuroscientist\" + 0.0679*\"doctoral\" + 0.0676*\"poverty\" + 0.0659*\"wrongly\" + 0.0566*\"ancient\"'), (53, '0.0051*\"reign\" + 0.005*\"waters\" + 0.005*\"bargains\" + 0.0045*\"seasons\" + 0.0044*\"communist\" + 0.0044*\"transformed\" + 0.0041*\"aggregated\" + 0.0041*\"probabilities\" + 0.0038*\"ny\" + 0.0038*\"flights\"'), (54, '0.0034*\"clearer\" + 0.003*\"analytica\" + 0.0028*\"jetson\" + 0.0028*\"boats\" + 0.0027*\"slashing\" + 0.0027*\"accessory\" + 0.0027*\"paired\" + 0.0026*\"tempting\" + 0.0025*\"restricted\" + 0.0025*\"thibault\"'), (55, '0.0059*\"stealing\" + 0.0056*\"lets\" + 0.0056*\"illinois\" + 0.0056*\"financially\" + 0.0055*\"contractors\" + 0.005*\"concepts\" + 0.0046*\"brilliant\" + 0.0044*\"layered\" + 0.0042*\"cry\" + 0.0038*\"tweak\"'), (56, '0.1353*\"scan\" + 0.1297*\"consistency\" + 0.1169*\"manual\" + 0.0873*\"barrett\" + 0.0779*\"conscious\" + 0.0604*\"alteryx\" + 0.0598*\"curiosity\" + 0.0421*\"sums\" + 0.0142*\"observer\" + 0.0138*\"neuroscience\"'), (57, '0.0502*\"rationale\" + 0.0486*\"demographics\" + 0.0448*\"disrupted\" + 0.0399*\"dangers\" + 0.0392*\"exacerbate\" + 0.0388*\"beg\" + 0.0376*\"guns\" + 0.0365*\"peoples\" + 0.0363*\"scenes\" + 0.035*\"specializing\"'), (58, '0.0818*\"memories\" + 0.0717*\"subjects\" + 0.0714*\"louisiana\" + 0.0592*\"thompson\" + 0.0549*\"tolerate\" + 0.0481*\"comwelcome\" + 0.0479*\"centre\" + 0.0471*\"biased\" + 0.0465*\"feldman\" + 0.0426*\"concludes\"'), (59, '0.0655*\"threw\" + 0.064*\"spikes\" + 0.0549*\"kill\" + 0.0469*\"stating\" + 0.0455*\"wa\" + 0.0441*\"ill\" + 0.0423*\"hospitals\" + 0.0375*\"acute\" + 0.0339*\"angeles\" + 0.0336*\"limitations\"')]\n",
      "['understood', 'complexities', 'suing', 'creatures', 'receptor', 'unrealistic', 'defect', 'weighty', 'hospital', 'bucks']\n",
      "['founding', 'confusing', 'infinite', 'illusion', 'philosophy', 'champions', 'cerebral', 'sha', 'softee', 'tinker']\n",
      "['explicit', 'interviewed', 'lucky', 'interacting', 'addiction', 'scramble', 'mit', 'allen', 'politically', 'noah']\n",
      "['bolstering', 'completing', 'cheered', 'grmn', 'instrumental', 'motorola', 'ftnt', 'pricey', 'pave', 'calculating']\n",
      "['consequences', 'enriched', 'copy', 'shelves', 'blank', 'inevitably', 'disastrous', 'thrive', 'grasp', 'brink']\n",
      "['spun', 'spinning', 'contacts', 'tradition', 'objections', 'object', 'grapples', 'foldable', 'fort', 'republic']\n",
      "['rodents', 'wasps', 'lsu', 'sensory', 'almond', 'daughters', 'neurobiology', 'prefrontal', 'medial', 'laborious']\n",
      "['millennial', 'evidenced', 'severity', 'circuitry', 'searched', 'touches', 'demise', 'conducts', 'altered', 'magical']\n",
      "['hurdle', 'verified', 'honeywell', 'loom', 'stimulate', 'allocate', 'quantities', 'incoming', 'jaw', 'mulling']\n",
      "['unforeseen', 'cultural', 'voices', 'spoils', 'brookings', 'tendencies', 'wealthy', 'gregory', 'arenas', 'populist']\n",
      "['iconic', 'microchips', 'normalization', 'routes', 'blaming', 'cautioned', 'pricewaterhousecoopers', 'butter', 'clawed', 'buster']\n",
      "['alv', 'nfm', 'benefitting', 'undertaken', 'guidancethe', 'rebounds', 'mott', 'shedding', 'bmwyy', 'baird']\n",
      "['limelight', 'spate', 'multiplayer', 'outperforms', 'undertaking', 'rebates', 'technavio', 'jpr', 'quadruple', 'leverages']\n",
      "['creativity', 'teachers', 'motorcycle', 'stupor', 'luddite', 'ecology', 'woke', 'explored', 'philosophical', 'ingenuity']\n",
      "['vaccines', 'influenza', 'moderna', 'phoenicians', 'colonizing', 'sanitation', 'immunity', 'polo', 'cdc', 'backwater']\n",
      "['portuguese', 'breathing', 'cruising', 'remarked', 'populations', 'daddy', 'preposterous', 'adults', 'coincidentally', 'silk']\n",
      "['whispersour', 'flowthe', 'trv', 'stockholders', 'mindful', 'leds', 'flowas', 'soxl', 'sabotaging', 'favourable']\n",
      "['ignorance', 'classroom', 'darwin', 'nye', 'flipgrid', 'aldous', 'consciousness', 'sloman', 'silt', 'pirsig']\n",
      "['experiment', 'worlds', 'deficits', 'accessed', 'unfolding', 'blunder', 'tantrum', 'roadshow', 'waras', 'asness']\n",
      "['originated', 'infections', 'lethal', 'pigs', 'garry', 'kasparov', 'impoverished', 'antiviral', 'references', 'pneumonia']\n",
      "['novel', 'massachusetts', 'loose', 'devoted', 'chi', 'proceedings', 'reshape', 'specter', 'eating', 'repetitive']\n",
      "['freeze', 'experiments', 'sans', 'trainer', 'masters', 'lifetimes', 'baton', 'instincts', 'wolf', 'medications']\n",
      "['superpower', 'jared', 'spacex', 'survival', 'joking', 'tour', 'animal', 'wikipedia', 'mammals', 'mars']\n",
      "['concrete', 'plagued', 'reacts', 'respite', 'illustrating', 'stabilized', 'takeaway', 'contractor', 'pedestrians', 'torrid']\n",
      "['exceeds', 'probable', 'compass', 'termination', 'magnetic', 'county', 'gem', 'foundational', 'emerges', 'declaring']\n",
      "['inevitable', 'technologically', 'hunger', 'sherman', 'responsibly', 'acknowledging', 'pompeo', 'dragon', 'storms', 'historian']\n",
      "['beliefs', 'hundred', 'birth', 'jared', 'spacex', 'classification', 'tour', 'survival', 'animal', 'explode']\n",
      "['practical', 'southwest', 'traveling', 'priorities', 'quest', 'judgment', 'brother', 'disruptor', 'restriction', 'euphoric']\n",
      "['saved', 'outright', 'telephone', 'kennedy', 'protectionism', 'commenting', 'bargaining', 'presenting', 'renegotiation', 'circumstance']\n",
      "['okay', 'sean', 'refunds', 'endless', 'presentations', 'revolutionized', 'benjamin', 'yep', 'brave', 'downstream']\n",
      "['sapiens', 'tribal', 'podcasted', 'domestication', 'coexist', 'superstitions', 'ancestors', 'colonial', 'glue', 'inhabited']\n",
      "['men', 'addressing', 'harness', 'totaling', 'visits', 'devaluation', 'breathtaking', 'defending', 'ng', 'origin']\n",
      "['gloomy', 'divestment', 'trumped', 'fcf', 'corresponds', 'spny', 'realizing', 'abmd', 'abiomed', 'undergoing']\n",
      "['pillsbury', 'animal', 'spacex', 'species', 'hundred', 'classification', 'joking', 'harari', 'gould', 'pursuit']\n",
      "['scares', 'fascination', 'succinctly', 'rouge', 'interfered', 'despair', 'volunteered', 'gifted', 'bees', 'exotic']\n",
      "['symptoms', 'quarantine', 'geometric', 'plague', 'vaccine', 'ncov', 'approximate', 'infection', 'colonize', 'mathematician']\n",
      "['simpler', 'blocked', 'morningstar', 'declare', 'needing', 'mitigate', 'respected', 'jnpr', 'panw', 'obamacare']\n",
      "['isolated', 'birds', 'miserable', 'easiest', 'novavax', 'nvax', 'handing', 'outward', 'warming', 'fooled']\n",
      "['circumstances', 'sphere', 'prevented', 'accurately', 'translating', 'formula', 'borrowed', 'controversial', 'workaround', 'clause']\n",
      "['oklahoma', 'upswing', 'sigh', 'royal', 'misuse', 'cong', 'argentina', 'bitter', 'measuring', 'withstand']\n",
      "['harvard', 'homo', 'vested', 'amassing', 'rituals', 'orbit', 'empires', 'metaphor', 'circles', 'explodes']\n",
      "['applies', 'anthony', 'angles', 'wish', 'ignoring', 'nebraska', 'accumulate', 'undermine', 'shame', 'wallace']\n",
      "['workload', 'disappear', 'admitted', 'scanning', 'reflection', 'secrets', 'column', 'smartwatch', 'emphasized', 'chooses']\n",
      "['toys', 'declaration', 'races', 'sage', 'complacency', 'grant', 'gameplay', 'safest', 'evans', 'elected']\n",
      "['pocket', 'achieving', 'parliamentary', 'heats', 'tougher', 'accordance', 'handsets', 'ohio', 'zoox', 'trails']\n",
      "['berkeley', 'keith', 'addictive', 'modify', 'therapies', 'caliber', 'feng', 'ponzi', 'cassandra', 'altering']\n",
      "['rogue', 'bay', 'employ', 'violated', 'hastings', 'withdraw', 'bodies', 'algorithmic', 'hey', 'drawdowns']\n",
      "['lure', 'dust', 'ironically', 'tentative', 'paint', 'backlash', 'pork', 'weaknesses', 'oppo', 'ceiling']\n",
      "['empirical', 'omnichannel', 'blur', 'definite', 'fines', 'convincing', 'warranty', 'conflicting', 'pen', 'leak']\n",
      "['viruses', 'syndrome', 'approximate', 'mars', 'mathematician', 'feynman', 'bianco', 'ncov', 'inovio', 'colonize']\n",
      "['realm', 'pronounced', 'democratize', 'ears', 'broadening', 'chromebook', 'unleash', 'physics', 'wine', 'pairing']\n",
      "['leaning', 'examine', 'homework', 'satisfied', 'pockets', 'nas', 'productions', 'messy', 'curious', 'billionaire']\n",
      "['mental', 'feelings', 'sydney', 'physiological', 'intersection', 'neuroscientist', 'doctoral', 'poverty', 'wrongly', 'ancient']\n",
      "['reign', 'waters', 'bargains', 'seasons', 'communist', 'transformed', 'aggregated', 'probabilities', 'ny', 'flights']\n",
      "['clearer', 'analytica', 'jetson', 'boats', 'slashing', 'accessory', 'paired', 'tempting', 'restricted', 'thibault']\n",
      "['stealing', 'lets', 'illinois', 'financially', 'contractors', 'concepts', 'brilliant', 'layered', 'cry', 'tweak']\n",
      "['scan', 'consistency', 'manual', 'barrett', 'conscious', 'alteryx', 'curiosity', 'sums', 'observer', 'neuroscience']\n",
      "['rationale', 'demographics', 'disrupted', 'dangers', 'exacerbate', 'beg', 'guns', 'peoples', 'scenes', 'specializing']\n",
      "['memories', 'subjects', 'louisiana', 'thompson', 'tolerate', 'comwelcome', 'centre', 'biased', 'feldman', 'concludes']\n",
      "['threw', 'spikes', 'kill', 'stating', 'wa', 'ill', 'hospitals', 'acute', 'angeles', 'limitations']\n",
      "Coherence Score: 0.5414038063944839\n",
      "Diversity Score: 0.975\n",
      "Interpretability Score: 0.5278687112346219\n"
     ]
    }
   ],
   "execution_count": 46
  },
  {
   "metadata": {},
   "cell_type": "markdown",
   "source": "## Iteration 4: num_words per topic = 5"
  },
  {
   "metadata": {
    "ExecuteTime": {
     "end_time": "2024-11-01T22:25:32.868819Z",
     "start_time": "2024-11-01T22:24:22.302181Z"
    }
   },
   "cell_type": "code",
   "source": [
    "# Parameters\n",
    "flsaw_data = data\n",
    "num_topics=60\n",
    "num_words=5\n",
    "\n",
    "flsaW = FLSA_W(\n",
    "    input_file = data,\n",
    "    num_topics=num_topics,\n",
    "    num_words=num_words,\n",
    ")\n",
    "\n",
    "flsaW.get_vocabulary_size()\n",
    "pwgt, ptgd = flsaW.get_matrices() # THIS TRAINS THE MODEL\n",
    "\n",
    "\n",
    "print(flsaW.show_topics())\n",
    "\n",
    "for topic in flsaW.show_topics(representation='words'):\n",
    "    print(topic)\n",
    "  \n",
    "    \n",
    "print(\"Coherence Score:\", flsaW.get_coherence_score())\n",
    "print(\"Diversity Score:\",flsaW.get_diversity_score())\n",
    "print(\"Interpretability Score:\",flsaW.get_interpretability_score())"
   ],
   "outputs": [
    {
     "name": "stdout",
     "output_type": "stream",
     "text": [
      "[(0, '0.0017*\"delphi\" + 0.0016*\"utilizes\" + 0.0016*\"stalled\" + 0.0016*\"subscribe\" + 0.0016*\"shrunk\"'), (1, '0.0036*\"gmt\" + 0.0031*\"gainers\" + 0.0029*\"wondrous\" + 0.0028*\"favored\" + 0.0028*\"vectors\"'), (2, '0.0035*\"soar\" + 0.0033*\"parent\" + 0.0032*\"unchanged\" + 0.0032*\"boom\" + 0.0031*\"hence\"'), (3, '0.0599*\"nasdaq\" + 0.0461*\"companies\" + 0.038*\"next\" + 0.0379*\"still\" + 0.0371*\"high\"'), (4, '0.0112*\"blast\" + 0.0077*\"suggest\" + 0.0076*\"smartphones\" + 0.0075*\"comments\" + 0.007*\"changed\"'), (5, '0.0028*\"performers\" + 0.0022*\"hemophilia\" + 0.0022*\"advancers\" + 0.0022*\"stone\" + 0.002*\"automatic\"'), (6, '0.0039*\"lie\" + 0.0038*\"pursuing\" + 0.0038*\"filling\" + 0.0035*\"arrive\" + 0.0034*\"universities\"'), (7, '0.0236*\"latest\" + 0.0204*\"special\" + 0.0198*\"fb\" + 0.0197*\"move\" + 0.019*\"china\"'), (8, '0.0096*\"chips\" + 0.0093*\"robust\" + 0.0085*\"states\" + 0.0084*\"upside\" + 0.0083*\"efforts\"'), (9, '0.0055*\"commodities\" + 0.0048*\"percent\" + 0.0048*\"remarkable\" + 0.0047*\"ratio\" + 0.0044*\"cards\"'), (10, '0.0106*\"gaap\" + 0.0053*\"pleased\" + 0.0051*\"ramping\" + 0.0047*\"visibility\" + 0.0046*\"barclays\"'), (11, '0.0056*\"ryniec\" + 0.0053*\"tracey\" + 0.0041*\"pioneer\" + 0.004*\"finishing\" + 0.0038*\"pivotal\"'), (12, '0.025*\"tied\" + 0.0233*\"episode\" + 0.023*\"innovators\" + 0.023*\"actions\" + 0.0214*\"planet\"'), (13, '0.0009*\"soxl\" + 0.0009*\"gelyy\" + 0.0008*\"audvf\" + 0.0007*\"nysearca\" + 0.0007*\"suspends\"'), (14, '0.0398*\"richard\" + 0.0326*\"professor\" + 0.0302*\"woke\" + 0.0301*\"certainty\" + 0.0274*\"book\"'), (15, '0.0032*\"beneficial\" + 0.0032*\"miners\" + 0.003*\"addressable\" + 0.003*\"swing\" + 0.0029*\"giaquinto\"'), (16, '0.0067*\"puzzles\" + 0.0064*\"ino\" + 0.0064*\"deepening\" + 0.0062*\"dan\" + 0.006*\"hole\"'), (17, '0.0084*\"liberty\" + 0.0068*\"spokesperson\" + 0.0063*\"lessons\" + 0.0053*\"az\" + 0.0051*\"predetermined\"'), (18, '0.0014*\"measuring\" + 0.0014*\"visitors\" + 0.0013*\"retested\" + 0.0012*\"capitulation\" + 0.0012*\"define\"'), (19, '0.0198*\"mathematical\" + 0.0186*\"havoc\" + 0.017*\"solve\" + 0.0165*\"stars\" + 0.0154*\"bag\"'), (20, '0.0287*\"nvidia\" + 0.0268*\"nyse\" + 0.0261*\"hold\" + 0.0256*\"price\" + 0.0226*\"past\"'), (21, '0.0028*\"random\" + 0.0024*\"invented\" + 0.0023*\"equifax\" + 0.0023*\"sought\" + 0.0023*\"waves\"'), (22, '0.0219*\"gave\" + 0.02*\"kevin\" + 0.018*\"discuss\" + 0.0165*\"told\" + 0.0144*\"iphones\"'), (23, '0.015*\"unpredictable\" + 0.0147*\"thomas\" + 0.0123*\"newspaper\" + 0.0119*\"discussing\" + 0.0119*\"centered\"'), (24, '0.0204*\"degrees\" + 0.0176*\"brave\" + 0.016*\"paragraphs\" + 0.0158*\"pursued\" + 0.0158*\"yuval\"'), (25, '0.0181*\"january\" + 0.017*\"machine\" + 0.016*\"highly\" + 0.016*\"video\" + 0.013*\"easy\"'), (26, '0.0325*\"grand\" + 0.029*\"minds\" + 0.0262*\"theory\" + 0.0249*\"crsp\" + 0.0245*\"gem\"'), (27, '0.0164*\"surrounding\" + 0.0139*\"shown\" + 0.0134*\"entirely\" + 0.0123*\"jensen\" + 0.0122*\"wars\"'), (28, '0.002*\"sends\" + 0.002*\"teamed\" + 0.0018*\"pouring\" + 0.0017*\"sne\" + 0.0017*\"id\"'), (29, '0.031*\"creating\" + 0.0277*\"everything\" + 0.0238*\"must\" + 0.0204*\"often\" + 0.0202*\"simply\"'), (30, '0.0055*\"blind\" + 0.0052*\"touches\" + 0.0046*\"jay\" + 0.0043*\"referring\" + 0.004*\"empirical\"'), (31, '0.0112*\"julian\" + 0.0107*\"epiphany\" + 0.0102*\"darwin\" + 0.0101*\"huxley\" + 0.0097*\"classroom\"'), (32, '0.0171*\"newest\" + 0.012*\"connecting\" + 0.0101*\"gathering\" + 0.0094*\"originated\" + 0.0093*\"searching\"'), (33, '0.006*\"mu\" + 0.0059*\"etf\" + 0.0057*\"mere\" + 0.0055*\"futures\" + 0.0051*\"discussed\"'), (34, '0.0081*\"nflx\" + 0.0081*\"heavy\" + 0.0076*\"centers\" + 0.0071*\"firms\" + 0.0067*\"offering\"'), (35, '0.0011*\"alv\" + 0.0008*\"pcg\" + 0.0007*\"acad\" + 0.0007*\"byline\" + 0.0007*\"visuals\"'), (36, '0.0027*\"deadly\" + 0.0023*\"midday\" + 0.0022*\"senate\" + 0.0021*\"inference\" + 0.0021*\"debut\"'), (37, '0.0171*\"positive\" + 0.0159*\"industry\" + 0.0133*\"seen\" + 0.0129*\"currently\" + 0.0129*\"due\"'), (38, '0.0189*\"com\" + 0.0156*\"largest\" + 0.0147*\"wall\" + 0.0123*\"able\" + 0.0117*\"behind\"'), (39, '0.0439*\"chaos\" + 0.0306*\"modern\" + 0.0298*\"philosophy\" + 0.0268*\"science\" + 0.025*\"socially\"'), (40, '0.011*\"rise\" + 0.0091*\"fall\" + 0.009*\"emerging\" + 0.0089*\"support\" + 0.0088*\"generate\"'), (41, '0.0074*\"hottest\" + 0.006*\"phenomenon\" + 0.0058*\"rebound\" + 0.0056*\"financials\" + 0.0055*\"chipmaker\"'), (42, '0.0014*\"reiterates\" + 0.001*\"rodrigo\" + 0.0009*\"spny\" + 0.0009*\"hsi\" + 0.0009*\"supplied\"'), (43, '0.0071*\"therapeutics\" + 0.0053*\"ralph\" + 0.005*\"phd\" + 0.0047*\"wa\" + 0.0046*\"tails\"'), (44, '0.0007*\"bmwyy\" + 0.0007*\"soxs\" + 0.0006*\"wsm\" + 0.0005*\"kopn\" + 0.0005*\"kopin\"'), (45, '0.007*\"breakthrough\" + 0.0061*\"helping\" + 0.006*\"volume\" + 0.0059*\"falling\" + 0.0058*\"session\"'), (46, '0.0149*\"intc\" + 0.0124*\"chip\" + 0.0122*\"date\" + 0.011*\"record\" + 0.0106*\"level\"'), (47, '0.0132*\"accelerated\" + 0.0127*\"killing\" + 0.0117*\"innovations\" + 0.0102*\"green\" + 0.0099*\"opening\"'), (48, '0.006*\"unfortunately\" + 0.0056*\"literally\" + 0.0056*\"evident\" + 0.0055*\"treatments\" + 0.0054*\"forget\"'), (49, '0.0061*\"proven\" + 0.0055*\"generating\" + 0.005*\"outperform\" + 0.005*\"heading\" + 0.0047*\"applied\"'), (50, '0.004*\"obligation\" + 0.0037*\"basket\" + 0.0037*\"advancing\" + 0.0033*\"aimed\" + 0.0032*\"remarkably\"'), (51, '0.0013*\"splrct\" + 0.0012*\"baird\" + 0.0012*\"slate\" + 0.0012*\"colette\" + 0.0011*\"incyte\"'), (52, '0.0016*\"vlkay\" + 0.0016*\"noel\" + 0.0016*\"randewich\" + 0.0012*\"kramer\" + 0.0012*\"stm\"'), (53, '0.0016*\"mcqueeney\" + 0.0016*\"nellis\" + 0.0015*\"translates\" + 0.0014*\"daimler\" + 0.0014*\"streamlined\"'), (54, '0.0435*\"nvda\" + 0.0286*\"long\" + 0.0281*\"recent\" + 0.0245*\"better\" + 0.0244*\"want\"'), (55, '0.009*\"audience\" + 0.0089*\"genome\" + 0.0084*\"depth\" + 0.008*\"difficulties\" + 0.0071*\"rarely\"'), (56, '0.0042*\"ttm\" + 0.0039*\"triggered\" + 0.0037*\"genius\" + 0.0036*\"emerged\" + 0.0035*\"representing\"'), (57, '0.0008*\"otcpk\" + 0.0007*\"endp\" + 0.0007*\"breakaway\" + 0.0006*\"trv\" + 0.0006*\"ei\"'), (58, '0.0031*\"inning\" + 0.003*\"mgt\" + 0.0029*\"resisted\" + 0.0028*\"mistrust\" + 0.0028*\"wilson\"'), (59, '0.0014*\"blackberry\" + 0.0014*\"iq\" + 0.0013*\"premarket\" + 0.0012*\"computational\" + 0.0012*\"corners\"')]\n",
      "['delphi', 'utilizes', 'stalled', 'subscribe', 'shrunk']\n",
      "['gmt', 'gainers', 'wondrous', 'favored', 'vectors']\n",
      "['soar', 'parent', 'unchanged', 'boom', 'hence']\n",
      "['nasdaq', 'companies', 'next', 'still', 'high']\n",
      "['blast', 'suggest', 'smartphones', 'comments', 'changed']\n",
      "['performers', 'hemophilia', 'advancers', 'stone', 'automatic']\n",
      "['lie', 'pursuing', 'filling', 'arrive', 'universities']\n",
      "['latest', 'special', 'fb', 'move', 'china']\n",
      "['chips', 'robust', 'states', 'upside', 'efforts']\n",
      "['commodities', 'percent', 'remarkable', 'ratio', 'cards']\n",
      "['gaap', 'pleased', 'ramping', 'visibility', 'barclays']\n",
      "['ryniec', 'tracey', 'pioneer', 'finishing', 'pivotal']\n",
      "['tied', 'episode', 'innovators', 'actions', 'planet']\n",
      "['soxl', 'gelyy', 'audvf', 'nysearca', 'suspends']\n",
      "['richard', 'professor', 'woke', 'certainty', 'book']\n",
      "['beneficial', 'miners', 'addressable', 'swing', 'giaquinto']\n",
      "['puzzles', 'ino', 'deepening', 'dan', 'hole']\n",
      "['liberty', 'spokesperson', 'lessons', 'az', 'predetermined']\n",
      "['measuring', 'visitors', 'retested', 'capitulation', 'define']\n",
      "['mathematical', 'havoc', 'solve', 'stars', 'bag']\n",
      "['nvidia', 'nyse', 'hold', 'price', 'past']\n",
      "['random', 'invented', 'equifax', 'sought', 'waves']\n",
      "['gave', 'kevin', 'discuss', 'told', 'iphones']\n",
      "['unpredictable', 'thomas', 'newspaper', 'discussing', 'centered']\n",
      "['degrees', 'brave', 'paragraphs', 'pursued', 'yuval']\n",
      "['january', 'machine', 'highly', 'video', 'easy']\n",
      "['grand', 'minds', 'theory', 'crsp', 'gem']\n",
      "['surrounding', 'shown', 'entirely', 'jensen', 'wars']\n",
      "['sends', 'teamed', 'pouring', 'sne', 'id']\n",
      "['creating', 'everything', 'must', 'often', 'simply']\n",
      "['blind', 'touches', 'jay', 'referring', 'empirical']\n",
      "['julian', 'epiphany', 'darwin', 'huxley', 'classroom']\n",
      "['newest', 'connecting', 'gathering', 'originated', 'searching']\n",
      "['mu', 'etf', 'mere', 'futures', 'discussed']\n",
      "['nflx', 'heavy', 'centers', 'firms', 'offering']\n",
      "['alv', 'pcg', 'acad', 'byline', 'visuals']\n",
      "['deadly', 'midday', 'senate', 'inference', 'debut']\n",
      "['positive', 'industry', 'seen', 'currently', 'due']\n",
      "['com', 'largest', 'wall', 'able', 'behind']\n",
      "['chaos', 'modern', 'philosophy', 'science', 'socially']\n",
      "['rise', 'fall', 'emerging', 'support', 'generate']\n",
      "['hottest', 'phenomenon', 'rebound', 'financials', 'chipmaker']\n",
      "['reiterates', 'rodrigo', 'spny', 'hsi', 'supplied']\n",
      "['therapeutics', 'ralph', 'phd', 'wa', 'tails']\n",
      "['bmwyy', 'soxs', 'wsm', 'kopn', 'kopin']\n",
      "['breakthrough', 'helping', 'volume', 'falling', 'session']\n",
      "['intc', 'chip', 'date', 'record', 'level']\n",
      "['accelerated', 'killing', 'innovations', 'green', 'opening']\n",
      "['unfortunately', 'literally', 'evident', 'treatments', 'forget']\n",
      "['proven', 'generating', 'outperform', 'heading', 'applied']\n",
      "['obligation', 'basket', 'advancing', 'aimed', 'remarkably']\n",
      "['splrct', 'baird', 'slate', 'colette', 'incyte']\n",
      "['vlkay', 'noel', 'randewich', 'kramer', 'stm']\n",
      "['mcqueeney', 'nellis', 'translates', 'daimler', 'streamlined']\n",
      "['nvda', 'long', 'recent', 'better', 'want']\n",
      "['audience', 'genome', 'depth', 'difficulties', 'rarely']\n",
      "['ttm', 'triggered', 'genius', 'emerged', 'representing']\n",
      "['otcpk', 'endp', 'breakaway', 'trv', 'ei']\n",
      "['inning', 'mgt', 'resisted', 'mistrust', 'wilson']\n",
      "['blackberry', 'iq', 'premarket', 'computational', 'corners']\n",
      "Coherence Score: 0.34202557184495574\n",
      "Diversity Score: 1.0\n",
      "Interpretability Score: 0.34202557184495574\n"
     ]
    }
   ],
   "execution_count": 49
  },
  {
   "metadata": {},
   "cell_type": "markdown",
   "source": "## Iteration 5: num_words per topic = 15"
  },
  {
   "metadata": {},
   "cell_type": "code",
   "outputs": [],
   "execution_count": null,
   "source": [
    "# Parameters\n",
    "flsaw_data = data\n",
    "num_topics=60\n",
    "num_words=15\n",
    "\n",
    "flsaW = FLSA_W(\n",
    "    input_file = data,\n",
    "    num_topics=num_topics,\n",
    "    num_words=num_words,\n",
    ")\n",
    "\n",
    "flsaW.get_vocabulary_size()\n",
    "pwgt, ptgd = flsaW.get_matrices() # THIS TRAINS THE MODEL\n",
    "\n",
    "\n",
    "print(flsaW.show_topics())\n",
    "\n",
    "for topic in flsaW.show_topics(representation='words'):\n",
    "    print(topic)\n",
    "  \n",
    "    \n",
    "print(\"Coherence Score:\", flsaW.get_coherence_score())\n",
    "print(\"Diversity Score:\",flsaW.get_diversity_score())\n",
    "print(\"Interpretability Score:\",flsaW.get_interpretability_score())"
   ]
  },
  {
   "metadata": {},
   "cell_type": "markdown",
   "source": "## Iteration 6: num_words per topic = 20"
  },
  {
   "metadata": {},
   "cell_type": "code",
   "source": [
    "# Parameters\n",
    "flsaw_data = data\n",
    "num_topics=60\n",
    "num_words=20\n",
    "\n",
    "flsaW = FLSA_W(\n",
    "    input_file = data,\n",
    "    num_topics=num_topics,\n",
    "    num_words=num_words,\n",
    ")\n",
    "\n",
    "flsaW.get_vocabulary_size()\n",
    "pwgt, ptgd = flsaW.get_matrices() # THIS TRAINS THE MODEL\n",
    "\n",
    "\n",
    "print(flsaW.show_topics())\n",
    "\n",
    "for topic in flsaW.show_topics(representation='words'):\n",
    "    print(topic)\n",
    "  \n",
    "    \n",
    "print(\"Coherence Score:\", flsaW.get_coherence_score())\n",
    "print(\"Diversity Score:\",flsaW.get_diversity_score())\n",
    "print(\"Interpretability Score:\",flsaW.get_interpretability_score())"
   ],
   "outputs": [],
   "execution_count": null
  },
  {
   "metadata": {},
   "cell_type": "markdown",
   "source": "## Train LDA model"
  },
  {
   "metadata": {},
   "cell_type": "code",
   "source": [
    "# import gensim\n",
    "# from gensim import corpora\n",
    "# from gensim.models import CoherenceModel\n",
    "# import re\n",
    "# \n",
    "# read_processed_data = df['tokens']\n",
    "# # Create a dictionary and corpus from the preprocessed data\n",
    "# dictionary = corpora.Dictionary(read_processed_data)\n",
    "# corpus = [dictionary.doc2bow(text) for text in read_processed_data]\n",
    "# \n",
    "# # Train the LDA model\n",
    "# lda_model = gensim.models.LdaModel(corpus=corpus, id2word=dictionary, num_topics=15, random_state=100, passes=10)\n",
    "# \n",
    "# # Print the topics found by the LDA model\n",
    "# topics = lda_model.print_topics(num_words=5)\n",
    "# for topic in topics:\n",
    "#     print(topic)\n",
    "# #Get coherence score\n",
    "# print(CoherenceModel(model=lda_model, texts=read_processed_data, dictionary=dictionary, coherence='c_v').get_coherence())"
   ],
   "outputs": [],
   "execution_count": null
  },
  {
   "metadata": {},
   "cell_type": "code",
   "source": [
    "import gensim\n",
    "from gensim import corpora\n",
    "from gensim.models import CoherenceModel\n",
    "import re\n",
    "\n",
    "# Create a dictionary and corpus from the preprocessed data\n",
    "dictionary = corpora.Dictionary(data)\n",
    "corpus = [dictionary.doc2bow(text) for text in data]\n",
    "\n",
    "# Train the LDA model\n",
    "lda_model = gensim.models.LdaModel(corpus=corpus, id2word=dictionary, num_topics=20, random_state=100, passes=10)\n",
    "\n",
    "# Print the topics found by the LDA model\n",
    "topics = lda_model.print_topics(num_words=10)\n",
    "for topic in topics:\n",
    "    print(topic)\n",
    "#Get coherence score\n",
    "print(CoherenceModel(model=lda_model, texts=data, dictionary=dictionary, coherence='c_v').get_coherence())"
   ],
   "outputs": [],
   "execution_count": null
  },
  {
   "metadata": {},
   "cell_type": "markdown",
   "source": "##  BERTTopic"
  },
  {
   "metadata": {},
   "cell_type": "code",
   "source": [
    "import pandas as pd\n",
    "from bertopic import BERTopic\n",
    "# from sentence_transformers import SentenceTransformer\n",
    "import nltk\n",
    "nltk.download(\"stopwords\")\n",
    "nltk.download('punkt_tab')"
   ],
   "outputs": [],
   "execution_count": null
  },
  {
   "metadata": {},
   "cell_type": "code",
   "source": [
    "## Bert Topic code\n",
    "# Convert the 'preprocessed_content' column to a list of documents (text format)\n",
    "documents = [\" \".join(tokens) for tokens in df['preprocessed_content']]\n",
    "\n",
    "# Initialize BERTopic model\n",
    "topic_model = BERTopic()\n",
    "\n",
    "# Fit the model on the documents to get topics and probabilities\n",
    "topics, probabilities = topic_model.fit_transform(documents)\n",
    "\n",
    "# Show a summary of topics\n",
    "print(topic_model.get_topic_info())\n"
   ],
   "outputs": [],
   "execution_count": null
  },
  {
   "metadata": {},
   "cell_type": "code",
   "source": [
    "#check certain topic\n",
    "num_topic = 0\n",
    "topic_model.get_topic(num_topic)"
   ],
   "outputs": [],
   "execution_count": null
  },
  {
   "metadata": {},
   "cell_type": "code",
   "source": [
    "#Heatmap\n",
    "topic_model.visualize_heatmap(width=1000, height=1000)"
   ],
   "outputs": [],
   "execution_count": null
  },
  {
   "metadata": {},
   "cell_type": "code",
   "source": "",
   "outputs": [],
   "execution_count": null
  }
 ],
 "metadata": {
  "kernelspec": {
   "display_name": "Python [conda env:JADS-nlp] *",
   "language": "python",
   "name": "conda-env-JADS-nlp-py"
  },
  "language_info": {
   "codemirror_mode": {
    "name": "ipython",
    "version": 3
   },
   "file_extension": ".py",
   "mimetype": "text/x-python",
   "name": "python",
   "nbconvert_exporter": "python",
   "pygments_lexer": "ipython3",
   "version": "3.12.4"
  }
 },
 "nbformat": 4,
 "nbformat_minor": 4
}
