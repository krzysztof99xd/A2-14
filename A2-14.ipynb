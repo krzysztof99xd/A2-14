{
 "cells": [
  {
   "cell_type": "markdown",
   "metadata": {},
   "source": [
    "## Assignment 2, Natural Language Processing, Group 14"
   ]
  },
  {
   "cell_type": "markdown",
   "metadata": {},
   "source": [
    "## Load the dataset and choose only the articles where NVIDIA word appears in the content"
   ]
  },
  {
   "cell_type": "code",
   "execution_count": 1,
   "metadata": {},
   "outputs": [
    {
     "name": "stdout",
     "output_type": "stream",
     "text": [
      "            id ticker                                              title  \\\n",
      "24      221539    NIO  A Central Bank War Just Started And Its Good F...   \n",
      "32      221547    NIO         6 Stocks To Watch  Nivida Could Be Falling   \n",
      "57      221572    NIO  Stocks   Dow Drops Nearly 400 Points as Apple ...   \n",
      "78      221593   UBER  The Zacks Analyst Blog Highlights  Advanced Mi...   \n",
      "82      221597   UBER                     The Best Of CES 2020  Revised    \n",
      "...        ...    ...                                                ...   \n",
      "221141  442657    AMD    Here s Why Nvidia  NVDA  Stock Is Gaining Today   \n",
      "221166  442682    AMD      4 Stocks To Watch Today  ATW  CWEI  MXL  SLCA   \n",
      "221189  442705    AMD  Here s What The Buy Side Expects From AMD Thur...   \n",
      "221468  442984      T  Zacks com Featured Highlights  AT T  Nu Skin E...   \n",
      "221471  442987      T  5 Dividend Growth Stocks To Sail Through Uncer...   \n",
      "\n",
      "       category                                            content  \\\n",
      "24      opinion  ECB Effects\\nThe move in the euro was huge  fa...   \n",
      "32      opinion  6 Stocks To Watch  March 6 Trading Session\\nSt...   \n",
      "57         news  Investing com   A rout in Apple and Facebook  ...   \n",
      "78      opinion  For Immediate ReleaseChicago  IL   January 13 ...   \n",
      "82      opinion  With 4 500 companies bringing their innovation...   \n",
      "...         ...                                                ...   \n",
      "221141  opinion  Shares of Nvidia   NASDAQ NVDA   are up nearly...   \n",
      "221166  opinion  It was a pretty good start to the week on Mond...   \n",
      "221189  opinion  Advanced Micro Devices Inc   NYSE AMD  is set ...   \n",
      "221468  opinion  For Immediate Release\\n\\nChicago  IL   July 22...   \n",
      "221471  opinion  With uncertainty ruling the markets since the ...   \n",
      "\n",
      "       release_date                   provider  \\\n",
      "24       2019-03-07             Michael Kramer   \n",
      "32       2019-03-06             Michael Kramer   \n",
      "57       2018-11-19              Investing.com   \n",
      "78       2020-01-12  Zacks Investment Research   \n",
      "82       2020-01-16  Zacks Investment Research   \n",
      "...             ...                        ...   \n",
      "221141   2016-09-27  Zacks Investment Research   \n",
      "221166   2016-05-17                Harry Boxer   \n",
      "221189   2014-04-17                   Estimize   \n",
      "221468   2016-07-21  Zacks Investment Research   \n",
      "221471   2016-07-20  Zacks Investment Research   \n",
      "\n",
      "                                                      url  article_id  \n",
      "24      https://www.investing.com/analysis/a-central-b...   200395687  \n",
      "32      https://www.investing.com/analysis/6-stocks-to...   200394931  \n",
      "57      https://www.investing.com/news/stock-market-ne...     1694042  \n",
      "78      https://www.investing.com/analysis/the-zacks-a...   200498277  \n",
      "82      https://www.investing.com/analysis/the-best-of...   200499164  \n",
      "...                                                   ...         ...  \n",
      "221141  https://www.investing.com/analysis/here's-why-...   200155860  \n",
      "221166  https://www.investing.com/analysis/atw,-cwei,-...   200130262  \n",
      "221189  https://www.investing.com/analysis/here’s-what...      209915  \n",
      "221468  https://www.investing.com/analysis/zacks.com-f...   200143537  \n",
      "221471  https://www.investing.com/analysis/5-dividend-...   200143306  \n",
      "\n",
      "[3400 rows x 9 columns]\n"
     ]
    }
   ],
   "source": [
    "import pandas as pd\n",
    "\n",
    "# Load the dataset\n",
    "df = pd.read_csv('us_equities_news_dataset.csv')\n",
    "\n",
    "# Filter rows where 'content' column contains the word 'NVIDIA'\n",
    "nvidia_rows = df[df['content'].str.contains('NVIDIA', case=False, na=False)]\n",
    "\n",
    "# Display the filtered rows\n",
    "print(nvidia_rows)"
   ]
  },
  {
   "cell_type": "markdown",
   "metadata": {},
   "source": [
    "## Remove unnecessary columns"
   ]
  },
  {
   "cell_type": "code",
   "execution_count": 4,
   "metadata": {},
   "outputs": [
    {
     "name": "stdout",
     "output_type": "stream",
     "text": [
      "Index(['id', 'ticker', 'title', 'category', 'content', 'release_date',\n",
      "       'provider', 'url', 'article_id'],\n",
      "      dtype='object')\n"
     ]
    }
   ],
   "source": [
    "# Remove the specified columns\n",
    "nvidia_rows = nvidia_rows.drop(['id', 'ticker', 'url', 'release_date'], axis=1)\n",
    "\n",
    "# Save the modified DataFrame to a new CSV file\n",
    "nvidia_rows.to_csv('nvidia_rows_news_dataset.csv', index=False)"
   ]
  },
  {
   "cell_type": "code",
   "execution_count": null,
   "metadata": {},
   "outputs": [],
   "source": []
  }
 ],
 "metadata": {
  "kernelspec": {
   "display_name": "Python 3",
   "language": "python",
   "name": "python3"
  },
  "language_info": {
   "codemirror_mode": {
    "name": "ipython",
    "version": 3
   },
   "file_extension": ".py",
   "mimetype": "text/x-python",
   "name": "python",
   "nbconvert_exporter": "python",
   "pygments_lexer": "ipython3",
   "version": "3.12.4"
  }
 },
 "nbformat": 4,
 "nbformat_minor": 2
}
